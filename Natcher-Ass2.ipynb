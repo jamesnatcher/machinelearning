{
 "cells": [
  {
   "cell_type": "code",
   "execution_count": 22,
   "id": "1b48ff17",
   "metadata": {
    "scrolled": true
   },
   "outputs": [
    {
     "name": "stdout",
     "output_type": "stream",
     "text": [
      "['alt.atheism', 'comp.graphics', 'comp.os.ms-windows.misc', 'comp.sys.ibm.pc.hardware', 'comp.sys.mac.hardware', 'comp.windows.x', 'misc.forsale', 'rec.autos', 'rec.motorcycles', 'rec.sport.baseball', 'rec.sport.hockey', 'sci.crypt', 'sci.electronics', 'sci.med', 'sci.space', 'soc.religion.christian', 'talk.politics.guns', 'talk.politics.mideast', 'talk.politics.misc', 'talk.religion.misc']\n"
     ]
    },
    {
     "name": "stderr",
     "output_type": "stream",
     "text": [
      "[nltk_data] Downloading package stopwords to\n",
      "[nltk_data]     C:\\Users\\James\\AppData\\Roaming\\nltk_data...\n",
      "[nltk_data]   Package stopwords is already up-to-date!\n",
      "[nltk_data] Downloading package wordnet to\n",
      "[nltk_data]     C:\\Users\\James\\AppData\\Roaming\\nltk_data...\n",
      "[nltk_data]   Package wordnet is already up-to-date!\n",
      "[nltk_data] Downloading package punkt to\n",
      "[nltk_data]     C:\\Users\\James\\AppData\\Roaming\\nltk_data...\n",
      "[nltk_data]   Package punkt is already up-to-date!\n"
     ]
    }
   ],
   "source": [
    "import os\n",
    "import pandas as pd\n",
    "import numpy as np\n",
    "import random\n",
    "from sklearn.pipeline import Pipeline\n",
    "from scipy.stats import uniform\n",
    "\n",
    "# for text pre-processing\n",
    "import string\n",
    "import re\n",
    "import nltk\n",
    "from nltk.stem import WordNetLemmatizer\n",
    "from nltk.tokenize import word_tokenize\n",
    "from sklearn.feature_extraction import text\n",
    "\n",
    "wordnet_lemmatizer = WordNetLemmatizer()\n",
    "string.punctuation\n",
    "nltk.download('stopwords')\n",
    "nltk.download('wordnet')\n",
    "nltk.download('punkt')\n",
    "stopwords = nltk.corpus.stopwords.words('english')\n",
    "stopwords.extend(x for x in text.ENGLISH_STOP_WORDS if x not in stopwords)\n",
    "stopwords.extend([\"edu\", \"uk\", \"com\"])\n",
    "\n",
    "# for model-building\n",
    "from sklearn.linear_model import LogisticRegression\n",
    "from sklearn.naive_bayes import MultinomialNB\n",
    "from sklearn.metrics import classification_report, f1_score, accuracy_score, confusion_matrix\n",
    "from sklearn.metrics import roc_curve, auc, roc_auc_score\n",
    "from sklearn.model_selection import GridSearchCV\n",
    "from sklearn.model_selection import RandomizedSearchCV\n",
    "\n",
    "# bag of words\n",
    "from sklearn.feature_extraction.text import TfidfVectorizer\n",
    "from sklearn.feature_extraction.text import CountVectorizer\n",
    "from sklearn.feature_extraction.text import TfidfTransformer\n",
    "\n",
    "# visualizers\n",
    "import seaborn as sns\n",
    "import matplotlib.pyplot as plt \n",
    "\n",
    "#Change the path to input data to which ever folder contains test and datasets.\n",
    "trainpath = r\"C:\\Users\\James\\machinelearning\\Datasets\\20news-bydate-txt-true\\20news-bydate-train\"\n",
    "testpath = r\"C:\\Users\\James\\machinelearning\\Datasets\\20news-bydate-txt-true\\20news-bydate-test\"\n",
    "\n",
    "os.chdir(trainpath)\n",
    "\n",
    "rawtrain = []\n",
    "rawtest = []\n",
    "\n",
    "directory_contents = os.listdir(trainpath)\n",
    "print(directory_contents)"
   ]
  },
  {
   "cell_type": "code",
   "execution_count": 23,
   "id": "57748c63",
   "metadata": {},
   "outputs": [],
   "source": [
    "def pullTrainSet():\n",
    "    for foldername in directory_contents:\n",
    "        currentdirectory = trainpath + r\"\\\\\" + foldername\n",
    "        os.chdir(currentdirectory)\n",
    "        for filename in os.listdir(os.getcwd()):\n",
    "            with open(os.path.join(os.getcwd(), filename), 'r') as f: # open in readonly mode\n",
    "                categoryandtexts = []\n",
    "                categoryandtexts.append(foldername)\n",
    "                categoryandtexts.append(f.read())\n",
    "                rawtrain.append(categoryandtexts)"
   ]
  },
  {
   "cell_type": "code",
   "execution_count": 24,
   "id": "7b67aa3a",
   "metadata": {},
   "outputs": [],
   "source": [
    "def pullTestSet():\n",
    "    for foldername in directory_contents:\n",
    "        currentdirectory = testpath + r\"\\\\\" + foldername\n",
    "        os.chdir(currentdirectory)\n",
    "        for filename in os.listdir(os.getcwd()):\n",
    "            with open(os.path.join(os.getcwd(), filename), 'r') as f: # open in readonly mode\n",
    "                categoryandtexts = []\n",
    "                categoryandtexts.append(foldername)\n",
    "                categoryandtexts.append(f.read())\n",
    "                rawtest.append(categoryandtexts)"
   ]
  },
  {
   "cell_type": "code",
   "execution_count": 25,
   "id": "b8cc5e74",
   "metadata": {},
   "outputs": [],
   "source": [
    "pullTrainSet()\n",
    "pullTestSet()\n",
    "random.shuffle(rawtrain)\n",
    "random.shuffle(rawtest)"
   ]
  },
  {
   "cell_type": "code",
   "execution_count": 26,
   "id": "113b2fd1",
   "metadata": {},
   "outputs": [
    {
     "data": {
      "text/plain": [
       "11314"
      ]
     },
     "execution_count": 26,
     "metadata": {},
     "output_type": "execute_result"
    }
   ],
   "source": [
    "len(rawtrain)"
   ]
  },
  {
   "cell_type": "code",
   "execution_count": 27,
   "id": "5a3592f1",
   "metadata": {},
   "outputs": [
    {
     "data": {
      "text/plain": [
       "7532"
      ]
     },
     "execution_count": 27,
     "metadata": {},
     "output_type": "execute_result"
    }
   ],
   "source": [
    "len(rawtest)"
   ]
  },
  {
   "cell_type": "code",
   "execution_count": 28,
   "id": "c9aa1802",
   "metadata": {},
   "outputs": [],
   "source": [
    "def remove_punctuation(text):\n",
    "    punctuationfree=\"\".join([i for i in text if i not in string.punctuation])\n",
    "    return punctuationfree\n",
    "\n",
    "#lower capitalization (built in)\n",
    "\n",
    "def tokenization(text):\n",
    "    tokens = text.split()\n",
    "    return tokens\n",
    "\n",
    "def nltk_tokenization(text):\n",
    "    token_text = nltk.word_tokenize(text)\n",
    "    return token_text\n",
    "    \n",
    "def remove_stopwords(text):\n",
    "    output = [i for i in text if i not in stopwords]\n",
    "    return output\n",
    "\n",
    "def lemmatizer(text):\n",
    "    lemm_text = [wordnet_lemmatizer.lemmatize(word) for word in text]\n",
    "    return lemm_text"
   ]
  },
  {
   "cell_type": "code",
   "execution_count": 29,
   "id": "ae437b8a",
   "metadata": {},
   "outputs": [],
   "source": [
    "def processDataframe(df):\n",
    "    df['clean_msg'] = df['Text'].apply(lambda x: remove_punctuation(x))\n",
    "    df['msg_lower'] = df['clean_msg'].apply(lambda x: x.lower())\n",
    "    df['tokenized'] = df['msg_lower'].apply(lambda x: tokenization(x))\n",
    "    df['nltk_tokenized'] = df['msg_lower'].apply(lambda x: nltk_tokenization(x))\n",
    "    df['no_stopwords'] = df['nltk_tokenized'].apply(lambda x:remove_stopwords(x))\n",
    "    df['Post-processed Text'] = df['no_stopwords'].apply(lambda x:lemmatizer(x))\n",
    "    droppedDF = df.drop([\"Text\", \"clean_msg\", \"msg_lower\", \"msg_lower\", \"tokenized\", \"nltk_tokenized\", \"no_stopwords\"], axis=1)\n",
    "    return droppedDF"
   ]
  },
  {
   "cell_type": "code",
   "execution_count": 30,
   "id": "501f23ba",
   "metadata": {},
   "outputs": [],
   "source": [
    "#Conversion of data into a DataFrame\n",
    "\n",
    "trainDF = pd.DataFrame(rawtrain, columns=['Category','Text'])\n",
    "testDF = pd.DataFrame(rawtest, columns=['Category','Text'])"
   ]
  },
  {
   "cell_type": "code",
   "execution_count": 31,
   "id": "0494d60c",
   "metadata": {},
   "outputs": [
    {
     "name": "stdout",
     "output_type": "stream",
     "text": [
      "rec.sport.hockey            600\n",
      "soc.religion.christian      599\n",
      "rec.motorcycles             598\n",
      "rec.sport.baseball          597\n",
      "sci.crypt                   595\n",
      "rec.autos                   594\n",
      "sci.med                     594\n",
      "sci.space                   593\n",
      "comp.windows.x              593\n",
      "sci.electronics             591\n",
      "comp.os.ms-windows.misc     591\n",
      "comp.sys.ibm.pc.hardware    590\n",
      "misc.forsale                585\n",
      "comp.graphics               584\n",
      "comp.sys.mac.hardware       578\n",
      "talk.politics.mideast       564\n",
      "talk.politics.guns          546\n",
      "alt.atheism                 480\n",
      "talk.politics.misc          465\n",
      "talk.religion.misc          377\n",
      "Name: Category, dtype: int64\n"
     ]
    },
    {
     "data": {
      "image/png": "[encoded data removed]",
      "text/plain": [
       "<Figure size 1440x720 with 1 Axes>"
      ]
     },
     "metadata": {
      "needs_background": "light"
     },
     "output_type": "display_data"
    }
   ],
   "source": [
    "categorytable = trainDF['Category'].value_counts()\n",
    "print(categorytable)\n",
    "plt.figure(figsize = (20,10))\n",
    "sns.barplot(x=categorytable.index, y=categorytable)\n",
    "plt.xticks(rotation=90)\n",
    "plt.show()"
   ]
  },
  {
   "cell_type": "code",
   "execution_count": 32,
   "id": "0249839a",
   "metadata": {},
   "outputs": [
    {
     "name": "stdout",
     "output_type": "stream",
     "text": [
      "rec.sport.hockey            399\n",
      "rec.motorcycles             398\n",
      "soc.religion.christian      398\n",
      "rec.sport.baseball          397\n",
      "rec.autos                   396\n",
      "sci.crypt                   396\n",
      "sci.med                     396\n",
      "comp.windows.x              395\n",
      "sci.space                   394\n",
      "comp.os.ms-windows.misc     394\n",
      "sci.electronics             393\n",
      "comp.sys.ibm.pc.hardware    392\n",
      "misc.forsale                390\n",
      "comp.graphics               389\n",
      "comp.sys.mac.hardware       385\n",
      "talk.politics.mideast       376\n",
      "talk.politics.guns          364\n",
      "alt.atheism                 319\n",
      "talk.politics.misc          310\n",
      "talk.religion.misc          251\n",
      "Name: Category, dtype: int64\n"
     ]
    },
    {
     "data": {
      "image/png": "[encoded data removed]",
      "text/plain": [
       "<Figure size 1440x720 with 1 Axes>"
      ]
     },
     "metadata": {
      "needs_background": "light"
     },
     "output_type": "display_data"
    }
   ],
   "source": [
    "categorytable_test = testDF['Category'].value_counts()\n",
    "print(categorytable_test)\n",
    "plt.figure(figsize = (20,10))\n",
    "sns.barplot(x=categorytable_test.index, y=categorytable_test)\n",
    "plt.xticks(rotation=90)\n",
    "plt.show()"
   ]
  },
  {
   "cell_type": "code",
   "execution_count": 33,
   "id": "8751079e",
   "metadata": {},
   "outputs": [
    {
     "name": "stdout",
     "output_type": "stream",
     "text": [
      "rec.sport.hockey            0.052974\n",
      "rec.motorcycles             0.052841\n",
      "soc.religion.christian      0.052841\n",
      "rec.sport.baseball          0.052708\n",
      "rec.autos                   0.052576\n",
      "sci.crypt                   0.052576\n",
      "sci.med                     0.052576\n",
      "comp.windows.x              0.052443\n",
      "sci.space                   0.052310\n",
      "comp.os.ms-windows.misc     0.052310\n",
      "sci.electronics             0.052177\n",
      "comp.sys.ibm.pc.hardware    0.052045\n",
      "misc.forsale                0.051779\n",
      "comp.graphics               0.051646\n",
      "comp.sys.mac.hardware       0.051115\n",
      "talk.politics.mideast       0.049920\n",
      "talk.politics.guns          0.048327\n",
      "alt.atheism                 0.042353\n",
      "talk.politics.misc          0.041158\n",
      "talk.religion.misc          0.033324\n",
      "Name: Category, dtype: float64\n"
     ]
    }
   ],
   "source": [
    "print(categorytable_test/sum(categorytable_test))"
   ]
  },
  {
   "cell_type": "code",
   "execution_count": 34,
   "id": "6bbe995e",
   "metadata": {},
   "outputs": [
    {
     "name": "stdout",
     "output_type": "stream",
     "text": [
      "rec.sport.hockey            0.053032\n",
      "soc.religion.christian      0.052943\n",
      "rec.motorcycles             0.052855\n",
      "rec.sport.baseball          0.052766\n",
      "sci.crypt                   0.052590\n",
      "rec.autos                   0.052501\n",
      "sci.med                     0.052501\n",
      "sci.space                   0.052413\n",
      "comp.windows.x              0.052413\n",
      "sci.electronics             0.052236\n",
      "comp.os.ms-windows.misc     0.052236\n",
      "comp.sys.ibm.pc.hardware    0.052148\n",
      "misc.forsale                0.051706\n",
      "comp.graphics               0.051617\n",
      "comp.sys.mac.hardware       0.051087\n",
      "talk.politics.mideast       0.049850\n",
      "talk.politics.guns          0.048259\n",
      "alt.atheism                 0.042425\n",
      "talk.politics.misc          0.041100\n",
      "talk.religion.misc          0.033322\n",
      "Name: Category, dtype: float64\n"
     ]
    }
   ],
   "source": [
    "print(categorytable/sum(categorytable))"
   ]
  },
  {
   "cell_type": "code",
   "execution_count": 35,
   "id": "1f6943c0",
   "metadata": {},
   "outputs": [
    {
     "data": {
      "text/plain": [
       "81425"
      ]
     },
     "execution_count": 35,
     "metadata": {},
     "output_type": "execute_result"
    }
   ],
   "source": [
    "#user_processedTrainDF = processDataframe(trainDF)\n",
    "#user_processedTestDF = processDataframe(testDF)\n",
    "#tf_transformer = TfidfTransformer(use_idf=False).fit(user_processedTrainDF['Post-processed Text'])\n",
    "#user_processed_train_set = tf_transformer.transform(user_processedTrainDF['Post-processed Text'])\n",
    "#user_processed_test_set = tf_transformer.transform(processedTestDF['Post-processed Text'])\n",
    "\n",
    "\n",
    "#count_vect = CountVectorizer()\n",
    "#count_vect_train_set = count_vect.fit_transform(trainDF['Text'])\n",
    "#count_vect_test_set = count_vect.transform(testDF['Text'])\n",
    "\n",
    "#tf_transformer = TfidfTransformer(use_idf=False).fit(count_vect_train_set)\n",
    "#tf_processed_train_set = tf_transformer.transform(count_vect_train_set)\n",
    "#tf_processed_test_set = tf_transformer.transform(count_vect_test_set)\n",
    "\n",
    "vectorizer = TfidfVectorizer(stop_words=stopwords, token_pattern=r'(?u)\\b[A-Za-z]+\\b')\n",
    "tfid_vect_train_vectors = vectorizer.fit_transform(trainDF['Text'])\n",
    "tfid_vect_test_vectors = vectorizer.transform(testDF['Text'])\n",
    "\n",
    "mNB_pipeline = Pipeline([\n",
    "    ('vect', TfidfVectorizer(stop_words=stopwords, token_pattern=r'(?u)\\b[A-Za-z]+\\b')),\n",
    "    ('clf', MultinomialNB()),\n",
    "    \n",
    "])\n",
    "\n",
    "lr_pipeline = Pipeline([\n",
    "    ('vect', TfidfVectorizer(stop_words=stopwords, token_pattern=r'(?u)\\b[A-Za-z]+\\b')),\n",
    "    ('lr', LogisticRegression()),\n",
    "    \n",
    "])\n",
    "\n",
    "len(vectorizer.get_feature_names_out())"
   ]
  },
  {
   "cell_type": "code",
   "execution_count": 36,
   "id": "ab397d7a",
   "metadata": {},
   "outputs": [],
   "source": [
    "#print(tf_processed_train_set.shape, tf_processed_test_set.shape)\n",
    "#print(tfid_vect_train_vectors.shape, tfid_vect_test_vectors.shape)"
   ]
  },
  {
   "cell_type": "code",
   "execution_count": 37,
   "id": "197785b9",
   "metadata": {},
   "outputs": [],
   "source": [
    "# 4-fun Visual representation of most common words in a given text\n",
    "\n",
    "#frequency_dist = nltk.FreqDist(processedDF['Post-processed Text'][0])\n",
    "\n",
    "#sorted(frequency_dist,key=frequency_dist.__getitem__, reverse=True)[0:50]\n",
    "\n",
    "#from wordcloud import WordCloud\n",
    "#import matplotlib.pyplot as plt\n",
    "#wordcloud = WordCloud()\n",
    "#wordcloud.generate_from_frequencies(frequency_dist)\n",
    "#plt.imshow(wordcloud)\n",
    "#plt.axis(\"off\")\n",
    "#plt.show()"
   ]
  },
  {
   "cell_type": "code",
   "execution_count": 38,
   "id": "681ed79e",
   "metadata": {},
   "outputs": [],
   "source": [
    "#Training a basic classifier for multinomial models\n",
    "\n",
    "# No pipeline\n",
    "default_clf = MultinomialNB().fit(tfid_vect_train_vectors, trainDF['Category'])\n",
    "predicted = default_clf.predict(tfid_vect_test_vectors)\n",
    "\n",
    "# Pipeline\n",
    "mNB_pipeline.fit(trainDF['Text'], trainDF['Category'])\n",
    "pipeline_predicted = mNB_pipeline.predict(testDF['Text'])\n",
    "pipeline_predicted_train = mNB_pipeline.predict(trainDF['Text'])"
   ]
  },
  {
   "cell_type": "code",
   "execution_count": 39,
   "id": "06330fa7",
   "metadata": {},
   "outputs": [
    {
     "data": {
      "text/plain": [
       "0.8167817312798725"
      ]
     },
     "execution_count": 39,
     "metadata": {},
     "output_type": "execute_result"
    }
   ],
   "source": [
    "np.mean(predicted == testDF['Category'])"
   ]
  },
  {
   "cell_type": "code",
   "execution_count": 40,
   "id": "22a10ec1",
   "metadata": {},
   "outputs": [
    {
     "data": {
      "text/plain": [
       "0.8167817312798725"
      ]
     },
     "execution_count": 40,
     "metadata": {},
     "output_type": "execute_result"
    }
   ],
   "source": [
    "np.mean(pipeline_predicted == testDF['Category'])"
   ]
  },
  {
   "cell_type": "code",
   "execution_count": 41,
   "id": "0d995ab6",
   "metadata": {},
   "outputs": [
    {
     "data": {
      "text/plain": [
       "0.9557185787519887"
      ]
     },
     "execution_count": 41,
     "metadata": {},
     "output_type": "execute_result"
    }
   ],
   "source": [
    "np.mean(pipeline_predicted_train == trainDF['Category'])"
   ]
  },
  {
   "cell_type": "code",
   "execution_count": 42,
   "id": "59cd4e24",
   "metadata": {},
   "outputs": [
    {
     "name": "stdout",
     "output_type": "stream",
     "text": [
      "0.8167817312798725\n"
     ]
    }
   ],
   "source": [
    "print(accuracy_score(testDF['Category'], predicted))"
   ]
  },
  {
   "cell_type": "code",
   "execution_count": 43,
   "id": "1844ae9e",
   "metadata": {},
   "outputs": [
    {
     "name": "stdout",
     "output_type": "stream",
     "text": [
      "0.8167817312798725\n"
     ]
    }
   ],
   "source": [
    "print(accuracy_score(testDF['Category'], pipeline_predicted))"
   ]
  },
  {
   "cell_type": "code",
   "execution_count": 44,
   "id": "e0ef2ceb",
   "metadata": {},
   "outputs": [
    {
     "name": "stdout",
     "output_type": "stream",
     "text": [
      "0.9557185787519887\n"
     ]
    }
   ],
   "source": [
    "print(accuracy_score(trainDF['Category'], pipeline_predicted_train))"
   ]
  },
  {
   "cell_type": "code",
   "execution_count": 45,
   "id": "037a8f7b",
   "metadata": {},
   "outputs": [
    {
     "name": "stdout",
     "output_type": "stream",
     "text": [
      "                          precision    recall  f1-score   support\n",
      "\n",
      "             alt.atheism       0.81      0.68      0.74       319\n",
      "           comp.graphics       0.78      0.72      0.75       389\n",
      " comp.os.ms-windows.misc       0.75      0.72      0.74       394\n",
      "comp.sys.ibm.pc.hardware       0.65      0.78      0.71       392\n",
      "   comp.sys.mac.hardware       0.85      0.80      0.82       385\n",
      "          comp.windows.x       0.85      0.80      0.83       395\n",
      "            misc.forsale       0.85      0.79      0.82       390\n",
      "               rec.autos       0.90      0.91      0.90       396\n",
      "         rec.motorcycles       0.93      0.95      0.94       398\n",
      "      rec.sport.baseball       0.92      0.93      0.93       397\n",
      "        rec.sport.hockey       0.89      0.98      0.93       399\n",
      "               sci.crypt       0.79      0.96      0.87       396\n",
      "         sci.electronics       0.82      0.65      0.72       393\n",
      "                 sci.med       0.92      0.79      0.85       396\n",
      "               sci.space       0.83      0.94      0.88       394\n",
      "  soc.religion.christian       0.65      0.96      0.77       398\n",
      "      talk.politics.guns       0.67      0.95      0.78       364\n",
      "   talk.politics.mideast       0.94      0.94      0.94       376\n",
      "      talk.politics.misc       0.94      0.53      0.68       310\n",
      "      talk.religion.misc       0.94      0.25      0.40       251\n",
      "\n",
      "                accuracy                           0.82      7532\n",
      "               macro avg       0.83      0.80      0.80      7532\n",
      "            weighted avg       0.83      0.82      0.81      7532\n",
      "\n"
     ]
    }
   ],
   "source": [
    "print(classification_report(testDF['Category'], predicted))"
   ]
  },
  {
   "cell_type": "code",
   "execution_count": 46,
   "id": "a2493322",
   "metadata": {},
   "outputs": [],
   "source": [
    "#Training a non-basic classifier for multinomial models\n",
    "offset_clf = MultinomialNB(alpha=0.0162, fit_prior=False).fit(tfid_vect_train_vectors, trainDF['Category'])\n",
    "offset_predicted = offset_clf.predict(tfid_vect_test_vectors)"
   ]
  },
  {
   "cell_type": "code",
   "execution_count": 47,
   "id": "7e32ab5a",
   "metadata": {},
   "outputs": [
    {
     "name": "stdout",
     "output_type": "stream",
     "text": [
      "0.831651619755709\n"
     ]
    }
   ],
   "source": [
    "print(accuracy_score(testDF['Category'], offset_predicted))"
   ]
  },
  {
   "cell_type": "code",
   "execution_count": 48,
   "id": "36adf13d",
   "metadata": {},
   "outputs": [],
   "source": [
    "pipeline_grid_param = [\n",
    "    {\n",
    "    #'vect__norm': ['l2'],\n",
    "    #'vect__use_idf': [True],\n",
    "    #'vect__smooth_idf': [False],\n",
    "    #'vect__sublinear_tf': [True],\n",
    "    #'vect__max_df': [0.145],\n",
    "    #'clf__alpha':[0.0162],\n",
    "    #'clf__fit_prior':[False],\n",
    "    }\n",
    "]\n",
    "grid_param = [\n",
    "    {\n",
    "    'alpha':[0.00162, 0.0162, 0.1],\n",
    "    'fit_prior':[False, True],\n",
    "    }\n",
    "]\n",
    "\n",
    "# Pipeline gridsearch\n",
    "pipeline_grid_search = GridSearchCV(mNB_pipeline, pipeline_grid_param, cv=5)\n",
    "\n",
    "# Nonpipeline gridsearch\n",
    "#grid_search = GridSearchCV(default_clf, grid_param, cv=5)"
   ]
  },
  {
   "cell_type": "code",
   "execution_count": 49,
   "id": "9ed8a383",
   "metadata": {},
   "outputs": [],
   "source": [
    "#grid_search.fit(tfid_vect_train_vectors, trainDF['Category'])"
   ]
  },
  {
   "cell_type": "code",
   "execution_count": 50,
   "id": "cc5dce32",
   "metadata": {
    "scrolled": true
   },
   "outputs": [
    {
     "data": {
      "text/plain": [
       "GridSearchCV(cv=5,\n",
       "             estimator=Pipeline(steps=[('vect',\n",
       "                                        TfidfVectorizer(stop_words=['i', 'me',\n",
       "                                                                    'my',\n",
       "                                                                    'myself',\n",
       "                                                                    'we', 'our',\n",
       "                                                                    'ours',\n",
       "                                                                    'ourselves',\n",
       "                                                                    'you',\n",
       "                                                                    \"you're\",\n",
       "                                                                    \"you've\",\n",
       "                                                                    \"you'll\",\n",
       "                                                                    \"you'd\",\n",
       "                                                                    'your',\n",
       "                                                                    'yours',\n",
       "                                                                    'yourself',\n",
       "                                                                    'yourselves',\n",
       "                                                                    'he', 'him',\n",
       "                                                                    'his',\n",
       "                                                                    'himself',\n",
       "                                                                    'she',\n",
       "                                                                    \"she's\",\n",
       "                                                                    'her',\n",
       "                                                                    'hers',\n",
       "                                                                    'herself',\n",
       "                                                                    'it',\n",
       "                                                                    \"it's\",\n",
       "                                                                    'its',\n",
       "                                                                    'itself', ...],\n",
       "                                                        token_pattern='(?u)\\\\b[A-Za-z]+\\\\b')),\n",
       "                                       ('clf', MultinomialNB())]),\n",
       "             param_grid=[{}])"
      ]
     },
     "execution_count": 50,
     "metadata": {},
     "output_type": "execute_result"
    }
   ],
   "source": [
    "pipeline_grid_search.fit(trainDF['Text'], trainDF['Category'])"
   ]
  },
  {
   "cell_type": "code",
   "execution_count": 51,
   "id": "d4a628a3",
   "metadata": {},
   "outputs": [
    {
     "data": {
      "text/plain": [
       "0.8167817312798725"
      ]
     },
     "execution_count": 51,
     "metadata": {},
     "output_type": "execute_result"
    }
   ],
   "source": [
    "#Pipeline MB prediction\n",
    "\n",
    "pipeline_grid_predicted = pipeline_grid_search.predict(testDF['Text']) #Pipeline\n",
    "np.mean(pipeline_grid_predicted == testDF['Category'])"
   ]
  },
  {
   "cell_type": "code",
   "execution_count": 52,
   "id": "9ed2431b",
   "metadata": {},
   "outputs": [
    {
     "data": {
      "text/plain": [
       "0.9557185787519887"
      ]
     },
     "execution_count": 52,
     "metadata": {},
     "output_type": "execute_result"
    }
   ],
   "source": [
    "pipeline_grid_predicted_train = pipeline_grid_search.predict(trainDF['Text']) #Pipeline\n",
    "np.mean(pipeline_grid_predicted_train == trainDF['Category'])"
   ]
  },
  {
   "cell_type": "code",
   "execution_count": 53,
   "id": "d83362bc",
   "metadata": {},
   "outputs": [],
   "source": [
    "#grid_search.best_score_"
   ]
  },
  {
   "cell_type": "code",
   "execution_count": 54,
   "id": "2ee795f2",
   "metadata": {},
   "outputs": [
    {
     "data": {
      "text/plain": [
       "0.881474283762976"
      ]
     },
     "execution_count": 54,
     "metadata": {},
     "output_type": "execute_result"
    }
   ],
   "source": [
    "pipeline_grid_search.best_score_"
   ]
  },
  {
   "cell_type": "code",
   "execution_count": 55,
   "id": "c540ec46",
   "metadata": {},
   "outputs": [],
   "source": [
    "#grid_search.best_params_"
   ]
  },
  {
   "cell_type": "code",
   "execution_count": 56,
   "id": "8ea62a5f",
   "metadata": {},
   "outputs": [
    {
     "data": {
      "text/plain": [
       "{}"
      ]
     },
     "execution_count": 56,
     "metadata": {},
     "output_type": "execute_result"
    }
   ],
   "source": [
    "pipeline_grid_search.best_params_"
   ]
  },
  {
   "cell_type": "code",
   "execution_count": 57,
   "id": "365b0cad",
   "metadata": {},
   "outputs": [],
   "source": [
    "#Non pipeline MB prediction\n",
    "\n",
    "#grid_predicted = grid_search.predict(tfid_vect_test_vectors)\n",
    "#np.mean(grid_predicted == testDF['Category'])"
   ]
  },
  {
   "cell_type": "code",
   "execution_count": 58,
   "id": "1c67c766",
   "metadata": {},
   "outputs": [
    {
     "data": {
      "text/plain": [
       "{'mean_fit_time': array([2.1162291]),\n",
       " 'std_fit_time': array([0.04803668]),\n",
       " 'mean_score_time': array([0.48145819]),\n",
       " 'std_score_time': array([0.01174311]),\n",
       " 'params': [{}],\n",
       " 'split0_test_score': array([0.88289881]),\n",
       " 'split1_test_score': array([0.88908529]),\n",
       " 'split2_test_score': array([0.8731772]),\n",
       " 'split3_test_score': array([0.88068935]),\n",
       " 'split4_test_score': array([0.88152078]),\n",
       " 'mean_test_score': array([0.88147428]),\n",
       " 'std_test_score': array([0.00508756]),\n",
       " 'rank_test_score': array([1])}"
      ]
     },
     "execution_count": 58,
     "metadata": {},
     "output_type": "execute_result"
    }
   ],
   "source": [
    "pipeline_grid_search.cv_results_"
   ]
  },
  {
   "cell_type": "code",
   "execution_count": 59,
   "id": "3966136c",
   "metadata": {},
   "outputs": [],
   "source": [
    "# Time for LogisticRegression\n",
    "\n",
    "# Pipeline\n",
    "#lr_pipeline.fit(trainDF['Text'], trainDF['Category'])\n",
    "#lr_pipeline_predicted = lr_pipeline.predict(testDF['Text'])\n",
    "\n",
    "# No Pipeline\n",
    "lr_default = LogisticRegression().fit(tfid_vect_train_vectors, trainDF['Category'])\n",
    "lr_default_predicted = lr_default.predict(tfid_vect_test_vectors)"
   ]
  },
  {
   "cell_type": "code",
   "execution_count": 60,
   "id": "b63ec0d3",
   "metadata": {},
   "outputs": [
    {
     "name": "stdout",
     "output_type": "stream",
     "text": [
      "0.8305894848645778\n"
     ]
    }
   ],
   "source": [
    "#print(np.mean(lr_pipeline_predicted == testDF['Category']))\n",
    "print(np.mean(lr_default_predicted == testDF['Category']))"
   ]
  },
  {
   "cell_type": "code",
   "execution_count": 61,
   "id": "4c5aa6db",
   "metadata": {},
   "outputs": [
    {
     "name": "stdout",
     "output_type": "stream",
     "text": [
      "0.8305894848645778\n"
     ]
    }
   ],
   "source": [
    "#print(accuracy_score(testDF['Category'], lr_pipeline_predicted))\n",
    "print(accuracy_score(testDF['Category'], lr_default_predicted))"
   ]
  },
  {
   "cell_type": "code",
   "execution_count": 62,
   "id": "53baadc8",
   "metadata": {
    "scrolled": true
   },
   "outputs": [
    {
     "name": "stdout",
     "output_type": "stream",
     "text": [
      "                          precision    recall  f1-score   support\n",
      "\n",
      "             alt.atheism       0.80      0.72      0.76       319\n",
      "           comp.graphics       0.70      0.79      0.74       389\n",
      " comp.os.ms-windows.misc       0.75      0.75      0.75       394\n",
      "comp.sys.ibm.pc.hardware       0.70      0.73      0.72       392\n",
      "   comp.sys.mac.hardware       0.81      0.82      0.81       385\n",
      "          comp.windows.x       0.82      0.78      0.80       395\n",
      "            misc.forsale       0.80      0.85      0.82       390\n",
      "               rec.autos       0.91      0.89      0.90       396\n",
      "         rec.motorcycles       0.95      0.94      0.94       398\n",
      "      rec.sport.baseball       0.90      0.93      0.92       397\n",
      "        rec.sport.hockey       0.93      0.96      0.95       399\n",
      "               sci.crypt       0.96      0.90      0.93       396\n",
      "         sci.electronics       0.72      0.77      0.74       393\n",
      "                 sci.med       0.89      0.87      0.88       396\n",
      "               sci.space       0.89      0.91      0.90       394\n",
      "  soc.religion.christian       0.81      0.93      0.86       398\n",
      "      talk.politics.guns       0.74      0.90      0.81       364\n",
      "   talk.politics.mideast       0.97      0.88      0.92       376\n",
      "      talk.politics.misc       0.82      0.60      0.69       310\n",
      "      talk.religion.misc       0.78      0.50      0.61       251\n",
      "\n",
      "                accuracy                           0.83      7532\n",
      "               macro avg       0.83      0.82      0.82      7532\n",
      "            weighted avg       0.83      0.83      0.83      7532\n",
      "\n"
     ]
    }
   ],
   "source": [
    "print(classification_report(testDF['Category'], lr_default_predicted))"
   ]
  },
  {
   "cell_type": "code",
   "execution_count": 63,
   "id": "8a6fe043",
   "metadata": {},
   "outputs": [],
   "source": [
    "# GRID AND RAND\n",
    "\n",
    "pipeline_lr_param = [\n",
    "    {\n",
    "    'vect__norm': ['l2'],\n",
    "    'vect__use_idf': [True],\n",
    "    'vect__smooth_idf': [False],\n",
    "    'vect__sublinear_tf': [True],\n",
    "    'vect__max_df': [0.145],\n",
    "    'lr__penalty':['l2'],\n",
    "    'lr__solver': ['saga'],\n",
    "    'lr__C': [65]\n",
    "    }\n",
    "]\n",
    "\n",
    "lr_param = [\n",
    "    {\n",
    "    'penalty':['none'],\n",
    "    'solver': ['saga'],\n",
    "    }\n",
    "]\n",
    "\n",
    "\n",
    "# Pipeline gridsearch\n",
    "pipeline_lr_grid_search = GridSearchCV(lr_pipeline, pipeline_lr_param, cv=5)\n",
    "# Nonpipeline gridsearch\n",
    "lr_grid_search = GridSearchCV(lr_default, lr_param, cv=5)\n",
    "\n",
    "# Pipeline randsearch\n",
    "pipeline_lr_rand_search = RandomizedSearchCV(lr_pipeline, pipeline_lr_param, cv=5)\n",
    "# Nonpipeline randsearch\n",
    "lr_rand_search = RandomizedSearchCV(lr_default, lr_param, cv=5)"
   ]
  },
  {
   "cell_type": "code",
   "execution_count": 64,
   "id": "d2a5fde2",
   "metadata": {},
   "outputs": [],
   "source": [
    "#Nonpipeline grid fit\n",
    "\n",
    "#lr_grid_search.fit(tfid_vect_train_vectors, trainDF['Category']) #grid"
   ]
  },
  {
   "cell_type": "code",
   "execution_count": 65,
   "id": "cdccb2bb",
   "metadata": {},
   "outputs": [],
   "source": [
    "#Nonpipeline rand fit\n",
    "\n",
    "#lr_rand_search.fit(tfid_vect_train_vectors, trainDF['Category']) # rand"
   ]
  },
  {
   "cell_type": "code",
   "execution_count": 66,
   "id": "71733bca",
   "metadata": {},
   "outputs": [
    {
     "name": "stderr",
     "output_type": "stream",
     "text": [
      "C:\\Users\\James\\anaconda3\\envs\\venv\\lib\\site-packages\\sklearn\\linear_model\\_sag.py:352: ConvergenceWarning: The max_iter was reached which means the coef_ did not converge\n",
      "  warnings.warn(\n",
      "C:\\Users\\James\\anaconda3\\envs\\venv\\lib\\site-packages\\sklearn\\linear_model\\_sag.py:352: ConvergenceWarning: The max_iter was reached which means the coef_ did not converge\n",
      "  warnings.warn(\n",
      "C:\\Users\\James\\anaconda3\\envs\\venv\\lib\\site-packages\\sklearn\\linear_model\\_sag.py:352: ConvergenceWarning: The max_iter was reached which means the coef_ did not converge\n",
      "  warnings.warn(\n",
      "C:\\Users\\James\\anaconda3\\envs\\venv\\lib\\site-packages\\sklearn\\linear_model\\_sag.py:352: ConvergenceWarning: The max_iter was reached which means the coef_ did not converge\n",
      "  warnings.warn(\n",
      "C:\\Users\\James\\anaconda3\\envs\\venv\\lib\\site-packages\\sklearn\\linear_model\\_sag.py:352: ConvergenceWarning: The max_iter was reached which means the coef_ did not converge\n",
      "  warnings.warn(\n",
      "C:\\Users\\James\\anaconda3\\envs\\venv\\lib\\site-packages\\sklearn\\linear_model\\_sag.py:352: ConvergenceWarning: The max_iter was reached which means the coef_ did not converge\n",
      "  warnings.warn(\n"
     ]
    },
    {
     "data": {
      "text/plain": [
       "GridSearchCV(cv=5,\n",
       "             estimator=Pipeline(steps=[('vect',\n",
       "                                        TfidfVectorizer(stop_words=['i', 'me',\n",
       "                                                                    'my',\n",
       "                                                                    'myself',\n",
       "                                                                    'we', 'our',\n",
       "                                                                    'ours',\n",
       "                                                                    'ourselves',\n",
       "                                                                    'you',\n",
       "                                                                    \"you're\",\n",
       "                                                                    \"you've\",\n",
       "                                                                    \"you'll\",\n",
       "                                                                    \"you'd\",\n",
       "                                                                    'your',\n",
       "                                                                    'yours',\n",
       "                                                                    'yourself',\n",
       "                                                                    'yourselves',\n",
       "                                                                    'he', 'him',\n",
       "                                                                    'his',\n",
       "                                                                    'himself',\n",
       "                                                                    'she',\n",
       "                                                                    \"she's\",\n",
       "                                                                    'her',\n",
       "                                                                    'hers',\n",
       "                                                                    'herself',\n",
       "                                                                    'it',\n",
       "                                                                    \"it's\",\n",
       "                                                                    'its',\n",
       "                                                                    'itself', ...],\n",
       "                                                        token_pattern='(?u)\\\\b[A-Za-z]+\\\\b')),\n",
       "                                       ('lr', LogisticRegression())]),\n",
       "             param_grid=[{'lr__C': [65], 'lr__penalty': ['l2'],\n",
       "                          'lr__solver': ['saga'], 'vect__max_df': [0.145],\n",
       "                          'vect__norm': ['l2'], 'vect__smooth_idf': [False],\n",
       "                          'vect__sublinear_tf': [True],\n",
       "                          'vect__use_idf': [True]}])"
      ]
     },
     "execution_count": 66,
     "metadata": {},
     "output_type": "execute_result"
    }
   ],
   "source": [
    "#Pipeline grid fit\n",
    "\n",
    "pipeline_lr_grid_search.fit(trainDF['Text'], trainDF['Category']) #grid"
   ]
  },
  {
   "cell_type": "code",
   "execution_count": 67,
   "id": "6e752a24",
   "metadata": {},
   "outputs": [
    {
     "name": "stderr",
     "output_type": "stream",
     "text": [
      "C:\\Users\\James\\anaconda3\\envs\\venv\\lib\\site-packages\\sklearn\\model_selection\\_search.py:292: UserWarning: The total space of parameters 1 is smaller than n_iter=10. Running 1 iterations. For exhaustive searches, use GridSearchCV.\n",
      "  warnings.warn(\n",
      "C:\\Users\\James\\anaconda3\\envs\\venv\\lib\\site-packages\\sklearn\\linear_model\\_sag.py:352: ConvergenceWarning: The max_iter was reached which means the coef_ did not converge\n",
      "  warnings.warn(\n",
      "C:\\Users\\James\\anaconda3\\envs\\venv\\lib\\site-packages\\sklearn\\linear_model\\_sag.py:352: ConvergenceWarning: The max_iter was reached which means the coef_ did not converge\n",
      "  warnings.warn(\n",
      "C:\\Users\\James\\anaconda3\\envs\\venv\\lib\\site-packages\\sklearn\\linear_model\\_sag.py:352: ConvergenceWarning: The max_iter was reached which means the coef_ did not converge\n",
      "  warnings.warn(\n",
      "C:\\Users\\James\\anaconda3\\envs\\venv\\lib\\site-packages\\sklearn\\linear_model\\_sag.py:352: ConvergenceWarning: The max_iter was reached which means the coef_ did not converge\n",
      "  warnings.warn(\n",
      "C:\\Users\\James\\anaconda3\\envs\\venv\\lib\\site-packages\\sklearn\\linear_model\\_sag.py:352: ConvergenceWarning: The max_iter was reached which means the coef_ did not converge\n",
      "  warnings.warn(\n",
      "C:\\Users\\James\\anaconda3\\envs\\venv\\lib\\site-packages\\sklearn\\linear_model\\_sag.py:352: ConvergenceWarning: The max_iter was reached which means the coef_ did not converge\n",
      "  warnings.warn(\n"
     ]
    },
    {
     "data": {
      "text/plain": [
       "RandomizedSearchCV(cv=5,\n",
       "                   estimator=Pipeline(steps=[('vect',\n",
       "                                              TfidfVectorizer(stop_words=['i',\n",
       "                                                                          'me',\n",
       "                                                                          'my',\n",
       "                                                                          'myself',\n",
       "                                                                          'we',\n",
       "                                                                          'our',\n",
       "                                                                          'ours',\n",
       "                                                                          'ourselves',\n",
       "                                                                          'you',\n",
       "                                                                          \"you're\",\n",
       "                                                                          \"you've\",\n",
       "                                                                          \"you'll\",\n",
       "                                                                          \"you'd\",\n",
       "                                                                          'your',\n",
       "                                                                          'yours',\n",
       "                                                                          'yourself',\n",
       "                                                                          'yourselves',\n",
       "                                                                          'he',\n",
       "                                                                          'him',\n",
       "                                                                          'his',\n",
       "                                                                          'himself',\n",
       "                                                                          'she',\n",
       "                                                                          \"she's\",\n",
       "                                                                          'her',\n",
       "                                                                          'hers',\n",
       "                                                                          'herself',\n",
       "                                                                          'it',\n",
       "                                                                          \"it's\",\n",
       "                                                                          'its',\n",
       "                                                                          'itself', ...],\n",
       "                                                              token_pattern='(?u)\\\\b[A-Za-z]+\\\\b')),\n",
       "                                             ('lr', LogisticRegression())]),\n",
       "                   param_distributions=[{'lr__C': [65], 'lr__penalty': ['l2'],\n",
       "                                         'lr__solver': ['saga'],\n",
       "                                         'vect__max_df': [0.145],\n",
       "                                         'vect__norm': ['l2'],\n",
       "                                         'vect__smooth_idf': [False],\n",
       "                                         'vect__sublinear_tf': [True],\n",
       "                                         'vect__use_idf': [True]}])"
      ]
     },
     "execution_count": 67,
     "metadata": {},
     "output_type": "execute_result"
    }
   ],
   "source": [
    "#Pipeline rand fit\n",
    "\n",
    "pipeline_lr_rand_search.fit(trainDF['Text'], trainDF['Category']) #rand"
   ]
  },
  {
   "cell_type": "code",
   "execution_count": 68,
   "id": "a8439fb0",
   "metadata": {},
   "outputs": [],
   "source": [
    "#Non pipeline grid SCORE AND PREDICTION\n",
    "\n",
    "#lr_grid__predicted = lr_grid_search.predict(tfid_vect_test_vectors) #Pipeline\n",
    "#np.mean(lr_grid__predicted == testDF['Category'])"
   ]
  },
  {
   "cell_type": "code",
   "execution_count": 69,
   "id": "01ab79f2",
   "metadata": {},
   "outputs": [],
   "source": [
    "#print('Best score:')\n",
    "#lr_grid_search.best_score_"
   ]
  },
  {
   "cell_type": "code",
   "execution_count": 70,
   "id": "e5726d17",
   "metadata": {},
   "outputs": [],
   "source": [
    "#print('Best Params:')\n",
    "#lr_grid_search.best_params_"
   ]
  },
  {
   "cell_type": "code",
   "execution_count": 71,
   "id": "dde89676",
   "metadata": {},
   "outputs": [],
   "source": [
    "#Non pipeline rand SCORE AND PREDICTION\n",
    "\n",
    "#lr_rand_predicted= lr_rand_search.predict(tfid_vect_test_vectors) \n",
    "#np.mean(lr_rand_predicted == testDF['Category'])"
   ]
  },
  {
   "cell_type": "code",
   "execution_count": 72,
   "id": "797caeea",
   "metadata": {},
   "outputs": [],
   "source": [
    "#print('Best score:')\n",
    "#lr_rand_search.best_score_"
   ]
  },
  {
   "cell_type": "code",
   "execution_count": 73,
   "id": "b1c8553e",
   "metadata": {},
   "outputs": [],
   "source": [
    "#print('Best Params:')\n",
    "#lr_rand_search.best_params_"
   ]
  },
  {
   "cell_type": "code",
   "execution_count": 74,
   "id": "8025d17e",
   "metadata": {},
   "outputs": [
    {
     "data": {
      "text/plain": [
       "0.8523632501327668"
      ]
     },
     "execution_count": 74,
     "metadata": {},
     "output_type": "execute_result"
    }
   ],
   "source": [
    "#Pipeline grid SCORE AND PREDICTION\n",
    "\n",
    "pipeline_lr_grid_predicted = pipeline_lr_grid_search.predict(testDF['Text']) #Pipeline\n",
    "np.mean(pipeline_lr_grid_predicted == testDF['Category'])"
   ]
  },
  {
   "cell_type": "code",
   "execution_count": 75,
   "id": "2f3f909d",
   "metadata": {},
   "outputs": [
    {
     "name": "stdout",
     "output_type": "stream",
     "text": [
      "Best score:\n"
     ]
    },
    {
     "data": {
      "text/plain": [
       "0.9259333146574678"
      ]
     },
     "execution_count": 75,
     "metadata": {},
     "output_type": "execute_result"
    }
   ],
   "source": [
    "print('Best score:')\n",
    "pipeline_lr_grid_search.best_score_"
   ]
  },
  {
   "cell_type": "code",
   "execution_count": 76,
   "id": "038b97ca",
   "metadata": {},
   "outputs": [
    {
     "name": "stdout",
     "output_type": "stream",
     "text": [
      "Best Params:\n"
     ]
    },
    {
     "data": {
      "text/plain": [
       "{'lr__C': 65,\n",
       " 'lr__penalty': 'l2',\n",
       " 'lr__solver': 'saga',\n",
       " 'vect__max_df': 0.145,\n",
       " 'vect__norm': 'l2',\n",
       " 'vect__smooth_idf': False,\n",
       " 'vect__sublinear_tf': True,\n",
       " 'vect__use_idf': True}"
      ]
     },
     "execution_count": 76,
     "metadata": {},
     "output_type": "execute_result"
    }
   ],
   "source": [
    "print('Best Params:')\n",
    "pipeline_lr_grid_search.best_params_"
   ]
  },
  {
   "cell_type": "code",
   "execution_count": 77,
   "id": "f872af24",
   "metadata": {},
   "outputs": [
    {
     "data": {
      "text/plain": [
       "0.8526287838555496"
      ]
     },
     "execution_count": 77,
     "metadata": {},
     "output_type": "execute_result"
    }
   ],
   "source": [
    "#Pipeline rand SCORE AND PREDICTION\n",
    " \n",
    "pipeline_lr_rand_predicted= pipeline_lr_rand_search.predict(testDF['Text']) \n",
    "np.mean(pipeline_lr_rand_predicted == testDF['Category'])"
   ]
  },
  {
   "cell_type": "code",
   "execution_count": 78,
   "id": "efdb116d",
   "metadata": {},
   "outputs": [
    {
     "name": "stdout",
     "output_type": "stream",
     "text": [
      "Best score:\n"
     ]
    },
    {
     "data": {
      "text/plain": [
       "0.9259331974449229"
      ]
     },
     "execution_count": 78,
     "metadata": {},
     "output_type": "execute_result"
    }
   ],
   "source": [
    "print('Best score:')\n",
    "pipeline_lr_rand_search.best_score_"
   ]
  },
  {
   "cell_type": "code",
   "execution_count": 79,
   "id": "879a4d5e",
   "metadata": {},
   "outputs": [
    {
     "name": "stdout",
     "output_type": "stream",
     "text": [
      "Best Params:\n"
     ]
    },
    {
     "data": {
      "text/plain": [
       "{'vect__use_idf': True,\n",
       " 'vect__sublinear_tf': True,\n",
       " 'vect__smooth_idf': False,\n",
       " 'vect__norm': 'l2',\n",
       " 'vect__max_df': 0.145,\n",
       " 'lr__solver': 'saga',\n",
       " 'lr__penalty': 'l2',\n",
       " 'lr__C': 65}"
      ]
     },
     "execution_count": 79,
     "metadata": {},
     "output_type": "execute_result"
    }
   ],
   "source": [
    "print('Best Params:')\n",
    "pipeline_lr_rand_search.best_params_"
   ]
  },
  {
   "cell_type": "code",
   "execution_count": 80,
   "id": "64c896af",
   "metadata": {},
   "outputs": [
    {
     "data": {
      "text/plain": [
       "{'mean_fit_time': array([16.13159204]),\n",
       " 'std_fit_time': array([0.44614012]),\n",
       " 'mean_score_time': array([0.47931266]),\n",
       " 'std_score_time': array([0.01185425]),\n",
       " 'param_vect__use_idf': masked_array(data=[True],\n",
       "              mask=[False],\n",
       "        fill_value='?',\n",
       "             dtype=object),\n",
       " 'param_vect__sublinear_tf': masked_array(data=[True],\n",
       "              mask=[False],\n",
       "        fill_value='?',\n",
       "             dtype=object),\n",
       " 'param_vect__smooth_idf': masked_array(data=[False],\n",
       "              mask=[False],\n",
       "        fill_value='?',\n",
       "             dtype=object),\n",
       " 'param_vect__norm': masked_array(data=['l2'],\n",
       "              mask=[False],\n",
       "        fill_value='?',\n",
       "             dtype=object),\n",
       " 'param_vect__max_df': masked_array(data=[0.145],\n",
       "              mask=[False],\n",
       "        fill_value='?',\n",
       "             dtype=object),\n",
       " 'param_lr__solver': masked_array(data=['saga'],\n",
       "              mask=[False],\n",
       "        fill_value='?',\n",
       "             dtype=object),\n",
       " 'param_lr__penalty': masked_array(data=['l2'],\n",
       "              mask=[False],\n",
       "        fill_value='?',\n",
       "             dtype=object),\n",
       " 'param_lr__C': masked_array(data=[65],\n",
       "              mask=[False],\n",
       "        fill_value='?',\n",
       "             dtype=object),\n",
       " 'params': [{'vect__use_idf': True,\n",
       "   'vect__sublinear_tf': True,\n",
       "   'vect__smooth_idf': False,\n",
       "   'vect__norm': 'l2',\n",
       "   'vect__max_df': 0.145,\n",
       "   'lr__solver': 'saga',\n",
       "   'lr__penalty': 'l2',\n",
       "   'lr__C': 65}],\n",
       " 'split0_test_score': array([0.92443659]),\n",
       " 'split1_test_score': array([0.92532037]),\n",
       " 'split2_test_score': array([0.918692]),\n",
       " 'split3_test_score': array([0.92708794]),\n",
       " 'split4_test_score': array([0.93412909]),\n",
       " 'mean_test_score': array([0.9259332]),\n",
       " 'std_test_score': array([0.00497104]),\n",
       " 'rank_test_score': array([1])}"
      ]
     },
     "execution_count": 80,
     "metadata": {},
     "output_type": "execute_result"
    }
   ],
   "source": [
    "pipeline_lr_rand_search.cv_results_"
   ]
  },
  {
   "cell_type": "code",
   "execution_count": 81,
   "id": "c226ab0a",
   "metadata": {},
   "outputs": [
    {
     "data": {
      "text/plain": [
       "{'mean_fit_time': array([16.8665103]),\n",
       " 'std_fit_time': array([0.60260407]),\n",
       " 'mean_score_time': array([0.49272151]),\n",
       " 'std_score_time': array([0.01672438]),\n",
       " 'param_lr__C': masked_array(data=[65],\n",
       "              mask=[False],\n",
       "        fill_value='?',\n",
       "             dtype=object),\n",
       " 'param_lr__penalty': masked_array(data=['l2'],\n",
       "              mask=[False],\n",
       "        fill_value='?',\n",
       "             dtype=object),\n",
       " 'param_lr__solver': masked_array(data=['saga'],\n",
       "              mask=[False],\n",
       "        fill_value='?',\n",
       "             dtype=object),\n",
       " 'param_vect__max_df': masked_array(data=[0.145],\n",
       "              mask=[False],\n",
       "        fill_value='?',\n",
       "             dtype=object),\n",
       " 'param_vect__norm': masked_array(data=['l2'],\n",
       "              mask=[False],\n",
       "        fill_value='?',\n",
       "             dtype=object),\n",
       " 'param_vect__smooth_idf': masked_array(data=[False],\n",
       "              mask=[False],\n",
       "        fill_value='?',\n",
       "             dtype=object),\n",
       " 'param_vect__sublinear_tf': masked_array(data=[True],\n",
       "              mask=[False],\n",
       "        fill_value='?',\n",
       "             dtype=object),\n",
       " 'param_vect__use_idf': masked_array(data=[True],\n",
       "              mask=[False],\n",
       "        fill_value='?',\n",
       "             dtype=object),\n",
       " 'params': [{'lr__C': 65,\n",
       "   'lr__penalty': 'l2',\n",
       "   'lr__solver': 'saga',\n",
       "   'vect__max_df': 0.145,\n",
       "   'vect__norm': 'l2',\n",
       "   'vect__smooth_idf': False,\n",
       "   'vect__sublinear_tf': True,\n",
       "   'vect__use_idf': True}],\n",
       " 'split0_test_score': array([0.92355281]),\n",
       " 'split1_test_score': array([0.92487848]),\n",
       " 'split2_test_score': array([0.91780822]),\n",
       " 'split3_test_score': array([0.92797172]),\n",
       " 'split4_test_score': array([0.93545535]),\n",
       " 'mean_test_score': array([0.92593331]),\n",
       " 'std_test_score': array([0.00579001]),\n",
       " 'rank_test_score': array([1])}"
      ]
     },
     "execution_count": 81,
     "metadata": {},
     "output_type": "execute_result"
    }
   ],
   "source": [
    "pipeline_lr_grid_search.cv_results_"
   ]
  },
  {
   "cell_type": "code",
   "execution_count": null,
   "id": "590443d6",
   "metadata": {},
   "outputs": [],
   "source": [
    "cm = confusion_matrix(testDF['Category'], lr_predicted)\n",
    "plt.figure(figsize=(15,15))\n",
    "sns.heatmap(cm, xticklabels=testDF['Category'], yticklabels=testDF['Category'], annot=True, fmt=\".2f\", linewidths=.5, square = True, cmap = 'Blues_r');\n",
    "plt.ylabel('Actual label');\n",
    "plt.xlabel('Predicted label');\n",
    "all_sample_title = 'Accuracy Score: {0}'.format(accuracy_score(testDF['Category'], lr_predicted))\n",
    "plt.title(all_sample_title, size = 15);"
   ]
  },
  {
   "cell_type": "code",
   "execution_count": null,
   "id": "e2f2e4c1",
   "metadata": {},
   "outputs": [],
   "source": []
  },
  {
   "cell_type": "code",
   "execution_count": null,
   "id": "4977878e",
   "metadata": {},
   "outputs": [],
   "source": []
  }
 ],
 "metadata": {
  "kernelspec": {
   "display_name": "Python 3 (ipykernel)",
   "language": "python",
   "name": "python3"
  },
  "language_info": {
   "codemirror_mode": {
    "name": "ipython",
    "version": 3
   },
   "file_extension": ".py",
   "mimetype": "text/x-python",
   "name": "python",
   "nbconvert_exporter": "python",
   "pygments_lexer": "ipython3",
   "version": "3.9.7"
  }
 },
 "nbformat": 4,
 "nbformat_minor": 5
}
