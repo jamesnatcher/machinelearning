{
 "cells": [
  {
   "cell_type": "code",
   "execution_count": 1,
   "id": "e82f290c",
   "metadata": {},
   "outputs": [
    {
     "name": "stdout",
     "output_type": "stream",
     "text": [
      "breast-cancer-wisconsin-dataset.txt\n"
     ]
    }
   ],
   "source": [
    "import os\n",
    "import math\n",
    "\n",
    "path = r\"C:\\Users\\James\\machinelearning\\Datasets\\MidtermDataset\"\n",
    "\n",
    "os.chdir(path)\n",
    "\n",
    "cleandata = []\n",
    "\n",
    "filename = os.listdir(path)\n",
    "\n",
    "print(filename[0])"
   ]
  },
  {
   "cell_type": "code",
   "execution_count": 2,
   "id": "de090d82",
   "metadata": {},
   "outputs": [],
   "source": [
    "f = open(filename[0], 'r')\n",
    "rawdata = f.readlines()"
   ]
  },
  {
   "cell_type": "code",
   "execution_count": 3,
   "id": "7dd4bb72",
   "metadata": {},
   "outputs": [],
   "source": [
    "def cleanData(data):\n",
    "    temp = []\n",
    "    temp2 = []\n",
    "    for lines in data:\n",
    "        temp.append(lines.rstrip(\"\\n\"))\n",
    "    for lines in temp:\n",
    "        temp2.append(lines.split(\",\"))\n",
    "    \n",
    "    for subject in temp2:\n",
    "        temp3 = []\n",
    "        for info in subject:\n",
    "            temp = 0\n",
    "            if info == '?':\n",
    "                temp = 0\n",
    "            else:\n",
    "                temp = int(info)\n",
    "            temp3.append(temp)\n",
    "        cleandata.append(temp3)\n",
    "\n",
    "def fillMissing(column, mean):\n",
    "    if column == 0:\n",
    "        output = mean\n",
    "    else:\n",
    "        output = column\n",
    "    return output\n",
    "\n",
    "def binarize(column):\n",
    "    if column == 2:\n",
    "        output = 0\n",
    "    else:\n",
    "        output = 1\n",
    "    return output"
   ]
  },
  {
   "cell_type": "code",
   "execution_count": 4,
   "id": "20e20fff",
   "metadata": {},
   "outputs": [],
   "source": [
    "def tableCalculation(data, feature):\n",
    "    finaltable = []\n",
    "    \n",
    "    # The count is stored in the 11th element or the 10th index of these lists\n",
    "    benign = [0 for i in range(11)] \n",
    "    malignant = [0 for i in range(11)] \n",
    "    total = 0;\n",
    "    \n",
    "    for instance in data:\n",
    "        if instance[10] == 2:\n",
    "            benign[instance[feature]-1] = benign[instance[feature]-1] + 1\n",
    "            benign[10] = benign[10] + 1\n",
    "            total = total + 1\n",
    "        else:\n",
    "            malignant[instance[feature]-1] = malignant[instance[feature]-1] + 1\n",
    "            malignant[10] = malignant[10] + 1\n",
    "            total = total + 1\n",
    "    \n",
    "    for i in range(11):\n",
    "        benign[i] = benign[i]/total\n",
    "        malignant[i] = malignant[i]/total\n",
    "    \n",
    "    finaltable.append(benign)\n",
    "    finaltable.append(malignant)\n",
    "    finaltable.append(total)\n",
    "    return finaltable"
   ]
  },
  {
   "cell_type": "code",
   "execution_count": 5,
   "id": "0531f850",
   "metadata": {},
   "outputs": [
    {
     "name": "stdout",
     "output_type": "stream",
     "text": [
      "[1000025, 5, 1, 1, 1, 2, 1, 3, 1, 1, 2]\n"
     ]
    }
   ],
   "source": [
    "cleanData(rawdata)\n",
    "\n",
    "print(cleandata[0])"
   ]
  },
  {
   "cell_type": "code",
   "execution_count": 6,
   "id": "c16f401c",
   "metadata": {},
   "outputs": [
    {
     "name": "stdout",
     "output_type": "stream",
     "text": [
      "5\n",
      "1\n",
      "1\n",
      "1\n",
      "2\n",
      "1\n",
      "3\n",
      "1\n",
      "1\n"
     ]
    }
   ],
   "source": [
    "for i in range(1, 10):\n",
    "    print(cleandata[0][i])"
   ]
  },
  {
   "cell_type": "code",
   "execution_count": 7,
   "id": "954b6474",
   "metadata": {},
   "outputs": [],
   "source": [
    "for data in cleandata:\n",
    "    temp = fillMissing(data[6], 3)\n",
    "    data[6] = temp"
   ]
  },
  {
   "cell_type": "code",
   "execution_count": 8,
   "id": "0c5557fd",
   "metadata": {},
   "outputs": [],
   "source": [
    "clumpThickness = tableCalculation(cleandata, 1)\n",
    "cellSize = tableCalculation(cleandata, 2)\n",
    "cellShape = tableCalculation(cleandata, 3)\n",
    "marignalAdhesion = tableCalculation(cleandata, 4)\n",
    "singleEpithelial = tableCalculation(cleandata, 5)\n",
    "bareNuclei = tableCalculation(cleandata, 6)\n",
    "blandCHromatin = tableCalculation(cleandata, 7)\n",
    "normalNucleoli = tableCalculation(cleandata, 8)\n",
    "mitoses = tableCalculation(cleandata, 9)"
   ]
  },
  {
   "cell_type": "code",
   "execution_count": 9,
   "id": "9c6ef24e",
   "metadata": {},
   "outputs": [
    {
     "data": {
      "text/plain": [
       "[[0.20314735336194564,\n",
       "  0.06580829756795423,\n",
       "  0.13733905579399142,\n",
       "  0.09728183118741059,\n",
       "  0.12160228898426323,\n",
       "  0.022889842632331903,\n",
       "  0.001430615164520744,\n",
       "  0.005722460658082976,\n",
       "  0.0,\n",
       "  0.0,\n",
       "  0.6552217453505007],\n",
       " [0.004291845493562232,\n",
       "  0.005722460658082976,\n",
       "  0.017167381974248927,\n",
       "  0.017167381974248927,\n",
       "  0.06437768240343347,\n",
       "  0.02575107296137339,\n",
       "  0.031473533619456366,\n",
       "  0.060085836909871244,\n",
       "  0.020028612303290415,\n",
       "  0.09871244635193133,\n",
       "  0.3447782546494993],\n",
       " 699]"
      ]
     },
     "execution_count": 9,
     "metadata": {},
     "output_type": "execute_result"
    }
   ],
   "source": [
    "clumpThickness"
   ]
  },
  {
   "cell_type": "code",
   "execution_count": 10,
   "id": "afb64a95",
   "metadata": {},
   "outputs": [
    {
     "data": {
      "text/plain": [
       "[[0.5436337625178826,\n",
       "  0.05293276108726753,\n",
       "  0.03862660944206009,\n",
       "  0.012875536480686695,\n",
       "  0.0,\n",
       "  0.002861230329041488,\n",
       "  0.001430615164520744,\n",
       "  0.001430615164520744,\n",
       "  0.001430615164520744,\n",
       "  0.0,\n",
       "  0.6552217453505007],\n",
       " [0.005722460658082976,\n",
       "  0.011444921316165951,\n",
       "  0.0357653791130186,\n",
       "  0.044349070100143065,\n",
       "  0.04291845493562232,\n",
       "  0.0357653791130186,\n",
       "  0.02575107296137339,\n",
       "  0.04005722460658083,\n",
       "  0.00715307582260372,\n",
       "  0.09585121602288985,\n",
       "  0.3447782546494993],\n",
       " 699]"
      ]
     },
     "execution_count": 10,
     "metadata": {},
     "output_type": "execute_result"
    }
   ],
   "source": [
    "cellSize"
   ]
  },
  {
   "cell_type": "code",
   "execution_count": 11,
   "id": "c11b0a31",
   "metadata": {},
   "outputs": [
    {
     "data": {
      "text/plain": [
       "[[0.5021459227467812,\n",
       "  0.07439198855507868,\n",
       "  0.04721030042918455,\n",
       "  0.01859799713876967,\n",
       "  0.004291845493562232,\n",
       "  0.004291845493562232,\n",
       "  0.002861230329041488,\n",
       "  0.001430615164520744,\n",
       "  0.0,\n",
       "  0.0,\n",
       "  0.6552217453505007],\n",
       " [0.002861230329041488,\n",
       "  0.010014306151645207,\n",
       "  0.032904148783977114,\n",
       "  0.044349070100143065,\n",
       "  0.044349070100143065,\n",
       "  0.03862660944206009,\n",
       "  0.04005722460658083,\n",
       "  0.03862660944206009,\n",
       "  0.010014306151645207,\n",
       "  0.08297567954220315,\n",
       "  0.3447782546494993],\n",
       " 699]"
      ]
     },
     "execution_count": 11,
     "metadata": {},
     "output_type": "execute_result"
    }
   ],
   "source": [
    "cellShape"
   ]
  },
  {
   "cell_type": "code",
   "execution_count": 12,
   "id": "8aa515c2",
   "metadata": {},
   "outputs": [
    {
     "data": {
      "text/plain": [
       "[[0.5364806866952789,\n",
       "  0.05293276108726753,\n",
       "  0.044349070100143065,\n",
       "  0.00715307582260372,\n",
       "  0.005722460658082976,\n",
       "  0.005722460658082976,\n",
       "  0.0,\n",
       "  0.0,\n",
       "  0.001430615164520744,\n",
       "  0.001430615164520744,\n",
       "  0.6552217453505007],\n",
       " [0.045779685264663805,\n",
       "  0.030042918454935622,\n",
       "  0.03862660944206009,\n",
       "  0.04005722460658083,\n",
       "  0.027181688125894134,\n",
       "  0.02575107296137339,\n",
       "  0.01859799713876967,\n",
       "  0.0357653791130186,\n",
       "  0.005722460658082976,\n",
       "  0.07725321888412018,\n",
       "  0.3447782546494993],\n",
       " 699]"
      ]
     },
     "execution_count": 12,
     "metadata": {},
     "output_type": "execute_result"
    }
   ],
   "source": [
    "marignalAdhesion"
   ]
  },
  {
   "cell_type": "code",
   "execution_count": 13,
   "id": "331f37c0",
   "metadata": {},
   "outputs": [
    {
     "data": {
      "text/plain": [
       "[[0.06580829756795423,\n",
       "  0.51931330472103,\n",
       "  0.04148783977110158,\n",
       "  0.010014306151645207,\n",
       "  0.00715307582260372,\n",
       "  0.002861230329041488,\n",
       "  0.004291845493562232,\n",
       "  0.002861230329041488,\n",
       "  0.0,\n",
       "  0.001430615164520744,\n",
       "  0.6552217453505007],\n",
       " [0.001430615164520744,\n",
       "  0.032904148783977114,\n",
       "  0.06151645207439199,\n",
       "  0.058655221745350504,\n",
       "  0.04864091559370529,\n",
       "  0.055793991416309016,\n",
       "  0.012875536480686695,\n",
       "  0.027181688125894134,\n",
       "  0.002861230329041488,\n",
       "  0.04291845493562232,\n",
       "  0.3447782546494993],\n",
       " 699]"
      ]
     },
     "execution_count": 13,
     "metadata": {},
     "output_type": "execute_result"
    }
   ],
   "source": [
    "singleEpithelial"
   ]
  },
  {
   "cell_type": "code",
   "execution_count": 14,
   "id": "c335ffda",
   "metadata": {},
   "outputs": [
    {
     "data": {
      "text/plain": [
       "[[0.5536480686695279,\n",
       "  0.030042918454935622,\n",
       "  0.04005722460658083,\n",
       "  0.008583690987124463,\n",
       "  0.01430615164520744,\n",
       "  0.0,\n",
       "  0.001430615164520744,\n",
       "  0.002861230329041488,\n",
       "  0.0,\n",
       "  0.004291845493562232,\n",
       "  0.6552217453505007],\n",
       " [0.02145922746781116,\n",
       "  0.012875536480686695,\n",
       "  0.022889842632331903,\n",
       "  0.01859799713876967,\n",
       "  0.02861230329041488,\n",
       "  0.005722460658082976,\n",
       "  0.010014306151645207,\n",
       "  0.027181688125894134,\n",
       "  0.012875536480686695,\n",
       "  0.18454935622317598,\n",
       "  0.3447782546494993],\n",
       " 699]"
      ]
     },
     "execution_count": 14,
     "metadata": {},
     "output_type": "execute_result"
    }
   ],
   "source": [
    "bareNuclei"
   ]
  },
  {
   "cell_type": "code",
   "execution_count": 15,
   "id": "fc51e674",
   "metadata": {},
   "outputs": [
    {
     "data": {
      "text/plain": [
       "[[0.2145922746781116,\n",
       "  0.22746781115879827,\n",
       "  0.18454935622317598,\n",
       "  0.011444921316165951,\n",
       "  0.005722460658082976,\n",
       "  0.001430615164520744,\n",
       "  0.010014306151645207,\n",
       "  0.0,\n",
       "  0.0,\n",
       "  0.0,\n",
       "  0.6552217453505007],\n",
       " [0.002861230329041488,\n",
       "  0.010014306151645207,\n",
       "  0.05150214592274678,\n",
       "  0.045779685264663805,\n",
       "  0.04291845493562232,\n",
       "  0.012875536480686695,\n",
       "  0.0944206008583691,\n",
       "  0.04005722460658083,\n",
       "  0.015736766809728183,\n",
       "  0.02861230329041488,\n",
       "  0.3447782546494993],\n",
       " 699]"
      ]
     },
     "execution_count": 15,
     "metadata": {},
     "output_type": "execute_result"
    }
   ],
   "source": [
    "blandCHromatin"
   ]
  },
  {
   "cell_type": "code",
   "execution_count": 16,
   "id": "7c9b9d4b",
   "metadata": {},
   "outputs": [
    {
     "data": {
      "text/plain": [
       "[[0.575107296137339,\n",
       "  0.04291845493562232,\n",
       "  0.017167381974248927,\n",
       "  0.001430615164520744,\n",
       "  0.002861230329041488,\n",
       "  0.005722460658082976,\n",
       "  0.002861230329041488,\n",
       "  0.005722460658082976,\n",
       "  0.001430615164520744,\n",
       "  0.0,\n",
       "  0.6552217453505007],\n",
       " [0.058655221745350504,\n",
       "  0.008583690987124463,\n",
       "  0.045779685264663805,\n",
       "  0.024320457796852647,\n",
       "  0.024320457796852647,\n",
       "  0.02575107296137339,\n",
       "  0.020028612303290415,\n",
       "  0.02861230329041488,\n",
       "  0.02145922746781116,\n",
       "  0.08726752503576538,\n",
       "  0.3447782546494993],\n",
       " 699]"
      ]
     },
     "execution_count": 16,
     "metadata": {},
     "output_type": "execute_result"
    }
   ],
   "source": [
    "normalNucleoli"
   ]
  },
  {
   "cell_type": "code",
   "execution_count": 17,
   "id": "5857f6e5",
   "metadata": {},
   "outputs": [
    {
     "data": {
      "text/plain": [
       "[[0.6366237482117311,\n",
       "  0.011444921316165951,\n",
       "  0.002861230329041488,\n",
       "  0.0,\n",
       "  0.001430615164520744,\n",
       "  0.0,\n",
       "  0.001430615164520744,\n",
       "  0.001430615164520744,\n",
       "  0.0,\n",
       "  0.0,\n",
       "  0.6552217453505007],\n",
       " [0.1917024320457797,\n",
       "  0.03862660944206009,\n",
       "  0.044349070100143065,\n",
       "  0.017167381974248927,\n",
       "  0.00715307582260372,\n",
       "  0.004291845493562232,\n",
       "  0.011444921316165951,\n",
       "  0.010014306151645207,\n",
       "  0.0,\n",
       "  0.020028612303290415,\n",
       "  0.3447782546494993],\n",
       " 699]"
      ]
     },
     "execution_count": 17,
     "metadata": {},
     "output_type": "execute_result"
    }
   ],
   "source": [
    "mitoses"
   ]
  }
 ],
 "metadata": {
  "kernelspec": {
   "display_name": "Python 3 (ipykernel)",
   "language": "python",
   "name": "python3"
  },
  "language_info": {
   "codemirror_mode": {
    "name": "ipython",
    "version": 3
   },
   "file_extension": ".py",
   "mimetype": "text/x-python",
   "name": "python",
   "nbconvert_exporter": "python",
   "pygments_lexer": "ipython3",
   "version": "3.9.7"
  }
 },
 "nbformat": 4,
 "nbformat_minor": 5
}
