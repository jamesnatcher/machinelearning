{
 "cells": [
  {
   "cell_type": "code",
   "execution_count": 1,
   "id": "b5390f7e",
   "metadata": {},
   "outputs": [
    {
     "name": "stdout",
     "output_type": "stream",
     "text": [
      "2.8.0\n"
     ]
    },
    {
     "data": {
      "text/plain": [
       "''"
      ]
     },
     "execution_count": 1,
     "metadata": {},
     "output_type": "execute_result"
    }
   ],
   "source": [
    "import tensorflow as tf\n",
    "from tensorflow.keras import models, layers\n",
    "import numpy as np\n",
    "import os\n",
    "import pickle\n",
    "import matplotlib.pyplot as plt\n",
    "from sklearn.model_selection import GridSearchCV\n",
    "from scikeras.wrappers import KerasClassifier\n",
    "\n",
    "files_path = r\"G:\\Spring2022\\CS 415\\Assignment 3\\NonKaggleData\\cifar-10-batches-py\"\n",
    "meta_path = r\"G:\\Spring2022\\CS 415\\Assignment 3\\NonKaggleData\\cifar-10-batches-py\\batches.meta\"\n",
    "\n",
    "print(tf.__version__)\n",
    "tf.test.gpu_device_name()"
   ]
  },
  {
   "cell_type": "code",
   "execution_count": 2,
   "id": "db4a866f",
   "metadata": {},
   "outputs": [
    {
     "data": {
      "text/plain": [
       "'G:\\\\Spring2022\\\\CS 415\\\\Assignment 3\\\\NonKaggleData\\\\cifar-10-batches-py'"
      ]
     },
     "execution_count": 2,
     "metadata": {},
     "output_type": "execute_result"
    }
   ],
   "source": [
    "os.chdir(files_path)\n",
    "os.getcwd()"
   ]
  },
  {
   "cell_type": "code",
   "execution_count": 3,
   "id": "591ce742",
   "metadata": {},
   "outputs": [
    {
     "name": "stdout",
     "output_type": "stream",
     "text": [
      "['data_batch_1', 'data_batch_2', 'data_batch_3', 'data_batch_4', 'data_batch_5', 'test_batch']\n"
     ]
    }
   ],
   "source": [
    "directory_contents = os.listdir(os.getcwd())\n",
    "directory_contents.remove('batches.meta')\n",
    "directory_contents.remove('readme.html')\n",
    "print(directory_contents)"
   ]
  },
  {
   "cell_type": "code",
   "execution_count": 4,
   "id": "fbb798c7",
   "metadata": {},
   "outputs": [],
   "source": [
    "def unpickle(file):\n",
    "    with open(file, 'rb') as fo:\n",
    "        thing = pickle.load(fo, encoding='bytes')\n",
    "    return thing"
   ]
  },
  {
   "cell_type": "code",
   "execution_count": 5,
   "id": "f75373df",
   "metadata": {},
   "outputs": [],
   "source": [
    "train_labels = []\n",
    "train_data = None\n",
    "\n",
    "test_labels = []\n",
    "test_data = None"
   ]
  },
  {
   "cell_type": "code",
   "execution_count": 6,
   "id": "6f0f62cd",
   "metadata": {},
   "outputs": [
    {
     "data": {
      "text/plain": [
       "3072"
      ]
     },
     "execution_count": 6,
     "metadata": {},
     "output_type": "execute_result"
    }
   ],
   "source": [
    "for batch in directory_contents:\n",
    "    \n",
    "    batch_temp = unpickle(batch)\n",
    "    \n",
    "    if batch != 'test_batch':\n",
    "    \n",
    "        if batch == 'data_batch_1':\n",
    "            train_data = batch_temp[b'data']\n",
    "        else:\n",
    "            train_data = np.vstack((train_data, batch_temp[b'data']))\n",
    "    \n",
    "        train_labels += batch_temp[b'labels']\n",
    "    else:\n",
    "        test_labels = batch_temp[b'labels']\n",
    "        test_data = batch_temp[b'data']\n",
    "                                                      \n",
    "meta_data = unpickle(meta_path)\n",
    "meta_data.pop(b'num_cases_per_batch')\n",
    "meta_data.pop(b'num_vis')"
   ]
  },
  {
   "cell_type": "code",
   "execution_count": 7,
   "id": "49cc32f4",
   "metadata": {},
   "outputs": [
    {
     "name": "stdout",
     "output_type": "stream",
     "text": [
      "{b'label_names': [b'airplane', b'automobile', b'bird', b'cat', b'deer', b'dog', b'frog', b'horse', b'ship', b'truck']}\n"
     ]
    }
   ],
   "source": [
    "print(meta_data)"
   ]
  },
  {
   "cell_type": "code",
   "execution_count": 8,
   "id": "06832fe6",
   "metadata": {},
   "outputs": [],
   "source": [
    "train_data = train_data.astype(np.float32)\n",
    "test_data = test_data.astype(np.float32)\n",
    "train_labels = np.array(train_labels)\n",
    "test_labels = np.array(test_labels)\n"
   ]
  },
  {
   "cell_type": "code",
   "execution_count": 9,
   "id": "ef1958b0",
   "metadata": {},
   "outputs": [
    {
     "name": "stdout",
     "output_type": "stream",
     "text": [
      "(50000, 3072)\n",
      "50000\n",
      "[[ 59.  43.  50. ... 140.  84.  72.]\n",
      " [154. 126. 105. ... 139. 142. 144.]\n",
      " [255. 253. 253. ...  83.  83.  84.]\n",
      " ...\n",
      " [ 35.  40.  42. ...  77.  66.  50.]\n",
      " [189. 186. 185. ... 169. 171. 171.]\n",
      " [229. 236. 234. ... 173. 162. 161.]]\n",
      "<class 'numpy.float32'>\n"
     ]
    }
   ],
   "source": [
    "print(train_data.shape)\n",
    "print(len(train_data))\n",
    "print(train_data)\n",
    "print(type(train_data[0][0]))"
   ]
  },
  {
   "cell_type": "code",
   "execution_count": 10,
   "id": "65c2680e",
   "metadata": {},
   "outputs": [
    {
     "name": "stdout",
     "output_type": "stream",
     "text": [
      "(10000, 3072)\n",
      "10000\n",
      "[[158. 159. 165. ... 124. 129. 110.]\n",
      " [235. 231. 232. ... 178. 191. 199.]\n",
      " [158. 158. 139. ...   8.   3.   7.]\n",
      " ...\n",
      " [ 20.  19.  15. ...  50.  53.  47.]\n",
      " [ 25.  15.  23. ...  80.  81.  80.]\n",
      " [ 73.  98.  99. ...  94.  58.  26.]]\n",
      "<class 'numpy.float32'>\n"
     ]
    }
   ],
   "source": [
    "print(test_data.shape)\n",
    "print(len(test_data))\n",
    "print(test_data)\n",
    "print(type(test_data[0][0]))"
   ]
  },
  {
   "cell_type": "code",
   "execution_count": 11,
   "id": "f058cfcd",
   "metadata": {},
   "outputs": [],
   "source": [
    "# This section originally serached for the maximum and minimum of the data in my old code.\n",
    "# The section is commented out due to time it takes to run it, but the result is displayed in bottom comments.\n",
    "\n",
    "#minimum = batch_group[0][b'data'][0][0]\n",
    "#maximum = batch_group[0][b'data'][0][0]\n",
    "#for batch in batch_group:\n",
    "#    for line in batch[b'data']:\n",
    "#        for num in line:\n",
    "#            if num > maximum:\n",
    "#                maximum = num\n",
    "#            if num < minimum:\n",
    "#                minimum = num\n",
    "#print(minimum) == 0\n",
    "#print(maximum) == 255"
   ]
  },
  {
   "cell_type": "code",
   "execution_count": 12,
   "id": "69f8c0bb",
   "metadata": {},
   "outputs": [],
   "source": [
    "for i in range(len(train_data)):\n",
    "    \n",
    "    #np.divide(train_data[i], 255.)\n",
    "    train_data[i] = (train_data[i] / 255.0)  -0.5\n",
    "\n",
    "for i in range(len(test_data)):\n",
    "    #np.divide(test_data[i], 255.)\n",
    "    test_data[i] = (test_data[i] / 255.0)  -0.5"
   ]
  },
  {
   "cell_type": "code",
   "execution_count": 13,
   "id": "76e7de47",
   "metadata": {},
   "outputs": [],
   "source": [
    "train_data = train_data.reshape(len(train_data), 3, 32, 32)\n",
    "test_data = test_data.reshape(len(test_data), 3, 32, 32)"
   ]
  },
  {
   "cell_type": "code",
   "execution_count": 14,
   "id": "9f53fcd6",
   "metadata": {},
   "outputs": [
    {
     "name": "stdout",
     "output_type": "stream",
     "text": [
      "(50000, 3, 32, 32)\n",
      "(10000, 3, 32, 32)\n"
     ]
    }
   ],
   "source": [
    "print(train_data.shape)\n",
    "print(test_data.shape)"
   ]
  },
  {
   "cell_type": "code",
   "execution_count": 15,
   "id": "1ed6e575",
   "metadata": {},
   "outputs": [],
   "source": [
    "train_data = np.rollaxis(train_data, 1, 4)\n",
    "test_data = np.rollaxis(test_data, 1, 4)"
   ]
  },
  {
   "cell_type": "code",
   "execution_count": 16,
   "id": "5b0e8967",
   "metadata": {},
   "outputs": [
    {
     "name": "stdout",
     "output_type": "stream",
     "text": [
      "(50000, 32, 32, 3)\n",
      "(10000, 32, 32, 3)\n"
     ]
    }
   ],
   "source": [
    "print(train_data.shape)\n",
    "print(test_data.shape)"
   ]
  },
  {
   "cell_type": "code",
   "execution_count": 17,
   "id": "f0ee91c3",
   "metadata": {},
   "outputs": [
    {
     "name": "stdout",
     "output_type": "stream",
     "text": [
      "50000\n",
      "[-0.26862746 -0.25686276 -0.2529412 ]\n",
      "<class 'numpy.float32'>\n"
     ]
    }
   ],
   "source": [
    "print(len(train_data))\n",
    "print(train_data[0][0][0])\n",
    "print(type(train_data[0][0][0][0]))"
   ]
  },
  {
   "cell_type": "code",
   "execution_count": 18,
   "id": "80ac367e",
   "metadata": {},
   "outputs": [
    {
     "name": "stdout",
     "output_type": "stream",
     "text": [
      "10000\n",
      "[ 0.11960787 -0.06078431 -0.30784315]\n"
     ]
    }
   ],
   "source": [
    "print(len(test_data))\n",
    "print(test_data[0][0][0])"
   ]
  },
  {
   "cell_type": "code",
   "execution_count": 19,
   "id": "cfbedddb",
   "metadata": {},
   "outputs": [],
   "source": [
    "def create_model():\n",
    "    cnn = models.Sequential()    \n",
    "    \n",
    "    cnn.add(layers.Conv2D(filters=32, kernel_size=(3, 3), padding='same', activation='relu', input_shape=(32, 32, 3)))\n",
    "    cnn.add(layers.BatchNormalization()) # add\n",
    "    \n",
    "    cnn.add(layers.Conv2D(filters=32, kernel_size=(3, 3), padding='same', activation='relu'))\n",
    "    cnn.add(layers.BatchNormalization()) # add\n",
    "    \n",
    "    cnn.add(layers.MaxPooling2D(pool_size=(2, 2)))\n",
    "    cnn.add(layers.Dropout(0.2))\n",
    "    \n",
    "    cnn.add(layers.Conv2D(filters=64, kernel_size=(3, 3), padding='same', activation='relu'))\n",
    "    cnn.add(layers.BatchNormalization()) # add\n",
    "    \n",
    "    cnn.add(layers.Conv2D(filters=64, kernel_size=(3, 3), padding='same', activation='relu'))\n",
    "    cnn.add(layers.BatchNormalization()) # add\n",
    "    \n",
    "    cnn.add(layers.MaxPooling2D(pool_size=(2, 2)))\n",
    "    cnn.add(layers.Dropout(0.3))\n",
    "    \n",
    "    cnn.add(layers.Conv2D(filters=128, kernel_size=(3, 3), padding='same', activation='relu'))\n",
    "    cnn.add(layers.BatchNormalization()) # add   \n",
    "    \n",
    "    cnn.add(layers.Conv2D(filters=128, kernel_size=(3, 3), padding='same', activation='relu'))\n",
    "    cnn.add(layers.BatchNormalization()) # add   \n",
    "    \n",
    "    cnn.add(layers.Flatten())\n",
    "    cnn.add(layers.Dense(units=64, activation='relu'))\n",
    "    \n",
    "    cnn.add(layers.Dropout(0.5))\n",
    "    cnn.add(layers.Dense(units=10, activation='relu'))\n",
    "    \n",
    "    learning_rate = 0.001\n",
    "    #opt = tf.keras.optimizers.Adam(learning_rate=0.0001)\n",
    "    #opt = tf.keras.optimizers.SGD(learning_rate=1.0)\n",
    "    opt = tf.keras.optimizers.Adamax(learning_rate=0.001)\n",
    "\n",
    "    cnn.compile(optimizer=opt,\n",
    "                loss=tf.keras.losses.SparseCategoricalCrossentropy(from_logits=True),\n",
    "                metrics=['accuracy'])\n",
    "    \n",
    "    return cnn"
   ]
  },
  {
   "cell_type": "code",
   "execution_count": 20,
   "id": "0ae93839",
   "metadata": {},
   "outputs": [],
   "source": [
    "cnn = create_model()"
   ]
  },
  {
   "cell_type": "code",
   "execution_count": 21,
   "id": "b93388fe",
   "metadata": {},
   "outputs": [
    {
     "name": "stdout",
     "output_type": "stream",
     "text": [
      "Model: \"sequential\"\n",
      "_________________________________________________________________\n",
      " Layer (type)                Output Shape              Param #   \n",
      "=================================================================\n",
      " conv2d (Conv2D)             (None, 32, 32, 32)        896       \n",
      "                                                                 \n",
      " batch_normalization (BatchN  (None, 32, 32, 32)       128       \n",
      " ormalization)                                                   \n",
      "                                                                 \n",
      " conv2d_1 (Conv2D)           (None, 32, 32, 32)        9248      \n",
      "                                                                 \n",
      " batch_normalization_1 (Batc  (None, 32, 32, 32)       128       \n",
      " hNormalization)                                                 \n",
      "                                                                 \n",
      " max_pooling2d (MaxPooling2D  (None, 16, 16, 32)       0         \n",
      " )                                                               \n",
      "                                                                 \n",
      " dropout (Dropout)           (None, 16, 16, 32)        0         \n",
      "                                                                 \n",
      " conv2d_2 (Conv2D)           (None, 16, 16, 64)        18496     \n",
      "                                                                 \n",
      " batch_normalization_2 (Batc  (None, 16, 16, 64)       256       \n",
      " hNormalization)                                                 \n",
      "                                                                 \n",
      " conv2d_3 (Conv2D)           (None, 16, 16, 64)        36928     \n",
      "                                                                 \n",
      " batch_normalization_3 (Batc  (None, 16, 16, 64)       256       \n",
      " hNormalization)                                                 \n",
      "                                                                 \n",
      " max_pooling2d_1 (MaxPooling  (None, 8, 8, 64)         0         \n",
      " 2D)                                                             \n",
      "                                                                 \n",
      " dropout_1 (Dropout)         (None, 8, 8, 64)          0         \n",
      "                                                                 \n",
      " conv2d_4 (Conv2D)           (None, 8, 8, 128)         73856     \n",
      "                                                                 \n",
      " batch_normalization_4 (Batc  (None, 8, 8, 128)        512       \n",
      " hNormalization)                                                 \n",
      "                                                                 \n",
      " conv2d_5 (Conv2D)           (None, 8, 8, 128)         147584    \n",
      "                                                                 \n",
      " batch_normalization_5 (Batc  (None, 8, 8, 128)        512       \n",
      " hNormalization)                                                 \n",
      "                                                                 \n",
      " flatten (Flatten)           (None, 8192)              0         \n",
      "                                                                 \n",
      " dense (Dense)               (None, 64)                524352    \n",
      "                                                                 \n",
      " dropout_2 (Dropout)         (None, 64)                0         \n",
      "                                                                 \n",
      " dense_1 (Dense)             (None, 10)                650       \n",
      "                                                                 \n",
      "=================================================================\n",
      "Total params: 813,802\n",
      "Trainable params: 812,906\n",
      "Non-trainable params: 896\n",
      "_________________________________________________________________\n"
     ]
    }
   ],
   "source": [
    "cnn.summary()"
   ]
  },
  {
   "cell_type": "code",
   "execution_count": 22,
   "id": "47fe8b33",
   "metadata": {},
   "outputs": [],
   "source": [
    "grid_model = KerasClassifier(build_fn=create_model, verbose=1)"
   ]
  },
  {
   "cell_type": "code",
   "execution_count": 23,
   "id": "fcd30e58",
   "metadata": {},
   "outputs": [],
   "source": [
    "batch_size = [16, 32, 64]\n",
    "epochs = [10]\n",
    "param_grid = dict(batch_size=batch_size, epochs=epochs)"
   ]
  },
  {
   "cell_type": "code",
   "execution_count": 24,
   "id": "4d5e6d54",
   "metadata": {
    "scrolled": true
   },
   "outputs": [
    {
     "name": "stdout",
     "output_type": "stream",
     "text": [
      "(50000, 32, 32, 3)\n",
      "(50000,)\n",
      "(10000, 32, 32, 3)\n",
      "(10000,)\n"
     ]
    }
   ],
   "source": [
    "print(train_data.shape)\n",
    "print(train_labels.shape)\n",
    "print(test_data.shape)\n",
    "print(test_labels.shape)"
   ]
  },
  {
   "cell_type": "code",
   "execution_count": 25,
   "id": "4e93ac10",
   "metadata": {
    "scrolled": true
   },
   "outputs": [
    {
     "name": "stdout",
     "output_type": "stream",
     "text": [
      "Epoch 1/20\n",
      "1563/1563 [==============================] - 226s 144ms/step - loss: 1.8690 - accuracy: 0.3506 - val_loss: 1.3264 - val_accuracy: 0.5591\n",
      "Epoch 2/20\n",
      "1563/1563 [==============================] - 235s 151ms/step - loss: 1.4425 - accuracy: 0.5069 - val_loss: 1.1191 - val_accuracy: 0.6280\n",
      "Epoch 3/20\n",
      "1563/1563 [==============================] - 240s 154ms/step - loss: 1.2044 - accuracy: 0.5908 - val_loss: 0.9650 - val_accuracy: 0.6816\n",
      "Epoch 4/20\n",
      "1563/1563 [==============================] - 166s 106ms/step - loss: 1.0491 - accuracy: 0.6446 - val_loss: 0.8590 - val_accuracy: 0.7165\n",
      "Epoch 5/20\n",
      "1563/1563 [==============================] - 173s 111ms/step - loss: 0.9511 - accuracy: 0.6786 - val_loss: 0.8119 - val_accuracy: 0.7404\n",
      "Epoch 6/20\n",
      "1563/1563 [==============================] - 162s 104ms/step - loss: 0.8611 - accuracy: 0.7105 - val_loss: 0.7398 - val_accuracy: 0.7680\n",
      "Epoch 7/20\n",
      "1563/1563 [==============================] - 155s 99ms/step - loss: 0.7897 - accuracy: 0.7342 - val_loss: 0.7233 - val_accuracy: 0.7749\n",
      "Epoch 8/20\n",
      "1563/1563 [==============================] - 154s 99ms/step - loss: 0.7332 - accuracy: 0.7534 - val_loss: 0.6784 - val_accuracy: 0.7888\n",
      "Epoch 9/20\n",
      "1563/1563 [==============================] - 154s 99ms/step - loss: 0.6852 - accuracy: 0.7689 - val_loss: 0.7209 - val_accuracy: 0.7867\n",
      "Epoch 10/20\n",
      "1563/1563 [==============================] - 154s 99ms/step - loss: 0.6437 - accuracy: 0.7851 - val_loss: 0.6992 - val_accuracy: 0.7984\n",
      "Epoch 11/20\n",
      "1563/1563 [==============================] - 154s 98ms/step - loss: 0.6063 - accuracy: 0.7956 - val_loss: 0.6739 - val_accuracy: 0.8053\n",
      "Epoch 12/20\n",
      "1563/1563 [==============================] - 154s 98ms/step - loss: 0.5756 - accuracy: 0.8059 - val_loss: 0.6799 - val_accuracy: 0.8138\n",
      "Epoch 13/20\n",
      "1563/1563 [==============================] - 154s 99ms/step - loss: 0.5431 - accuracy: 0.8177 - val_loss: 0.6451 - val_accuracy: 0.8141\n",
      "Epoch 14/20\n",
      "1563/1563 [==============================] - 164s 105ms/step - loss: 0.5075 - accuracy: 0.8278 - val_loss: 0.6441 - val_accuracy: 0.8164\n",
      "Epoch 15/20\n",
      "1563/1563 [==============================] - 177s 113ms/step - loss: 0.4848 - accuracy: 0.8370 - val_loss: 0.6621 - val_accuracy: 0.8192\n",
      "Epoch 16/20\n",
      "1563/1563 [==============================] - 171s 110ms/step - loss: 0.4647 - accuracy: 0.8419 - val_loss: 0.6406 - val_accuracy: 0.8232\n",
      "Epoch 17/20\n",
      "1563/1563 [==============================] - 169s 108ms/step - loss: 0.4444 - accuracy: 0.8482 - val_loss: 0.6498 - val_accuracy: 0.8252\n",
      "Epoch 18/20\n",
      "1563/1563 [==============================] - 173s 111ms/step - loss: 0.4235 - accuracy: 0.8559 - val_loss: 0.6585 - val_accuracy: 0.8316\n",
      "Epoch 19/20\n",
      "1563/1563 [==============================] - 178s 114ms/step - loss: 0.4027 - accuracy: 0.8640 - val_loss: 0.7041 - val_accuracy: 0.8283\n",
      "Epoch 20/20\n",
      "1563/1563 [==============================] - 184s 118ms/step - loss: 0.3965 - accuracy: 0.8642 - val_loss: 0.6824 - val_accuracy: 0.8295\n"
     ]
    }
   ],
   "source": [
    "history = cnn.fit(train_data, train_labels, epochs=20, batch_size=32, validation_data=(test_data, test_labels))\n",
    "\n",
    "#batch_size=64,\n",
    "#grid = GridSearchCV(estimator=grid_model, param_grid=param_grid, n_jobs=-1, cv=3)\n",
    "#grid_result = grid.fit(train_data, train_labels)"
   ]
  },
  {
   "cell_type": "code",
   "execution_count": 26,
   "id": "712e1a2d",
   "metadata": {},
   "outputs": [
    {
     "data": {
      "text/plain": [
       "<matplotlib.legend.Legend at 0x167a66a9eb0>"
      ]
     },
     "execution_count": 26,
     "metadata": {},
     "output_type": "execute_result"
    },
    {
     "data": {
      "image/png": "[encoded data removed]",
      "text/plain": [
       "<Figure size 432x288 with 1 Axes>"
      ]
     },
     "metadata": {
      "needs_background": "light"
     },
     "output_type": "display_data"
    }
   ],
   "source": [
    "plt.plot(history.history['accuracy'], label='accuracy')\n",
    "plt.plot(history.history['val_accuracy'], label = 'val_accuracy')\n",
    "plt.xlabel('Epoch')\n",
    "plt.ylabel('Accuracy')\n",
    "plt.ylim([0.5, 1])\n",
    "plt.legend(loc='lower right')"
   ]
  },
  {
   "cell_type": "code",
   "execution_count": 27,
   "id": "6dbecfa3",
   "metadata": {},
   "outputs": [
    {
     "data": {
      "text/plain": [
       "<matplotlib.legend.Legend at 0x167a8c27280>"
      ]
     },
     "execution_count": 27,
     "metadata": {},
     "output_type": "execute_result"
    },
    {
     "data": {
      "image/png": "[encoded data removed]",
      "text/plain": [
       "<Figure size 432x288 with 1 Axes>"
      ]
     },
     "metadata": {
      "needs_background": "light"
     },
     "output_type": "display_data"
    }
   ],
   "source": [
    "plt.plot(history.history['loss'], label='loss')\n",
    "plt.plot(history.history['val_loss'], label = 'val_loss')\n",
    "plt.xlabel('Epoch')\n",
    "plt.ylabel('Loss')\n",
    "plt.ylim([0.5, 1])\n",
    "plt.legend(loc='lower right')"
   ]
  },
  {
   "cell_type": "code",
   "execution_count": 28,
   "id": "90bdd2fb",
   "metadata": {},
   "outputs": [
    {
     "name": "stdout",
     "output_type": "stream",
     "text": [
      "1563/1563 - 43s - loss: 0.1539 - accuracy: 0.9454 - 43s/epoch - 28ms/step\n",
      "Accuracy in train set:  0.9453999996185303\n",
      "313/313 - 9s - loss: 0.6824 - accuracy: 0.8295 - 9s/epoch - 28ms/step\n",
      "Accuracy in test set:  0.8295000195503235\n"
     ]
    }
   ],
   "source": [
    "train_loss, train_acc = cnn.evaluate(train_data,  train_labels, verbose=2)\n",
    "print(\"Accuracy in train set: \", train_acc)\n",
    "test_loss, test_acc = cnn.evaluate(test_data,  test_labels, verbose=2)\n",
    "print(\"Accuracy in test set: \", test_acc)"
   ]
  },
  {
   "cell_type": "code",
   "execution_count": null,
   "id": "866bf57b",
   "metadata": {},
   "outputs": [],
   "source": []
  }
 ],
 "metadata": {
  "kernelspec": {
   "display_name": "Python 3 (ipykernel)",
   "language": "python",
   "name": "python3"
  },
  "language_info": {
   "codemirror_mode": {
    "name": "ipython",
    "version": 3
   },
   "file_extension": ".py",
   "mimetype": "text/x-python",
   "name": "python",
   "nbconvert_exporter": "python",
   "pygments_lexer": "ipython3",
   "version": "3.9.7"
  }
 },
 "nbformat": 4,
 "nbformat_minor": 5
}
