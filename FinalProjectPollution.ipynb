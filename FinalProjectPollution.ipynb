{
 "cells": [
  {
   "cell_type": "code",
   "execution_count": 1,
   "id": "9b2b8429",
   "metadata": {},
   "outputs": [],
   "source": [
    "import pyreadr\n",
    "import pandas as pd\n",
    "import seaborn as sns\n",
    "import matplotlib.pyplot as plt\n",
    "\n",
    "result = pyreadr.read_r(r\"G:\\Spring2022\\CS 415\\Final Project\\AirPolution\\chicago.rds\") # also works for RData\n",
    "\n",
    "# done! \n",
    "# result is a dictionary where keys are the name of objects and the values python\n",
    "# objects. In the case of Rds there is only one object with None as key\n",
    "df = result[None] # extract the pandas data frame "
   ]
  },
  {
   "cell_type": "code",
   "execution_count": null,
   "id": "5a9191d8",
   "metadata": {},
   "outputs": [],
   "source": [
    "#About this file\n",
    "#Columns details are as follows:\n",
    "\n",
    "#death\n",
    "#total deaths (per day).\n",
    "\n",
    "#pm10median\n",
    "#median particles in 2.5-10 per cubic m\n",
    "\n",
    "#pm25median\n",
    "#median particles < 2.5 mg per cubic m (more dangerous).\n",
    "\n",
    "#o3median\n",
    "#Ozone in parts per billion\n",
    "\n",
    "#so2median\n",
    "#Median Sulpher dioxide measurement\n",
    "\n",
    "#time\n",
    "#time in days\n",
    "\n",
    "#tmpd\n",
    "#temperature in fahrenheit"
   ]
  },
  {
   "cell_type": "code",
   "execution_count": 2,
   "id": "72ddd2cc",
   "metadata": {},
   "outputs": [
    {
     "data": {
      "text/html": [
       "<div>\n",
       "<style scoped>\n",
       "    .dataframe tbody tr th:only-of-type {\n",
       "        vertical-align: middle;\n",
       "    }\n",
       "\n",
       "    .dataframe tbody tr th {\n",
       "        vertical-align: top;\n",
       "    }\n",
       "\n",
       "    .dataframe thead th {\n",
       "        text-align: right;\n",
       "    }\n",
       "</style>\n",
       "<table border=\"1\" class=\"dataframe\">\n",
       "  <thead>\n",
       "    <tr style=\"text-align: right;\">\n",
       "      <th></th>\n",
       "      <th>city</th>\n",
       "      <th>tmpd</th>\n",
       "      <th>dptp</th>\n",
       "      <th>date</th>\n",
       "      <th>pm25tmean2</th>\n",
       "      <th>pm10tmean2</th>\n",
       "      <th>o3tmean2</th>\n",
       "      <th>no2tmean2</th>\n",
       "    </tr>\n",
       "  </thead>\n",
       "  <tbody>\n",
       "    <tr>\n",
       "      <th>0</th>\n",
       "      <td>chic</td>\n",
       "      <td>31.5</td>\n",
       "      <td>31.500</td>\n",
       "      <td>1987-01-01</td>\n",
       "      <td>NaN</td>\n",
       "      <td>34.000000</td>\n",
       "      <td>4.250000</td>\n",
       "      <td>19.988095</td>\n",
       "    </tr>\n",
       "    <tr>\n",
       "      <th>1</th>\n",
       "      <td>chic</td>\n",
       "      <td>33.0</td>\n",
       "      <td>29.875</td>\n",
       "      <td>1987-01-02</td>\n",
       "      <td>NaN</td>\n",
       "      <td>NaN</td>\n",
       "      <td>3.304348</td>\n",
       "      <td>23.190994</td>\n",
       "    </tr>\n",
       "    <tr>\n",
       "      <th>2</th>\n",
       "      <td>chic</td>\n",
       "      <td>33.0</td>\n",
       "      <td>27.375</td>\n",
       "      <td>1987-01-03</td>\n",
       "      <td>NaN</td>\n",
       "      <td>34.166667</td>\n",
       "      <td>3.333333</td>\n",
       "      <td>23.815476</td>\n",
       "    </tr>\n",
       "    <tr>\n",
       "      <th>3</th>\n",
       "      <td>chic</td>\n",
       "      <td>29.0</td>\n",
       "      <td>28.625</td>\n",
       "      <td>1987-01-04</td>\n",
       "      <td>NaN</td>\n",
       "      <td>47.000000</td>\n",
       "      <td>4.375000</td>\n",
       "      <td>30.434524</td>\n",
       "    </tr>\n",
       "    <tr>\n",
       "      <th>4</th>\n",
       "      <td>chic</td>\n",
       "      <td>32.0</td>\n",
       "      <td>28.875</td>\n",
       "      <td>1987-01-05</td>\n",
       "      <td>NaN</td>\n",
       "      <td>NaN</td>\n",
       "      <td>4.750000</td>\n",
       "      <td>30.333333</td>\n",
       "    </tr>\n",
       "  </tbody>\n",
       "</table>\n",
       "</div>"
      ],
      "text/plain": [
       "   city  tmpd    dptp        date  pm25tmean2  pm10tmean2  o3tmean2  no2tmean2\n",
       "0  chic  31.5  31.500  1987-01-01         NaN   34.000000  4.250000  19.988095\n",
       "1  chic  33.0  29.875  1987-01-02         NaN         NaN  3.304348  23.190994\n",
       "2  chic  33.0  27.375  1987-01-03         NaN   34.166667  3.333333  23.815476\n",
       "3  chic  29.0  28.625  1987-01-04         NaN   47.000000  4.375000  30.434524\n",
       "4  chic  32.0  28.875  1987-01-05         NaN         NaN  4.750000  30.333333"
      ]
     },
     "execution_count": 2,
     "metadata": {},
     "output_type": "execute_result"
    }
   ],
   "source": [
    "df.head()"
   ]
  },
  {
   "cell_type": "code",
   "execution_count": 4,
   "id": "80488ae1",
   "metadata": {},
   "outputs": [
    {
     "data": {
      "text/plain": [
       "<seaborn.axisgrid.FacetGrid at 0x1646c2e5bb0>"
      ]
     },
     "execution_count": 4,
     "metadata": {},
     "output_type": "execute_result"
    },
    {
     "data": {
      "text/plain": [
       "<Figure size 720x432 with 0 Axes>"
      ]
     },
     "metadata": {},
     "output_type": "display_data"
    },
    {
     "data": {
      "image/png": "[encoded data removed]",
      "text/plain": [
       "<Figure size 511.25x360 with 1 Axes>"
      ]
     },
     "metadata": {
      "needs_background": "light"
     },
     "output_type": "display_data"
    }
   ],
   "source": [
    "plt.figure(figsize=(10,6))\n",
    "sns.displot(\n",
    "    data=df.isna().melt(value_name=\"missing\"),\n",
    "    y=\"variable\",\n",
    "    hue=\"missing\",\n",
    "    multiple=\"fill\",\n",
    "    aspect=1.25\n",
    ")"
   ]
  },
  {
   "cell_type": "code",
   "execution_count": 5,
   "id": "ecda779b",
   "metadata": {},
   "outputs": [
    {
     "data": {
      "text/plain": [
       "<AxesSubplot:>"
      ]
     },
     "execution_count": 5,
     "metadata": {},
     "output_type": "execute_result"
    },
    {
     "data": {
      "image/png": "[encoded data removed]",
      "text/plain": [
       "<Figure size 720x432 with 2 Axes>"
      ]
     },
     "metadata": {
      "needs_background": "light"
     },
     "output_type": "display_data"
    }
   ],
   "source": [
    "plt.figure(figsize=(10,6))\n",
    "sns.heatmap(df.isna().transpose(),\n",
    "            cmap=\"YlGnBu\",\n",
    "            cbar_kws={'label': 'Missing Data'})"
   ]
  },
  {
   "cell_type": "code",
   "execution_count": null,
   "id": "b22ff67f",
   "metadata": {},
   "outputs": [],
   "source": []
  }
 ],
 "metadata": {
  "kernelspec": {
   "display_name": "Python 3 (ipykernel)",
   "language": "python",
   "name": "python3"
  },
  "language_info": {
   "codemirror_mode": {
    "name": "ipython",
    "version": 3
   },
   "file_extension": ".py",
   "mimetype": "text/x-python",
   "name": "python",
   "nbconvert_exporter": "python",
   "pygments_lexer": "ipython3",
   "version": "3.9.7"
  }
 },
 "nbformat": 4,
 "nbformat_minor": 5
}
