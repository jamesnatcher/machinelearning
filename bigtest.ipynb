{
 "cells": [
  {
   "cell_type": "code",
   "execution_count": 4,
   "metadata": {},
   "outputs": [
    {
     "ename": "ModuleNotFoundError",
     "evalue": "No module named 'pandas'",
     "output_type": "error",
     "traceback": [
      "\u001b[1;31m---------------------------------------------------------------------------\u001b[0m",
      "\u001b[1;31mModuleNotFoundError\u001b[0m                       Traceback (most recent call last)",
      "\u001b[1;32mc:\\Users\\James\\machinelearning\\bigtest.ipynb Cell 1'\u001b[0m in \u001b[0;36m<module>\u001b[1;34m\u001b[0m\n\u001b[0;32m      <a href='vscode-notebook-cell:/c%3A/Users/James/machinelearning/bigtest.ipynb#ch0000000?line=0'>1</a>\u001b[0m \u001b[39mimport\u001b[39;00m \u001b[39mos\u001b[39;00m\n\u001b[1;32m----> <a href='vscode-notebook-cell:/c%3A/Users/James/machinelearning/bigtest.ipynb#ch0000000?line=1'>2</a>\u001b[0m \u001b[39mimport\u001b[39;00m \u001b[39mpandas\u001b[39;00m \u001b[39mas\u001b[39;00m \u001b[39mpd\u001b[39;00m\n\u001b[0;32m      <a href='vscode-notebook-cell:/c%3A/Users/James/machinelearning/bigtest.ipynb#ch0000000?line=2'>3</a>\u001b[0m \u001b[39mimport\u001b[39;00m \u001b[39mnumpy\u001b[39;00m \u001b[39mas\u001b[39;00m \u001b[39mnp\u001b[39;00m\n\u001b[0;32m      <a href='vscode-notebook-cell:/c%3A/Users/James/machinelearning/bigtest.ipynb#ch0000000?line=3'>4</a>\u001b[0m \u001b[39mimport\u001b[39;00m \u001b[39mrandom\u001b[39;00m\n",
      "\u001b[1;31mModuleNotFoundError\u001b[0m: No module named 'pandas'"
     ]
    }
   ],
   "source": [
    "import os\n",
    "import pandas as pd\n",
    "import numpy as np\n",
    "import random\n",
    "from sklearn.pipeline import Pipeline\n",
    "from scipy.stats import uniform\n",
    "\n",
    "# for text pre-processing\n",
    "import string\n",
    "import re\n",
    "import nltk\n",
    "from nltk.stem import WordNetLemmatizer\n",
    "from nltk.tokenize import word_tokenize\n",
    "\n",
    "wordnet_lemmatizer = WordNetLemmatizer()\n",
    "string.punctuation\n",
    "nltk.download('stopwords')\n",
    "nltk.download('wordnet')\n",
    "nltk.download('punkt')\n",
    "stopwords = nltk.corpus.stopwords.words('english')\n",
    "\n",
    "# for model-building\n",
    "from sklearn.linear_model import LogisticRegression\n",
    "from sklearn.naive_bayes import MultinomialNB\n",
    "from sklearn.metrics import classification_report, f1_score, accuracy_score, confusion_matrix\n",
    "from sklearn.metrics import roc_curve, auc, roc_auc_score\n",
    "from sklearn.model_selection import GridSearchCV\n",
    "from sklearn.model_selection import RandomizedSearchCV\n",
    "\n",
    "# bag of words\n",
    "from sklearn.feature_extraction.text import TfidfVectorizer\n",
    "from sklearn.feature_extraction.text import CountVectorizer\n",
    "from sklearn.feature_extraction.text import TfidfTransformer\n",
    "\n",
    "# visualizers\n",
    "import seaborn as sns\n",
    "import matplotlib.pyplot as plt \n",
    "\n",
    "#Change the path to input data to which ever folder contains test and datasets.\n",
    "trainpath = r\"C:\\Users\\James\\machinelearning\\Datasets\\20news-bydate-txt-true\\20news-bydate-train\"\n",
    "testpath = r\"C:\\Users\\James\\machinelearning\\Datasets\\20news-bydate-txt-true\\20news-bydate-test\"\n",
    "\n",
    "os.chdir(trainpath)\n",
    "\n",
    "rawtrain = []\n",
    "rawtest = []\n",
    "\n",
    "directory_contents = os.listdir(trainpath)\n",
    "print(directory_contents)"
   ]
  },
  {
   "cell_type": "code",
   "execution_count": null,
   "metadata": {},
   "outputs": [],
   "source": [
    "def pullTrainSet():\n",
    "    for foldername in directory_contents:\n",
    "        currentdirectory = trainpath + r\"\\\\\" + foldername\n",
    "        os.chdir(currentdirectory)\n",
    "        for filename in os.listdir(os.getcwd()):\n",
    "            with open(os.path.join(os.getcwd(), filename), 'r') as f: # open in readonly mode\n",
    "                categoryandtexts = []\n",
    "                categoryandtexts.append(foldername)\n",
    "                categoryandtexts.append(f.read())\n",
    "                rawtrain.append(categoryandtexts)"
   ]
  },
  {
   "cell_type": "code",
   "execution_count": null,
   "metadata": {},
   "outputs": [],
   "source": [
    "def pullTestSet():\n",
    "    for foldername in directory_contents:\n",
    "        currentdirectory = testpath + r\"\\\\\" + foldername\n",
    "        os.chdir(currentdirectory)\n",
    "        for filename in os.listdir(os.getcwd()):\n",
    "            with open(os.path.join(os.getcwd(), filename), 'r') as f: # open in readonly mode\n",
    "                categoryandtexts = []\n",
    "                categoryandtexts.append(foldername)\n",
    "                categoryandtexts.append(f.read())\n",
    "                rawtest.append(categoryandtexts)"
   ]
  },
  {
   "cell_type": "code",
   "execution_count": null,
   "metadata": {},
   "outputs": [],
   "source": [
    "pullTrainSet()\n",
    "pullTestSet()\n",
    "random.shuffle(rawtrain)\n",
    "random.shuffle(rawtest)"
   ]
  },
  {
   "cell_type": "code",
   "execution_count": null,
   "metadata": {},
   "outputs": [],
   "source": [
    "def remove_punctuation(text):\n",
    "    punctuationfree=\"\".join([i for i in text if i not in string.punctuation])\n",
    "    return punctuationfree\n",
    "\n",
    "#lower capitalization (built in)\n",
    "\n",
    "def tokenization(text):\n",
    "    tokens = text.split()\n",
    "    return tokens\n",
    "\n",
    "def nltk_tokenization(text):\n",
    "    token_text = nltk.word_tokenize(text)\n",
    "    return token_text\n",
    "    \n",
    "def remove_stopwords(text):\n",
    "    output = [i for i in text if i not in stopwords]\n",
    "    return output\n",
    "\n",
    "def lemmatizer(text):\n",
    "    lemm_text = [wordnet_lemmatizer.lemmatize(word) for word in text]\n",
    "    return lemm_text\n",
    "\n",
    "def processDataframe(df):\n",
    "    df['clean_msg'] = df['Text'].apply(lambda x: remove_punctuation(x))\n",
    "    df['msg_lower'] = df['clean_msg'].apply(lambda x: x.lower())\n",
    "    df['tokenized'] = df['msg_lower'].apply(lambda x: tokenization(x))\n",
    "    df['nltk_tokenized'] = df['msg_lower'].apply(lambda x: nltk_tokenization(x))\n",
    "    df['no_stopwords'] = df['nltk_tokenized'].apply(lambda x:remove_stopwords(x))\n",
    "    df['Post-processed Text'] = df['no_stopwords'].apply(lambda x:lemmatizer(x))\n",
    "    droppedDF = df.drop([\"Text\", \"clean_msg\", \"msg_lower\", \"msg_lower\", \"tokenized\", \"nltk_tokenized\", \"no_stopwords\"], axis=1)\n",
    "    return droppedDF"
   ]
  },
  {
   "cell_type": "code",
   "execution_count": null,
   "metadata": {},
   "outputs": [],
   "source": [
    "trainDF = pd.DataFrame(rawtrain, columns=['Category','Text'])\n",
    "testDF = pd.DataFrame(rawtest, columns=['Category','Text'])"
   ]
  },
  {
   "cell_type": "code",
   "execution_count": null,
   "metadata": {},
   "outputs": [],
   "source": [
    "vectorizer = TfidfVectorizer()\n",
    "tfid_vect_train_vectors = vectorizer.fit_transform(trainDF['Text'])\n",
    "tfid_vect_test_vectors = vectorizer.transform(testDF['Text'])\n",
    "\n",
    "mNB_pipeline = Pipeline([\n",
    "    ('vect', TfidfVectorizer()),\n",
    "    ('clf', MultinomialNB()),\n",
    "    \n",
    "])\n",
    "\n",
    "lr_pipeline = Pipeline([\n",
    "    ('vect', TfidfVectorizer()),\n",
    "    ('lr', LogisticRegression()),\n",
    "    \n",
    "])\n",
    "\n",
    "vectorizer.get_feature_names_out()"
   ]
  }
 ],
 "metadata": {
  "interpreter": {
   "hash": "ab13b09289931cd78b7b15399869fb31e33ed0107cb5b17a29a555f464af3d1c"
  },
  "kernelspec": {
   "display_name": "Python 3.9.5 ('base')",
   "language": "python",
   "name": "python3"
  },
  "language_info": {
   "codemirror_mode": {
    "name": "ipython",
    "version": 3
   },
   "file_extension": ".py",
   "mimetype": "text/x-python",
   "name": "python",
   "nbconvert_exporter": "python",
   "pygments_lexer": "ipython3",
   "version": "3.9.5"
  },
  "orig_nbformat": 4
 },
 "nbformat": 4,
 "nbformat_minor": 2
}
