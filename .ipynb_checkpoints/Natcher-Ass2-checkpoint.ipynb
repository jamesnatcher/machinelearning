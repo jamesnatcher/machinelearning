{
 "cells": [
  {
   "cell_type": "code",
   "execution_count": 1,
   "id": "1b48ff17",
   "metadata": {
    "scrolled": true
   },
   "outputs": [
    {
     "name": "stderr",
     "output_type": "stream",
     "text": [
      "[nltk_data] Downloading package stopwords to\n",
      "[nltk_data]     C:\\Users\\James\\AppData\\Roaming\\nltk_data...\n",
      "[nltk_data]   Package stopwords is already up-to-date!\n",
      "[nltk_data] Downloading package wordnet to\n",
      "[nltk_data]     C:\\Users\\James\\AppData\\Roaming\\nltk_data...\n",
      "[nltk_data]   Package wordnet is already up-to-date!\n",
      "[nltk_data] Downloading package punkt to\n",
      "[nltk_data]     C:\\Users\\James\\AppData\\Roaming\\nltk_data...\n",
      "[nltk_data]   Package punkt is already up-to-date!\n"
     ]
    },
    {
     "name": "stdout",
     "output_type": "stream",
     "text": [
      "['alt.atheism', 'comp.graphics', 'comp.os.ms-windows.misc', 'comp.sys.ibm.pc.hardware', 'comp.sys.mac.hardware', 'comp.windows.x', 'misc.forsale', 'rec.autos', 'rec.motorcycles', 'rec.sport.baseball', 'rec.sport.hockey', 'sci.crypt', 'sci.electronics', 'sci.med', 'sci.space', 'soc.religion.christian', 'talk.politics.guns', 'talk.politics.mideast', 'talk.politics.misc', 'talk.religion.misc']\n"
     ]
    }
   ],
   "source": [
    "import os\n",
    "import pandas as pd\n",
    "import numpy as np\n",
    "import random\n",
    "from sklearn.pipeline import Pipeline\n",
    "from scipy.stats import uniform\n",
    "\n",
    "# for text pre-processing\n",
    "import string\n",
    "import re\n",
    "import nltk\n",
    "from nltk.stem import WordNetLemmatizer\n",
    "from nltk.tokenize import word_tokenize\n",
    "from sklearn.feature_extraction import text\n",
    "\n",
    "wordnet_lemmatizer = WordNetLemmatizer()\n",
    "string.punctuation\n",
    "nltk.download('stopwords')\n",
    "nltk.download('wordnet')\n",
    "nltk.download('punkt')\n",
    "stopwords = nltk.corpus.stopwords.words('english')\n",
    "stopwords.extend(x for x in text.ENGLISH_STOP_WORDS if x not in stopwords)\n",
    "stopwords.extend([\"edu\", \"uk\", \"com\"])\n",
    "\n",
    "# for model-building\n",
    "from sklearn.linear_model import LogisticRegression\n",
    "from sklearn.naive_bayes import MultinomialNB\n",
    "from sklearn.metrics import classification_report, f1_score, accuracy_score, confusion_matrix\n",
    "from sklearn.metrics import roc_curve, auc, roc_auc_score\n",
    "from sklearn.model_selection import GridSearchCV\n",
    "from sklearn.model_selection import RandomizedSearchCV\n",
    "\n",
    "# bag of words\n",
    "from sklearn.feature_extraction.text import TfidfVectorizer\n",
    "from sklearn.feature_extraction.text import CountVectorizer\n",
    "from sklearn.feature_extraction.text import TfidfTransformer\n",
    "\n",
    "# visualizers\n",
    "import seaborn as sns\n",
    "import matplotlib.pyplot as plt \n",
    "\n",
    "#Change the path to input data to which ever folder contains test and datasets.\n",
    "trainpath = r\"C:\\Users\\James\\machinelearning\\Datasets\\20news-bydate-txt-true\\20news-bydate-train\"\n",
    "testpath = r\"C:\\Users\\James\\machinelearning\\Datasets\\20news-bydate-txt-true\\20news-bydate-test\"\n",
    "\n",
    "os.chdir(trainpath)\n",
    "\n",
    "rawtrain = []\n",
    "rawtest = []\n",
    "\n",
    "directory_contents = os.listdir(trainpath)\n",
    "print(directory_contents)"
   ]
  },
  {
   "cell_type": "code",
   "execution_count": 2,
   "id": "57748c63",
   "metadata": {},
   "outputs": [],
   "source": [
    "def pullTrainSet():\n",
    "    for foldername in directory_contents:\n",
    "        currentdirectory = trainpath + r\"\\\\\" + foldername\n",
    "        os.chdir(currentdirectory)\n",
    "        for filename in os.listdir(os.getcwd()):\n",
    "            with open(os.path.join(os.getcwd(), filename), 'r') as f: # open in readonly mode\n",
    "                categoryandtexts = []\n",
    "                categoryandtexts.append(foldername)\n",
    "                categoryandtexts.append(f.read())\n",
    "                rawtrain.append(categoryandtexts)"
   ]
  },
  {
   "cell_type": "code",
   "execution_count": 3,
   "id": "7b67aa3a",
   "metadata": {},
   "outputs": [],
   "source": [
    "def pullTestSet():\n",
    "    for foldername in directory_contents:\n",
    "        currentdirectory = testpath + r\"\\\\\" + foldername\n",
    "        os.chdir(currentdirectory)\n",
    "        for filename in os.listdir(os.getcwd()):\n",
    "            with open(os.path.join(os.getcwd(), filename), 'r') as f: # open in readonly mode\n",
    "                categoryandtexts = []\n",
    "                categoryandtexts.append(foldername)\n",
    "                categoryandtexts.append(f.read())\n",
    "                rawtest.append(categoryandtexts)"
   ]
  },
  {
   "cell_type": "code",
   "execution_count": 4,
   "id": "b8cc5e74",
   "metadata": {},
   "outputs": [],
   "source": [
    "pullTrainSet()\n",
    "pullTestSet()\n",
    "random.shuffle(rawtrain)\n",
    "random.shuffle(rawtest)"
   ]
  },
  {
   "cell_type": "code",
   "execution_count": 5,
   "id": "c9aa1802",
   "metadata": {},
   "outputs": [],
   "source": [
    "def remove_punctuation(text):\n",
    "    punctuationfree=\"\".join([i for i in text if i not in string.punctuation])\n",
    "    return punctuationfree\n",
    "\n",
    "#lower capitalization (built in)\n",
    "\n",
    "def tokenization(text):\n",
    "    tokens = text.split()\n",
    "    return tokens\n",
    "\n",
    "def nltk_tokenization(text):\n",
    "    token_text = nltk.word_tokenize(text)\n",
    "    return token_text\n",
    "    \n",
    "def remove_stopwords(text):\n",
    "    output = [i for i in text if i not in stopwords]\n",
    "    return output\n",
    "\n",
    "def lemmatizer(text):\n",
    "    lemm_text = [wordnet_lemmatizer.lemmatize(word) for word in text]\n",
    "    return lemm_text"
   ]
  },
  {
   "cell_type": "code",
   "execution_count": 6,
   "id": "ae437b8a",
   "metadata": {},
   "outputs": [],
   "source": [
    "def processDataframe(df):\n",
    "    df['clean_msg'] = df['Text'].apply(lambda x: remove_punctuation(x))\n",
    "    df['msg_lower'] = df['clean_msg'].apply(lambda x: x.lower())\n",
    "    df['tokenized'] = df['msg_lower'].apply(lambda x: tokenization(x))\n",
    "    df['nltk_tokenized'] = df['msg_lower'].apply(lambda x: nltk_tokenization(x))\n",
    "    df['no_stopwords'] = df['nltk_tokenized'].apply(lambda x:remove_stopwords(x))\n",
    "    df['Post-processed Text'] = df['no_stopwords'].apply(lambda x:lemmatizer(x))\n",
    "    droppedDF = df.drop([\"Text\", \"clean_msg\", \"msg_lower\", \"msg_lower\", \"tokenized\", \"nltk_tokenized\", \"no_stopwords\"], axis=1)\n",
    "    return droppedDF"
   ]
  },
  {
   "cell_type": "code",
   "execution_count": 5,
   "id": "501f23ba",
   "metadata": {},
   "outputs": [],
   "source": [
    "#Conversion of data into a DataFrame\n",
    "\n",
    "trainDF = pd.DataFrame(rawtrain, columns=['Category','Text'])\n",
    "testDF = pd.DataFrame(rawtest, columns=['Category','Text'])"
   ]
  },
  {
   "cell_type": "code",
   "execution_count": 8,
   "id": "0494d60c",
   "metadata": {},
   "outputs": [
    {
     "name": "stdout",
     "output_type": "stream",
     "text": [
      "rec.sport.hockey            600\n",
      "soc.religion.christian      599\n",
      "rec.motorcycles             598\n",
      "rec.sport.baseball          597\n",
      "sci.crypt                   595\n",
      "rec.autos                   594\n",
      "sci.med                     594\n",
      "comp.windows.x              593\n",
      "sci.space                   593\n",
      "sci.electronics             591\n",
      "comp.os.ms-windows.misc     591\n",
      "comp.sys.ibm.pc.hardware    590\n",
      "misc.forsale                585\n",
      "comp.graphics               584\n",
      "comp.sys.mac.hardware       578\n",
      "talk.politics.mideast       564\n",
      "talk.politics.guns          546\n",
      "alt.atheism                 480\n",
      "talk.politics.misc          465\n",
      "talk.religion.misc          377\n",
      "Name: Category, dtype: int64\n"
     ]
    },
    {
     "data": {
      "image/png": "[encoded data removed]",
      "text/plain": [
       "<Figure size 1440x720 with 1 Axes>"
      ]
     },
     "metadata": {
      "needs_background": "light"
     },
     "output_type": "display_data"
    }
   ],
   "source": [
    "categorytable = trainDF['Category'].value_counts()\n",
    "print(categorytable)\n",
    "plt.figure(figsize = (20,10))\n",
    "sns.barplot(x=categorytable.index, y=categorytable)\n",
    "plt.xticks(rotation=90)\n",
    "plt.show()"
   ]
  },
  {
   "cell_type": "code",
   "execution_count": 9,
   "id": "0249839a",
   "metadata": {},
   "outputs": [
    {
     "name": "stdout",
     "output_type": "stream",
     "text": [
      "rec.sport.hockey            399\n",
      "soc.religion.christian      398\n",
      "rec.motorcycles             398\n",
      "rec.sport.baseball          397\n",
      "rec.autos                   396\n",
      "sci.med                     396\n",
      "sci.crypt                   396\n",
      "comp.windows.x              395\n",
      "sci.space                   394\n",
      "comp.os.ms-windows.misc     394\n",
      "sci.electronics             393\n",
      "comp.sys.ibm.pc.hardware    392\n",
      "misc.forsale                390\n",
      "comp.graphics               389\n",
      "comp.sys.mac.hardware       385\n",
      "talk.politics.mideast       376\n",
      "talk.politics.guns          364\n",
      "alt.atheism                 319\n",
      "talk.politics.misc          310\n",
      "talk.religion.misc          251\n",
      "Name: Category, dtype: int64\n"
     ]
    },
    {
     "data": {
      "image/png": "[encoded data removed]",
      "text/plain": [
       "<Figure size 1440x720 with 1 Axes>"
      ]
     },
     "metadata": {
      "needs_background": "light"
     },
     "output_type": "display_data"
    }
   ],
   "source": [
    "categorytable_test = testDF['Category'].value_counts()\n",
    "print(categorytable_test)\n",
    "plt.figure(figsize = (20,10))\n",
    "sns.barplot(x=categorytable_test.index, y=categorytable_test)\n",
    "plt.xticks(rotation=90)\n",
    "plt.show()"
   ]
  },
  {
   "cell_type": "code",
   "execution_count": 10,
   "id": "8751079e",
   "metadata": {},
   "outputs": [
    {
     "name": "stdout",
     "output_type": "stream",
     "text": [
      "rec.sport.hockey            0.052974\n",
      "soc.religion.christian      0.052841\n",
      "rec.motorcycles             0.052841\n",
      "rec.sport.baseball          0.052708\n",
      "rec.autos                   0.052576\n",
      "sci.med                     0.052576\n",
      "sci.crypt                   0.052576\n",
      "comp.windows.x              0.052443\n",
      "sci.space                   0.052310\n",
      "comp.os.ms-windows.misc     0.052310\n",
      "sci.electronics             0.052177\n",
      "comp.sys.ibm.pc.hardware    0.052045\n",
      "misc.forsale                0.051779\n",
      "comp.graphics               0.051646\n",
      "comp.sys.mac.hardware       0.051115\n",
      "talk.politics.mideast       0.049920\n",
      "talk.politics.guns          0.048327\n",
      "alt.atheism                 0.042353\n",
      "talk.politics.misc          0.041158\n",
      "talk.religion.misc          0.033324\n",
      "Name: Category, dtype: float64\n"
     ]
    }
   ],
   "source": [
    "print(categorytable_test/sum(categorytable_test))"
   ]
  },
  {
   "cell_type": "code",
   "execution_count": 12,
   "id": "6bbe995e",
   "metadata": {},
   "outputs": [
    {
     "name": "stdout",
     "output_type": "stream",
     "text": [
      "rec.sport.hockey            0.053032\n",
      "soc.religion.christian      0.052943\n",
      "rec.motorcycles             0.052855\n",
      "rec.sport.baseball          0.052766\n",
      "sci.crypt                   0.052590\n",
      "rec.autos                   0.052501\n",
      "sci.med                     0.052501\n",
      "comp.windows.x              0.052413\n",
      "sci.space                   0.052413\n",
      "sci.electronics             0.052236\n",
      "comp.os.ms-windows.misc     0.052236\n",
      "comp.sys.ibm.pc.hardware    0.052148\n",
      "misc.forsale                0.051706\n",
      "comp.graphics               0.051617\n",
      "comp.sys.mac.hardware       0.051087\n",
      "talk.politics.mideast       0.049850\n",
      "talk.politics.guns          0.048259\n",
      "alt.atheism                 0.042425\n",
      "talk.politics.misc          0.041100\n",
      "talk.religion.misc          0.033322\n",
      "Name: Category, dtype: float64\n"
     ]
    }
   ],
   "source": [
    "print(categorytable/sum(categorytable))"
   ]
  },
  {
   "cell_type": "code",
   "execution_count": 6,
   "id": "1f6943c0",
   "metadata": {},
   "outputs": [
    {
     "data": {
      "text/plain": [
       "81425"
      ]
     },
     "execution_count": 6,
     "metadata": {},
     "output_type": "execute_result"
    }
   ],
   "source": [
    "#user_processedTrainDF = processDataframe(trainDF)\n",
    "#user_processedTestDF = processDataframe(testDF)\n",
    "#tf_transformer = TfidfTransformer(use_idf=False).fit(user_processedTrainDF['Post-processed Text'])\n",
    "#user_processed_train_set = tf_transformer.transform(user_processedTrainDF['Post-processed Text'])\n",
    "#user_processed_test_set = tf_transformer.transform(processedTestDF['Post-processed Text'])\n",
    "\n",
    "\n",
    "#count_vect = CountVectorizer()\n",
    "#count_vect_train_set = count_vect.fit_transform(trainDF['Text'])\n",
    "#count_vect_test_set = count_vect.transform(testDF['Text'])\n",
    "\n",
    "#tf_transformer = TfidfTransformer(use_idf=False).fit(count_vect_train_set)\n",
    "#tf_processed_train_set = tf_transformer.transform(count_vect_train_set)\n",
    "#tf_processed_test_set = tf_transformer.transform(count_vect_test_set)\n",
    "\n",
    "vectorizer = TfidfVectorizer(stop_words=stopwords, token_pattern=r'(?u)\\b[A-Za-z]+\\b')\n",
    "tfid_vect_train_vectors = vectorizer.fit_transform(trainDF['Text'])\n",
    "tfid_vect_test_vectors = vectorizer.transform(testDF['Text'])\n",
    "\n",
    "mNB_pipeline = Pipeline([\n",
    "    ('vect', TfidfVectorizer(stop_words=stopwords, token_pattern=r'(?u)\\b[A-Za-z]+\\b')),\n",
    "    ('clf', MultinomialNB()),\n",
    "    \n",
    "])\n",
    "\n",
    "lr_pipeline = Pipeline([\n",
    "    ('vect', TfidfVectorizer(stop_words=stopwords, token_pattern=r'(?u)\\b[A-Za-z]+\\b')),\n",
    "    ('lr', LogisticRegression()),\n",
    "    \n",
    "])\n",
    "\n",
    "len(vectorizer.get_feature_names_out())"
   ]
  },
  {
   "cell_type": "code",
   "execution_count": 7,
   "id": "ab397d7a",
   "metadata": {},
   "outputs": [],
   "source": [
    "#print(tf_processed_train_set.shape, tf_processed_test_set.shape)\n",
    "#print(tfid_vect_train_vectors.shape, tfid_vect_test_vectors.shape)"
   ]
  },
  {
   "cell_type": "code",
   "execution_count": 84,
   "id": "197785b9",
   "metadata": {},
   "outputs": [],
   "source": [
    "# 4-fun Visual representation of most common words in a given text\n",
    "\n",
    "#frequency_dist = nltk.FreqDist(processedDF['Post-processed Text'][0])\n",
    "\n",
    "#sorted(frequency_dist,key=frequency_dist.__getitem__, reverse=True)[0:50]\n",
    "\n",
    "#from wordcloud import WordCloud\n",
    "#import matplotlib.pyplot as plt\n",
    "#wordcloud = WordCloud()\n",
    "#wordcloud.generate_from_frequencies(frequency_dist)\n",
    "#plt.imshow(wordcloud)\n",
    "#plt.axis(\"off\")\n",
    "#plt.show()"
   ]
  },
  {
   "cell_type": "code",
   "execution_count": 8,
   "id": "681ed79e",
   "metadata": {},
   "outputs": [],
   "source": [
    "#Training a basic classifier for multinomial models\n",
    "\n",
    "# No pipeline\n",
    "default_clf = MultinomialNB().fit(tfid_vect_train_vectors, trainDF['Category'])\n",
    "predicted = default_clf.predict(tfid_vect_test_vectors)\n",
    "\n",
    "# Pipeline\n",
    "mNB_pipeline.fit(trainDF['Text'], trainDF['Category'])\n",
    "pipeline_predicted = mNB_pipeline.predict(testDF['Text'])"
   ]
  },
  {
   "cell_type": "code",
   "execution_count": 9,
   "id": "06330fa7",
   "metadata": {},
   "outputs": [
    {
     "data": {
      "text/plain": [
       "0.8167817312798725"
      ]
     },
     "execution_count": 9,
     "metadata": {},
     "output_type": "execute_result"
    }
   ],
   "source": [
    "np.mean(predicted == testDF['Category'])"
   ]
  },
  {
   "cell_type": "code",
   "execution_count": 10,
   "id": "22a10ec1",
   "metadata": {},
   "outputs": [
    {
     "data": {
      "text/plain": [
       "0.8167817312798725"
      ]
     },
     "execution_count": 10,
     "metadata": {},
     "output_type": "execute_result"
    }
   ],
   "source": [
    "np.mean(pipeline_predicted == testDF['Category'])"
   ]
  },
  {
   "cell_type": "code",
   "execution_count": 11,
   "id": "59cd4e24",
   "metadata": {},
   "outputs": [
    {
     "name": "stdout",
     "output_type": "stream",
     "text": [
      "0.8167817312798725\n"
     ]
    }
   ],
   "source": [
    "print(accuracy_score(testDF['Category'], predicted))"
   ]
  },
  {
   "cell_type": "code",
   "execution_count": 12,
   "id": "1844ae9e",
   "metadata": {},
   "outputs": [
    {
     "name": "stdout",
     "output_type": "stream",
     "text": [
      "0.8167817312798725\n"
     ]
    }
   ],
   "source": [
    "print(accuracy_score(testDF['Category'], pipeline_predicted))"
   ]
  },
  {
   "cell_type": "code",
   "execution_count": 13,
   "id": "037a8f7b",
   "metadata": {},
   "outputs": [
    {
     "name": "stdout",
     "output_type": "stream",
     "text": [
      "                          precision    recall  f1-score   support\n",
      "\n",
      "             alt.atheism       0.81      0.68      0.74       319\n",
      "           comp.graphics       0.78      0.72      0.75       389\n",
      " comp.os.ms-windows.misc       0.75      0.72      0.74       394\n",
      "comp.sys.ibm.pc.hardware       0.65      0.78      0.71       392\n",
      "   comp.sys.mac.hardware       0.85      0.80      0.82       385\n",
      "          comp.windows.x       0.85      0.80      0.83       395\n",
      "            misc.forsale       0.85      0.79      0.82       390\n",
      "               rec.autos       0.90      0.91      0.90       396\n",
      "         rec.motorcycles       0.93      0.95      0.94       398\n",
      "      rec.sport.baseball       0.92      0.93      0.93       397\n",
      "        rec.sport.hockey       0.89      0.98      0.93       399\n",
      "               sci.crypt       0.79      0.96      0.87       396\n",
      "         sci.electronics       0.82      0.65      0.72       393\n",
      "                 sci.med       0.92      0.79      0.85       396\n",
      "               sci.space       0.83      0.94      0.88       394\n",
      "  soc.religion.christian       0.65      0.96      0.77       398\n",
      "      talk.politics.guns       0.67      0.95      0.78       364\n",
      "   talk.politics.mideast       0.94      0.94      0.94       376\n",
      "      talk.politics.misc       0.94      0.53      0.68       310\n",
      "      talk.religion.misc       0.94      0.25      0.40       251\n",
      "\n",
      "                accuracy                           0.82      7532\n",
      "               macro avg       0.83      0.80      0.80      7532\n",
      "            weighted avg       0.83      0.82      0.81      7532\n",
      "\n"
     ]
    }
   ],
   "source": [
    "print(classification_report(testDF['Category'], predicted))"
   ]
  },
  {
   "cell_type": "code",
   "execution_count": 78,
   "id": "a2493322",
   "metadata": {},
   "outputs": [],
   "source": [
    "#Training a non-basic classifier for multinomial models\n",
    "offset_clf = MultinomialNB(alpha=0.0162, fit_prior=False).fit(tfid_vect_train_vectors, trainDF['Category'])\n",
    "offset_predicted = offset_clf.predict(tfid_vect_test_vectors)"
   ]
  },
  {
   "cell_type": "code",
   "execution_count": 21,
   "id": "7e32ab5a",
   "metadata": {},
   "outputs": [
    {
     "name": "stdout",
     "output_type": "stream",
     "text": [
      "0.831651619755709\n"
     ]
    }
   ],
   "source": [
    "print(accuracy_score(testDF['Category'], offset_predicted))"
   ]
  },
  {
   "cell_type": "code",
   "execution_count": 169,
   "id": "36adf13d",
   "metadata": {},
   "outputs": [],
   "source": [
    "pipeline_grid_param = [\n",
    "    {\n",
    "    'vect__norm': ['l2'],\n",
    "    'vect__use_idf': [True],\n",
    "    'vect__smooth_idf': [False],\n",
    "    'vect__sublinear_tf': [True],\n",
    "    'vect__max_df': [0.145],\n",
    "    'clf__alpha':[0.0162],\n",
    "    'clf__fit_prior':[False],\n",
    "    }\n",
    "]\n",
    "grid_param = [\n",
    "    {\n",
    "    'alpha':[0.00162, 0.0162, 0.1],\n",
    "    'fit_prior':[False, True],\n",
    "    }\n",
    "]\n",
    "\n",
    "# Pipeline gridsearch\n",
    "pipeline_grid_search = GridSearchCV(mNB_pipeline, pipeline_grid_param, cv=5)\n",
    "\n",
    "# Nonpipeline gridsearch\n",
    "#grid_search = GridSearchCV(default_clf, grid_param, cv=5)"
   ]
  },
  {
   "cell_type": "code",
   "execution_count": 170,
   "id": "9ed8a383",
   "metadata": {},
   "outputs": [],
   "source": [
    "#grid_search.fit(tfid_vect_train_vectors, trainDF['Category'])"
   ]
  },
  {
   "cell_type": "code",
   "execution_count": 171,
   "id": "cc5dce32",
   "metadata": {
    "scrolled": true
   },
   "outputs": [
    {
     "data": {
      "text/plain": [
       "GridSearchCV(cv=5,\n",
       "             estimator=Pipeline(steps=[('vect',\n",
       "                                        TfidfVectorizer(stop_words=['i', 'me',\n",
       "                                                                    'my',\n",
       "                                                                    'myself',\n",
       "                                                                    'we', 'our',\n",
       "                                                                    'ours',\n",
       "                                                                    'ourselves',\n",
       "                                                                    'you',\n",
       "                                                                    \"you're\",\n",
       "                                                                    \"you've\",\n",
       "                                                                    \"you'll\",\n",
       "                                                                    \"you'd\",\n",
       "                                                                    'your',\n",
       "                                                                    'yours',\n",
       "                                                                    'yourself',\n",
       "                                                                    'yourselves',\n",
       "                                                                    'he', 'him',\n",
       "                                                                    'his',\n",
       "                                                                    'himself',\n",
       "                                                                    'she',\n",
       "                                                                    \"she's\",\n",
       "                                                                    'her',\n",
       "                                                                    'hers',\n",
       "                                                                    'herself',\n",
       "                                                                    'it',\n",
       "                                                                    \"it's\",\n",
       "                                                                    'its',\n",
       "                                                                    'itself', ...],\n",
       "                                                        token_pattern='(?u)\\\\b[A-Za-z]+\\\\b')),\n",
       "                                       ('clf', MultinomialNB())]),\n",
       "             param_grid=[{'clf__alpha': [0.0162], 'clf__fit_prior': [False],\n",
       "                          'vect__max_df': [0.145], 'vect__norm': ['l2'],\n",
       "                          'vect__smooth_idf': [False],\n",
       "                          'vect__sublinear_tf': [True],\n",
       "                          'vect__use_idf': [True]}])"
      ]
     },
     "execution_count": 171,
     "metadata": {},
     "output_type": "execute_result"
    }
   ],
   "source": [
    "pipeline_grid_search.fit(trainDF['Text'], trainDF['Category'])"
   ]
  },
  {
   "cell_type": "code",
   "execution_count": 172,
   "id": "d83362bc",
   "metadata": {},
   "outputs": [],
   "source": [
    "#grid_search.best_score_"
   ]
  },
  {
   "cell_type": "code",
   "execution_count": 173,
   "id": "2ee795f2",
   "metadata": {},
   "outputs": [
    {
     "data": {
      "text/plain": [
       "0.9135589127833175"
      ]
     },
     "execution_count": 173,
     "metadata": {},
     "output_type": "execute_result"
    }
   ],
   "source": [
    "pipeline_grid_search.best_score_"
   ]
  },
  {
   "cell_type": "code",
   "execution_count": 174,
   "id": "c540ec46",
   "metadata": {},
   "outputs": [],
   "source": [
    "#grid_search.best_params_"
   ]
  },
  {
   "cell_type": "code",
   "execution_count": 175,
   "id": "8ea62a5f",
   "metadata": {},
   "outputs": [
    {
     "data": {
      "text/plain": [
       "{'clf__alpha': 0.0162,\n",
       " 'clf__fit_prior': False,\n",
       " 'vect__max_df': 0.145,\n",
       " 'vect__norm': 'l2',\n",
       " 'vect__smooth_idf': False,\n",
       " 'vect__sublinear_tf': True,\n",
       " 'vect__use_idf': True}"
      ]
     },
     "execution_count": 175,
     "metadata": {},
     "output_type": "execute_result"
    }
   ],
   "source": [
    "pipeline_grid_search.best_params_"
   ]
  },
  {
   "cell_type": "code",
   "execution_count": 176,
   "id": "365b0cad",
   "metadata": {},
   "outputs": [],
   "source": [
    "#Non pipeline MB prediction\n",
    "\n",
    "#grid_predicted = grid_search.predict(tfid_vect_test_vectors)\n",
    "#np.mean(grid_predicted == testDF['Category'])"
   ]
  },
  {
   "cell_type": "code",
   "execution_count": 177,
   "id": "c3d0c088",
   "metadata": {},
   "outputs": [
    {
     "data": {
      "text/plain": [
       "0.8381571959638874"
      ]
     },
     "execution_count": 177,
     "metadata": {},
     "output_type": "execute_result"
    }
   ],
   "source": [
    "#Pipeline MB prediction\n",
    "\n",
    "pipeline_grid_predicted = pipeline_grid_search.predict(testDF['Text']) #Pipeline\n",
    "np.mean(pipeline_grid_predicted == testDF['Category'])"
   ]
  },
  {
   "cell_type": "code",
   "execution_count": 90,
   "id": "1c67c766",
   "metadata": {},
   "outputs": [
    {
     "data": {
      "text/plain": [
       "{'mean_fit_time': array([2.57196722, 2.56381297, 2.49432187, 2.55058274, 2.51132083,\n",
       "        2.57595   , 2.55735807, 2.63623695, 2.55204482, 2.53856091,\n",
       "        2.54984217, 2.5682847 , 2.67523141, 2.59475975, 2.51786056,\n",
       "        2.59966459, 2.58989096, 2.59832277, 2.53526278, 2.55742617,\n",
       "        2.58142838, 2.59687448, 2.55063496, 2.55961781, 2.54737301,\n",
       "        2.57351198, 2.57707548, 2.78167281, 2.62958994, 2.65079985,\n",
       "        2.4657115 , 2.52611108]),\n",
       " 'std_fit_time': array([0.04070279, 0.03241243, 0.05301883, 0.05062262, 0.05658115,\n",
       "        0.03530486, 0.10001036, 0.05165564, 0.03495774, 0.05828523,\n",
       "        0.06537761, 0.02930996, 0.07375395, 0.01978137, 0.05080305,\n",
       "        0.04004646, 0.04141057, 0.01801736, 0.03172931, 0.03367345,\n",
       "        0.03066862, 0.06387465, 0.01307268, 0.04712416, 0.03511609,\n",
       "        0.06612102, 0.03681616, 0.08386615, 0.02740164, 0.05577809,\n",
       "        0.0398611 , 0.04275895]),\n",
       " 'mean_score_time': array([0.59655967, 0.59410319, 0.56605082, 0.57428484, 0.58531699,\n",
       "        0.57313361, 0.58743405, 0.60262337, 0.5927392 , 0.58557844,\n",
       "        0.57123914, 0.5999022 , 0.60931578, 0.60212173, 0.57443075,\n",
       "        0.59040794, 0.58411956, 0.60553637, 0.58983493, 0.60964661,\n",
       "        0.59175067, 0.60509429, 0.57892885, 0.58449717, 0.58253188,\n",
       "        0.58454766, 0.58763466, 0.62534032, 0.59511318, 0.60366068,\n",
       "        0.57252765, 0.5806334 ]),\n",
       " 'std_score_time': array([0.01573319, 0.03078019, 0.0238017 , 0.02372558, 0.02010184,\n",
       "        0.0225667 , 0.01921878, 0.02124773, 0.04943957, 0.02571713,\n",
       "        0.02531803, 0.04248028, 0.03614146, 0.02279829, 0.0234626 ,\n",
       "        0.02372226, 0.02211161, 0.02466003, 0.04133807, 0.03867248,\n",
       "        0.03045771, 0.02119168, 0.02186435, 0.02462551, 0.02744763,\n",
       "        0.02846294, 0.02532475, 0.04083769, 0.02754255, 0.03669812,\n",
       "        0.03906057, 0.0232962 ]),\n",
       " 'param_clf__alpha': masked_array(data=[0.1, 0.1, 0.1, 0.1, 0.1, 0.1, 0.1, 0.1, 0.1, 0.1, 0.1,\n",
       "                    0.1, 0.1, 0.1, 0.1, 0.1, 0.0162, 0.0162, 0.0162,\n",
       "                    0.0162, 0.0162, 0.0162, 0.0162, 0.0162, 0.0162, 0.0162,\n",
       "                    0.0162, 0.0162, 0.0162, 0.0162, 0.0162, 0.0162],\n",
       "              mask=[False, False, False, False, False, False, False, False,\n",
       "                    False, False, False, False, False, False, False, False,\n",
       "                    False, False, False, False, False, False, False, False,\n",
       "                    False, False, False, False, False, False, False, False],\n",
       "        fill_value='?',\n",
       "             dtype=object),\n",
       " 'param_clf__fit_prior': masked_array(data=[False, False, False, False, False, False, False, False,\n",
       "                    False, False, False, False, False, False, False, False,\n",
       "                    False, False, False, False, False, False, False, False,\n",
       "                    False, False, False, False, False, False, False, False],\n",
       "              mask=[False, False, False, False, False, False, False, False,\n",
       "                    False, False, False, False, False, False, False, False,\n",
       "                    False, False, False, False, False, False, False, False,\n",
       "                    False, False, False, False, False, False, False, False],\n",
       "        fill_value='?',\n",
       "             dtype=object),\n",
       " 'param_vect__max_df': masked_array(data=[0.145, 0.145, 0.145, 0.145, 0.145, 0.145, 0.145, 0.145,\n",
       "                    0.2, 0.2, 0.2, 0.2, 0.2, 0.2, 0.2, 0.2, 0.145, 0.145,\n",
       "                    0.145, 0.145, 0.145, 0.145, 0.145, 0.145, 0.2, 0.2,\n",
       "                    0.2, 0.2, 0.2, 0.2, 0.2, 0.2],\n",
       "              mask=[False, False, False, False, False, False, False, False,\n",
       "                    False, False, False, False, False, False, False, False,\n",
       "                    False, False, False, False, False, False, False, False,\n",
       "                    False, False, False, False, False, False, False, False],\n",
       "        fill_value='?',\n",
       "             dtype=object),\n",
       " 'param_vect__norm': masked_array(data=['l2', 'l2', 'l2', 'l2', 'l2', 'l2', 'l2', 'l2', 'l2',\n",
       "                    'l2', 'l2', 'l2', 'l2', 'l2', 'l2', 'l2', 'l2', 'l2',\n",
       "                    'l2', 'l2', 'l2', 'l2', 'l2', 'l2', 'l2', 'l2', 'l2',\n",
       "                    'l2', 'l2', 'l2', 'l2', 'l2'],\n",
       "              mask=[False, False, False, False, False, False, False, False,\n",
       "                    False, False, False, False, False, False, False, False,\n",
       "                    False, False, False, False, False, False, False, False,\n",
       "                    False, False, False, False, False, False, False, False],\n",
       "        fill_value='?',\n",
       "             dtype=object),\n",
       " 'param_vect__smooth_idf': masked_array(data=[True, True, True, True, False, False, False, False,\n",
       "                    True, True, True, True, False, False, False, False,\n",
       "                    True, True, True, True, False, False, False, False,\n",
       "                    True, True, True, True, False, False, False, False],\n",
       "              mask=[False, False, False, False, False, False, False, False,\n",
       "                    False, False, False, False, False, False, False, False,\n",
       "                    False, False, False, False, False, False, False, False,\n",
       "                    False, False, False, False, False, False, False, False],\n",
       "        fill_value='?',\n",
       "             dtype=object),\n",
       " 'param_vect__sublinear_tf': masked_array(data=[True, True, False, False, True, True, False, False,\n",
       "                    True, True, False, False, True, True, False, False,\n",
       "                    True, True, False, False, True, True, False, False,\n",
       "                    True, True, False, False, True, True, False, False],\n",
       "              mask=[False, False, False, False, False, False, False, False,\n",
       "                    False, False, False, False, False, False, False, False,\n",
       "                    False, False, False, False, False, False, False, False,\n",
       "                    False, False, False, False, False, False, False, False],\n",
       "        fill_value='?',\n",
       "             dtype=object),\n",
       " 'param_vect__use_idf': masked_array(data=[False, True, False, True, False, True, False, True,\n",
       "                    False, True, False, True, False, True, False, True,\n",
       "                    False, True, False, True, False, True, False, True,\n",
       "                    False, True, False, True, False, True, False, True],\n",
       "              mask=[False, False, False, False, False, False, False, False,\n",
       "                    False, False, False, False, False, False, False, False,\n",
       "                    False, False, False, False, False, False, False, False,\n",
       "                    False, False, False, False, False, False, False, False],\n",
       "        fill_value='?',\n",
       "             dtype=object),\n",
       " 'params': [{'clf__alpha': 0.1,\n",
       "   'clf__fit_prior': False,\n",
       "   'vect__max_df': 0.145,\n",
       "   'vect__norm': 'l2',\n",
       "   'vect__smooth_idf': True,\n",
       "   'vect__sublinear_tf': True,\n",
       "   'vect__use_idf': False},\n",
       "  {'clf__alpha': 0.1,\n",
       "   'clf__fit_prior': False,\n",
       "   'vect__max_df': 0.145,\n",
       "   'vect__norm': 'l2',\n",
       "   'vect__smooth_idf': True,\n",
       "   'vect__sublinear_tf': True,\n",
       "   'vect__use_idf': True},\n",
       "  {'clf__alpha': 0.1,\n",
       "   'clf__fit_prior': False,\n",
       "   'vect__max_df': 0.145,\n",
       "   'vect__norm': 'l2',\n",
       "   'vect__smooth_idf': True,\n",
       "   'vect__sublinear_tf': False,\n",
       "   'vect__use_idf': False},\n",
       "  {'clf__alpha': 0.1,\n",
       "   'clf__fit_prior': False,\n",
       "   'vect__max_df': 0.145,\n",
       "   'vect__norm': 'l2',\n",
       "   'vect__smooth_idf': True,\n",
       "   'vect__sublinear_tf': False,\n",
       "   'vect__use_idf': True},\n",
       "  {'clf__alpha': 0.1,\n",
       "   'clf__fit_prior': False,\n",
       "   'vect__max_df': 0.145,\n",
       "   'vect__norm': 'l2',\n",
       "   'vect__smooth_idf': False,\n",
       "   'vect__sublinear_tf': True,\n",
       "   'vect__use_idf': False},\n",
       "  {'clf__alpha': 0.1,\n",
       "   'clf__fit_prior': False,\n",
       "   'vect__max_df': 0.145,\n",
       "   'vect__norm': 'l2',\n",
       "   'vect__smooth_idf': False,\n",
       "   'vect__sublinear_tf': True,\n",
       "   'vect__use_idf': True},\n",
       "  {'clf__alpha': 0.1,\n",
       "   'clf__fit_prior': False,\n",
       "   'vect__max_df': 0.145,\n",
       "   'vect__norm': 'l2',\n",
       "   'vect__smooth_idf': False,\n",
       "   'vect__sublinear_tf': False,\n",
       "   'vect__use_idf': False},\n",
       "  {'clf__alpha': 0.1,\n",
       "   'clf__fit_prior': False,\n",
       "   'vect__max_df': 0.145,\n",
       "   'vect__norm': 'l2',\n",
       "   'vect__smooth_idf': False,\n",
       "   'vect__sublinear_tf': False,\n",
       "   'vect__use_idf': True},\n",
       "  {'clf__alpha': 0.1,\n",
       "   'clf__fit_prior': False,\n",
       "   'vect__max_df': 0.2,\n",
       "   'vect__norm': 'l2',\n",
       "   'vect__smooth_idf': True,\n",
       "   'vect__sublinear_tf': True,\n",
       "   'vect__use_idf': False},\n",
       "  {'clf__alpha': 0.1,\n",
       "   'clf__fit_prior': False,\n",
       "   'vect__max_df': 0.2,\n",
       "   'vect__norm': 'l2',\n",
       "   'vect__smooth_idf': True,\n",
       "   'vect__sublinear_tf': True,\n",
       "   'vect__use_idf': True},\n",
       "  {'clf__alpha': 0.1,\n",
       "   'clf__fit_prior': False,\n",
       "   'vect__max_df': 0.2,\n",
       "   'vect__norm': 'l2',\n",
       "   'vect__smooth_idf': True,\n",
       "   'vect__sublinear_tf': False,\n",
       "   'vect__use_idf': False},\n",
       "  {'clf__alpha': 0.1,\n",
       "   'clf__fit_prior': False,\n",
       "   'vect__max_df': 0.2,\n",
       "   'vect__norm': 'l2',\n",
       "   'vect__smooth_idf': True,\n",
       "   'vect__sublinear_tf': False,\n",
       "   'vect__use_idf': True},\n",
       "  {'clf__alpha': 0.1,\n",
       "   'clf__fit_prior': False,\n",
       "   'vect__max_df': 0.2,\n",
       "   'vect__norm': 'l2',\n",
       "   'vect__smooth_idf': False,\n",
       "   'vect__sublinear_tf': True,\n",
       "   'vect__use_idf': False},\n",
       "  {'clf__alpha': 0.1,\n",
       "   'clf__fit_prior': False,\n",
       "   'vect__max_df': 0.2,\n",
       "   'vect__norm': 'l2',\n",
       "   'vect__smooth_idf': False,\n",
       "   'vect__sublinear_tf': True,\n",
       "   'vect__use_idf': True},\n",
       "  {'clf__alpha': 0.1,\n",
       "   'clf__fit_prior': False,\n",
       "   'vect__max_df': 0.2,\n",
       "   'vect__norm': 'l2',\n",
       "   'vect__smooth_idf': False,\n",
       "   'vect__sublinear_tf': False,\n",
       "   'vect__use_idf': False},\n",
       "  {'clf__alpha': 0.1,\n",
       "   'clf__fit_prior': False,\n",
       "   'vect__max_df': 0.2,\n",
       "   'vect__norm': 'l2',\n",
       "   'vect__smooth_idf': False,\n",
       "   'vect__sublinear_tf': False,\n",
       "   'vect__use_idf': True},\n",
       "  {'clf__alpha': 0.0162,\n",
       "   'clf__fit_prior': False,\n",
       "   'vect__max_df': 0.145,\n",
       "   'vect__norm': 'l2',\n",
       "   'vect__smooth_idf': True,\n",
       "   'vect__sublinear_tf': True,\n",
       "   'vect__use_idf': False},\n",
       "  {'clf__alpha': 0.0162,\n",
       "   'clf__fit_prior': False,\n",
       "   'vect__max_df': 0.145,\n",
       "   'vect__norm': 'l2',\n",
       "   'vect__smooth_idf': True,\n",
       "   'vect__sublinear_tf': True,\n",
       "   'vect__use_idf': True},\n",
       "  {'clf__alpha': 0.0162,\n",
       "   'clf__fit_prior': False,\n",
       "   'vect__max_df': 0.145,\n",
       "   'vect__norm': 'l2',\n",
       "   'vect__smooth_idf': True,\n",
       "   'vect__sublinear_tf': False,\n",
       "   'vect__use_idf': False},\n",
       "  {'clf__alpha': 0.0162,\n",
       "   'clf__fit_prior': False,\n",
       "   'vect__max_df': 0.145,\n",
       "   'vect__norm': 'l2',\n",
       "   'vect__smooth_idf': True,\n",
       "   'vect__sublinear_tf': False,\n",
       "   'vect__use_idf': True},\n",
       "  {'clf__alpha': 0.0162,\n",
       "   'clf__fit_prior': False,\n",
       "   'vect__max_df': 0.145,\n",
       "   'vect__norm': 'l2',\n",
       "   'vect__smooth_idf': False,\n",
       "   'vect__sublinear_tf': True,\n",
       "   'vect__use_idf': False},\n",
       "  {'clf__alpha': 0.0162,\n",
       "   'clf__fit_prior': False,\n",
       "   'vect__max_df': 0.145,\n",
       "   'vect__norm': 'l2',\n",
       "   'vect__smooth_idf': False,\n",
       "   'vect__sublinear_tf': True,\n",
       "   'vect__use_idf': True},\n",
       "  {'clf__alpha': 0.0162,\n",
       "   'clf__fit_prior': False,\n",
       "   'vect__max_df': 0.145,\n",
       "   'vect__norm': 'l2',\n",
       "   'vect__smooth_idf': False,\n",
       "   'vect__sublinear_tf': False,\n",
       "   'vect__use_idf': False},\n",
       "  {'clf__alpha': 0.0162,\n",
       "   'clf__fit_prior': False,\n",
       "   'vect__max_df': 0.145,\n",
       "   'vect__norm': 'l2',\n",
       "   'vect__smooth_idf': False,\n",
       "   'vect__sublinear_tf': False,\n",
       "   'vect__use_idf': True},\n",
       "  {'clf__alpha': 0.0162,\n",
       "   'clf__fit_prior': False,\n",
       "   'vect__max_df': 0.2,\n",
       "   'vect__norm': 'l2',\n",
       "   'vect__smooth_idf': True,\n",
       "   'vect__sublinear_tf': True,\n",
       "   'vect__use_idf': False},\n",
       "  {'clf__alpha': 0.0162,\n",
       "   'clf__fit_prior': False,\n",
       "   'vect__max_df': 0.2,\n",
       "   'vect__norm': 'l2',\n",
       "   'vect__smooth_idf': True,\n",
       "   'vect__sublinear_tf': True,\n",
       "   'vect__use_idf': True},\n",
       "  {'clf__alpha': 0.0162,\n",
       "   'clf__fit_prior': False,\n",
       "   'vect__max_df': 0.2,\n",
       "   'vect__norm': 'l2',\n",
       "   'vect__smooth_idf': True,\n",
       "   'vect__sublinear_tf': False,\n",
       "   'vect__use_idf': False},\n",
       "  {'clf__alpha': 0.0162,\n",
       "   'clf__fit_prior': False,\n",
       "   'vect__max_df': 0.2,\n",
       "   'vect__norm': 'l2',\n",
       "   'vect__smooth_idf': True,\n",
       "   'vect__sublinear_tf': False,\n",
       "   'vect__use_idf': True},\n",
       "  {'clf__alpha': 0.0162,\n",
       "   'clf__fit_prior': False,\n",
       "   'vect__max_df': 0.2,\n",
       "   'vect__norm': 'l2',\n",
       "   'vect__smooth_idf': False,\n",
       "   'vect__sublinear_tf': True,\n",
       "   'vect__use_idf': False},\n",
       "  {'clf__alpha': 0.0162,\n",
       "   'clf__fit_prior': False,\n",
       "   'vect__max_df': 0.2,\n",
       "   'vect__norm': 'l2',\n",
       "   'vect__smooth_idf': False,\n",
       "   'vect__sublinear_tf': True,\n",
       "   'vect__use_idf': True},\n",
       "  {'clf__alpha': 0.0162,\n",
       "   'clf__fit_prior': False,\n",
       "   'vect__max_df': 0.2,\n",
       "   'vect__norm': 'l2',\n",
       "   'vect__smooth_idf': False,\n",
       "   'vect__sublinear_tf': False,\n",
       "   'vect__use_idf': False},\n",
       "  {'clf__alpha': 0.0162,\n",
       "   'clf__fit_prior': False,\n",
       "   'vect__max_df': 0.2,\n",
       "   'vect__norm': 'l2',\n",
       "   'vect__smooth_idf': False,\n",
       "   'vect__sublinear_tf': False,\n",
       "   'vect__use_idf': True}],\n",
       " 'split0_test_score': array([0.90234202, 0.90985418, 0.898365  , 0.90720283, 0.90234202,\n",
       "        0.91029607, 0.898365  , 0.90676094, 0.90278392, 0.90897039,\n",
       "        0.89969068, 0.90587715, 0.90278392, 0.91029607, 0.89969068,\n",
       "        0.90587715, 0.91471498, 0.91692444, 0.91294741, 0.91250552,\n",
       "        0.91471498, 0.91825011, 0.91294741, 0.91338931, 0.91515687,\n",
       "        0.91736633, 0.91029607, 0.91294741, 0.91515687, 0.91736633,\n",
       "        0.91029607, 0.91338931]),\n",
       " 'split1_test_score': array([0.90057446, 0.90897039, 0.89571365, 0.90410959, 0.90057446,\n",
       "        0.90897039, 0.89571365, 0.90410959, 0.90057446, 0.9085285 ,\n",
       "        0.89659744, 0.90322581, 0.90057446, 0.90720283, 0.89659744,\n",
       "        0.90455148, 0.90941228, 0.90764472, 0.91073796, 0.90499337,\n",
       "        0.90941228, 0.90720283, 0.91073796, 0.90455148, 0.90985418,\n",
       "        0.90720283, 0.91117985, 0.90410959, 0.90985418, 0.90676094,\n",
       "        0.91117985, 0.90322581]),\n",
       " 'split2_test_score': array([0.90234202, 0.91162174, 0.90278392, 0.90897039, 0.90234202,\n",
       "        0.91073796, 0.90278392, 0.9085285 , 0.90145824, 0.91029607,\n",
       "        0.90410959, 0.90808661, 0.90145824, 0.91117985, 0.90410959,\n",
       "        0.90764472, 0.91073796, 0.90808661, 0.91206363, 0.91427309,\n",
       "        0.91073796, 0.90985418, 0.91206363, 0.9138312 , 0.91206363,\n",
       "        0.90808661, 0.91117985, 0.9138312 , 0.91206363, 0.90897039,\n",
       "        0.91117985, 0.91338931]),\n",
       " 'split3_test_score': array([0.90145824, 0.90985418, 0.89217852, 0.90322581, 0.90145824,\n",
       "        0.91117985, 0.89217852, 0.90322581, 0.90101635, 0.90985418,\n",
       "        0.89173663, 0.90410959, 0.90101635, 0.91073796, 0.89173663,\n",
       "        0.90410959, 0.91073796, 0.91294741, 0.90631905, 0.90676094,\n",
       "        0.91073796, 0.91338931, 0.90631905, 0.90587715, 0.91073796,\n",
       "        0.91206363, 0.90764472, 0.90587715, 0.91073796, 0.91250552,\n",
       "        0.90764472, 0.90543526]),\n",
       " 'split4_test_score': array([0.90627763, 0.91688771, 0.90362511, 0.91246684, 0.90627763,\n",
       "        0.9173298 , 0.90362511, 0.91202476, 0.90627763, 0.91511936,\n",
       "        0.90097259, 0.91202476, 0.90627763, 0.91600354, 0.90097259,\n",
       "        0.91158267, 0.91777188, 0.91954023, 0.91556145, 0.91335102,\n",
       "        0.91777188, 0.91909814, 0.91556145, 0.9137931 , 0.91688771,\n",
       "        0.91954023, 0.9137931 , 0.91335102, 0.91688771, 0.91821397,\n",
       "        0.9137931 , 0.91335102]),\n",
       " 'mean_test_score': array([0.90259888, 0.91143764, 0.89853324, 0.90719509, 0.90259888,\n",
       "        0.91170281, 0.89853324, 0.90692992, 0.90242212, 0.9105537 ,\n",
       "        0.89862139, 0.90666478, 0.90242212, 0.91108405, 0.89862139,\n",
       "        0.90675312, 0.91267501, 0.91302868, 0.9115259 , 0.91037679,\n",
       "        0.91267501, 0.91355891, 0.9115259 , 0.91028845, 0.91294007,\n",
       "        0.91285193, 0.91081872, 0.91002327, 0.91294007, 0.91276343,\n",
       "        0.91081872, 0.90975814]),\n",
       " 'std_test_score': array([0.00195266, 0.00285794, 0.00429782, 0.00335317, 0.00195266,\n",
       "        0.00290904, 0.00429782, 0.0031691 , 0.0020647 , 0.00236682,\n",
       "        0.0042021 , 0.00315363, 0.0020647 , 0.00282896, 0.0042021 ,\n",
       "        0.00271007, 0.00310771, 0.00471158, 0.00304394, 0.00375804,\n",
       "        0.00310771, 0.00462264, 0.00304394, 0.00416704, 0.00266977,\n",
       "        0.00490622, 0.00197257, 0.0041542 , 0.00266977, 0.00450286,\n",
       "        0.00197257, 0.00448638]),\n",
       " 'rank_test_score': array([25, 12, 31, 21, 25,  9, 31, 22, 27, 16, 29, 24, 27, 13, 29, 23,  7,\n",
       "         2, 10, 17,  7,  1, 10, 18,  3,  5, 14, 19,  3,  6, 14, 20])}"
      ]
     },
     "execution_count": 90,
     "metadata": {},
     "output_type": "execute_result"
    }
   ],
   "source": [
    "pipeline_grid_search.cv_results_"
   ]
  },
  {
   "cell_type": "code",
   "execution_count": 105,
   "id": "3966136c",
   "metadata": {},
   "outputs": [],
   "source": [
    "# Time for LogisticRegression\n",
    "\n",
    "# Pipeline\n",
    "#lr_pipeline.fit(trainDF['Text'], trainDF['Category'])\n",
    "#lr_pipeline_predicted = lr_pipeline.predict(testDF['Text'])\n",
    "\n",
    "# No Pipeline\n",
    "lr_default = LogisticRegression().fit(tfid_vect_train_vectors, trainDF['Category'])\n",
    "lr_default_predicted = lr_default.predict(tfid_vect_test_vectors)"
   ]
  },
  {
   "cell_type": "code",
   "execution_count": 106,
   "id": "b63ec0d3",
   "metadata": {},
   "outputs": [
    {
     "name": "stdout",
     "output_type": "stream",
     "text": [
      "0.8305894848645778\n"
     ]
    }
   ],
   "source": [
    "#print(np.mean(lr_pipeline_predicted == testDF['Category']))\n",
    "print(np.mean(lr_default_predicted == testDF['Category']))"
   ]
  },
  {
   "cell_type": "code",
   "execution_count": 107,
   "id": "4c5aa6db",
   "metadata": {},
   "outputs": [
    {
     "name": "stdout",
     "output_type": "stream",
     "text": [
      "0.8305894848645778\n"
     ]
    }
   ],
   "source": [
    "#print(accuracy_score(testDF['Category'], lr_pipeline_predicted))\n",
    "print(accuracy_score(testDF['Category'], lr_default_predicted))"
   ]
  },
  {
   "cell_type": "code",
   "execution_count": 14,
   "id": "53baadc8",
   "metadata": {
    "scrolled": true
   },
   "outputs": [
    {
     "name": "stdout",
     "output_type": "stream",
     "text": [
      "                          precision    recall  f1-score   support\n",
      "\n",
      "             alt.atheism       0.80      0.72      0.76       319\n",
      "           comp.graphics       0.70      0.79      0.74       389\n",
      " comp.os.ms-windows.misc       0.75      0.75      0.75       394\n",
      "comp.sys.ibm.pc.hardware       0.70      0.73      0.72       392\n",
      "   comp.sys.mac.hardware       0.81      0.82      0.81       385\n",
      "          comp.windows.x       0.82      0.78      0.80       395\n",
      "            misc.forsale       0.80      0.85      0.82       390\n",
      "               rec.autos       0.91      0.89      0.90       396\n",
      "         rec.motorcycles       0.95      0.94      0.94       398\n",
      "      rec.sport.baseball       0.90      0.93      0.92       397\n",
      "        rec.sport.hockey       0.93      0.96      0.95       399\n",
      "               sci.crypt       0.96      0.90      0.93       396\n",
      "         sci.electronics       0.72      0.77      0.74       393\n",
      "                 sci.med       0.89      0.87      0.88       396\n",
      "               sci.space       0.89      0.91      0.90       394\n",
      "  soc.religion.christian       0.81      0.93      0.86       398\n",
      "      talk.politics.guns       0.74      0.90      0.81       364\n",
      "   talk.politics.mideast       0.97      0.88      0.92       376\n",
      "      talk.politics.misc       0.82      0.60      0.69       310\n",
      "      talk.religion.misc       0.78      0.50      0.61       251\n",
      "\n",
      "                accuracy                           0.83      7532\n",
      "               macro avg       0.83      0.82      0.82      7532\n",
      "            weighted avg       0.83      0.83      0.83      7532\n",
      "\n"
     ]
    }
   ],
   "source": [
    "print(classification_report(testDF['Category'], lr_default_predicted))"
   ]
  },
  {
   "cell_type": "code",
   "execution_count": 138,
   "id": "8a6fe043",
   "metadata": {},
   "outputs": [],
   "source": [
    "# GRID AND RAND\n",
    "\n",
    "pipeline_lr_param = [\n",
    "    {\n",
    "    'vect__norm': ['l2'],\n",
    "    'vect__use_idf': [True],\n",
    "    'vect__smooth_idf': [False],\n",
    "    'vect__sublinear_tf': [True],\n",
    "    'vect__max_df': [0.145],\n",
    "    'lr__penalty':['l2'],\n",
    "    'lr__solver': ['saga'],\n",
    "    'lr__C': [65]\n",
    "    }\n",
    "]\n",
    "\n",
    "lr_param = [\n",
    "    {\n",
    "    'penalty':['none'],\n",
    "    'solver': ['saga'],\n",
    "    }\n",
    "]\n",
    "\n",
    "\n",
    "# Pipeline gridsearch\n",
    "pipeline_lr_grid_search = GridSearchCV(lr_pipeline, pipeline_lr_param, cv=5)\n",
    "# Nonpipeline gridsearch\n",
    "lr_grid_search = GridSearchCV(lr_default, lr_param, cv=5)\n",
    "\n",
    "# Pipeline randsearch\n",
    "pipeline_lr_rand_search = RandomizedSearchCV(lr_pipeline, pipeline_lr_param, cv=5)\n",
    "# Nonpipeline randsearch\n",
    "lr_rand_search = RandomizedSearchCV(lr_default, lr_param, cv=5)"
   ]
  },
  {
   "cell_type": "code",
   "execution_count": 139,
   "id": "d2a5fde2",
   "metadata": {},
   "outputs": [],
   "source": [
    "#Nonpipeline grid fit\n",
    "\n",
    "#lr_grid_search.fit(tfid_vect_train_vectors, trainDF['Category']) #grid"
   ]
  },
  {
   "cell_type": "code",
   "execution_count": 140,
   "id": "cdccb2bb",
   "metadata": {},
   "outputs": [],
   "source": [
    "#Nonpipeline rand fit\n",
    "\n",
    "#lr_rand_search.fit(tfid_vect_train_vectors, trainDF['Category']) # rand"
   ]
  },
  {
   "cell_type": "code",
   "execution_count": 141,
   "id": "71733bca",
   "metadata": {},
   "outputs": [
    {
     "name": "stderr",
     "output_type": "stream",
     "text": [
      "C:\\Users\\James\\anaconda3\\envs\\venv\\lib\\site-packages\\sklearn\\linear_model\\_sag.py:352: ConvergenceWarning: The max_iter was reached which means the coef_ did not converge\n",
      "  warnings.warn(\n",
      "C:\\Users\\James\\anaconda3\\envs\\venv\\lib\\site-packages\\sklearn\\linear_model\\_sag.py:352: ConvergenceWarning: The max_iter was reached which means the coef_ did not converge\n",
      "  warnings.warn(\n",
      "C:\\Users\\James\\anaconda3\\envs\\venv\\lib\\site-packages\\sklearn\\linear_model\\_sag.py:352: ConvergenceWarning: The max_iter was reached which means the coef_ did not converge\n",
      "  warnings.warn(\n",
      "C:\\Users\\James\\anaconda3\\envs\\venv\\lib\\site-packages\\sklearn\\linear_model\\_sag.py:352: ConvergenceWarning: The max_iter was reached which means the coef_ did not converge\n",
      "  warnings.warn(\n",
      "C:\\Users\\James\\anaconda3\\envs\\venv\\lib\\site-packages\\sklearn\\linear_model\\_sag.py:352: ConvergenceWarning: The max_iter was reached which means the coef_ did not converge\n",
      "  warnings.warn(\n",
      "C:\\Users\\James\\anaconda3\\envs\\venv\\lib\\site-packages\\sklearn\\linear_model\\_sag.py:352: ConvergenceWarning: The max_iter was reached which means the coef_ did not converge\n",
      "  warnings.warn(\n"
     ]
    },
    {
     "data": {
      "text/plain": [
       "GridSearchCV(cv=5,\n",
       "             estimator=Pipeline(steps=[('vect',\n",
       "                                        TfidfVectorizer(stop_words=['i', 'me',\n",
       "                                                                    'my',\n",
       "                                                                    'myself',\n",
       "                                                                    'we', 'our',\n",
       "                                                                    'ours',\n",
       "                                                                    'ourselves',\n",
       "                                                                    'you',\n",
       "                                                                    \"you're\",\n",
       "                                                                    \"you've\",\n",
       "                                                                    \"you'll\",\n",
       "                                                                    \"you'd\",\n",
       "                                                                    'your',\n",
       "                                                                    'yours',\n",
       "                                                                    'yourself',\n",
       "                                                                    'yourselves',\n",
       "                                                                    'he', 'him',\n",
       "                                                                    'his',\n",
       "                                                                    'himself',\n",
       "                                                                    'she',\n",
       "                                                                    \"she's\",\n",
       "                                                                    'her',\n",
       "                                                                    'hers',\n",
       "                                                                    'herself',\n",
       "                                                                    'it',\n",
       "                                                                    \"it's\",\n",
       "                                                                    'its',\n",
       "                                                                    'itself', ...],\n",
       "                                                        token_pattern='(?u)\\\\b[A-Za-z]+\\\\b')),\n",
       "                                       ('lr', LogisticRegression())]),\n",
       "             param_grid=[{'lr__C': [65], 'lr__penalty': ['l2'],\n",
       "                          'lr__solver': ['saga'], 'vect__max_df': [0.145],\n",
       "                          'vect__norm': ['l2'], 'vect__smooth_idf': [False],\n",
       "                          'vect__sublinear_tf': [True],\n",
       "                          'vect__use_idf': [True]}])"
      ]
     },
     "execution_count": 141,
     "metadata": {},
     "output_type": "execute_result"
    }
   ],
   "source": [
    "#Pipeline grid fit\n",
    "\n",
    "pipeline_lr_grid_search.fit(trainDF['Text'], trainDF['Category']) #grid"
   ]
  },
  {
   "cell_type": "code",
   "execution_count": 142,
   "id": "6e752a24",
   "metadata": {},
   "outputs": [
    {
     "name": "stderr",
     "output_type": "stream",
     "text": [
      "C:\\Users\\James\\anaconda3\\envs\\venv\\lib\\site-packages\\sklearn\\model_selection\\_search.py:292: UserWarning: The total space of parameters 1 is smaller than n_iter=10. Running 1 iterations. For exhaustive searches, use GridSearchCV.\n",
      "  warnings.warn(\n",
      "C:\\Users\\James\\anaconda3\\envs\\venv\\lib\\site-packages\\sklearn\\linear_model\\_sag.py:352: ConvergenceWarning: The max_iter was reached which means the coef_ did not converge\n",
      "  warnings.warn(\n",
      "C:\\Users\\James\\anaconda3\\envs\\venv\\lib\\site-packages\\sklearn\\linear_model\\_sag.py:352: ConvergenceWarning: The max_iter was reached which means the coef_ did not converge\n",
      "  warnings.warn(\n",
      "C:\\Users\\James\\anaconda3\\envs\\venv\\lib\\site-packages\\sklearn\\linear_model\\_sag.py:352: ConvergenceWarning: The max_iter was reached which means the coef_ did not converge\n",
      "  warnings.warn(\n",
      "C:\\Users\\James\\anaconda3\\envs\\venv\\lib\\site-packages\\sklearn\\linear_model\\_sag.py:352: ConvergenceWarning: The max_iter was reached which means the coef_ did not converge\n",
      "  warnings.warn(\n",
      "C:\\Users\\James\\anaconda3\\envs\\venv\\lib\\site-packages\\sklearn\\linear_model\\_sag.py:352: ConvergenceWarning: The max_iter was reached which means the coef_ did not converge\n",
      "  warnings.warn(\n",
      "C:\\Users\\James\\anaconda3\\envs\\venv\\lib\\site-packages\\sklearn\\linear_model\\_sag.py:352: ConvergenceWarning: The max_iter was reached which means the coef_ did not converge\n",
      "  warnings.warn(\n"
     ]
    },
    {
     "data": {
      "text/plain": [
       "RandomizedSearchCV(cv=5,\n",
       "                   estimator=Pipeline(steps=[('vect',\n",
       "                                              TfidfVectorizer(stop_words=['i',\n",
       "                                                                          'me',\n",
       "                                                                          'my',\n",
       "                                                                          'myself',\n",
       "                                                                          'we',\n",
       "                                                                          'our',\n",
       "                                                                          'ours',\n",
       "                                                                          'ourselves',\n",
       "                                                                          'you',\n",
       "                                                                          \"you're\",\n",
       "                                                                          \"you've\",\n",
       "                                                                          \"you'll\",\n",
       "                                                                          \"you'd\",\n",
       "                                                                          'your',\n",
       "                                                                          'yours',\n",
       "                                                                          'yourself',\n",
       "                                                                          'yourselves',\n",
       "                                                                          'he',\n",
       "                                                                          'him',\n",
       "                                                                          'his',\n",
       "                                                                          'himself',\n",
       "                                                                          'she',\n",
       "                                                                          \"she's\",\n",
       "                                                                          'her',\n",
       "                                                                          'hers',\n",
       "                                                                          'herself',\n",
       "                                                                          'it',\n",
       "                                                                          \"it's\",\n",
       "                                                                          'its',\n",
       "                                                                          'itself', ...],\n",
       "                                                              token_pattern='(?u)\\\\b[A-Za-z]+\\\\b')),\n",
       "                                             ('lr', LogisticRegression())]),\n",
       "                   param_distributions=[{'lr__C': [65], 'lr__penalty': ['l2'],\n",
       "                                         'lr__solver': ['saga'],\n",
       "                                         'vect__max_df': [0.145],\n",
       "                                         'vect__norm': ['l2'],\n",
       "                                         'vect__smooth_idf': [False],\n",
       "                                         'vect__sublinear_tf': [True],\n",
       "                                         'vect__use_idf': [True]}])"
      ]
     },
     "execution_count": 142,
     "metadata": {},
     "output_type": "execute_result"
    }
   ],
   "source": [
    "#Pipeline rand fit\n",
    "\n",
    "pipeline_lr_rand_search.fit(trainDF['Text'], trainDF['Category']) #rand"
   ]
  },
  {
   "cell_type": "code",
   "execution_count": 111,
   "id": "a8439fb0",
   "metadata": {},
   "outputs": [],
   "source": [
    "#Non pipeline grid SCORE AND PREDICTION\n",
    "\n",
    "#lr_grid__predicted = lr_grid_search.predict(tfid_vect_test_vectors) #Pipeline\n",
    "#np.mean(lr_grid__predicted == testDF['Category'])"
   ]
  },
  {
   "cell_type": "code",
   "execution_count": 112,
   "id": "01ab79f2",
   "metadata": {},
   "outputs": [],
   "source": [
    "#print('Best score:')\n",
    "#lr_grid_search.best_score_"
   ]
  },
  {
   "cell_type": "code",
   "execution_count": 113,
   "id": "e5726d17",
   "metadata": {},
   "outputs": [],
   "source": [
    "#print('Best Params:')\n",
    "#lr_grid_search.best_params_"
   ]
  },
  {
   "cell_type": "code",
   "execution_count": 114,
   "id": "dde89676",
   "metadata": {},
   "outputs": [],
   "source": [
    "#Non pipeline rand SCORE AND PREDICTION\n",
    "\n",
    "#lr_rand_predicted= lr_rand_search.predict(tfid_vect_test_vectors) \n",
    "#np.mean(lr_rand_predicted == testDF['Category'])"
   ]
  },
  {
   "cell_type": "code",
   "execution_count": 115,
   "id": "797caeea",
   "metadata": {},
   "outputs": [],
   "source": [
    "#print('Best score:')\n",
    "#lr_rand_search.best_score_"
   ]
  },
  {
   "cell_type": "code",
   "execution_count": 116,
   "id": "b1c8553e",
   "metadata": {},
   "outputs": [],
   "source": [
    "#print('Best Params:')\n",
    "#lr_rand_search.best_params_"
   ]
  },
  {
   "cell_type": "code",
   "execution_count": 143,
   "id": "8025d17e",
   "metadata": {},
   "outputs": [
    {
     "data": {
      "text/plain": [
       "0.8531598513011153"
      ]
     },
     "execution_count": 143,
     "metadata": {},
     "output_type": "execute_result"
    }
   ],
   "source": [
    "#Pipeline grid SCORE AND PREDICTION\n",
    "\n",
    "pipeline_lr_grid_predicted = pipeline_lr_grid_search.predict(testDF['Text']) #Pipeline\n",
    "np.mean(pipeline_lr_grid_predicted == testDF['Category'])"
   ]
  },
  {
   "cell_type": "code",
   "execution_count": 144,
   "id": "2f3f909d",
   "metadata": {},
   "outputs": [
    {
     "name": "stdout",
     "output_type": "stream",
     "text": [
      "Best score:\n"
     ]
    },
    {
     "data": {
      "text/plain": [
       "0.92849601067103"
      ]
     },
     "execution_count": 144,
     "metadata": {},
     "output_type": "execute_result"
    }
   ],
   "source": [
    "print('Best score:')\n",
    "pipeline_lr_grid_search.best_score_"
   ]
  },
  {
   "cell_type": "code",
   "execution_count": 145,
   "id": "038b97ca",
   "metadata": {},
   "outputs": [
    {
     "name": "stdout",
     "output_type": "stream",
     "text": [
      "Best Params:\n"
     ]
    },
    {
     "data": {
      "text/plain": [
       "{'lr__C': 65,\n",
       " 'lr__penalty': 'l2',\n",
       " 'lr__solver': 'saga',\n",
       " 'vect__max_df': 0.145,\n",
       " 'vect__norm': 'l2',\n",
       " 'vect__smooth_idf': False,\n",
       " 'vect__sublinear_tf': True,\n",
       " 'vect__use_idf': True}"
      ]
     },
     "execution_count": 145,
     "metadata": {},
     "output_type": "execute_result"
    }
   ],
   "source": [
    "print('Best Params:')\n",
    "pipeline_lr_grid_search.best_params_"
   ]
  },
  {
   "cell_type": "code",
   "execution_count": 151,
   "id": "f872af24",
   "metadata": {},
   "outputs": [
    {
     "data": {
      "text/plain": [
       "0.8524960169941582"
      ]
     },
     "execution_count": 151,
     "metadata": {},
     "output_type": "execute_result"
    }
   ],
   "source": [
    "#Pipeline rand SCORE AND PREDICTION\n",
    " \n",
    "pipeline_lr_rand_predicted= pipeline_lr_rand_search.predict(testDF['Text']) \n",
    "np.mean(pipeline_lr_rand_predicted == testDF['Category'])"
   ]
  },
  {
   "cell_type": "code",
   "execution_count": 152,
   "id": "efdb116d",
   "metadata": {},
   "outputs": [
    {
     "name": "stdout",
     "output_type": "stream",
     "text": [
      "Best score:\n"
     ]
    },
    {
     "data": {
      "text/plain": [
       "0.9280540021637437"
      ]
     },
     "execution_count": 152,
     "metadata": {},
     "output_type": "execute_result"
    }
   ],
   "source": [
    "print('Best score:')\n",
    "pipeline_lr_rand_search.best_score_"
   ]
  },
  {
   "cell_type": "code",
   "execution_count": 148,
   "id": "879a4d5e",
   "metadata": {},
   "outputs": [
    {
     "name": "stdout",
     "output_type": "stream",
     "text": [
      "Best Params:\n"
     ]
    },
    {
     "data": {
      "text/plain": [
       "{'vect__use_idf': True,\n",
       " 'vect__sublinear_tf': True,\n",
       " 'vect__smooth_idf': False,\n",
       " 'vect__norm': 'l2',\n",
       " 'vect__max_df': 0.145,\n",
       " 'lr__solver': 'saga',\n",
       " 'lr__penalty': 'l2',\n",
       " 'lr__C': 65}"
      ]
     },
     "execution_count": 148,
     "metadata": {},
     "output_type": "execute_result"
    }
   ],
   "source": [
    "print('Best Params:')\n",
    "pipeline_lr_rand_search.best_params_"
   ]
  },
  {
   "cell_type": "code",
   "execution_count": 149,
   "id": "64c896af",
   "metadata": {},
   "outputs": [
    {
     "data": {
      "text/plain": [
       "{'mean_fit_time': array([16.14059753]),\n",
       " 'std_fit_time': array([0.33243399]),\n",
       " 'mean_score_time': array([0.48924208]),\n",
       " 'std_score_time': array([0.02468666]),\n",
       " 'param_vect__use_idf': masked_array(data=[True],\n",
       "              mask=[False],\n",
       "        fill_value='?',\n",
       "             dtype=object),\n",
       " 'param_vect__sublinear_tf': masked_array(data=[True],\n",
       "              mask=[False],\n",
       "        fill_value='?',\n",
       "             dtype=object),\n",
       " 'param_vect__smooth_idf': masked_array(data=[False],\n",
       "              mask=[False],\n",
       "        fill_value='?',\n",
       "             dtype=object),\n",
       " 'param_vect__norm': masked_array(data=['l2'],\n",
       "              mask=[False],\n",
       "        fill_value='?',\n",
       "             dtype=object),\n",
       " 'param_vect__max_df': masked_array(data=[0.145],\n",
       "              mask=[False],\n",
       "        fill_value='?',\n",
       "             dtype=object),\n",
       " 'param_lr__solver': masked_array(data=['saga'],\n",
       "              mask=[False],\n",
       "        fill_value='?',\n",
       "             dtype=object),\n",
       " 'param_lr__penalty': masked_array(data=['l2'],\n",
       "              mask=[False],\n",
       "        fill_value='?',\n",
       "             dtype=object),\n",
       " 'param_lr__C': masked_array(data=[65],\n",
       "              mask=[False],\n",
       "        fill_value='?',\n",
       "             dtype=object),\n",
       " 'params': [{'vect__use_idf': True,\n",
       "   'vect__sublinear_tf': True,\n",
       "   'vect__smooth_idf': False,\n",
       "   'vect__norm': 'l2',\n",
       "   'vect__max_df': 0.145,\n",
       "   'lr__solver': 'saga',\n",
       "   'lr__penalty': 'l2',\n",
       "   'lr__C': 65}],\n",
       " 'split0_test_score': array([0.92929739]),\n",
       " 'split1_test_score': array([0.92134335]),\n",
       " 'split2_test_score': array([0.92532037]),\n",
       " 'split3_test_score': array([0.93327441]),\n",
       " 'split4_test_score': array([0.93103448]),\n",
       " 'mean_test_score': array([0.928054]),\n",
       " 'std_test_score': array([0.00424706]),\n",
       " 'rank_test_score': array([1])}"
      ]
     },
     "execution_count": 149,
     "metadata": {},
     "output_type": "execute_result"
    }
   ],
   "source": [
    "pipeline_lr_rand_search.cv_results_"
   ]
  },
  {
   "cell_type": "code",
   "execution_count": 150,
   "id": "c226ab0a",
   "metadata": {},
   "outputs": [
    {
     "data": {
      "text/plain": [
       "{'mean_fit_time': array([15.96997051]),\n",
       " 'std_fit_time': array([0.14369765]),\n",
       " 'mean_score_time': array([0.49327431]),\n",
       " 'std_score_time': array([0.01870672]),\n",
       " 'param_lr__C': masked_array(data=[65],\n",
       "              mask=[False],\n",
       "        fill_value='?',\n",
       "             dtype=object),\n",
       " 'param_lr__penalty': masked_array(data=['l2'],\n",
       "              mask=[False],\n",
       "        fill_value='?',\n",
       "             dtype=object),\n",
       " 'param_lr__solver': masked_array(data=['saga'],\n",
       "              mask=[False],\n",
       "        fill_value='?',\n",
       "             dtype=object),\n",
       " 'param_vect__max_df': masked_array(data=[0.145],\n",
       "              mask=[False],\n",
       "        fill_value='?',\n",
       "             dtype=object),\n",
       " 'param_vect__norm': masked_array(data=['l2'],\n",
       "              mask=[False],\n",
       "        fill_value='?',\n",
       "             dtype=object),\n",
       " 'param_vect__smooth_idf': masked_array(data=[False],\n",
       "              mask=[False],\n",
       "        fill_value='?',\n",
       "             dtype=object),\n",
       " 'param_vect__sublinear_tf': masked_array(data=[True],\n",
       "              mask=[False],\n",
       "        fill_value='?',\n",
       "             dtype=object),\n",
       " 'param_vect__use_idf': masked_array(data=[True],\n",
       "              mask=[False],\n",
       "        fill_value='?',\n",
       "             dtype=object),\n",
       " 'params': [{'lr__C': 65,\n",
       "   'lr__penalty': 'l2',\n",
       "   'lr__solver': 'saga',\n",
       "   'vect__max_df': 0.145,\n",
       "   'vect__norm': 'l2',\n",
       "   'vect__smooth_idf': False,\n",
       "   'vect__sublinear_tf': True,\n",
       "   'vect__use_idf': True}],\n",
       " 'split0_test_score': array([0.92797172]),\n",
       " 'split1_test_score': array([0.92311091]),\n",
       " 'split2_test_score': array([0.92620415]),\n",
       " 'split3_test_score': array([0.93283252]),\n",
       " 'split4_test_score': array([0.93236074]),\n",
       " 'mean_test_score': array([0.92849601]),\n",
       " 'std_test_score': array([0.00369508]),\n",
       " 'rank_test_score': array([1])}"
      ]
     },
     "execution_count": 150,
     "metadata": {},
     "output_type": "execute_result"
    }
   ],
   "source": [
    "pipeline_lr_grid_search.cv_results_"
   ]
  },
  {
   "cell_type": "code",
   "execution_count": 137,
   "id": "590443d6",
   "metadata": {},
   "outputs": [
    {
     "ename": "NameError",
     "evalue": "name 'lr_predicted' is not defined",
     "output_type": "error",
     "traceback": [
      "\u001b[1;31m---------------------------------------------------------------------------\u001b[0m",
      "\u001b[1;31mNameError\u001b[0m                                 Traceback (most recent call last)",
      "Input \u001b[1;32mIn [137]\u001b[0m, in \u001b[0;36m<module>\u001b[1;34m\u001b[0m\n\u001b[1;32m----> 1\u001b[0m cm \u001b[38;5;241m=\u001b[39m confusion_matrix(testDF[\u001b[38;5;124m'\u001b[39m\u001b[38;5;124mCategory\u001b[39m\u001b[38;5;124m'\u001b[39m], \u001b[43mlr_predicted\u001b[49m)\n\u001b[0;32m      2\u001b[0m plt\u001b[38;5;241m.\u001b[39mfigure(figsize\u001b[38;5;241m=\u001b[39m(\u001b[38;5;241m15\u001b[39m,\u001b[38;5;241m15\u001b[39m))\n\u001b[0;32m      3\u001b[0m sns\u001b[38;5;241m.\u001b[39mheatmap(cm, xticklabels\u001b[38;5;241m=\u001b[39mtestDF[\u001b[38;5;124m'\u001b[39m\u001b[38;5;124mCategory\u001b[39m\u001b[38;5;124m'\u001b[39m], yticklabels\u001b[38;5;241m=\u001b[39mtestDF[\u001b[38;5;124m'\u001b[39m\u001b[38;5;124mCategory\u001b[39m\u001b[38;5;124m'\u001b[39m], annot\u001b[38;5;241m=\u001b[39m\u001b[38;5;28;01mTrue\u001b[39;00m, fmt\u001b[38;5;241m=\u001b[39m\u001b[38;5;124m\"\u001b[39m\u001b[38;5;124m.2f\u001b[39m\u001b[38;5;124m\"\u001b[39m, linewidths\u001b[38;5;241m=\u001b[39m\u001b[38;5;241m.5\u001b[39m, square \u001b[38;5;241m=\u001b[39m \u001b[38;5;28;01mTrue\u001b[39;00m, cmap \u001b[38;5;241m=\u001b[39m \u001b[38;5;124m'\u001b[39m\u001b[38;5;124mBlues_r\u001b[39m\u001b[38;5;124m'\u001b[39m);\n",
      "\u001b[1;31mNameError\u001b[0m: name 'lr_predicted' is not defined"
     ]
    }
   ],
   "source": [
    "cm = confusion_matrix(testDF['Category'], lr_predicted)\n",
    "plt.figure(figsize=(15,15))\n",
    "sns.heatmap(cm, xticklabels=testDF['Category'], yticklabels=testDF['Category'], annot=True, fmt=\".2f\", linewidths=.5, square = True, cmap = 'Blues_r');\n",
    "plt.ylabel('Actual label');\n",
    "plt.xlabel('Predicted label');\n",
    "all_sample_title = 'Accuracy Score: {0}'.format(accuracy_score(testDF['Category'], lr_predicted))\n",
    "plt.title(all_sample_title, size = 15);"
   ]
  },
  {
   "cell_type": "code",
   "execution_count": null,
   "id": "e2f2e4c1",
   "metadata": {},
   "outputs": [],
   "source": []
  },
  {
   "cell_type": "code",
   "execution_count": null,
   "id": "4977878e",
   "metadata": {},
   "outputs": [],
   "source": []
  }
 ],
 "metadata": {
  "kernelspec": {
   "display_name": "Python 3 (ipykernel)",
   "language": "python",
   "name": "python3"
  },
  "language_info": {
   "codemirror_mode": {
    "name": "ipython",
    "version": 3
   },
   "file_extension": ".py",
   "mimetype": "text/x-python",
   "name": "python",
   "nbconvert_exporter": "python",
   "pygments_lexer": "ipython3",
   "version": "3.9.7"
  }
 },
 "nbformat": 4,
 "nbformat_minor": 5
}
