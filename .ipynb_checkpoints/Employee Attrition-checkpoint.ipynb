{
 "cells": [
  {
   "cell_type": "code",
   "execution_count": 1,
   "id": "2a025ab6",
   "metadata": {},
   "outputs": [
    {
     "data": {
      "text/html": [
       "<div>\n",
       "<style scoped>\n",
       "    .dataframe tbody tr th:only-of-type {\n",
       "        vertical-align: middle;\n",
       "    }\n",
       "\n",
       "    .dataframe tbody tr th {\n",
       "        vertical-align: top;\n",
       "    }\n",
       "\n",
       "    .dataframe thead th {\n",
       "        text-align: right;\n",
       "    }\n",
       "</style>\n",
       "<table border=\"1\" class=\"dataframe\">\n",
       "  <thead>\n",
       "    <tr style=\"text-align: right;\">\n",
       "      <th></th>\n",
       "      <th>Age</th>\n",
       "      <th>Attrition</th>\n",
       "      <th>BusinessTravel</th>\n",
       "      <th>DailyRate</th>\n",
       "      <th>Department</th>\n",
       "      <th>DistanceFromHome</th>\n",
       "      <th>Education</th>\n",
       "      <th>EducationField</th>\n",
       "      <th>EmployeeCount</th>\n",
       "      <th>EmployeeNumber</th>\n",
       "      <th>...</th>\n",
       "      <th>RelationshipSatisfaction</th>\n",
       "      <th>StandardHours</th>\n",
       "      <th>StockOptionLevel</th>\n",
       "      <th>TotalWorkingYears</th>\n",
       "      <th>TrainingTimesLastYear</th>\n",
       "      <th>WorkLifeBalance</th>\n",
       "      <th>YearsAtCompany</th>\n",
       "      <th>YearsInCurrentRole</th>\n",
       "      <th>YearsSinceLastPromotion</th>\n",
       "      <th>YearsWithCurrManager</th>\n",
       "    </tr>\n",
       "  </thead>\n",
       "  <tbody>\n",
       "    <tr>\n",
       "      <th>0</th>\n",
       "      <td>41</td>\n",
       "      <td>Yes</td>\n",
       "      <td>Travel_Rarely</td>\n",
       "      <td>1102</td>\n",
       "      <td>Sales</td>\n",
       "      <td>1</td>\n",
       "      <td>2</td>\n",
       "      <td>Life Sciences</td>\n",
       "      <td>1</td>\n",
       "      <td>1</td>\n",
       "      <td>...</td>\n",
       "      <td>1</td>\n",
       "      <td>80</td>\n",
       "      <td>0</td>\n",
       "      <td>8</td>\n",
       "      <td>0</td>\n",
       "      <td>1</td>\n",
       "      <td>6</td>\n",
       "      <td>4</td>\n",
       "      <td>0</td>\n",
       "      <td>5</td>\n",
       "    </tr>\n",
       "    <tr>\n",
       "      <th>1</th>\n",
       "      <td>49</td>\n",
       "      <td>No</td>\n",
       "      <td>Travel_Frequently</td>\n",
       "      <td>279</td>\n",
       "      <td>Research &amp; Development</td>\n",
       "      <td>8</td>\n",
       "      <td>1</td>\n",
       "      <td>Life Sciences</td>\n",
       "      <td>1</td>\n",
       "      <td>2</td>\n",
       "      <td>...</td>\n",
       "      <td>4</td>\n",
       "      <td>80</td>\n",
       "      <td>1</td>\n",
       "      <td>10</td>\n",
       "      <td>3</td>\n",
       "      <td>3</td>\n",
       "      <td>10</td>\n",
       "      <td>7</td>\n",
       "      <td>1</td>\n",
       "      <td>7</td>\n",
       "    </tr>\n",
       "    <tr>\n",
       "      <th>2</th>\n",
       "      <td>37</td>\n",
       "      <td>Yes</td>\n",
       "      <td>Travel_Rarely</td>\n",
       "      <td>1373</td>\n",
       "      <td>Research &amp; Development</td>\n",
       "      <td>2</td>\n",
       "      <td>2</td>\n",
       "      <td>Other</td>\n",
       "      <td>1</td>\n",
       "      <td>4</td>\n",
       "      <td>...</td>\n",
       "      <td>2</td>\n",
       "      <td>80</td>\n",
       "      <td>0</td>\n",
       "      <td>7</td>\n",
       "      <td>3</td>\n",
       "      <td>3</td>\n",
       "      <td>0</td>\n",
       "      <td>0</td>\n",
       "      <td>0</td>\n",
       "      <td>0</td>\n",
       "    </tr>\n",
       "    <tr>\n",
       "      <th>3</th>\n",
       "      <td>33</td>\n",
       "      <td>No</td>\n",
       "      <td>Travel_Frequently</td>\n",
       "      <td>1392</td>\n",
       "      <td>Research &amp; Development</td>\n",
       "      <td>3</td>\n",
       "      <td>4</td>\n",
       "      <td>Life Sciences</td>\n",
       "      <td>1</td>\n",
       "      <td>5</td>\n",
       "      <td>...</td>\n",
       "      <td>3</td>\n",
       "      <td>80</td>\n",
       "      <td>0</td>\n",
       "      <td>8</td>\n",
       "      <td>3</td>\n",
       "      <td>3</td>\n",
       "      <td>8</td>\n",
       "      <td>7</td>\n",
       "      <td>3</td>\n",
       "      <td>0</td>\n",
       "    </tr>\n",
       "    <tr>\n",
       "      <th>4</th>\n",
       "      <td>27</td>\n",
       "      <td>No</td>\n",
       "      <td>Travel_Rarely</td>\n",
       "      <td>591</td>\n",
       "      <td>Research &amp; Development</td>\n",
       "      <td>2</td>\n",
       "      <td>1</td>\n",
       "      <td>Medical</td>\n",
       "      <td>1</td>\n",
       "      <td>7</td>\n",
       "      <td>...</td>\n",
       "      <td>4</td>\n",
       "      <td>80</td>\n",
       "      <td>1</td>\n",
       "      <td>6</td>\n",
       "      <td>3</td>\n",
       "      <td>3</td>\n",
       "      <td>2</td>\n",
       "      <td>2</td>\n",
       "      <td>2</td>\n",
       "      <td>2</td>\n",
       "    </tr>\n",
       "  </tbody>\n",
       "</table>\n",
       "<p>5 rows × 35 columns</p>\n",
       "</div>"
      ],
      "text/plain": [
       "   Age Attrition     BusinessTravel  DailyRate              Department  \\\n",
       "0   41       Yes      Travel_Rarely       1102                   Sales   \n",
       "1   49        No  Travel_Frequently        279  Research & Development   \n",
       "2   37       Yes      Travel_Rarely       1373  Research & Development   \n",
       "3   33        No  Travel_Frequently       1392  Research & Development   \n",
       "4   27        No      Travel_Rarely        591  Research & Development   \n",
       "\n",
       "   DistanceFromHome  Education EducationField  EmployeeCount  EmployeeNumber  \\\n",
       "0                 1          2  Life Sciences              1               1   \n",
       "1                 8          1  Life Sciences              1               2   \n",
       "2                 2          2          Other              1               4   \n",
       "3                 3          4  Life Sciences              1               5   \n",
       "4                 2          1        Medical              1               7   \n",
       "\n",
       "   ...  RelationshipSatisfaction StandardHours  StockOptionLevel  \\\n",
       "0  ...                         1            80                 0   \n",
       "1  ...                         4            80                 1   \n",
       "2  ...                         2            80                 0   \n",
       "3  ...                         3            80                 0   \n",
       "4  ...                         4            80                 1   \n",
       "\n",
       "   TotalWorkingYears  TrainingTimesLastYear WorkLifeBalance  YearsAtCompany  \\\n",
       "0                  8                      0               1               6   \n",
       "1                 10                      3               3              10   \n",
       "2                  7                      3               3               0   \n",
       "3                  8                      3               3               8   \n",
       "4                  6                      3               3               2   \n",
       "\n",
       "  YearsInCurrentRole  YearsSinceLastPromotion  YearsWithCurrManager  \n",
       "0                  4                        0                     5  \n",
       "1                  7                        1                     7  \n",
       "2                  0                        0                     0  \n",
       "3                  7                        3                     0  \n",
       "4                  2                        2                     2  \n",
       "\n",
       "[5 rows x 35 columns]"
      ]
     },
     "execution_count": 1,
     "metadata": {},
     "output_type": "execute_result"
    }
   ],
   "source": [
    "import pandas as pd\n",
    "import numpy as np\n",
    "import matplotlib.pyplot as plt \n",
    "import seaborn as sns\n",
    "\n",
    "IMPORT_ROOT = (r\"C:\\Users\\James\\machinelearning\\Datasets\\WA_Fn-UseC_-HR-Employee-Attrition.csv\")\n",
    "\n",
    "attritionData = pd.read_csv(IMPORT_ROOT)\n",
    "attritionData.head()"
   ]
  },
  {
   "cell_type": "code",
   "execution_count": 2,
   "id": "e8be8965",
   "metadata": {},
   "outputs": [
    {
     "name": "stdout",
     "output_type": "stream",
     "text": [
      "<class 'pandas.core.frame.DataFrame'>\n",
      "RangeIndex: 1470 entries, 0 to 1469\n",
      "Data columns (total 35 columns):\n",
      " #   Column                    Non-Null Count  Dtype \n",
      "---  ------                    --------------  ----- \n",
      " 0   Age                       1470 non-null   int64 \n",
      " 1   Attrition                 1470 non-null   object\n",
      " 2   BusinessTravel            1470 non-null   object\n",
      " 3   DailyRate                 1470 non-null   int64 \n",
      " 4   Department                1470 non-null   object\n",
      " 5   DistanceFromHome          1470 non-null   int64 \n",
      " 6   Education                 1470 non-null   int64 \n",
      " 7   EducationField            1470 non-null   object\n",
      " 8   EmployeeCount             1470 non-null   int64 \n",
      " 9   EmployeeNumber            1470 non-null   int64 \n",
      " 10  EnvironmentSatisfaction   1470 non-null   int64 \n",
      " 11  Gender                    1470 non-null   object\n",
      " 12  HourlyRate                1470 non-null   int64 \n",
      " 13  JobInvolvement            1470 non-null   int64 \n",
      " 14  JobLevel                  1470 non-null   int64 \n",
      " 15  JobRole                   1470 non-null   object\n",
      " 16  JobSatisfaction           1470 non-null   int64 \n",
      " 17  MaritalStatus             1470 non-null   object\n",
      " 18  MonthlyIncome             1470 non-null   int64 \n",
      " 19  MonthlyRate               1470 non-null   int64 \n",
      " 20  NumCompaniesWorked        1470 non-null   int64 \n",
      " 21  Over18                    1470 non-null   object\n",
      " 22  OverTime                  1470 non-null   object\n",
      " 23  PercentSalaryHike         1470 non-null   int64 \n",
      " 24  PerformanceRating         1470 non-null   int64 \n",
      " 25  RelationshipSatisfaction  1470 non-null   int64 \n",
      " 26  StandardHours             1470 non-null   int64 \n",
      " 27  StockOptionLevel          1470 non-null   int64 \n",
      " 28  TotalWorkingYears         1470 non-null   int64 \n",
      " 29  TrainingTimesLastYear     1470 non-null   int64 \n",
      " 30  WorkLifeBalance           1470 non-null   int64 \n",
      " 31  YearsAtCompany            1470 non-null   int64 \n",
      " 32  YearsInCurrentRole        1470 non-null   int64 \n",
      " 33  YearsSinceLastPromotion   1470 non-null   int64 \n",
      " 34  YearsWithCurrManager      1470 non-null   int64 \n",
      "dtypes: int64(26), object(9)\n",
      "memory usage: 402.1+ KB\n"
     ]
    }
   ],
   "source": [
    "attritionData.info()"
   ]
  },
  {
   "cell_type": "code",
   "execution_count": 3,
   "id": "85ba408a",
   "metadata": {},
   "outputs": [
    {
     "data": {
      "text/html": [
       "<div>\n",
       "<style scoped>\n",
       "    .dataframe tbody tr th:only-of-type {\n",
       "        vertical-align: middle;\n",
       "    }\n",
       "\n",
       "    .dataframe tbody tr th {\n",
       "        vertical-align: top;\n",
       "    }\n",
       "\n",
       "    .dataframe thead th {\n",
       "        text-align: right;\n",
       "    }\n",
       "</style>\n",
       "<table border=\"1\" class=\"dataframe\">\n",
       "  <thead>\n",
       "    <tr style=\"text-align: right;\">\n",
       "      <th></th>\n",
       "      <th>Age</th>\n",
       "      <th>DailyRate</th>\n",
       "      <th>DistanceFromHome</th>\n",
       "      <th>Education</th>\n",
       "      <th>EmployeeCount</th>\n",
       "      <th>EmployeeNumber</th>\n",
       "      <th>EnvironmentSatisfaction</th>\n",
       "      <th>HourlyRate</th>\n",
       "      <th>JobInvolvement</th>\n",
       "      <th>JobLevel</th>\n",
       "      <th>...</th>\n",
       "      <th>RelationshipSatisfaction</th>\n",
       "      <th>StandardHours</th>\n",
       "      <th>StockOptionLevel</th>\n",
       "      <th>TotalWorkingYears</th>\n",
       "      <th>TrainingTimesLastYear</th>\n",
       "      <th>WorkLifeBalance</th>\n",
       "      <th>YearsAtCompany</th>\n",
       "      <th>YearsInCurrentRole</th>\n",
       "      <th>YearsSinceLastPromotion</th>\n",
       "      <th>YearsWithCurrManager</th>\n",
       "    </tr>\n",
       "  </thead>\n",
       "  <tbody>\n",
       "    <tr>\n",
       "      <th>count</th>\n",
       "      <td>1470.000000</td>\n",
       "      <td>1470.000000</td>\n",
       "      <td>1470.000000</td>\n",
       "      <td>1470.000000</td>\n",
       "      <td>1470.0</td>\n",
       "      <td>1470.000000</td>\n",
       "      <td>1470.000000</td>\n",
       "      <td>1470.000000</td>\n",
       "      <td>1470.000000</td>\n",
       "      <td>1470.000000</td>\n",
       "      <td>...</td>\n",
       "      <td>1470.000000</td>\n",
       "      <td>1470.0</td>\n",
       "      <td>1470.000000</td>\n",
       "      <td>1470.000000</td>\n",
       "      <td>1470.000000</td>\n",
       "      <td>1470.000000</td>\n",
       "      <td>1470.000000</td>\n",
       "      <td>1470.000000</td>\n",
       "      <td>1470.000000</td>\n",
       "      <td>1470.000000</td>\n",
       "    </tr>\n",
       "    <tr>\n",
       "      <th>mean</th>\n",
       "      <td>36.923810</td>\n",
       "      <td>802.485714</td>\n",
       "      <td>9.192517</td>\n",
       "      <td>2.912925</td>\n",
       "      <td>1.0</td>\n",
       "      <td>1024.865306</td>\n",
       "      <td>2.721769</td>\n",
       "      <td>65.891156</td>\n",
       "      <td>2.729932</td>\n",
       "      <td>2.063946</td>\n",
       "      <td>...</td>\n",
       "      <td>2.712245</td>\n",
       "      <td>80.0</td>\n",
       "      <td>0.793878</td>\n",
       "      <td>11.279592</td>\n",
       "      <td>2.799320</td>\n",
       "      <td>2.761224</td>\n",
       "      <td>7.008163</td>\n",
       "      <td>4.229252</td>\n",
       "      <td>2.187755</td>\n",
       "      <td>4.123129</td>\n",
       "    </tr>\n",
       "    <tr>\n",
       "      <th>std</th>\n",
       "      <td>9.135373</td>\n",
       "      <td>403.509100</td>\n",
       "      <td>8.106864</td>\n",
       "      <td>1.024165</td>\n",
       "      <td>0.0</td>\n",
       "      <td>602.024335</td>\n",
       "      <td>1.093082</td>\n",
       "      <td>20.329428</td>\n",
       "      <td>0.711561</td>\n",
       "      <td>1.106940</td>\n",
       "      <td>...</td>\n",
       "      <td>1.081209</td>\n",
       "      <td>0.0</td>\n",
       "      <td>0.852077</td>\n",
       "      <td>7.780782</td>\n",
       "      <td>1.289271</td>\n",
       "      <td>0.706476</td>\n",
       "      <td>6.126525</td>\n",
       "      <td>3.623137</td>\n",
       "      <td>3.222430</td>\n",
       "      <td>3.568136</td>\n",
       "    </tr>\n",
       "    <tr>\n",
       "      <th>min</th>\n",
       "      <td>18.000000</td>\n",
       "      <td>102.000000</td>\n",
       "      <td>1.000000</td>\n",
       "      <td>1.000000</td>\n",
       "      <td>1.0</td>\n",
       "      <td>1.000000</td>\n",
       "      <td>1.000000</td>\n",
       "      <td>30.000000</td>\n",
       "      <td>1.000000</td>\n",
       "      <td>1.000000</td>\n",
       "      <td>...</td>\n",
       "      <td>1.000000</td>\n",
       "      <td>80.0</td>\n",
       "      <td>0.000000</td>\n",
       "      <td>0.000000</td>\n",
       "      <td>0.000000</td>\n",
       "      <td>1.000000</td>\n",
       "      <td>0.000000</td>\n",
       "      <td>0.000000</td>\n",
       "      <td>0.000000</td>\n",
       "      <td>0.000000</td>\n",
       "    </tr>\n",
       "    <tr>\n",
       "      <th>25%</th>\n",
       "      <td>30.000000</td>\n",
       "      <td>465.000000</td>\n",
       "      <td>2.000000</td>\n",
       "      <td>2.000000</td>\n",
       "      <td>1.0</td>\n",
       "      <td>491.250000</td>\n",
       "      <td>2.000000</td>\n",
       "      <td>48.000000</td>\n",
       "      <td>2.000000</td>\n",
       "      <td>1.000000</td>\n",
       "      <td>...</td>\n",
       "      <td>2.000000</td>\n",
       "      <td>80.0</td>\n",
       "      <td>0.000000</td>\n",
       "      <td>6.000000</td>\n",
       "      <td>2.000000</td>\n",
       "      <td>2.000000</td>\n",
       "      <td>3.000000</td>\n",
       "      <td>2.000000</td>\n",
       "      <td>0.000000</td>\n",
       "      <td>2.000000</td>\n",
       "    </tr>\n",
       "    <tr>\n",
       "      <th>50%</th>\n",
       "      <td>36.000000</td>\n",
       "      <td>802.000000</td>\n",
       "      <td>7.000000</td>\n",
       "      <td>3.000000</td>\n",
       "      <td>1.0</td>\n",
       "      <td>1020.500000</td>\n",
       "      <td>3.000000</td>\n",
       "      <td>66.000000</td>\n",
       "      <td>3.000000</td>\n",
       "      <td>2.000000</td>\n",
       "      <td>...</td>\n",
       "      <td>3.000000</td>\n",
       "      <td>80.0</td>\n",
       "      <td>1.000000</td>\n",
       "      <td>10.000000</td>\n",
       "      <td>3.000000</td>\n",
       "      <td>3.000000</td>\n",
       "      <td>5.000000</td>\n",
       "      <td>3.000000</td>\n",
       "      <td>1.000000</td>\n",
       "      <td>3.000000</td>\n",
       "    </tr>\n",
       "    <tr>\n",
       "      <th>75%</th>\n",
       "      <td>43.000000</td>\n",
       "      <td>1157.000000</td>\n",
       "      <td>14.000000</td>\n",
       "      <td>4.000000</td>\n",
       "      <td>1.0</td>\n",
       "      <td>1555.750000</td>\n",
       "      <td>4.000000</td>\n",
       "      <td>83.750000</td>\n",
       "      <td>3.000000</td>\n",
       "      <td>3.000000</td>\n",
       "      <td>...</td>\n",
       "      <td>4.000000</td>\n",
       "      <td>80.0</td>\n",
       "      <td>1.000000</td>\n",
       "      <td>15.000000</td>\n",
       "      <td>3.000000</td>\n",
       "      <td>3.000000</td>\n",
       "      <td>9.000000</td>\n",
       "      <td>7.000000</td>\n",
       "      <td>3.000000</td>\n",
       "      <td>7.000000</td>\n",
       "    </tr>\n",
       "    <tr>\n",
       "      <th>max</th>\n",
       "      <td>60.000000</td>\n",
       "      <td>1499.000000</td>\n",
       "      <td>29.000000</td>\n",
       "      <td>5.000000</td>\n",
       "      <td>1.0</td>\n",
       "      <td>2068.000000</td>\n",
       "      <td>4.000000</td>\n",
       "      <td>100.000000</td>\n",
       "      <td>4.000000</td>\n",
       "      <td>5.000000</td>\n",
       "      <td>...</td>\n",
       "      <td>4.000000</td>\n",
       "      <td>80.0</td>\n",
       "      <td>3.000000</td>\n",
       "      <td>40.000000</td>\n",
       "      <td>6.000000</td>\n",
       "      <td>4.000000</td>\n",
       "      <td>40.000000</td>\n",
       "      <td>18.000000</td>\n",
       "      <td>15.000000</td>\n",
       "      <td>17.000000</td>\n",
       "    </tr>\n",
       "  </tbody>\n",
       "</table>\n",
       "<p>8 rows × 26 columns</p>\n",
       "</div>"
      ],
      "text/plain": [
       "               Age    DailyRate  DistanceFromHome    Education  EmployeeCount  \\\n",
       "count  1470.000000  1470.000000       1470.000000  1470.000000         1470.0   \n",
       "mean     36.923810   802.485714          9.192517     2.912925            1.0   \n",
       "std       9.135373   403.509100          8.106864     1.024165            0.0   \n",
       "min      18.000000   102.000000          1.000000     1.000000            1.0   \n",
       "25%      30.000000   465.000000          2.000000     2.000000            1.0   \n",
       "50%      36.000000   802.000000          7.000000     3.000000            1.0   \n",
       "75%      43.000000  1157.000000         14.000000     4.000000            1.0   \n",
       "max      60.000000  1499.000000         29.000000     5.000000            1.0   \n",
       "\n",
       "       EmployeeNumber  EnvironmentSatisfaction   HourlyRate  JobInvolvement  \\\n",
       "count     1470.000000              1470.000000  1470.000000     1470.000000   \n",
       "mean      1024.865306                 2.721769    65.891156        2.729932   \n",
       "std        602.024335                 1.093082    20.329428        0.711561   \n",
       "min          1.000000                 1.000000    30.000000        1.000000   \n",
       "25%        491.250000                 2.000000    48.000000        2.000000   \n",
       "50%       1020.500000                 3.000000    66.000000        3.000000   \n",
       "75%       1555.750000                 4.000000    83.750000        3.000000   \n",
       "max       2068.000000                 4.000000   100.000000        4.000000   \n",
       "\n",
       "          JobLevel  ...  RelationshipSatisfaction  StandardHours  \\\n",
       "count  1470.000000  ...               1470.000000         1470.0   \n",
       "mean      2.063946  ...                  2.712245           80.0   \n",
       "std       1.106940  ...                  1.081209            0.0   \n",
       "min       1.000000  ...                  1.000000           80.0   \n",
       "25%       1.000000  ...                  2.000000           80.0   \n",
       "50%       2.000000  ...                  3.000000           80.0   \n",
       "75%       3.000000  ...                  4.000000           80.0   \n",
       "max       5.000000  ...                  4.000000           80.0   \n",
       "\n",
       "       StockOptionLevel  TotalWorkingYears  TrainingTimesLastYear  \\\n",
       "count       1470.000000        1470.000000            1470.000000   \n",
       "mean           0.793878          11.279592               2.799320   \n",
       "std            0.852077           7.780782               1.289271   \n",
       "min            0.000000           0.000000               0.000000   \n",
       "25%            0.000000           6.000000               2.000000   \n",
       "50%            1.000000          10.000000               3.000000   \n",
       "75%            1.000000          15.000000               3.000000   \n",
       "max            3.000000          40.000000               6.000000   \n",
       "\n",
       "       WorkLifeBalance  YearsAtCompany  YearsInCurrentRole  \\\n",
       "count      1470.000000     1470.000000         1470.000000   \n",
       "mean          2.761224        7.008163            4.229252   \n",
       "std           0.706476        6.126525            3.623137   \n",
       "min           1.000000        0.000000            0.000000   \n",
       "25%           2.000000        3.000000            2.000000   \n",
       "50%           3.000000        5.000000            3.000000   \n",
       "75%           3.000000        9.000000            7.000000   \n",
       "max           4.000000       40.000000           18.000000   \n",
       "\n",
       "       YearsSinceLastPromotion  YearsWithCurrManager  \n",
       "count              1470.000000           1470.000000  \n",
       "mean                  2.187755              4.123129  \n",
       "std                   3.222430              3.568136  \n",
       "min                   0.000000              0.000000  \n",
       "25%                   0.000000              2.000000  \n",
       "50%                   1.000000              3.000000  \n",
       "75%                   3.000000              7.000000  \n",
       "max                  15.000000             17.000000  \n",
       "\n",
       "[8 rows x 26 columns]"
      ]
     },
     "execution_count": 3,
     "metadata": {},
     "output_type": "execute_result"
    }
   ],
   "source": [
    "attritionData.describe()"
   ]
  },
  {
   "cell_type": "code",
   "execution_count": 4,
   "id": "7e0de90a",
   "metadata": {},
   "outputs": [
    {
     "name": "stdout",
     "output_type": "stream",
     "text": [
      "Pre-split Attrition ratio:\n"
     ]
    },
    {
     "data": {
      "image/png": "[encoded data removed]",
      "text/plain": [
       "<Figure size 1080x360 with 1 Axes>"
      ]
     },
     "metadata": {},
     "output_type": "display_data"
    }
   ],
   "source": [
    "print(\"Pre-split Attrition ratio:\")\n",
    "fig1, ax1 = plt.subplots(figsize = (15,5))\n",
    "ax1.pie(attritionData[\"Attrition\"].value_counts(), \n",
    "        labels = attritionData[\"Attrition\"].value_counts().index.tolist(), autopct='%1.1f%%',\n",
    "        shadow=True, startangle=90)\n",
    "ax1.axis('equal')  # Equal aspect ratio ensures that pie is drawn as a circle.\n",
    "\n",
    "plt.show()"
   ]
  },
  {
   "cell_type": "code",
   "execution_count": 5,
   "id": "a66c9377",
   "metadata": {},
   "outputs": [],
   "source": [
    "from sklearn.model_selection import StratifiedShuffleSplit\n",
    "\n",
    "split = StratifiedShuffleSplit(n_splits=1, test_size=0.2, random_state=42)\n",
    "for train_index, test_index in split.split(attritionData, attritionData[\"Attrition\"]):\n",
    "    strat_train_set = attritionData.loc[train_index]\n",
    "    strat_test_set = attritionData.loc[test_index]"
   ]
  },
  {
   "cell_type": "code",
   "execution_count": 6,
   "id": "ee8e7c52",
   "metadata": {},
   "outputs": [
    {
     "name": "stdout",
     "output_type": "stream",
     "text": [
      "Post-split Attrition ratio:\n",
      "No     0.838435\n",
      "Yes    0.161565\n",
      "Name: Attrition, dtype: float64\n"
     ]
    }
   ],
   "source": [
    "print(\"Post-split Attrition ratio:\")\n",
    "print(strat_train_set[\"Attrition\"].value_counts() / len(strat_train_set))"
   ]
  },
  {
   "cell_type": "code",
   "execution_count": 7,
   "id": "a4d03f73",
   "metadata": {},
   "outputs": [
    {
     "name": "stdout",
     "output_type": "stream",
     "text": [
      "Post-split Attrition ratio:\n"
     ]
    },
    {
     "data": {
      "image/png": "[encoded data removed]",
      "text/plain": [
       "<Figure size 1080x360 with 1 Axes>"
      ]
     },
     "metadata": {},
     "output_type": "display_data"
    }
   ],
   "source": [
    "print(\"Post-split Attrition ratio:\")\n",
    "fig1, ax1 = plt.subplots(figsize = (15,5))\n",
    "ax1.pie(strat_train_set[\"Attrition\"].value_counts(), \n",
    "        labels = strat_train_set[\"Attrition\"].value_counts().index.tolist(), autopct='%1.1f%%',\n",
    "        shadow=True, startangle=90)\n",
    "ax1.axis('equal')  # Equal aspect ratio ensures that pie is drawn as a circle.\n",
    "\n",
    "plt.show()"
   ]
  },
  {
   "cell_type": "code",
   "execution_count": 8,
   "id": "6f6894d3",
   "metadata": {},
   "outputs": [
    {
     "name": "stdout",
     "output_type": "stream",
     "text": [
      "Comparison of the amount of Yes vs. No in Attrition:\n"
     ]
    },
    {
     "data": {
      "image/png": "[encoded data removed]",
      "text/plain": [
       "<Figure size 1080x360 with 1 Axes>"
      ]
     },
     "metadata": {
      "needs_background": "light"
     },
     "output_type": "display_data"
    }
   ],
   "source": [
    "print(\"Comparison of the amount of Yes vs. No in Attrition:\")\n",
    "plt.figure(figsize = (15,5))\n",
    "ax= sns.countplot(x=strat_train_set[\"Attrition\"])\n",
    "for p in ax.patches:\n",
    "    ax.annotate(str(p.get_height()), (p.get_x() * 1.01 , p.get_height() * 1.01))\n",
    "plt.xticks(rotation = 45)\n",
    "plt.show()"
   ]
  },
  {
   "cell_type": "code",
   "execution_count": 9,
   "id": "5ccc12bb",
   "metadata": {},
   "outputs": [],
   "source": [
    "attritionData = strat_train_set.copy()"
   ]
  },
  {
   "cell_type": "code",
   "execution_count": 10,
   "id": "8afe23dd",
   "metadata": {},
   "outputs": [],
   "source": [
    "droppedDataset = attritionData.drop([\"EmployeeCount\",\"Over18\", \"StandardHours\"], axis=1)\n",
    "final_test_set = attritionData.drop([\"EmployeeCount\",\"Over18\", \"StandardHours\"], axis=1)"
   ]
  },
  {
   "cell_type": "code",
   "execution_count": 11,
   "id": "f9df9ca7",
   "metadata": {},
   "outputs": [],
   "source": [
    "from sklearn.preprocessing import OrdinalEncoder\n",
    "ordinal_encoder = OrdinalEncoder()\n",
    "\n",
    "droppedDataset[[\"Attrition\"]] = ordinal_encoder.fit_transform(droppedDataset[[\"Attrition\"]])\n",
    "droppedDataset[[\"Gender\"]] = ordinal_encoder.fit_transform(droppedDataset[[\"Gender\"]])\n",
    "droppedDataset[[\"OverTime\"]] = ordinal_encoder.fit_transform(droppedDataset[[\"OverTime\"]])\n",
    "final_test_set[[\"Attrition\"]] = ordinal_encoder.fit_transform(droppedDataset[[\"Attrition\"]])\n",
    "final_test_set[[\"Gender\"]] = ordinal_encoder.fit_transform(droppedDataset[[\"Gender\"]])\n",
    "final_test_set[[\"OverTime\"]] = ordinal_encoder.fit_transform(droppedDataset[[\"OverTime\"]])"
   ]
  },
  {
   "cell_type": "code",
   "execution_count": 12,
   "id": "2f5729dd",
   "metadata": {},
   "outputs": [],
   "source": [
    "droppedDataset[[\"BusinessTravel\"]] = ordinal_encoder.fit_transform(droppedDataset[[\"BusinessTravel\"]])\n",
    "final_test_set[[\"BusinessTravel\"]] = ordinal_encoder.fit_transform(droppedDataset[[\"BusinessTravel\"]])"
   ]
  },
  {
   "cell_type": "code",
   "execution_count": 13,
   "id": "f246c23a",
   "metadata": {},
   "outputs": [],
   "source": [
    "droppedDataset[[\"Department\"]] = ordinal_encoder.fit_transform(droppedDataset[[\"Department\"]])\n",
    "final_test_set[[\"Department\"]] = ordinal_encoder.fit_transform(droppedDataset[[\"Department\"]])"
   ]
  },
  {
   "cell_type": "code",
   "execution_count": 14,
   "id": "86380dca",
   "metadata": {},
   "outputs": [],
   "source": [
    "droppedDataset[[\"EducationField\"]] = ordinal_encoder.fit_transform(droppedDataset[[\"EducationField\"]])\n",
    "final_test_set[[\"EducationField\"]] = ordinal_encoder.fit_transform(droppedDataset[[\"EducationField\"]])"
   ]
  },
  {
   "cell_type": "code",
   "execution_count": 15,
   "id": "889d00b0",
   "metadata": {},
   "outputs": [],
   "source": [
    "droppedDataset[[\"JobRole\"]] = ordinal_encoder.fit_transform(droppedDataset[[\"JobRole\"]])\n",
    "final_test_set[[\"JobRole\"]] = ordinal_encoder.fit_transform(droppedDataset[[\"JobRole\"]])"
   ]
  },
  {
   "cell_type": "code",
   "execution_count": 16,
   "id": "cdabded9",
   "metadata": {},
   "outputs": [],
   "source": [
    "droppedDataset[[\"MaritalStatus\"]] = ordinal_encoder.fit_transform(droppedDataset[[\"MaritalStatus\"]])\n",
    "final_test_set[[\"MaritalStatus\"]] = ordinal_encoder.fit_transform(droppedDataset[[\"MaritalStatus\"]])"
   ]
  },
  {
   "cell_type": "code",
   "execution_count": 17,
   "id": "f63fd504",
   "metadata": {},
   "outputs": [
    {
     "name": "stdout",
     "output_type": "stream",
     "text": [
      "Correlation of all features:\n"
     ]
    },
    {
     "data": {
      "text/plain": [
       "Attrition                   1.000000\n",
       "OverTime                    0.214389\n",
       "MaritalStatus               0.152757\n",
       "DistanceFromHome            0.086744\n",
       "Department                  0.065474\n",
       "NumCompaniesWorked          0.048648\n",
       "JobRole                     0.047820\n",
       "Gender                      0.024785\n",
       "EmployeeNumber              0.022935\n",
       "MonthlyRate                 0.021787\n",
       "PerformanceRating           0.007047\n",
       "BusinessTravel              0.003781\n",
       "EducationField             -0.008725\n",
       "PercentSalaryHike          -0.009148\n",
       "HourlyRate                 -0.019400\n",
       "Education                  -0.029742\n",
       "TrainingTimesLastYear      -0.039445\n",
       "YearsSinceLastPromotion    -0.042942\n",
       "RelationshipSatisfaction   -0.043369\n",
       "DailyRate                  -0.071398\n",
       "WorkLifeBalance            -0.080319\n",
       "JobSatisfaction            -0.103397\n",
       "EnvironmentSatisfaction    -0.112944\n",
       "JobInvolvement             -0.125071\n",
       "StockOptionLevel           -0.142803\n",
       "YearsAtCompany             -0.155139\n",
       "MonthlyIncome              -0.160438\n",
       "JobLevel                   -0.166245\n",
       "YearsInCurrentRole         -0.167028\n",
       "YearsWithCurrManager       -0.168789\n",
       "Age                        -0.185269\n",
       "TotalWorkingYears          -0.186154\n",
       "Name: Attrition, dtype: float64"
      ]
     },
     "execution_count": 17,
     "metadata": {},
     "output_type": "execute_result"
    }
   ],
   "source": [
    "print(\"Correlation of all features:\")\n",
    "corr_matrix = droppedDataset.corr(method='pearson')\n",
    "corr_matrix[\"Attrition\"].sort_values(ascending=False)"
   ]
  },
  {
   "cell_type": "code",
   "execution_count": 18,
   "id": "0f7d1a64",
   "metadata": {},
   "outputs": [],
   "source": [
    "most_significant_corr = droppedDataset.drop(['PercentSalaryHike', 'Education', 'EducationField', 'HourlyRate',\n",
    "        'BusinessTravel', 'RelationshipSatisfaction', 'YearsSinceLastPromotion', 'TrainingTimesLastYear',\n",
    "        'PerformanceRating', 'MonthlyRate', 'EmployeeNumber', 'Gender', 'JobRole', 'NumCompaniesWorked'\n",
    "                                              ], axis=1)"
   ]
  },
  {
   "cell_type": "code",
   "execution_count": 19,
   "id": "46a01b0f",
   "metadata": {},
   "outputs": [
    {
     "name": "stdout",
     "output_type": "stream",
     "text": [
      "Correlation of features wwith correlation >= 0.05:\n"
     ]
    },
    {
     "data": {
      "text/plain": [
       "Attrition                  1.000000\n",
       "OverTime                   0.214389\n",
       "MaritalStatus              0.152757\n",
       "DistanceFromHome           0.086744\n",
       "Department                 0.065474\n",
       "DailyRate                 -0.071398\n",
       "WorkLifeBalance           -0.080319\n",
       "JobSatisfaction           -0.103397\n",
       "EnvironmentSatisfaction   -0.112944\n",
       "JobInvolvement            -0.125071\n",
       "StockOptionLevel          -0.142803\n",
       "YearsAtCompany            -0.155139\n",
       "MonthlyIncome             -0.160438\n",
       "JobLevel                  -0.166245\n",
       "YearsInCurrentRole        -0.167028\n",
       "YearsWithCurrManager      -0.168789\n",
       "Age                       -0.185269\n",
       "TotalWorkingYears         -0.186154\n",
       "Name: Attrition, dtype: float64"
      ]
     },
     "execution_count": 19,
     "metadata": {},
     "output_type": "execute_result"
    }
   ],
   "source": [
    "print(\"Correlation of features wwith correlation >= 0.05:\")\n",
    "corr_matrix = most_significant_corr.corr(method='pearson')\n",
    "corr_matrix[\"Attrition\"].sort_values(ascending=False)"
   ]
  },
  {
   "cell_type": "code",
   "execution_count": 20,
   "id": "1de7497e",
   "metadata": {},
   "outputs": [
    {
     "name": "stdout",
     "output_type": "stream",
     "text": [
      "Heat map with features that have correlation >= 0.05 to Attrition:\n"
     ]
    },
    {
     "data": {
      "image/png": "[encoded data removed]",
      "text/plain": [
       "<Figure size 1440x720 with 2 Axes>"
      ]
     },
     "metadata": {
      "needs_background": "light"
     },
     "output_type": "display_data"
    },
    {
     "name": "stdout",
     "output_type": "stream",
     "text": [
      "*Notable features are highlighted in analysis.\n"
     ]
    }
   ],
   "source": [
    "print(\"Heat map with features that have correlation >= 0.05 to Attrition:\")\n",
    "plt.figure(figsize = (20,10))\n",
    "sns.heatmap(corr_matrix, annot = True, cmap=\"rainbow\")\n",
    "plt.show()\n",
    "print(\"*Notable features are highlighted in analysis.\")"
   ]
  },
  {
   "cell_type": "code",
   "execution_count": 21,
   "id": "dc0fbfc8",
   "metadata": {},
   "outputs": [],
   "source": [
    "attrition_predictors = droppedDataset.drop(\"Attrition\", axis=1)\n",
    "attrition_labels = droppedDataset[\"Attrition\"].copy()"
   ]
  },
  {
   "cell_type": "code",
   "execution_count": 22,
   "id": "361ba1ac",
   "metadata": {},
   "outputs": [
    {
     "data": {
      "text/plain": [
       "DecisionTreeRegressor()"
      ]
     },
     "execution_count": 22,
     "metadata": {},
     "output_type": "execute_result"
    }
   ],
   "source": [
    "from sklearn.tree import DecisionTreeRegressor\n",
    "from sklearn.metrics import mean_squared_error\n",
    "\n",
    "tree_reg = DecisionTreeRegressor()\n",
    "tree_reg.fit(attrition_predictors, attrition_labels)"
   ]
  },
  {
   "cell_type": "code",
   "execution_count": 23,
   "id": "614cef8c",
   "metadata": {},
   "outputs": [
    {
     "data": {
      "text/plain": [
       "0.0"
      ]
     },
     "execution_count": 23,
     "metadata": {},
     "output_type": "execute_result"
    }
   ],
   "source": [
    "attrition_predictions = tree_reg.predict(attrition_predictors)\n",
    "tree_mse = mean_squared_error(attrition_labels, attrition_predictions)\n",
    "tree_rmse = np.sqrt(tree_mse)\n",
    "tree_rmse"
   ]
  },
  {
   "cell_type": "code",
   "execution_count": 24,
   "id": "afc7c282",
   "metadata": {},
   "outputs": [],
   "source": [
    "from sklearn.model_selection import cross_val_score\n",
    "scores = cross_val_score(tree_reg, attrition_predictors, attrition_labels,\n",
    "    scoring=\"neg_mean_squared_error\", cv=15)\n",
    "tree_rmse_scores = np.sqrt(-scores)\n",
    "\n",
    "#Funtion to display the results\n",
    "def display_scores(scores):\n",
    "    print(\"Scores:\", scores)\n",
    "    print(\"Mean:\", scores.mean())\n",
    "    print(\"Standard deviation:\", scores.std())"
   ]
  },
  {
   "cell_type": "code",
   "execution_count": 25,
   "id": "ab652925",
   "metadata": {},
   "outputs": [
    {
     "name": "stdout",
     "output_type": "stream",
     "text": [
      "Scores: [0.51558005 0.47733437 0.51558005 0.43574467 0.47733437 0.46388563\n",
      " 0.40824829 0.40824829 0.45291081 0.51887452 0.49354812 0.49354812\n",
      " 0.39223227 0.51887452 0.49354812]\n",
      "Mean: 0.47103281261094415\n",
      "Standard deviation: 0.04152498564073602\n"
     ]
    }
   ],
   "source": [
    "display_scores(tree_rmse_scores)"
   ]
  },
  {
   "cell_type": "code",
   "execution_count": 26,
   "id": "3b574c36",
   "metadata": {},
   "outputs": [
    {
     "data": {
      "text/plain": [
       "dict_keys(['ccp_alpha', 'criterion', 'max_depth', 'max_features', 'max_leaf_nodes', 'min_impurity_decrease', 'min_samples_leaf', 'min_samples_split', 'min_weight_fraction_leaf', 'random_state', 'splitter'])"
      ]
     },
     "execution_count": 26,
     "metadata": {},
     "output_type": "execute_result"
    }
   ],
   "source": [
    "tree_reg.get_params().keys()"
   ]
  },
  {
   "cell_type": "code",
   "execution_count": 27,
   "id": "7694af0e",
   "metadata": {},
   "outputs": [
    {
     "data": {
      "text/plain": [
       "GridSearchCV(cv=15, estimator=DecisionTreeRegressor(),\n",
       "             param_grid=[{'max_depth': [1, 2, 3, 4, 5],\n",
       "                          'max_features': [10, 13, 15, 18, 20, 23, 25, 28, 30,\n",
       "                                           31],\n",
       "                          'splitter': ['best', 'random']},\n",
       "                         {'max_depth': [1, 2, 3, 4, 5],\n",
       "                          'max_features': [10, 13, 15, 18, 20, 23, 25, 28, 30,\n",
       "                                           31],\n",
       "                          'splitter': ['random']},\n",
       "                         {'max_depth': [1, 2, 3, 4, 5],\n",
       "                          'max_features': [10, 13, 15, 18, 20, 23, 25, 28, 30,\n",
       "                                           31],\n",
       "                          'splitter': ['best']}],\n",
       "             return_train_score=True, scoring='neg_mean_squared_error')"
      ]
     },
     "execution_count": 27,
     "metadata": {},
     "output_type": "execute_result"
    }
   ],
   "source": [
    "from sklearn.model_selection import GridSearchCV\n",
    "\n",
    "param_grid = [\n",
    "    {'splitter': ['best', 'random'], 'max_depth': [1, 2, 3, 4, 5], 'max_features': [10, 13, 15, 18, 20, 23, 25, 28, 30, 31]},\n",
    "    {'splitter': ['random'], 'max_depth': [1, 2, 3, 4, 5], 'max_features': [10, 13, 15, 18, 20, 23, 25, 28, 30, 31]},\n",
    "    {'splitter': ['best'], 'max_depth': [1, 2, 3, 4, 5], 'max_features': [10, 13, 15, 18, 20, 23, 25, 28, 30, 31]},\n",
    "]\n",
    "\n",
    "grid_search = GridSearchCV(tree_reg, param_grid, cv=15,\n",
    "    scoring='neg_mean_squared_error',\n",
    "    return_train_score=True)\n",
    "\n",
    "grid_search.fit(attrition_predictors, attrition_labels)"
   ]
  },
  {
   "cell_type": "code",
   "execution_count": 28,
   "id": "34c703e2",
   "metadata": {},
   "outputs": [
    {
     "data": {
      "text/plain": [
       "{'max_depth': 3, 'max_features': 25, 'splitter': 'random'}"
      ]
     },
     "execution_count": 28,
     "metadata": {},
     "output_type": "execute_result"
    }
   ],
   "source": [
    "grid_search.best_params_"
   ]
  },
  {
   "cell_type": "code",
   "execution_count": 29,
   "id": "d9fe8873",
   "metadata": {},
   "outputs": [
    {
     "data": {
      "text/plain": [
       "DecisionTreeRegressor(max_depth=3, max_features=25, splitter='random')"
      ]
     },
     "execution_count": 29,
     "metadata": {},
     "output_type": "execute_result"
    }
   ],
   "source": [
    "grid_search.best_estimator_"
   ]
  },
  {
   "cell_type": "code",
   "execution_count": 30,
   "id": "4a15f996",
   "metadata": {},
   "outputs": [],
   "source": [
    "feature_importances = grid_search.best_estimator_.feature_importances_\n",
    "attribute_list = list(attrition_predictors)"
   ]
  },
  {
   "cell_type": "code",
   "execution_count": 31,
   "id": "5932d4db",
   "metadata": {},
   "outputs": [
    {
     "data": {
      "text/plain": [
       "[(0.3235181250099198, 'OverTime'),\n",
       " (0.3014305559902409, 'YearsWithCurrManager'),\n",
       " (0.1549061962430318, 'MonthlyIncome'),\n",
       " (0.09947068146218238, 'Age'),\n",
       " (0.08348981046752062, 'MaritalStatus'),\n",
       " (0.03718463082710448, 'JobInvolvement'),\n",
       " (0.0, 'YearsSinceLastPromotion'),\n",
       " (0.0, 'YearsInCurrentRole'),\n",
       " (0.0, 'YearsAtCompany'),\n",
       " (0.0, 'WorkLifeBalance'),\n",
       " (0.0, 'TrainingTimesLastYear'),\n",
       " (0.0, 'TotalWorkingYears'),\n",
       " (0.0, 'StockOptionLevel'),\n",
       " (0.0, 'RelationshipSatisfaction'),\n",
       " (0.0, 'PerformanceRating'),\n",
       " (0.0, 'PercentSalaryHike'),\n",
       " (0.0, 'NumCompaniesWorked'),\n",
       " (0.0, 'MonthlyRate'),\n",
       " (0.0, 'JobSatisfaction'),\n",
       " (0.0, 'JobRole'),\n",
       " (0.0, 'JobLevel'),\n",
       " (0.0, 'HourlyRate'),\n",
       " (0.0, 'Gender'),\n",
       " (0.0, 'EnvironmentSatisfaction'),\n",
       " (0.0, 'EmployeeNumber'),\n",
       " (0.0, 'EducationField'),\n",
       " (0.0, 'Education'),\n",
       " (0.0, 'DistanceFromHome'),\n",
       " (0.0, 'Department'),\n",
       " (0.0, 'DailyRate'),\n",
       " (0.0, 'BusinessTravel')]"
      ]
     },
     "execution_count": 31,
     "metadata": {},
     "output_type": "execute_result"
    }
   ],
   "source": [
    "sorted(zip(feature_importances, attribute_list), reverse=True)"
   ]
  },
  {
   "cell_type": "code",
   "execution_count": 32,
   "id": "70a52aaf",
   "metadata": {},
   "outputs": [],
   "source": [
    "#Trimmed dataset\n",
    "tr_attrition_predictors = attrition_predictors.drop(['YearsWithCurrManager', 'YearsSinceLastPromotion', 'YearsInCurrentRole',\n",
    "        'WorkLifeBalance', 'TrainingTimesLastYear', 'TotalWorkingYears', 'StockOptionLevel', 'DailyRate',\n",
    "        'PerformanceRating', 'PercentSalaryHike', 'MonthlyRate', 'JobRole', 'JobLevel', 'HourlyRate', 'Gender',\n",
    "        'EnvironmentSatisfaction', 'EmployeeNumber', 'EducationField', 'Education', 'DistanceFromHome', 'Department'\n",
    "        ], axis=1)\n",
    "tr_final_test_set = final_test_set.drop(['YearsWithCurrManager', 'YearsSinceLastPromotion', 'YearsInCurrentRole',\n",
    "        'WorkLifeBalance', 'TrainingTimesLastYear', 'TotalWorkingYears', 'StockOptionLevel', 'DailyRate',\n",
    "        'PerformanceRating', 'PercentSalaryHike', 'MonthlyRate', 'JobRole', 'JobLevel', 'HourlyRate', 'Gender',\n",
    "        'EnvironmentSatisfaction', 'EmployeeNumber', 'EducationField', 'Education', 'DistanceFromHome', 'Department'\n",
    "        ], axis=1)"
   ]
  },
  {
   "cell_type": "code",
   "execution_count": 33,
   "id": "ed9bbdfa",
   "metadata": {},
   "outputs": [
    {
     "data": {
      "text/plain": [
       "DecisionTreeRegressor()"
      ]
     },
     "execution_count": 33,
     "metadata": {},
     "output_type": "execute_result"
    }
   ],
   "source": [
    "tr_tree_reg = DecisionTreeRegressor()\n",
    "tr_tree_reg.fit(tr_attrition_predictors, attrition_labels)"
   ]
  },
  {
   "cell_type": "code",
   "execution_count": 34,
   "id": "ef903f6a",
   "metadata": {},
   "outputs": [
    {
     "data": {
      "text/plain": [
       "0.0"
      ]
     },
     "execution_count": 34,
     "metadata": {},
     "output_type": "execute_result"
    }
   ],
   "source": [
    "tr_attrition_predictions = tr_tree_reg.predict(tr_attrition_predictors)\n",
    "tr_tree_mse = mean_squared_error(attrition_labels, tr_attrition_predictions)\n",
    "tr_tree_rmse = np.sqrt(tr_tree_mse)\n",
    "tr_tree_rmse"
   ]
  },
  {
   "cell_type": "code",
   "execution_count": 35,
   "id": "52080c0e",
   "metadata": {},
   "outputs": [
    {
     "name": "stdout",
     "output_type": "stream",
     "text": [
      "Scores: [0.43574467 0.42096935 0.50315461 0.42096935 0.43574467 0.527713\n",
      " 0.39223227 0.45291081 0.45291081 0.5547002  0.43852901 0.40824829\n",
      " 0.35805744 0.37553381 0.37553381]\n",
      "Mean: 0.43686347243093154\n",
      "Standard deviation: 0.05422362502919288\n"
     ]
    }
   ],
   "source": [
    "tr_data_scores = cross_val_score(tr_tree_reg, tr_attrition_predictors, attrition_labels,\n",
    "    scoring=\"neg_mean_squared_error\", cv=15)\n",
    "tr_tree_rmse_scores = np.sqrt(-tr_data_scores)\n",
    "\n",
    "display_scores(tr_tree_rmse_scores)"
   ]
  },
  {
   "cell_type": "code",
   "execution_count": 36,
   "id": "b1629b56",
   "metadata": {},
   "outputs": [
    {
     "data": {
      "text/plain": [
       "GridSearchCV(cv=15, estimator=DecisionTreeRegressor(),\n",
       "             param_grid=[{'max_depth': [1, 2, 3, 4, 5, 6, 7, 8, 9],\n",
       "                          'max_features': [4, 5, 6, 7, 8, 9, 10],\n",
       "                          'splitter': ['best', 'random']},\n",
       "                         {'max_depth': [1, 2, 3, 4, 5, 6, 7, 8, 9],\n",
       "                          'max_features': [4, 5, 6, 7, 8, 9, 10],\n",
       "                          'splitter': ['random']},\n",
       "                         {'max_depth': [1, 2, 3, 4, 5, 6, 7, 8, 9],\n",
       "                          'max_features': [4, 5, 6, 7, 8, 9, 10],\n",
       "                          'splitter': ['best']}],\n",
       "             return_train_score=True, scoring='neg_mean_squared_error')"
      ]
     },
     "execution_count": 36,
     "metadata": {},
     "output_type": "execute_result"
    }
   ],
   "source": [
    "tr_param_grid = [\n",
    "    {'splitter': ['best', 'random'], 'max_depth': [1, 2, 3, 4, 5, 6, 7, 8, 9], 'max_features': [4, 5, 6, 7, 8, 9, 10]},\n",
    "    {'splitter': ['random'], 'max_depth': [1, 2, 3, 4, 5, 6, 7, 8, 9], 'max_features': [4, 5, 6, 7, 8, 9, 10]},\n",
    "    {'splitter': ['best'], 'max_depth': [1, 2, 3, 4, 5, 6, 7, 8, 9], 'max_features': [4, 5, 6, 7, 8, 9, 10]},\n",
    "]\n",
    "\n",
    "tr_grid_search = GridSearchCV(tr_tree_reg, tr_param_grid, cv=15,\n",
    "    scoring='neg_mean_squared_error',\n",
    "    return_train_score=True)\n",
    "\n",
    "tr_grid_search.fit(tr_attrition_predictors, attrition_labels)"
   ]
  },
  {
   "cell_type": "code",
   "execution_count": 37,
   "id": "e001e9bc",
   "metadata": {},
   "outputs": [
    {
     "data": {
      "text/plain": [
       "{'max_depth': 3, 'max_features': 10, 'splitter': 'best'}"
      ]
     },
     "execution_count": 37,
     "metadata": {},
     "output_type": "execute_result"
    }
   ],
   "source": [
    "tr_grid_search.best_params_"
   ]
  },
  {
   "cell_type": "code",
   "execution_count": 38,
   "id": "45039839",
   "metadata": {},
   "outputs": [
    {
     "data": {
      "text/plain": [
       "DecisionTreeRegressor(max_depth=3, max_features=10)"
      ]
     },
     "execution_count": 38,
     "metadata": {},
     "output_type": "execute_result"
    }
   ],
   "source": [
    "tr_grid_search.best_estimator_"
   ]
  },
  {
   "cell_type": "code",
   "execution_count": 39,
   "id": "aa0e7209",
   "metadata": {},
   "outputs": [],
   "source": [
    "tr_feature_importances = tr_grid_search.best_estimator_.feature_importances_\n",
    "tr_attribute_list = list(tr_attrition_predictors)"
   ]
  },
  {
   "cell_type": "code",
   "execution_count": 40,
   "id": "b17b1672",
   "metadata": {},
   "outputs": [
    {
     "data": {
      "text/plain": [
       "[(0.2969751491060873, 'YearsAtCompany'),\n",
       " (0.24950827486320595, 'Age'),\n",
       " (0.17704849685638305, 'OverTime'),\n",
       " (0.1567912523006279, 'MonthlyIncome'),\n",
       " (0.08452729311692286, 'MaritalStatus'),\n",
       " (0.035149533756772926, 'NumCompaniesWorked'),\n",
       " (0.0, 'RelationshipSatisfaction'),\n",
       " (0.0, 'JobSatisfaction'),\n",
       " (0.0, 'JobInvolvement'),\n",
       " (0.0, 'BusinessTravel')]"
      ]
     },
     "execution_count": 40,
     "metadata": {},
     "output_type": "execute_result"
    }
   ],
   "source": [
    "sorted(zip(tr_feature_importances, tr_attribute_list), reverse=True)"
   ]
  },
  {
   "cell_type": "code",
   "execution_count": 41,
   "id": "176bd761",
   "metadata": {},
   "outputs": [
    {
     "name": "stdout",
     "output_type": "stream",
     "text": [
      "Final full dataset RMSE:  0.3367814027155808\n",
      "Final trimmed dataset RMSE:  0.3281735999527004\n"
     ]
    }
   ],
   "source": [
    "final_model = grid_search.best_estimator_\n",
    "tr_final_model = tr_grid_search.best_estimator_\n",
    "\n",
    "X_test = final_test_set.drop(\"Attrition\", axis=1)\n",
    "tr_X_test = tr_final_test_set.drop(\"Attrition\", axis=1)\n",
    "y_test = final_test_set[\"Attrition\"].copy()\n",
    "\n",
    "final_predictions = final_model.predict(X_test)\n",
    "tr_final_predictions = tr_final_model.predict(tr_X_test)\n",
    "\n",
    "final_mse = mean_squared_error(y_test, final_predictions)\n",
    "tr_final_mse = mean_squared_error(y_test, tr_final_predictions)\n",
    "\n",
    "final_rmse = np.sqrt(final_mse)\n",
    "tr_final_rmse = np.sqrt(tr_final_mse)\n",
    "print(\"Final full dataset RMSE: \", final_rmse)\n",
    "\n",
    "print(\"Final trimmed dataset RMSE: \", tr_final_rmse)"
   ]
  },
  {
   "cell_type": "code",
   "execution_count": 42,
   "id": "18cf8d46",
   "metadata": {},
   "outputs": [
    {
     "name": "stdout",
     "output_type": "stream",
     "text": [
      "95% confindence interval for the trimmed dataset model:\n"
     ]
    },
    {
     "data": {
      "text/plain": [
       "array([0.3171414 , 0.35533753])"
      ]
     },
     "execution_count": 42,
     "metadata": {},
     "output_type": "execute_result"
    }
   ],
   "source": [
    "from scipy import stats\n",
    "\n",
    "confidence = 0.95\n",
    "squared_errors = (final_predictions - y_test) ** 2\n",
    "con_int = np.sqrt(stats.t.interval(confidence, len(squared_errors) - 1,\n",
    "                         loc = squared_errors.mean(),\n",
    "                         scale = stats.sem(squared_errors)\n",
    "                        ))\n",
    "print(\"95% confindence interval for the full dataset model:\")\n",
    "con_int"
   ]
  },
  {
   "cell_type": "code",
   "execution_count": 43,
   "id": "b91ae2fe",
   "metadata": {},
   "outputs": [
    {
     "name": "stdout",
     "output_type": "stream",
     "text": [
      "95% confindence interval for the trimmed dataset model:\n"
     ]
    },
    {
     "data": {
      "text/plain": [
       "array([0.30775643, 0.34739287])"
      ]
     },
     "execution_count": 43,
     "metadata": {},
     "output_type": "execute_result"
    }
   ],
   "source": [
    "tr_squared_errors = (tr_final_predictions - y_test) ** 2\n",
    "tr_con_int = np.sqrt(stats.t.interval(confidence, len(tr_squared_errors) - 1,\n",
    "                         loc = tr_squared_errors.mean(),\n",
    "                         scale = stats.sem(tr_squared_errors)\n",
    "                        ))\n",
    "print(\"95% confindence interval for the trimmed dataset model:\")\n",
    "tr_con_int"
   ]
  },
  {
   "cell_type": "code",
   "execution_count": 44,
   "id": "f8804191",
   "metadata": {},
   "outputs": [],
   "source": [
    "from sklearn.datasets import load_iris\n",
    "from sklearn.tree import export_graphviz\n",
    "\n",
    "export_graphviz(\n",
    "    tree_reg,\n",
    "    out_file=\"attrition_tree.dot\",\n",
    "    feature_names=attrition_predictors.columns,\n",
    "    rounded=True,\n",
    "    filled=True\n",
    ")\n",
    "\n",
    "from sklearn.datasets import load_iris\n",
    "from sklearn.tree import export_graphviz\n",
    "\n",
    "export_graphviz(\n",
    "    tr_tree_reg,\n",
    "    out_file=\"tr_attrition_tree.dot\",\n",
    "    feature_names=tr_attrition_predictors.columns,    \n",
    "    rounded=True,\n",
    "    filled=True\n",
    ")"
   ]
  }
 ],
 "metadata": {
  "kernelspec": {
   "display_name": "Python 3 (ipykernel)",
   "language": "python",
   "name": "python3"
  },
  "language_info": {
   "codemirror_mode": {
    "name": "ipython",
    "version": 3
   },
   "file_extension": ".py",
   "mimetype": "text/x-python",
   "name": "python",
   "nbconvert_exporter": "python",
   "pygments_lexer": "ipython3",
   "version": "3.9.7"
  }
 },
 "nbformat": 4,
 "nbformat_minor": 5
}
