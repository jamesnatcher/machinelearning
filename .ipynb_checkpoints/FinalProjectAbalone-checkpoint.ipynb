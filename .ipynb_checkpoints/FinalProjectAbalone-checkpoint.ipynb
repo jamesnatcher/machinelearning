{
 "cells": [
  {
   "cell_type": "code",
   "execution_count": 1,
   "id": "598b9ddd",
   "metadata": {},
   "outputs": [],
   "source": [
    "import pyreadr\n",
    "import pandas as pd\n",
    "import seaborn as sns\n",
    "import matplotlib.pyplot as plt\n",
    "\n",
    "from sklearn.model_selection import train_test_split, cross_val_score, GridSearchCV\n",
    "from sklearn.compose import make_column_transformer\n",
    "from sklearn.preprocessing import LabelEncoder, StandardScaler, MinMaxScaler\n",
    "from sklearn.metrics import classification_report, f1_score, accuracy_score, confusion_matrix\n",
    "\n",
    "from sklearn.tree import DecisionTreeClassifier, DecisionTreeRegressor\n",
    "from sklearn.neural_network import MLPClassifier\n",
    "from sklearn.svm import SVC\n",
    "from sklearn.multiclass import OneVsRestClassifier, OneVsOneClassifier\n",
    "from sklearn.linear_model import LogisticRegression, RidgeClassifier, SGDClassifier\n",
    "from sklearn.ensemble import RandomForestClassifier\n",
    "\n",
    "df = pd.read_csv(r\"G:\\Spring2022\\CS 415\\Final Project\\Abalone\\abalone.csv\")"
   ]
  },
  {
   "cell_type": "code",
   "execution_count": 2,
   "id": "57c475fd",
   "metadata": {},
   "outputs": [
    {
     "data": {
      "text/plain": [
       "<seaborn.axisgrid.FacetGrid at 0x23d955d3880>"
      ]
     },
     "execution_count": 2,
     "metadata": {},
     "output_type": "execute_result"
    },
    {
     "data": {
      "text/plain": [
       "<Figure size 720x432 with 0 Axes>"
      ]
     },
     "metadata": {},
     "output_type": "display_data"
    },
    {
     "data": {
      "image/png": "[encoded data removed]",
      "text/plain": [
       "<Figure size 511.25x360 with 1 Axes>"
      ]
     },
     "metadata": {
      "needs_background": "light"
     },
     "output_type": "display_data"
    }
   ],
   "source": [
    "plt.figure(figsize=(10,6))\n",
    "sns.displot(\n",
    "    data=df.isna().melt(value_name=\"missing\"),\n",
    "    y=\"variable\",\n",
    "    hue=\"missing\",\n",
    "    multiple=\"fill\",\n",
    "    aspect=1.25\n",
    ")\n",
    "# No missing data"
   ]
  },
  {
   "cell_type": "code",
   "execution_count": 3,
   "id": "c34e6e7d",
   "metadata": {},
   "outputs": [
    {
     "data": {
      "text/html": [
       "<div>\n",
       "<style scoped>\n",
       "    .dataframe tbody tr th:only-of-type {\n",
       "        vertical-align: middle;\n",
       "    }\n",
       "\n",
       "    .dataframe tbody tr th {\n",
       "        vertical-align: top;\n",
       "    }\n",
       "\n",
       "    .dataframe thead th {\n",
       "        text-align: right;\n",
       "    }\n",
       "</style>\n",
       "<table border=\"1\" class=\"dataframe\">\n",
       "  <thead>\n",
       "    <tr style=\"text-align: right;\">\n",
       "      <th></th>\n",
       "      <th>Sex</th>\n",
       "      <th>Length</th>\n",
       "      <th>Diameter</th>\n",
       "      <th>Height</th>\n",
       "      <th>Whole weight</th>\n",
       "      <th>Shucked weight</th>\n",
       "      <th>Viscera weight</th>\n",
       "      <th>Shell weight</th>\n",
       "      <th>Rings</th>\n",
       "    </tr>\n",
       "  </thead>\n",
       "  <tbody>\n",
       "    <tr>\n",
       "      <th>0</th>\n",
       "      <td>M</td>\n",
       "      <td>0.455</td>\n",
       "      <td>0.365</td>\n",
       "      <td>0.095</td>\n",
       "      <td>0.5140</td>\n",
       "      <td>0.2245</td>\n",
       "      <td>0.1010</td>\n",
       "      <td>0.1500</td>\n",
       "      <td>15</td>\n",
       "    </tr>\n",
       "    <tr>\n",
       "      <th>1</th>\n",
       "      <td>M</td>\n",
       "      <td>0.350</td>\n",
       "      <td>0.265</td>\n",
       "      <td>0.090</td>\n",
       "      <td>0.2255</td>\n",
       "      <td>0.0995</td>\n",
       "      <td>0.0485</td>\n",
       "      <td>0.0700</td>\n",
       "      <td>7</td>\n",
       "    </tr>\n",
       "    <tr>\n",
       "      <th>2</th>\n",
       "      <td>F</td>\n",
       "      <td>0.530</td>\n",
       "      <td>0.420</td>\n",
       "      <td>0.135</td>\n",
       "      <td>0.6770</td>\n",
       "      <td>0.2565</td>\n",
       "      <td>0.1415</td>\n",
       "      <td>0.2100</td>\n",
       "      <td>9</td>\n",
       "    </tr>\n",
       "    <tr>\n",
       "      <th>3</th>\n",
       "      <td>M</td>\n",
       "      <td>0.440</td>\n",
       "      <td>0.365</td>\n",
       "      <td>0.125</td>\n",
       "      <td>0.5160</td>\n",
       "      <td>0.2155</td>\n",
       "      <td>0.1140</td>\n",
       "      <td>0.1550</td>\n",
       "      <td>10</td>\n",
       "    </tr>\n",
       "    <tr>\n",
       "      <th>4</th>\n",
       "      <td>I</td>\n",
       "      <td>0.330</td>\n",
       "      <td>0.255</td>\n",
       "      <td>0.080</td>\n",
       "      <td>0.2050</td>\n",
       "      <td>0.0895</td>\n",
       "      <td>0.0395</td>\n",
       "      <td>0.0550</td>\n",
       "      <td>7</td>\n",
       "    </tr>\n",
       "    <tr>\n",
       "      <th>...</th>\n",
       "      <td>...</td>\n",
       "      <td>...</td>\n",
       "      <td>...</td>\n",
       "      <td>...</td>\n",
       "      <td>...</td>\n",
       "      <td>...</td>\n",
       "      <td>...</td>\n",
       "      <td>...</td>\n",
       "      <td>...</td>\n",
       "    </tr>\n",
       "    <tr>\n",
       "      <th>4172</th>\n",
       "      <td>F</td>\n",
       "      <td>0.565</td>\n",
       "      <td>0.450</td>\n",
       "      <td>0.165</td>\n",
       "      <td>0.8870</td>\n",
       "      <td>0.3700</td>\n",
       "      <td>0.2390</td>\n",
       "      <td>0.2490</td>\n",
       "      <td>11</td>\n",
       "    </tr>\n",
       "    <tr>\n",
       "      <th>4173</th>\n",
       "      <td>M</td>\n",
       "      <td>0.590</td>\n",
       "      <td>0.440</td>\n",
       "      <td>0.135</td>\n",
       "      <td>0.9660</td>\n",
       "      <td>0.4390</td>\n",
       "      <td>0.2145</td>\n",
       "      <td>0.2605</td>\n",
       "      <td>10</td>\n",
       "    </tr>\n",
       "    <tr>\n",
       "      <th>4174</th>\n",
       "      <td>M</td>\n",
       "      <td>0.600</td>\n",
       "      <td>0.475</td>\n",
       "      <td>0.205</td>\n",
       "      <td>1.1760</td>\n",
       "      <td>0.5255</td>\n",
       "      <td>0.2875</td>\n",
       "      <td>0.3080</td>\n",
       "      <td>9</td>\n",
       "    </tr>\n",
       "    <tr>\n",
       "      <th>4175</th>\n",
       "      <td>F</td>\n",
       "      <td>0.625</td>\n",
       "      <td>0.485</td>\n",
       "      <td>0.150</td>\n",
       "      <td>1.0945</td>\n",
       "      <td>0.5310</td>\n",
       "      <td>0.2610</td>\n",
       "      <td>0.2960</td>\n",
       "      <td>10</td>\n",
       "    </tr>\n",
       "    <tr>\n",
       "      <th>4176</th>\n",
       "      <td>M</td>\n",
       "      <td>0.710</td>\n",
       "      <td>0.555</td>\n",
       "      <td>0.195</td>\n",
       "      <td>1.9485</td>\n",
       "      <td>0.9455</td>\n",
       "      <td>0.3765</td>\n",
       "      <td>0.4950</td>\n",
       "      <td>12</td>\n",
       "    </tr>\n",
       "  </tbody>\n",
       "</table>\n",
       "<p>4177 rows × 9 columns</p>\n",
       "</div>"
      ],
      "text/plain": [
       "     Sex  Length  Diameter  Height  Whole weight  Shucked weight  \\\n",
       "0      M   0.455     0.365   0.095        0.5140          0.2245   \n",
       "1      M   0.350     0.265   0.090        0.2255          0.0995   \n",
       "2      F   0.530     0.420   0.135        0.6770          0.2565   \n",
       "3      M   0.440     0.365   0.125        0.5160          0.2155   \n",
       "4      I   0.330     0.255   0.080        0.2050          0.0895   \n",
       "...   ..     ...       ...     ...           ...             ...   \n",
       "4172   F   0.565     0.450   0.165        0.8870          0.3700   \n",
       "4173   M   0.590     0.440   0.135        0.9660          0.4390   \n",
       "4174   M   0.600     0.475   0.205        1.1760          0.5255   \n",
       "4175   F   0.625     0.485   0.150        1.0945          0.5310   \n",
       "4176   M   0.710     0.555   0.195        1.9485          0.9455   \n",
       "\n",
       "      Viscera weight  Shell weight  Rings  \n",
       "0             0.1010        0.1500     15  \n",
       "1             0.0485        0.0700      7  \n",
       "2             0.1415        0.2100      9  \n",
       "3             0.1140        0.1550     10  \n",
       "4             0.0395        0.0550      7  \n",
       "...              ...           ...    ...  \n",
       "4172          0.2390        0.2490     11  \n",
       "4173          0.2145        0.2605     10  \n",
       "4174          0.2875        0.3080      9  \n",
       "4175          0.2610        0.2960     10  \n",
       "4176          0.3765        0.4950     12  \n",
       "\n",
       "[4177 rows x 9 columns]"
      ]
     },
     "execution_count": 3,
     "metadata": {},
     "output_type": "execute_result"
    }
   ],
   "source": [
    "df"
   ]
  },
  {
   "cell_type": "code",
   "execution_count": 4,
   "id": "4e0b8b3d",
   "metadata": {},
   "outputs": [
    {
     "name": "stdout",
     "output_type": "stream",
     "text": [
      "<class 'pandas.core.frame.DataFrame'>\n",
      "RangeIndex: 4177 entries, 0 to 4176\n",
      "Data columns (total 9 columns):\n",
      " #   Column          Non-Null Count  Dtype  \n",
      "---  ------          --------------  -----  \n",
      " 0   Sex             4177 non-null   object \n",
      " 1   Length          4177 non-null   float64\n",
      " 2   Diameter        4177 non-null   float64\n",
      " 3   Height          4177 non-null   float64\n",
      " 4   Whole weight    4177 non-null   float64\n",
      " 5   Shucked weight  4177 non-null   float64\n",
      " 6   Viscera weight  4177 non-null   float64\n",
      " 7   Shell weight    4177 non-null   float64\n",
      " 8   Rings           4177 non-null   int64  \n",
      "dtypes: float64(7), int64(1), object(1)\n",
      "memory usage: 293.8+ KB\n"
     ]
    }
   ],
   "source": [
    "df.info()"
   ]
  },
  {
   "cell_type": "code",
   "execution_count": 5,
   "id": "7e86a266",
   "metadata": {},
   "outputs": [
    {
     "data": {
      "image/png": "[encoded data removed]",
      "text/plain": [
       "<Figure size 720x720 with 1 Axes>"
      ]
     },
     "metadata": {
      "needs_background": "light"
     },
     "output_type": "display_data"
    }
   ],
   "source": [
    "no_ring = df.drop(['Rings'], axis=1)\n",
    "no_ring.plot.box(figsize=(10,10));"
   ]
  },
  {
   "cell_type": "code",
   "execution_count": 6,
   "id": "c2f76f0c-fbfa-441d-94b2-2e6bd099637c",
   "metadata": {},
   "outputs": [
    {
     "data": {
      "image/png": "[encoded data removed]",
      "text/plain": [
       "<Figure size 720x720 with 1 Axes>"
      ]
     },
     "metadata": {
      "needs_background": "light"
     },
     "output_type": "display_data"
    }
   ],
   "source": [
    "ring = df['Rings']\n",
    "ring.plot.box(figsize=(10,10));"
   ]
  },
  {
   "cell_type": "code",
   "execution_count": 7,
   "id": "47899f7f",
   "metadata": {},
   "outputs": [
    {
     "name": "stdout",
     "output_type": "stream",
     "text": [
      "M    1528\n",
      "I    1342\n",
      "F    1307\n",
      "Name: Sex, dtype: int64\n"
     ]
    },
    {
     "data": {
      "image/png": "[encoded data removed]",
      "text/plain": [
       "<Figure size 432x288 with 1 Axes>"
      ]
     },
     "metadata": {},
     "output_type": "display_data"
    }
   ],
   "source": [
    "print(df['Sex'].value_counts())\n",
    "\n",
    "plt.pie(df['Sex'].value_counts(), labels=['Male', 'Infant', 'Female'], \n",
    "        autopct='%1.1f%%', shadow=True, startangle=90)\n",
    "plt.title('Distribution of Male, Female, and Infant')\n",
    "plt.axis('equal')\n",
    "plt.show()"
   ]
  },
  {
   "cell_type": "code",
   "execution_count": 8,
   "id": "662a2b15",
   "metadata": {},
   "outputs": [
    {
     "data": {
      "text/plain": [
       "[     Sex  Length  Diameter  Height  Whole weight  Shucked weight  \\\n",
       " 2      F   0.530     0.420   0.135        0.6770          0.2565   \n",
       " 6      F   0.530     0.415   0.150        0.7775          0.2370   \n",
       " 7      F   0.545     0.425   0.125        0.7680          0.2940   \n",
       " 9      F   0.550     0.440   0.150        0.8945          0.3145   \n",
       " 10     F   0.525     0.380   0.140        0.6065          0.1940   \n",
       " ...   ..     ...       ...     ...           ...             ...   \n",
       " 4160   F   0.585     0.475   0.165        1.0530          0.4580   \n",
       " 4161   F   0.585     0.455   0.170        0.9945          0.4255   \n",
       " 4168   F   0.515     0.400   0.125        0.6150          0.2865   \n",
       " 4172   F   0.565     0.450   0.165        0.8870          0.3700   \n",
       " 4175   F   0.625     0.485   0.150        1.0945          0.5310   \n",
       " \n",
       "       Viscera weight  Shell weight  Rings  \n",
       " 2             0.1415        0.2100      9  \n",
       " 6             0.1415        0.3300     20  \n",
       " 7             0.1495        0.2600     16  \n",
       " 9             0.1510        0.3200     19  \n",
       " 10            0.1475        0.2100     14  \n",
       " ...              ...           ...    ...  \n",
       " 4160          0.2170        0.3000     11  \n",
       " 4161          0.2630        0.2845     11  \n",
       " 4168          0.1230        0.1765      8  \n",
       " 4172          0.2390        0.2490     11  \n",
       " 4175          0.2610        0.2960     10  \n",
       " \n",
       " [1307 rows x 9 columns],\n",
       "      Sex  Length  Diameter  Height  Whole weight  Shucked weight  \\\n",
       " 4      I   0.330     0.255   0.080        0.2050          0.0895   \n",
       " 5      I   0.425     0.300   0.095        0.3515          0.1410   \n",
       " 16     I   0.355     0.280   0.085        0.2905          0.0950   \n",
       " 21     I   0.380     0.275   0.100        0.2255          0.0800   \n",
       " 42     I   0.240     0.175   0.045        0.0700          0.0315   \n",
       " ...   ..     ...       ...     ...           ...             ...   \n",
       " 4158   I   0.480     0.355   0.110        0.4495          0.2010   \n",
       " 4163   I   0.390     0.310   0.085        0.3440          0.1810   \n",
       " 4164   I   0.390     0.290   0.100        0.2845          0.1255   \n",
       " 4165   I   0.405     0.300   0.085        0.3035          0.1500   \n",
       " 4166   I   0.475     0.365   0.115        0.4990          0.2320   \n",
       " \n",
       "       Viscera weight  Shell weight  Rings  \n",
       " 4             0.0395         0.055      7  \n",
       " 5             0.0775         0.120      8  \n",
       " 16            0.0395         0.115      7  \n",
       " 21            0.0490         0.085     10  \n",
       " 42            0.0235         0.020      5  \n",
       " ...              ...           ...    ...  \n",
       " 4158          0.0890         0.140      8  \n",
       " 4163          0.0695         0.079      7  \n",
       " 4164          0.0635         0.081      7  \n",
       " 4165          0.0505         0.088      7  \n",
       " 4166          0.0885         0.156     10  \n",
       " \n",
       " [1342 rows x 9 columns],\n",
       "      Sex  Length  Diameter  Height  Whole weight  Shucked weight  \\\n",
       " 0      M   0.455     0.365   0.095        0.5140          0.2245   \n",
       " 1      M   0.350     0.265   0.090        0.2255          0.0995   \n",
       " 3      M   0.440     0.365   0.125        0.5160          0.2155   \n",
       " 8      M   0.475     0.370   0.125        0.5095          0.2165   \n",
       " 11     M   0.430     0.350   0.110        0.4060          0.1675   \n",
       " ...   ..     ...       ...     ...           ...             ...   \n",
       " 4170   M   0.550     0.430   0.130        0.8395          0.3155   \n",
       " 4171   M   0.560     0.430   0.155        0.8675          0.4000   \n",
       " 4173   M   0.590     0.440   0.135        0.9660          0.4390   \n",
       " 4174   M   0.600     0.475   0.205        1.1760          0.5255   \n",
       " 4176   M   0.710     0.555   0.195        1.9485          0.9455   \n",
       " \n",
       "       Viscera weight  Shell weight  Rings  \n",
       " 0             0.1010        0.1500     15  \n",
       " 1             0.0485        0.0700      7  \n",
       " 3             0.1140        0.1550     10  \n",
       " 8             0.1125        0.1650      9  \n",
       " 11            0.0810        0.1350     10  \n",
       " ...              ...           ...    ...  \n",
       " 4170          0.1955        0.2405     10  \n",
       " 4171          0.1720        0.2290      8  \n",
       " 4173          0.2145        0.2605     10  \n",
       " 4174          0.2875        0.3080      9  \n",
       " 4176          0.3765        0.4950     12  \n",
       " \n",
       " [1528 rows x 9 columns]]"
      ]
     },
     "execution_count": 8,
     "metadata": {},
     "output_type": "execute_result"
    }
   ],
   "source": [
    "ans = [y for x, y in df.groupby('Sex', as_index=False)]\n",
    "ans"
   ]
  },
  {
   "cell_type": "code",
   "execution_count": 9,
   "id": "378c69c9",
   "metadata": {},
   "outputs": [
    {
     "data": {
      "text/plain": [
       "<AxesSubplot:ylabel='Frequency'>"
      ]
     },
     "execution_count": 9,
     "metadata": {},
     "output_type": "execute_result"
    },
    {
     "data": {
      "image/png": "[encoded data removed]",
      "text/plain": [
       "<Figure size 432x288 with 1 Axes>"
      ]
     },
     "metadata": {
      "needs_background": "light"
     },
     "output_type": "display_data"
    }
   ],
   "source": [
    "df['Length'].plot(kind='hist', bins=50)"
   ]
  },
  {
   "cell_type": "code",
   "execution_count": 10,
   "id": "6a52777c",
   "metadata": {},
   "outputs": [
    {
     "data": {
      "text/plain": [
       "<AxesSubplot:ylabel='Frequency'>"
      ]
     },
     "execution_count": 10,
     "metadata": {},
     "output_type": "execute_result"
    },
    {
     "data": {
      "image/png": "[encoded data removed]",
      "text/plain": [
       "<Figure size 432x288 with 1 Axes>"
      ]
     },
     "metadata": {
      "needs_background": "light"
     },
     "output_type": "display_data"
    }
   ],
   "source": [
    "ans[0]['Length'].plot(kind='hist', bins=50) #Blue Female\n",
    "ans[1]['Length'].plot(kind='hist', bins=50) #Orange Infant\n",
    "ans[2]['Length'].plot(kind='hist', bins=50) #Green Male"
   ]
  },
  {
   "cell_type": "code",
   "execution_count": 11,
   "id": "f5887cbc",
   "metadata": {},
   "outputs": [
    {
     "data": {
      "text/plain": [
       "<AxesSubplot:ylabel='Frequency'>"
      ]
     },
     "execution_count": 11,
     "metadata": {},
     "output_type": "execute_result"
    },
    {
     "data": {
      "image/png": "[encoded data removed]",
      "text/plain": [
       "<Figure size 432x288 with 1 Axes>"
      ]
     },
     "metadata": {
      "needs_background": "light"
     },
     "output_type": "display_data"
    }
   ],
   "source": [
    "df['Diameter'].plot(kind='hist', bins=50)"
   ]
  },
  {
   "cell_type": "code",
   "execution_count": 12,
   "id": "127daf4f",
   "metadata": {},
   "outputs": [
    {
     "data": {
      "text/plain": [
       "<AxesSubplot:ylabel='Frequency'>"
      ]
     },
     "execution_count": 12,
     "metadata": {},
     "output_type": "execute_result"
    },
    {
     "data": {
      "image/png": "[encoded data removed]",
      "text/plain": [
       "<Figure size 432x288 with 1 Axes>"
      ]
     },
     "metadata": {
      "needs_background": "light"
     },
     "output_type": "display_data"
    }
   ],
   "source": [
    "ans[0]['Diameter'].plot(kind='hist', bins=50) #Blue Female\n",
    "ans[1]['Diameter'].plot(kind='hist', bins=50) #Orange Infant\n",
    "ans[2]['Diameter'].plot(kind='hist', bins=50) #Green Male"
   ]
  },
  {
   "cell_type": "code",
   "execution_count": 13,
   "id": "ca030ca3",
   "metadata": {},
   "outputs": [
    {
     "data": {
      "text/plain": [
       "<AxesSubplot:ylabel='Frequency'>"
      ]
     },
     "execution_count": 13,
     "metadata": {},
     "output_type": "execute_result"
    },
    {
     "data": {
      "image/png": "[encoded data removed]",
      "text/plain": [
       "<Figure size 432x288 with 1 Axes>"
      ]
     },
     "metadata": {
      "needs_background": "light"
     },
     "output_type": "display_data"
    }
   ],
   "source": [
    "df['Height'].plot(kind='hist', bins=50)"
   ]
  },
  {
   "cell_type": "code",
   "execution_count": 14,
   "id": "ce2714ea",
   "metadata": {},
   "outputs": [
    {
     "data": {
      "text/plain": [
       "<AxesSubplot:ylabel='Frequency'>"
      ]
     },
     "execution_count": 14,
     "metadata": {},
     "output_type": "execute_result"
    },
    {
     "data": {
      "image/png": "[encoded data removed]",
      "text/plain": [
       "<Figure size 432x288 with 1 Axes>"
      ]
     },
     "metadata": {
      "needs_background": "light"
     },
     "output_type": "display_data"
    }
   ],
   "source": [
    "ans[0]['Height'].plot(kind='hist', bins=50) #Blue Female\n",
    "ans[1]['Height'].plot(kind='hist', bins=50) #Orange Infant\n",
    "ans[2]['Height'].plot(kind='hist', bins=50) #Green Male"
   ]
  },
  {
   "cell_type": "code",
   "execution_count": 15,
   "id": "d5c4e61d",
   "metadata": {},
   "outputs": [
    {
     "data": {
      "text/plain": [
       "<AxesSubplot:ylabel='Frequency'>"
      ]
     },
     "execution_count": 15,
     "metadata": {},
     "output_type": "execute_result"
    },
    {
     "data": {
      "image/png": "[encoded data removed]",
      "text/plain": [
       "<Figure size 432x288 with 1 Axes>"
      ]
     },
     "metadata": {
      "needs_background": "light"
     },
     "output_type": "display_data"
    }
   ],
   "source": [
    "df['Whole weight'].plot(kind='hist', bins=50)"
   ]
  },
  {
   "cell_type": "code",
   "execution_count": 16,
   "id": "a2c1f439",
   "metadata": {},
   "outputs": [
    {
     "data": {
      "text/plain": [
       "<AxesSubplot:ylabel='Frequency'>"
      ]
     },
     "execution_count": 16,
     "metadata": {},
     "output_type": "execute_result"
    },
    {
     "data": {
      "image/png": "[encoded data removed]",
      "text/plain": [
       "<Figure size 432x288 with 1 Axes>"
      ]
     },
     "metadata": {
      "needs_background": "light"
     },
     "output_type": "display_data"
    }
   ],
   "source": [
    "ans[0]['Whole weight'].plot(kind='hist', bins=50) #Blue Female\n",
    "ans[1]['Whole weight'].plot(kind='hist', bins=50) #Orange Infant\n",
    "ans[2]['Whole weight'].plot(kind='hist', bins=50) #Green Male"
   ]
  },
  {
   "cell_type": "code",
   "execution_count": 17,
   "id": "d616ee58",
   "metadata": {},
   "outputs": [
    {
     "data": {
      "text/plain": [
       "<AxesSubplot:ylabel='Frequency'>"
      ]
     },
     "execution_count": 17,
     "metadata": {},
     "output_type": "execute_result"
    },
    {
     "data": {
      "image/png": "[encoded data removed]",
      "text/plain": [
       "<Figure size 432x288 with 1 Axes>"
      ]
     },
     "metadata": {
      "needs_background": "light"
     },
     "output_type": "display_data"
    }
   ],
   "source": [
    "df['Shucked weight'].plot(kind='hist', bins=50)"
   ]
  },
  {
   "cell_type": "code",
   "execution_count": 18,
   "id": "1cf5f28c",
   "metadata": {},
   "outputs": [
    {
     "data": {
      "text/plain": [
       "<AxesSubplot:ylabel='Frequency'>"
      ]
     },
     "execution_count": 18,
     "metadata": {},
     "output_type": "execute_result"
    },
    {
     "data": {
      "image/png": "[encoded data removed]",
      "text/plain": [
       "<Figure size 432x288 with 1 Axes>"
      ]
     },
     "metadata": {
      "needs_background": "light"
     },
     "output_type": "display_data"
    }
   ],
   "source": [
    "ans[0]['Shucked weight'].plot(kind='hist', bins=50) #Blue Female\n",
    "ans[1]['Shucked weight'].plot(kind='hist', bins=50) #Orange Infant\n",
    "ans[2]['Shucked weight'].plot(kind='hist', bins=50) #Green Male"
   ]
  },
  {
   "cell_type": "code",
   "execution_count": 19,
   "id": "56d9c57f",
   "metadata": {},
   "outputs": [
    {
     "data": {
      "text/plain": [
       "<AxesSubplot:ylabel='Frequency'>"
      ]
     },
     "execution_count": 19,
     "metadata": {},
     "output_type": "execute_result"
    },
    {
     "data": {
      "image/png": "[encoded data removed]",
      "text/plain": [
       "<Figure size 432x288 with 1 Axes>"
      ]
     },
     "metadata": {
      "needs_background": "light"
     },
     "output_type": "display_data"
    }
   ],
   "source": [
    "df['Viscera weight'].plot(kind='hist', bins=50)"
   ]
  },
  {
   "cell_type": "code",
   "execution_count": 20,
   "id": "227c2a23",
   "metadata": {},
   "outputs": [
    {
     "data": {
      "text/plain": [
       "<AxesSubplot:ylabel='Frequency'>"
      ]
     },
     "execution_count": 20,
     "metadata": {},
     "output_type": "execute_result"
    },
    {
     "data": {
      "image/png": "[encoded data removed]",
      "text/plain": [
       "<Figure size 432x288 with 1 Axes>"
      ]
     },
     "metadata": {
      "needs_background": "light"
     },
     "output_type": "display_data"
    }
   ],
   "source": [
    "ans[0]['Viscera weight'].plot(kind='hist', bins=50) #Blue Female\n",
    "ans[1]['Viscera weight'].plot(kind='hist', bins=50) #Orange Infant\n",
    "ans[2]['Viscera weight'].plot(kind='hist', bins=50) #Green Male"
   ]
  },
  {
   "cell_type": "code",
   "execution_count": 21,
   "id": "fdb171f3",
   "metadata": {},
   "outputs": [
    {
     "data": {
      "text/plain": [
       "<AxesSubplot:ylabel='Frequency'>"
      ]
     },
     "execution_count": 21,
     "metadata": {},
     "output_type": "execute_result"
    },
    {
     "data": {
      "image/png": "[encoded data removed]",
      "text/plain": [
       "<Figure size 432x288 with 1 Axes>"
      ]
     },
     "metadata": {
      "needs_background": "light"
     },
     "output_type": "display_data"
    }
   ],
   "source": [
    "df['Shell weight'].plot(kind='hist', bins=50)"
   ]
  },
  {
   "cell_type": "code",
   "execution_count": 22,
   "id": "3e43d44b",
   "metadata": {},
   "outputs": [
    {
     "data": {
      "text/plain": [
       "<AxesSubplot:ylabel='Frequency'>"
      ]
     },
     "execution_count": 22,
     "metadata": {},
     "output_type": "execute_result"
    },
    {
     "data": {
      "image/png": "[encoded data removed]",
      "text/plain": [
       "<Figure size 432x288 with 1 Axes>"
      ]
     },
     "metadata": {
      "needs_background": "light"
     },
     "output_type": "display_data"
    }
   ],
   "source": [
    "ans[0]['Shell weight'].plot(kind='hist', bins=50) #Blue Female\n",
    "ans[1]['Shell weight'].plot(kind='hist', bins=50) #Orange Infant\n",
    "ans[2]['Shell weight'].plot(kind='hist', bins=50) #Green Male"
   ]
  },
  {
   "cell_type": "code",
   "execution_count": 23,
   "id": "ee144aca",
   "metadata": {},
   "outputs": [
    {
     "data": {
      "text/plain": [
       "<AxesSubplot:ylabel='Frequency'>"
      ]
     },
     "execution_count": 23,
     "metadata": {},
     "output_type": "execute_result"
    },
    {
     "data": {
      "image/png": "[encoded data removed]",
      "text/plain": [
       "<Figure size 432x288 with 1 Axes>"
      ]
     },
     "metadata": {
      "needs_background": "light"
     },
     "output_type": "display_data"
    }
   ],
   "source": [
    "df['Rings'].plot(kind='hist', bins=50)"
   ]
  },
  {
   "cell_type": "code",
   "execution_count": 24,
   "id": "d6a5927d",
   "metadata": {},
   "outputs": [
    {
     "data": {
      "text/plain": [
       "<AxesSubplot:ylabel='Frequency'>"
      ]
     },
     "execution_count": 24,
     "metadata": {},
     "output_type": "execute_result"
    },
    {
     "data": {
      "image/png": "[encoded data removed]",
      "text/plain": [
       "<Figure size 432x288 with 1 Axes>"
      ]
     },
     "metadata": {
      "needs_background": "light"
     },
     "output_type": "display_data"
    }
   ],
   "source": [
    "ans[0]['Rings'].plot(kind='hist', bins=50) #Blue Female\n",
    "ans[1]['Rings'].plot(kind='hist', bins=50) #Orange Infant\n",
    "ans[2]['Rings'].plot(kind='hist', bins=50) #Green Male"
   ]
  },
  {
   "cell_type": "code",
   "execution_count": 25,
   "id": "b2354057",
   "metadata": {},
   "outputs": [],
   "source": [
    "enc = LabelEncoder()"
   ]
  },
  {
   "cell_type": "code",
   "execution_count": 26,
   "id": "71ca5114",
   "metadata": {},
   "outputs": [],
   "source": [
    "y = pd.DataFrame(enc.fit_transform(df['Sex']))"
   ]
  },
  {
   "cell_type": "code",
   "execution_count": 27,
   "id": "9096f601",
   "metadata": {},
   "outputs": [],
   "source": [
    "X = df.drop(['Sex'], axis=1)\n",
    "# feature importance trimmed\n",
    "#X = df.drop(['Sex', 'Diameter', 'Length', 'Height', 'Rings'], axis=1)"
   ]
  },
  {
   "cell_type": "code",
   "execution_count": 28,
   "id": "0a9a3ac5",
   "metadata": {},
   "outputs": [
    {
     "data": {
      "text/html": [
       "<div>\n",
       "<style scoped>\n",
       "    .dataframe tbody tr th:only-of-type {\n",
       "        vertical-align: middle;\n",
       "    }\n",
       "\n",
       "    .dataframe tbody tr th {\n",
       "        vertical-align: top;\n",
       "    }\n",
       "\n",
       "    .dataframe thead th {\n",
       "        text-align: right;\n",
       "    }\n",
       "</style>\n",
       "<table border=\"1\" class=\"dataframe\">\n",
       "  <thead>\n",
       "    <tr style=\"text-align: right;\">\n",
       "      <th></th>\n",
       "      <th>Length</th>\n",
       "      <th>Diameter</th>\n",
       "      <th>Height</th>\n",
       "      <th>Whole weight</th>\n",
       "      <th>Shucked weight</th>\n",
       "      <th>Viscera weight</th>\n",
       "      <th>Shell weight</th>\n",
       "      <th>Rings</th>\n",
       "    </tr>\n",
       "  </thead>\n",
       "  <tbody>\n",
       "    <tr>\n",
       "      <th>0</th>\n",
       "      <td>0.455</td>\n",
       "      <td>0.365</td>\n",
       "      <td>0.095</td>\n",
       "      <td>0.5140</td>\n",
       "      <td>0.2245</td>\n",
       "      <td>0.1010</td>\n",
       "      <td>0.1500</td>\n",
       "      <td>15</td>\n",
       "    </tr>\n",
       "    <tr>\n",
       "      <th>1</th>\n",
       "      <td>0.350</td>\n",
       "      <td>0.265</td>\n",
       "      <td>0.090</td>\n",
       "      <td>0.2255</td>\n",
       "      <td>0.0995</td>\n",
       "      <td>0.0485</td>\n",
       "      <td>0.0700</td>\n",
       "      <td>7</td>\n",
       "    </tr>\n",
       "    <tr>\n",
       "      <th>2</th>\n",
       "      <td>0.530</td>\n",
       "      <td>0.420</td>\n",
       "      <td>0.135</td>\n",
       "      <td>0.6770</td>\n",
       "      <td>0.2565</td>\n",
       "      <td>0.1415</td>\n",
       "      <td>0.2100</td>\n",
       "      <td>9</td>\n",
       "    </tr>\n",
       "    <tr>\n",
       "      <th>3</th>\n",
       "      <td>0.440</td>\n",
       "      <td>0.365</td>\n",
       "      <td>0.125</td>\n",
       "      <td>0.5160</td>\n",
       "      <td>0.2155</td>\n",
       "      <td>0.1140</td>\n",
       "      <td>0.1550</td>\n",
       "      <td>10</td>\n",
       "    </tr>\n",
       "    <tr>\n",
       "      <th>4</th>\n",
       "      <td>0.330</td>\n",
       "      <td>0.255</td>\n",
       "      <td>0.080</td>\n",
       "      <td>0.2050</td>\n",
       "      <td>0.0895</td>\n",
       "      <td>0.0395</td>\n",
       "      <td>0.0550</td>\n",
       "      <td>7</td>\n",
       "    </tr>\n",
       "    <tr>\n",
       "      <th>...</th>\n",
       "      <td>...</td>\n",
       "      <td>...</td>\n",
       "      <td>...</td>\n",
       "      <td>...</td>\n",
       "      <td>...</td>\n",
       "      <td>...</td>\n",
       "      <td>...</td>\n",
       "      <td>...</td>\n",
       "    </tr>\n",
       "    <tr>\n",
       "      <th>4172</th>\n",
       "      <td>0.565</td>\n",
       "      <td>0.450</td>\n",
       "      <td>0.165</td>\n",
       "      <td>0.8870</td>\n",
       "      <td>0.3700</td>\n",
       "      <td>0.2390</td>\n",
       "      <td>0.2490</td>\n",
       "      <td>11</td>\n",
       "    </tr>\n",
       "    <tr>\n",
       "      <th>4173</th>\n",
       "      <td>0.590</td>\n",
       "      <td>0.440</td>\n",
       "      <td>0.135</td>\n",
       "      <td>0.9660</td>\n",
       "      <td>0.4390</td>\n",
       "      <td>0.2145</td>\n",
       "      <td>0.2605</td>\n",
       "      <td>10</td>\n",
       "    </tr>\n",
       "    <tr>\n",
       "      <th>4174</th>\n",
       "      <td>0.600</td>\n",
       "      <td>0.475</td>\n",
       "      <td>0.205</td>\n",
       "      <td>1.1760</td>\n",
       "      <td>0.5255</td>\n",
       "      <td>0.2875</td>\n",
       "      <td>0.3080</td>\n",
       "      <td>9</td>\n",
       "    </tr>\n",
       "    <tr>\n",
       "      <th>4175</th>\n",
       "      <td>0.625</td>\n",
       "      <td>0.485</td>\n",
       "      <td>0.150</td>\n",
       "      <td>1.0945</td>\n",
       "      <td>0.5310</td>\n",
       "      <td>0.2610</td>\n",
       "      <td>0.2960</td>\n",
       "      <td>10</td>\n",
       "    </tr>\n",
       "    <tr>\n",
       "      <th>4176</th>\n",
       "      <td>0.710</td>\n",
       "      <td>0.555</td>\n",
       "      <td>0.195</td>\n",
       "      <td>1.9485</td>\n",
       "      <td>0.9455</td>\n",
       "      <td>0.3765</td>\n",
       "      <td>0.4950</td>\n",
       "      <td>12</td>\n",
       "    </tr>\n",
       "  </tbody>\n",
       "</table>\n",
       "<p>4177 rows × 8 columns</p>\n",
       "</div>"
      ],
      "text/plain": [
       "      Length  Diameter  Height  Whole weight  Shucked weight  Viscera weight  \\\n",
       "0      0.455     0.365   0.095        0.5140          0.2245          0.1010   \n",
       "1      0.350     0.265   0.090        0.2255          0.0995          0.0485   \n",
       "2      0.530     0.420   0.135        0.6770          0.2565          0.1415   \n",
       "3      0.440     0.365   0.125        0.5160          0.2155          0.1140   \n",
       "4      0.330     0.255   0.080        0.2050          0.0895          0.0395   \n",
       "...      ...       ...     ...           ...             ...             ...   \n",
       "4172   0.565     0.450   0.165        0.8870          0.3700          0.2390   \n",
       "4173   0.590     0.440   0.135        0.9660          0.4390          0.2145   \n",
       "4174   0.600     0.475   0.205        1.1760          0.5255          0.2875   \n",
       "4175   0.625     0.485   0.150        1.0945          0.5310          0.2610   \n",
       "4176   0.710     0.555   0.195        1.9485          0.9455          0.3765   \n",
       "\n",
       "      Shell weight  Rings  \n",
       "0           0.1500     15  \n",
       "1           0.0700      7  \n",
       "2           0.2100      9  \n",
       "3           0.1550     10  \n",
       "4           0.0550      7  \n",
       "...            ...    ...  \n",
       "4172        0.2490     11  \n",
       "4173        0.2605     10  \n",
       "4174        0.3080      9  \n",
       "4175        0.2960     10  \n",
       "4176        0.4950     12  \n",
       "\n",
       "[4177 rows x 8 columns]"
      ]
     },
     "execution_count": 28,
     "metadata": {},
     "output_type": "execute_result"
    }
   ],
   "source": [
    "X"
   ]
  },
  {
   "cell_type": "code",
   "execution_count": 29,
   "id": "86e5b6fd",
   "metadata": {},
   "outputs": [],
   "source": [
    "X = pd.DataFrame(MinMaxScaler().fit_transform(X))\n",
    "X = pd.DataFrame(StandardScaler().fit_transform(X))"
   ]
  },
  {
   "cell_type": "code",
   "execution_count": 30,
   "id": "1494aa64",
   "metadata": {},
   "outputs": [
    {
     "data": {
      "text/html": [
       "<div>\n",
       "<style scoped>\n",
       "    .dataframe tbody tr th:only-of-type {\n",
       "        vertical-align: middle;\n",
       "    }\n",
       "\n",
       "    .dataframe tbody tr th {\n",
       "        vertical-align: top;\n",
       "    }\n",
       "\n",
       "    .dataframe thead th {\n",
       "        text-align: right;\n",
       "    }\n",
       "</style>\n",
       "<table border=\"1\" class=\"dataframe\">\n",
       "  <thead>\n",
       "    <tr style=\"text-align: right;\">\n",
       "      <th></th>\n",
       "      <th>0</th>\n",
       "      <th>1</th>\n",
       "      <th>2</th>\n",
       "      <th>3</th>\n",
       "      <th>4</th>\n",
       "      <th>5</th>\n",
       "      <th>6</th>\n",
       "      <th>7</th>\n",
       "    </tr>\n",
       "  </thead>\n",
       "  <tbody>\n",
       "    <tr>\n",
       "      <th>0</th>\n",
       "      <td>-0.574558</td>\n",
       "      <td>-0.432149</td>\n",
       "      <td>-1.064424</td>\n",
       "      <td>-0.641898</td>\n",
       "      <td>-0.607685</td>\n",
       "      <td>-0.726212</td>\n",
       "      <td>-0.638217</td>\n",
       "      <td>1.571544</td>\n",
       "    </tr>\n",
       "    <tr>\n",
       "      <th>1</th>\n",
       "      <td>-1.448986</td>\n",
       "      <td>-1.439929</td>\n",
       "      <td>-1.183978</td>\n",
       "      <td>-1.230277</td>\n",
       "      <td>-1.170910</td>\n",
       "      <td>-1.205221</td>\n",
       "      <td>-1.212987</td>\n",
       "      <td>-0.910013</td>\n",
       "    </tr>\n",
       "    <tr>\n",
       "      <th>2</th>\n",
       "      <td>0.050033</td>\n",
       "      <td>0.122130</td>\n",
       "      <td>-0.107991</td>\n",
       "      <td>-0.309469</td>\n",
       "      <td>-0.463500</td>\n",
       "      <td>-0.356690</td>\n",
       "      <td>-0.207139</td>\n",
       "      <td>-0.289624</td>\n",
       "    </tr>\n",
       "    <tr>\n",
       "      <th>3</th>\n",
       "      <td>-0.699476</td>\n",
       "      <td>-0.432149</td>\n",
       "      <td>-0.347099</td>\n",
       "      <td>-0.637819</td>\n",
       "      <td>-0.648238</td>\n",
       "      <td>-0.607600</td>\n",
       "      <td>-0.602294</td>\n",
       "      <td>0.020571</td>\n",
       "    </tr>\n",
       "    <tr>\n",
       "      <th>4</th>\n",
       "      <td>-1.615544</td>\n",
       "      <td>-1.540707</td>\n",
       "      <td>-1.423087</td>\n",
       "      <td>-1.272086</td>\n",
       "      <td>-1.215968</td>\n",
       "      <td>-1.287337</td>\n",
       "      <td>-1.320757</td>\n",
       "      <td>-0.910013</td>\n",
       "    </tr>\n",
       "    <tr>\n",
       "      <th>...</th>\n",
       "      <td>...</td>\n",
       "      <td>...</td>\n",
       "      <td>...</td>\n",
       "      <td>...</td>\n",
       "      <td>...</td>\n",
       "      <td>...</td>\n",
       "      <td>...</td>\n",
       "      <td>...</td>\n",
       "    </tr>\n",
       "    <tr>\n",
       "      <th>4172</th>\n",
       "      <td>0.341509</td>\n",
       "      <td>0.424464</td>\n",
       "      <td>0.609334</td>\n",
       "      <td>0.118813</td>\n",
       "      <td>0.047908</td>\n",
       "      <td>0.532900</td>\n",
       "      <td>0.073062</td>\n",
       "      <td>0.330765</td>\n",
       "    </tr>\n",
       "    <tr>\n",
       "      <th>4173</th>\n",
       "      <td>0.549706</td>\n",
       "      <td>0.323686</td>\n",
       "      <td>-0.107991</td>\n",
       "      <td>0.279929</td>\n",
       "      <td>0.358808</td>\n",
       "      <td>0.309362</td>\n",
       "      <td>0.155685</td>\n",
       "      <td>0.020571</td>\n",
       "    </tr>\n",
       "    <tr>\n",
       "      <th>4174</th>\n",
       "      <td>0.632985</td>\n",
       "      <td>0.676409</td>\n",
       "      <td>1.565767</td>\n",
       "      <td>0.708212</td>\n",
       "      <td>0.748559</td>\n",
       "      <td>0.975413</td>\n",
       "      <td>0.496955</td>\n",
       "      <td>-0.289624</td>\n",
       "    </tr>\n",
       "    <tr>\n",
       "      <th>4175</th>\n",
       "      <td>0.841182</td>\n",
       "      <td>0.777187</td>\n",
       "      <td>0.250672</td>\n",
       "      <td>0.541998</td>\n",
       "      <td>0.773341</td>\n",
       "      <td>0.733627</td>\n",
       "      <td>0.410739</td>\n",
       "      <td>0.020571</td>\n",
       "    </tr>\n",
       "    <tr>\n",
       "      <th>4176</th>\n",
       "      <td>1.549052</td>\n",
       "      <td>1.482634</td>\n",
       "      <td>1.326659</td>\n",
       "      <td>2.283681</td>\n",
       "      <td>2.640993</td>\n",
       "      <td>1.787449</td>\n",
       "      <td>1.840481</td>\n",
       "      <td>0.640960</td>\n",
       "    </tr>\n",
       "  </tbody>\n",
       "</table>\n",
       "<p>4177 rows × 8 columns</p>\n",
       "</div>"
      ],
      "text/plain": [
       "             0         1         2         3         4         5         6  \\\n",
       "0    -0.574558 -0.432149 -1.064424 -0.641898 -0.607685 -0.726212 -0.638217   \n",
       "1    -1.448986 -1.439929 -1.183978 -1.230277 -1.170910 -1.205221 -1.212987   \n",
       "2     0.050033  0.122130 -0.107991 -0.309469 -0.463500 -0.356690 -0.207139   \n",
       "3    -0.699476 -0.432149 -0.347099 -0.637819 -0.648238 -0.607600 -0.602294   \n",
       "4    -1.615544 -1.540707 -1.423087 -1.272086 -1.215968 -1.287337 -1.320757   \n",
       "...        ...       ...       ...       ...       ...       ...       ...   \n",
       "4172  0.341509  0.424464  0.609334  0.118813  0.047908  0.532900  0.073062   \n",
       "4173  0.549706  0.323686 -0.107991  0.279929  0.358808  0.309362  0.155685   \n",
       "4174  0.632985  0.676409  1.565767  0.708212  0.748559  0.975413  0.496955   \n",
       "4175  0.841182  0.777187  0.250672  0.541998  0.773341  0.733627  0.410739   \n",
       "4176  1.549052  1.482634  1.326659  2.283681  2.640993  1.787449  1.840481   \n",
       "\n",
       "             7  \n",
       "0     1.571544  \n",
       "1    -0.910013  \n",
       "2    -0.289624  \n",
       "3     0.020571  \n",
       "4    -0.910013  \n",
       "...        ...  \n",
       "4172  0.330765  \n",
       "4173  0.020571  \n",
       "4174 -0.289624  \n",
       "4175  0.020571  \n",
       "4176  0.640960  \n",
       "\n",
       "[4177 rows x 8 columns]"
      ]
     },
     "execution_count": 30,
     "metadata": {},
     "output_type": "execute_result"
    }
   ],
   "source": [
    "X"
   ]
  },
  {
   "cell_type": "code",
   "execution_count": 31,
   "id": "3dd02733",
   "metadata": {},
   "outputs": [
    {
     "data": {
      "text/html": [
       "<div>\n",
       "<style scoped>\n",
       "    .dataframe tbody tr th:only-of-type {\n",
       "        vertical-align: middle;\n",
       "    }\n",
       "\n",
       "    .dataframe tbody tr th {\n",
       "        vertical-align: top;\n",
       "    }\n",
       "\n",
       "    .dataframe thead th {\n",
       "        text-align: right;\n",
       "    }\n",
       "</style>\n",
       "<table border=\"1\" class=\"dataframe\">\n",
       "  <thead>\n",
       "    <tr style=\"text-align: right;\">\n",
       "      <th></th>\n",
       "      <th>0</th>\n",
       "    </tr>\n",
       "  </thead>\n",
       "  <tbody>\n",
       "    <tr>\n",
       "      <th>0</th>\n",
       "      <td>2</td>\n",
       "    </tr>\n",
       "    <tr>\n",
       "      <th>1</th>\n",
       "      <td>2</td>\n",
       "    </tr>\n",
       "    <tr>\n",
       "      <th>2</th>\n",
       "      <td>0</td>\n",
       "    </tr>\n",
       "    <tr>\n",
       "      <th>3</th>\n",
       "      <td>2</td>\n",
       "    </tr>\n",
       "    <tr>\n",
       "      <th>4</th>\n",
       "      <td>1</td>\n",
       "    </tr>\n",
       "    <tr>\n",
       "      <th>...</th>\n",
       "      <td>...</td>\n",
       "    </tr>\n",
       "    <tr>\n",
       "      <th>4172</th>\n",
       "      <td>0</td>\n",
       "    </tr>\n",
       "    <tr>\n",
       "      <th>4173</th>\n",
       "      <td>2</td>\n",
       "    </tr>\n",
       "    <tr>\n",
       "      <th>4174</th>\n",
       "      <td>2</td>\n",
       "    </tr>\n",
       "    <tr>\n",
       "      <th>4175</th>\n",
       "      <td>0</td>\n",
       "    </tr>\n",
       "    <tr>\n",
       "      <th>4176</th>\n",
       "      <td>2</td>\n",
       "    </tr>\n",
       "  </tbody>\n",
       "</table>\n",
       "<p>4177 rows × 1 columns</p>\n",
       "</div>"
      ],
      "text/plain": [
       "      0\n",
       "0     2\n",
       "1     2\n",
       "2     0\n",
       "3     2\n",
       "4     1\n",
       "...  ..\n",
       "4172  0\n",
       "4173  2\n",
       "4174  2\n",
       "4175  0\n",
       "4176  2\n",
       "\n",
       "[4177 rows x 1 columns]"
      ]
     },
     "execution_count": 31,
     "metadata": {},
     "output_type": "execute_result"
    }
   ],
   "source": [
    "y"
   ]
  },
  {
   "cell_type": "code",
   "execution_count": 32,
   "id": "9f3cf1a0",
   "metadata": {},
   "outputs": [],
   "source": [
    "X_train, X_test, y_train, y_test = train_test_split(X, y, test_size=0.2, random_state=42)"
   ]
  },
  {
   "cell_type": "code",
   "execution_count": 33,
   "id": "61a4d421",
   "metadata": {},
   "outputs": [],
   "source": [
    "#= LogisticRegression()\n",
    "#= DecisionTreeClassifier()\n",
    "#= MLPClassifier(random_state=1, max_iter=300)\n",
    "# SVC()\n",
    "#OneVsRestClassifier(estimator=SVC())\n",
    "# RandomForestClassifier()"
   ]
  },
  {
   "cell_type": "code",
   "execution_count": 34,
   "id": "c86ecf23",
   "metadata": {},
   "outputs": [
    {
     "name": "stdout",
     "output_type": "stream",
     "text": [
      "Test accuracy:  0.583732057416268\n",
      "              precision    recall  f1-score   support\n",
      "\n",
      "           0       0.50      0.38      0.43       262\n",
      "           1       0.69      0.87      0.76       267\n",
      "           2       0.52      0.51      0.52       307\n",
      "\n",
      "    accuracy                           0.58       836\n",
      "   macro avg       0.57      0.59      0.57       836\n",
      "weighted avg       0.57      0.58      0.57       836\n",
      "\n",
      "Train accuracy:  0.556420233463035\n",
      "              precision    recall  f1-score   support\n",
      "\n",
      "           0       0.49      0.37      0.42      1045\n",
      "           1       0.66      0.82      0.73      1075\n",
      "           2       0.49      0.49      0.49      1221\n",
      "\n",
      "    accuracy                           0.56      3341\n",
      "   macro avg       0.54      0.56      0.55      3341\n",
      "weighted avg       0.54      0.56      0.54      3341\n",
      "\n"
     ]
    }
   ],
   "source": [
    "lr = LogisticRegression().fit(X_train, y_train.values.ravel())\n",
    "lr_predict_test = lr.predict(X_test)\n",
    "lr_predict_train = lr.predict(X_train)\n",
    "print(\"Test accuracy: \", accuracy_score(y_test.values.ravel(), lr_predict_test))\n",
    "print(classification_report(y_test.values.ravel(), lr_predict_test))\n",
    "print(\"Train accuracy: \", accuracy_score(y_train.values.ravel(), lr_predict_train))\n",
    "print(classification_report(y_train.values.ravel(), lr_predict_train))\n"
   ]
  },
  {
   "cell_type": "code",
   "execution_count": 35,
   "id": "33cdeab0-d4f7-4796-a51d-42c2d562bef0",
   "metadata": {},
   "outputs": [
    {
     "name": "stdout",
     "output_type": "stream",
     "text": [
      "Test accuracy:  0.5729665071770335\n",
      "              precision    recall  f1-score   support\n",
      "\n",
      "           0       0.48      0.40      0.44       262\n",
      "           1       0.68      0.87      0.76       267\n",
      "           2       0.52      0.46      0.49       307\n",
      "\n",
      "    accuracy                           0.57       836\n",
      "   macro avg       0.56      0.58      0.56       836\n",
      "weighted avg       0.56      0.57      0.56       836\n",
      "\n",
      "Train accuracy:  0.5534271176294523\n",
      "              precision    recall  f1-score   support\n",
      "\n",
      "           0       0.48      0.38      0.43      1045\n",
      "           1       0.64      0.82      0.72      1075\n",
      "           2       0.50      0.46      0.48      1221\n",
      "\n",
      "    accuracy                           0.55      3341\n",
      "   macro avg       0.54      0.56      0.54      3341\n",
      "weighted avg       0.54      0.55      0.54      3341\n",
      "\n"
     ]
    }
   ],
   "source": [
    "ovrlr = OneVsRestClassifier(estimator=LogisticRegression()).fit(X_train, y_train)\n",
    "ovrlr_predict_test = ovrlr.predict(X_test)\n",
    "ovrlr_predict_train= ovrlr.predict(X_train)\n",
    "print(\"Test accuracy: \", accuracy_score(y_test, ovrlr_predict_test))\n",
    "print(classification_report(y_test, ovrlr_predict_test))\n",
    "print(\"Train accuracy: \", accuracy_score(y_train, ovrlr_predict_train))\n",
    "print(classification_report(y_train, ovrlr_predict_train))"
   ]
  },
  {
   "cell_type": "code",
   "execution_count": 36,
   "id": "171388aa-91d9-42f7-8c2c-7279a5877e88",
   "metadata": {},
   "outputs": [
    {
     "name": "stdout",
     "output_type": "stream",
     "text": [
      "Test accuracy:  0.5825358851674641\n",
      "              precision    recall  f1-score   support\n",
      "\n",
      "           0       0.50      0.40      0.44       262\n",
      "           1       0.69      0.87      0.77       267\n",
      "           2       0.52      0.50      0.51       307\n",
      "\n",
      "    accuracy                           0.58       836\n",
      "   macro avg       0.57      0.59      0.57       836\n",
      "weighted avg       0.57      0.58      0.57       836\n",
      "\n",
      "Train accuracy:  0.5558216102963185\n",
      "              precision    recall  f1-score   support\n",
      "\n",
      "           0       0.49      0.38      0.43      1045\n",
      "           1       0.65      0.81      0.72      1075\n",
      "           2       0.49      0.48      0.49      1221\n",
      "\n",
      "    accuracy                           0.56      3341\n",
      "   macro avg       0.54      0.56      0.55      3341\n",
      "weighted avg       0.54      0.56      0.54      3341\n",
      "\n"
     ]
    }
   ],
   "source": [
    "ovolr = OneVsOneClassifier(estimator=LogisticRegression()).fit(X_train, y_train.values.ravel())\n",
    "ovolr_predict_test = ovolr.predict(X_test)\n",
    "ovolr_predict_train= ovolr.predict(X_train)\n",
    "print(\"Test accuracy: \", accuracy_score(y_test.values.ravel(), ovolr_predict_test))\n",
    "print(classification_report(y_test.values.ravel(), ovolr_predict_test))\n",
    "print(\"Train accuracy: \", accuracy_score(y_train.values.ravel(), ovolr_predict_train))\n",
    "print(classification_report(y_train.values.ravel(), ovolr_predict_train))"
   ]
  },
  {
   "cell_type": "code",
   "execution_count": 37,
   "id": "eaf3d4e1",
   "metadata": {},
   "outputs": [
    {
     "name": "stdout",
     "output_type": "stream",
     "text": [
      "Test accuracy:  0.49401913875598086\n",
      "              precision    recall  f1-score   support\n",
      "\n",
      "           0       0.39      0.40      0.40       262\n",
      "           1       0.65      0.65      0.65       267\n",
      "           2       0.44      0.44      0.44       307\n",
      "\n",
      "    accuracy                           0.49       836\n",
      "   macro avg       0.50      0.50      0.50       836\n",
      "weighted avg       0.49      0.49      0.49       836\n",
      "\n",
      "Train accuracy:  1.0\n",
      "              precision    recall  f1-score   support\n",
      "\n",
      "           0       1.00      1.00      1.00      1045\n",
      "           1       1.00      1.00      1.00      1075\n",
      "           2       1.00      1.00      1.00      1221\n",
      "\n",
      "    accuracy                           1.00      3341\n",
      "   macro avg       1.00      1.00      1.00      3341\n",
      "weighted avg       1.00      1.00      1.00      3341\n",
      "\n"
     ]
    }
   ],
   "source": [
    "trc = DecisionTreeClassifier().fit(X_train, y_train)\n",
    "trc_predict_test = trc.predict(X_test)\n",
    "trc_predict_train = trc.predict(X_train)\n",
    "print(\"Test accuracy: \", accuracy_score(y_test, trc_predict_test))\n",
    "print(classification_report(y_test, trc_predict_test))\n",
    "print(\"Train accuracy: \", accuracy_score(y_train, trc_predict_train))\n",
    "print(classification_report(y_train, trc_predict_train))"
   ]
  },
  {
   "cell_type": "code",
   "execution_count": 38,
   "id": "b785950c-8468-4467-8af8-a9ee5c45b700",
   "metadata": {},
   "outputs": [
    {
     "name": "stdout",
     "output_type": "stream",
     "text": [
      "Test accuracy:  0.5263157894736842\n",
      "              precision    recall  f1-score   support\n",
      "\n",
      "           0       0.47      0.29      0.36       262\n",
      "           1       0.73      0.58      0.64       267\n",
      "           2       0.45      0.69      0.55       307\n",
      "\n",
      "    accuracy                           0.53       836\n",
      "   macro avg       0.55      0.52      0.52       836\n",
      "weighted avg       0.55      0.53      0.52       836\n",
      "\n",
      "Train accuracy:  1.0\n",
      "              precision    recall  f1-score   support\n",
      "\n",
      "           0       1.00      1.00      1.00      1045\n",
      "           1       1.00      1.00      1.00      1075\n",
      "           2       1.00      1.00      1.00      1221\n",
      "\n",
      "    accuracy                           1.00      3341\n",
      "   macro avg       1.00      1.00      1.00      3341\n",
      "weighted avg       1.00      1.00      1.00      3341\n",
      "\n"
     ]
    }
   ],
   "source": [
    "ovrtrc = OneVsRestClassifier(estimator=DecisionTreeClassifier()).fit(X_train, y_train)\n",
    "ovrtrc_predict_test = ovrtrc.predict(X_test)\n",
    "ovrtrc_predict_train= ovrtrc.predict(X_train)\n",
    "print(\"Test accuracy: \", accuracy_score(y_test, ovrtrc_predict_test))\n",
    "print(classification_report(y_test, ovrtrc_predict_test))\n",
    "print(\"Train accuracy: \", accuracy_score(y_train, ovrtrc_predict_train))\n",
    "print(classification_report(y_train, ovrtrc_predict_train))"
   ]
  },
  {
   "cell_type": "code",
   "execution_count": 39,
   "id": "f046e329-b7be-4b3e-9ed0-4dcedc1b616c",
   "metadata": {},
   "outputs": [
    {
     "name": "stdout",
     "output_type": "stream",
     "text": [
      "Test accuracy:  0.5167464114832536\n",
      "              precision    recall  f1-score   support\n",
      "\n",
      "           0       0.46      0.40      0.43       262\n",
      "           1       0.69      0.61      0.65       267\n",
      "           2       0.44      0.53      0.49       307\n",
      "\n",
      "    accuracy                           0.52       836\n",
      "   macro avg       0.53      0.52      0.52       836\n",
      "weighted avg       0.53      0.52      0.52       836\n",
      "\n",
      "Train accuracy:  1.0\n",
      "              precision    recall  f1-score   support\n",
      "\n",
      "           0       1.00      1.00      1.00      1045\n",
      "           1       1.00      1.00      1.00      1075\n",
      "           2       1.00      1.00      1.00      1221\n",
      "\n",
      "    accuracy                           1.00      3341\n",
      "   macro avg       1.00      1.00      1.00      3341\n",
      "weighted avg       1.00      1.00      1.00      3341\n",
      "\n"
     ]
    }
   ],
   "source": [
    "ovotrc = OneVsOneClassifier(estimator=DecisionTreeClassifier()).fit(X_train, y_train.values.ravel())\n",
    "ovotrc_predict_test = ovotrc.predict(X_test)\n",
    "ovotrc_predict_train= ovotrc.predict(X_train)\n",
    "print(\"Test accuracy: \", accuracy_score(y_test.values.ravel(), ovotrc_predict_test))\n",
    "print(classification_report(y_test.values.ravel(), ovotrc_predict_test))\n",
    "print(\"Train accuracy: \", accuracy_score(y_train.values.ravel(), ovotrc_predict_train))\n",
    "print(classification_report(y_train.values.ravel(), ovotrc_predict_train))"
   ]
  },
  {
   "cell_type": "code",
   "execution_count": 40,
   "id": "d9861052",
   "metadata": {},
   "outputs": [
    {
     "name": "stdout",
     "output_type": "stream",
     "text": [
      "Test accuracy:  0.5801435406698564\n",
      "              precision    recall  f1-score   support\n",
      "\n",
      "           0       0.49      0.35      0.41       262\n",
      "           1       0.73      0.84      0.78       267\n",
      "           2       0.50      0.55      0.52       307\n",
      "\n",
      "    accuracy                           0.58       836\n",
      "   macro avg       0.57      0.58      0.57       836\n",
      "weighted avg       0.57      0.58      0.57       836\n",
      "\n",
      "Train accuracy:  0.6022149057168512\n",
      "              precision    recall  f1-score   support\n",
      "\n",
      "           0       0.55      0.39      0.45      1045\n",
      "           1       0.71      0.81      0.76      1075\n",
      "           2       0.53      0.61      0.57      1221\n",
      "\n",
      "    accuracy                           0.60      3341\n",
      "   macro avg       0.60      0.60      0.59      3341\n",
      "weighted avg       0.60      0.60      0.59      3341\n",
      "\n"
     ]
    }
   ],
   "source": [
    "mlp = MLPClassifier(random_state=1, max_iter=500).fit(X_train, y_train.values.ravel())\n",
    "mlp_predict_test = mlp.predict(X_test)\n",
    "mlp_predict_train= mlp.predict(X_train)\n",
    "print(\"Test accuracy: \", accuracy_score(y_test.values.ravel(), mlp_predict_test))\n",
    "print(classification_report(y_test.values.ravel(), mlp_predict_test))\n",
    "print(\"Train accuracy: \", accuracy_score(y_train.values.ravel(), mlp_predict_train))\n",
    "print(classification_report(y_train.values.ravel(), mlp_predict_train))"
   ]
  },
  {
   "cell_type": "code",
   "execution_count": 41,
   "id": "d63090d9-10ed-452c-a178-2dfcf29b76b9",
   "metadata": {},
   "outputs": [
    {
     "name": "stdout",
     "output_type": "stream",
     "text": [
      "Test accuracy:  0.5813397129186603\n",
      "              precision    recall  f1-score   support\n",
      "\n",
      "           0       0.50      0.40      0.45       262\n",
      "           1       0.73      0.84      0.78       267\n",
      "           2       0.50      0.51      0.50       307\n",
      "\n",
      "    accuracy                           0.58       836\n",
      "   macro avg       0.57      0.58      0.58       836\n",
      "weighted avg       0.57      0.58      0.57       836\n",
      "\n",
      "Train accuracy:  0.6055073331337922\n",
      "              precision    recall  f1-score   support\n",
      "\n",
      "           0       0.55      0.44      0.49      1045\n",
      "           1       0.71      0.80      0.76      1075\n",
      "           2       0.54      0.57      0.56      1221\n",
      "\n",
      "    accuracy                           0.61      3341\n",
      "   macro avg       0.60      0.61      0.60      3341\n",
      "weighted avg       0.60      0.61      0.60      3341\n",
      "\n"
     ]
    }
   ],
   "source": [
    "ovrmlp = OneVsRestClassifier(estimator=MLPClassifier(random_state=1, max_iter=500)).fit(X_train, y_train)\n",
    "ovrmlp_predict_test = ovrmlp.predict(X_test)\n",
    "ovrmlp_predict_train= ovrmlp.predict(X_train)\n",
    "print(\"Test accuracy: \", accuracy_score(y_test, ovrmlp_predict_test))\n",
    "print(classification_report(y_test, ovrmlp_predict_test))\n",
    "print(\"Train accuracy: \", accuracy_score(y_train, ovrmlp_predict_train))\n",
    "print(classification_report(y_train, ovrmlp_predict_train))"
   ]
  },
  {
   "cell_type": "code",
   "execution_count": 42,
   "id": "b57d0cbd-e2d0-472f-868f-3fa7d39bffb3",
   "metadata": {},
   "outputs": [
    {
     "name": "stdout",
     "output_type": "stream",
     "text": [
      "Test accuracy:  0.5777511961722488\n",
      "              precision    recall  f1-score   support\n",
      "\n",
      "           0       0.49      0.43      0.46       262\n",
      "           1       0.74      0.83      0.78       267\n",
      "           2       0.49      0.49      0.49       307\n",
      "\n",
      "    accuracy                           0.58       836\n",
      "   macro avg       0.57      0.58      0.57       836\n",
      "weighted avg       0.57      0.58      0.57       836\n",
      "\n",
      "Train accuracy:  0.6013169709667764\n",
      "              precision    recall  f1-score   support\n",
      "\n",
      "           0       0.54      0.47      0.50      1045\n",
      "           1       0.72      0.79      0.75      1075\n",
      "           2       0.54      0.55      0.54      1221\n",
      "\n",
      "    accuracy                           0.60      3341\n",
      "   macro avg       0.60      0.60      0.60      3341\n",
      "weighted avg       0.60      0.60      0.60      3341\n",
      "\n"
     ]
    }
   ],
   "source": [
    "ovomlp = OneVsOneClassifier(estimator=MLPClassifier(random_state=1, max_iter=500)).fit(X_train, y_train.values.ravel())\n",
    "ovomlp_predict_test = ovomlp.predict(X_test)\n",
    "ovomlp_predict_train= ovomlp.predict(X_train)\n",
    "print(\"Test accuracy: \", accuracy_score(y_test.values.ravel(), ovomlp_predict_test))\n",
    "print(classification_report(y_test.values.ravel(), ovomlp_predict_test))\n",
    "print(\"Train accuracy: \", accuracy_score(y_train.values.ravel(), ovomlp_predict_train))\n",
    "print(classification_report(y_train.values.ravel(), ovomlp_predict_train))"
   ]
  },
  {
   "cell_type": "code",
   "execution_count": 43,
   "id": "8de29e94",
   "metadata": {},
   "outputs": [
    {
     "name": "stdout",
     "output_type": "stream",
     "text": [
      "Test accuracy:  0.5526315789473685\n",
      "              precision    recall  f1-score   support\n",
      "\n",
      "           0       0.44      0.39      0.42       262\n",
      "           1       0.72      0.78      0.75       267\n",
      "           2       0.48      0.49      0.48       307\n",
      "\n",
      "    accuracy                           0.55       836\n",
      "   macro avg       0.55      0.55      0.55       836\n",
      "weighted avg       0.54      0.55      0.55       836\n",
      "\n",
      "Train accuracy:  1.0\n",
      "              precision    recall  f1-score   support\n",
      "\n",
      "           0       1.00      1.00      1.00      1045\n",
      "           1       1.00      1.00      1.00      1075\n",
      "           2       1.00      1.00      1.00      1221\n",
      "\n",
      "    accuracy                           1.00      3341\n",
      "   macro avg       1.00      1.00      1.00      3341\n",
      "weighted avg       1.00      1.00      1.00      3341\n",
      "\n"
     ]
    }
   ],
   "source": [
    "rfst = RandomForestClassifier().fit(X_train, y_train.values.ravel())\n",
    "rfst_predict_test = rfst.predict(X_test)\n",
    "rfst_predict_train= rfst.predict(X_train)\n",
    "print(\"Test accuracy: \", accuracy_score(y_test.values.ravel(), rfst_predict_test))\n",
    "print(classification_report(y_test.values.ravel(), rfst_predict_test))\n",
    "print(\"Train accuracy: \", accuracy_score(y_train.values.ravel(), rfst_predict_train))\n",
    "print(classification_report(y_train.values.ravel(), rfst_predict_train))"
   ]
  },
  {
   "cell_type": "code",
   "execution_count": 44,
   "id": "f179c66e-4e3d-4e55-99a6-dbd20d4732c5",
   "metadata": {},
   "outputs": [
    {
     "name": "stdout",
     "output_type": "stream",
     "text": [
      "Test accuracy:  0.5478468899521531\n",
      "              precision    recall  f1-score   support\n",
      "\n",
      "           0       0.44      0.37      0.40       262\n",
      "           1       0.74      0.78      0.76       267\n",
      "           2       0.46      0.50      0.48       307\n",
      "\n",
      "    accuracy                           0.55       836\n",
      "   macro avg       0.55      0.55      0.55       836\n",
      "weighted avg       0.54      0.55      0.54       836\n",
      "\n",
      "Train accuracy:  1.0\n",
      "              precision    recall  f1-score   support\n",
      "\n",
      "           0       1.00      1.00      1.00      1045\n",
      "           1       1.00      1.00      1.00      1075\n",
      "           2       1.00      1.00      1.00      1221\n",
      "\n",
      "    accuracy                           1.00      3341\n",
      "   macro avg       1.00      1.00      1.00      3341\n",
      "weighted avg       1.00      1.00      1.00      3341\n",
      "\n"
     ]
    }
   ],
   "source": [
    "ovrrfs = OneVsRestClassifier(estimator=RandomForestClassifier()).fit(X_train, y_train)\n",
    "ovrrfs_predict_test = ovrrfs.predict(X_test)\n",
    "ovrrfs_predict_train= ovrrfs.predict(X_train)\n",
    "print(\"Test accuracy: \", accuracy_score(y_test, ovrrfs_predict_test))\n",
    "print(classification_report(y_test, ovrrfs_predict_test))\n",
    "print(\"Train accuracy: \", accuracy_score(y_train, ovrrfs_predict_train))\n",
    "print(classification_report(y_train, ovrrfs_predict_train))"
   ]
  },
  {
   "cell_type": "code",
   "execution_count": 45,
   "id": "058d095e-bffb-4575-b9ed-550cd067fb10",
   "metadata": {},
   "outputs": [
    {
     "name": "stdout",
     "output_type": "stream",
     "text": [
      "Test accuracy:  0.5657894736842105\n",
      "              precision    recall  f1-score   support\n",
      "\n",
      "           0       0.47      0.44      0.46       262\n",
      "           1       0.74      0.75      0.74       267\n",
      "           2       0.49      0.51      0.50       307\n",
      "\n",
      "    accuracy                           0.57       836\n",
      "   macro avg       0.57      0.57      0.57       836\n",
      "weighted avg       0.56      0.57      0.56       836\n",
      "\n",
      "Train accuracy:  1.0\n",
      "              precision    recall  f1-score   support\n",
      "\n",
      "           0       1.00      1.00      1.00      1045\n",
      "           1       1.00      1.00      1.00      1075\n",
      "           2       1.00      1.00      1.00      1221\n",
      "\n",
      "    accuracy                           1.00      3341\n",
      "   macro avg       1.00      1.00      1.00      3341\n",
      "weighted avg       1.00      1.00      1.00      3341\n",
      "\n"
     ]
    }
   ],
   "source": [
    "ovorfs = OneVsOneClassifier(estimator=RandomForestClassifier()).fit(X_train, y_train.values.ravel())\n",
    "ovorfs_predict_test = ovorfs.predict(X_test)\n",
    "ovorfs_predict_train= ovorfs.predict(X_train)\n",
    "print(\"Test accuracy: \", accuracy_score(y_test.values.ravel(), ovorfs_predict_test))\n",
    "print(classification_report(y_test.values.ravel(), ovorfs_predict_test))\n",
    "print(\"Train accuracy: \", accuracy_score(y_train.values.ravel(), ovorfs_predict_train))\n",
    "print(classification_report(y_train.values.ravel(), ovorfs_predict_train))"
   ]
  },
  {
   "cell_type": "code",
   "execution_count": 46,
   "id": "339f970a",
   "metadata": {},
   "outputs": [
    {
     "name": "stdout",
     "output_type": "stream",
     "text": [
      "Test accuracy:  0.55622009569378\n",
      "              precision    recall  f1-score   support\n",
      "\n",
      "           0       0.49      0.58      0.53       262\n",
      "           1       0.62      0.90      0.73       267\n",
      "           2       0.52      0.24      0.33       307\n",
      "\n",
      "    accuracy                           0.56       836\n",
      "   macro avg       0.54      0.57      0.53       836\n",
      "weighted avg       0.54      0.56      0.52       836\n",
      "\n",
      "Train accuracy:  0.5363663573780305\n",
      "              precision    recall  f1-score   support\n",
      "\n",
      "           0       0.47      0.54      0.50      1045\n",
      "           1       0.60      0.87      0.71      1075\n",
      "           2       0.52      0.24      0.33      1221\n",
      "\n",
      "    accuracy                           0.54      3341\n",
      "   macro avg       0.53      0.55      0.51      3341\n",
      "weighted avg       0.53      0.54      0.50      3341\n",
      "\n"
     ]
    }
   ],
   "source": [
    "sgd = SGDClassifier().fit(X_train, y_train.values.ravel())\n",
    "sgd_predict_test = sgd.predict(X_test)\n",
    "sgd_predict_train= sgd.predict(X_train)\n",
    "print(\"Test accuracy: \", accuracy_score(y_test.values.ravel(), sgd_predict_test))\n",
    "print(classification_report(y_test.values.ravel(), sgd_predict_test))\n",
    "print(\"Train accuracy: \", accuracy_score(y_train.values.ravel(), sgd_predict_train))\n",
    "print(classification_report(y_train.values.ravel(), sgd_predict_train))"
   ]
  },
  {
   "cell_type": "code",
   "execution_count": 47,
   "id": "5e6173b4-7353-40a6-ad15-bf38d0156733",
   "metadata": {},
   "outputs": [
    {
     "name": "stdout",
     "output_type": "stream",
     "text": [
      "Test accuracy:  0.5454545454545454\n",
      "              precision    recall  f1-score   support\n",
      "\n",
      "           0       0.47      0.46      0.47       262\n",
      "           1       0.61      0.90      0.73       267\n",
      "           2       0.50      0.31      0.38       307\n",
      "\n",
      "    accuracy                           0.55       836\n",
      "   macro avg       0.53      0.56      0.53       836\n",
      "weighted avg       0.53      0.55      0.52       836\n",
      "\n",
      "Train accuracy:  0.5396587847949715\n",
      "              precision    recall  f1-score   support\n",
      "\n",
      "           0       0.48      0.47      0.48      1045\n",
      "           1       0.60      0.86      0.71      1075\n",
      "           2       0.50      0.31      0.38      1221\n",
      "\n",
      "    accuracy                           0.54      3341\n",
      "   macro avg       0.53      0.55      0.52      3341\n",
      "weighted avg       0.53      0.54      0.52      3341\n",
      "\n"
     ]
    }
   ],
   "source": [
    "ovrsdg = OneVsRestClassifier(estimator=SGDClassifier()).fit(X_train, y_train)\n",
    "ovrsdg_predict_test = ovrsdg .predict(X_test)\n",
    "ovrsdg_predict_train= ovrsdg .predict(X_train)\n",
    "print(\"Test accuracy: \", accuracy_score(y_test, ovrsdg_predict_test))\n",
    "print(classification_report(y_test, ovrsdg_predict_test))\n",
    "print(\"Train accuracy: \", accuracy_score(y_train, ovrsdg_predict_train))\n",
    "print(classification_report(y_train, ovrsdg_predict_train))"
   ]
  },
  {
   "cell_type": "code",
   "execution_count": 48,
   "id": "c82effe4-9cb3-4a40-bb38-fd022d953420",
   "metadata": {},
   "outputs": [
    {
     "name": "stdout",
     "output_type": "stream",
     "text": [
      "Test accuracy:  0.5789473684210527\n",
      "              precision    recall  f1-score   support\n",
      "\n",
      "           0       0.50      0.23      0.31       262\n",
      "           1       0.72      0.83      0.77       267\n",
      "           2       0.49      0.66      0.57       307\n",
      "\n",
      "    accuracy                           0.58       836\n",
      "   macro avg       0.57      0.57      0.55       836\n",
      "weighted avg       0.57      0.58      0.55       836\n",
      "\n",
      "Train accuracy:  0.5522298712960192\n",
      "              precision    recall  f1-score   support\n",
      "\n",
      "           0       0.47      0.22      0.30      1045\n",
      "           1       0.70      0.78      0.73      1075\n",
      "           2       0.47      0.63      0.54      1221\n",
      "\n",
      "    accuracy                           0.55      3341\n",
      "   macro avg       0.55      0.55      0.53      3341\n",
      "weighted avg       0.54      0.55      0.53      3341\n",
      "\n"
     ]
    }
   ],
   "source": [
    "ovosdg = OneVsOneClassifier(estimator=SGDClassifier()).fit(X_train, y_train.values.ravel())\n",
    "ovosdg_predict_test = ovosdg.predict(X_test)\n",
    "ovosdg_predict_train= ovosdg.predict(X_train)\n",
    "print(\"Test accuracy: \", accuracy_score(y_test.values.ravel(), ovosdg_predict_test))\n",
    "print(classification_report(y_test.values.ravel(), ovosdg_predict_test))\n",
    "print(\"Train accuracy: \", accuracy_score(y_train.values.ravel(), ovosdg_predict_train))\n",
    "print(classification_report(y_train.values.ravel(), ovosdg_predict_train))"
   ]
  },
  {
   "cell_type": "code",
   "execution_count": 49,
   "id": "7c70bdc1-6147-4d98-b9a6-f9755b617a6c",
   "metadata": {},
   "outputs": [
    {
     "name": "stdout",
     "output_type": "stream",
     "text": [
      "Test accuracy:  0.5633971291866029\n",
      "              precision    recall  f1-score   support\n",
      "\n",
      "           0       0.47      0.39      0.42       262\n",
      "           1       0.65      0.89      0.75       267\n",
      "           2       0.51      0.43      0.47       307\n",
      "\n",
      "    accuracy                           0.56       836\n",
      "   macro avg       0.55      0.57      0.55       836\n",
      "weighted avg       0.54      0.56      0.55       836\n",
      "\n",
      "Train accuracy:  0.5471415743789285\n",
      "              precision    recall  f1-score   support\n",
      "\n",
      "           0       0.49      0.37      0.42      1045\n",
      "           1       0.61      0.83      0.71      1075\n",
      "           2       0.50      0.45      0.48      1221\n",
      "\n",
      "    accuracy                           0.55      3341\n",
      "   macro avg       0.53      0.55      0.53      3341\n",
      "weighted avg       0.53      0.55      0.53      3341\n",
      "\n"
     ]
    }
   ],
   "source": [
    "rdg = RidgeClassifier().fit(X_train, y_train.values.ravel())\n",
    "rdg_predict_test = rdg.predict(X_test)\n",
    "rdg_predict_train= rdg.predict(X_train)\n",
    "print(\"Test accuracy: \", accuracy_score(y_test.values.ravel(), rdg_predict_test))\n",
    "print(classification_report(y_test.values.ravel(), rdg_predict_test))\n",
    "print(\"Train accuracy: \", accuracy_score(y_train.values.ravel(), rdg_predict_train))\n",
    "print(classification_report(y_train.values.ravel(), rdg_predict_train))"
   ]
  },
  {
   "cell_type": "code",
   "execution_count": 50,
   "id": "108f60b5-579c-48fe-96f5-c012bd69078e",
   "metadata": {},
   "outputs": [
    {
     "name": "stdout",
     "output_type": "stream",
     "text": [
      "Test accuracy:  0.5633971291866029\n",
      "              precision    recall  f1-score   support\n",
      "\n",
      "           0       0.47      0.39      0.42       262\n",
      "           1       0.65      0.89      0.75       267\n",
      "           2       0.51      0.43      0.47       307\n",
      "\n",
      "    accuracy                           0.56       836\n",
      "   macro avg       0.55      0.57      0.55       836\n",
      "weighted avg       0.54      0.56      0.55       836\n",
      "\n",
      "Train accuracy:  0.5471415743789285\n",
      "              precision    recall  f1-score   support\n",
      "\n",
      "           0       0.49      0.37      0.42      1045\n",
      "           1       0.61      0.83      0.71      1075\n",
      "           2       0.50      0.45      0.48      1221\n",
      "\n",
      "    accuracy                           0.55      3341\n",
      "   macro avg       0.53      0.55      0.53      3341\n",
      "weighted avg       0.53      0.55      0.53      3341\n",
      "\n"
     ]
    }
   ],
   "source": [
    "ovrrdg = OneVsRestClassifier(estimator=RidgeClassifier()).fit(X_train, y_train)\n",
    "ovrrdg_predict_test = ovrrdg.predict(X_test)\n",
    "ovrrdg_predict_train= ovrrdg.predict(X_train)\n",
    "print(\"Test accuracy: \", accuracy_score(y_test, ovrrdg_predict_test))\n",
    "print(classification_report(y_test, ovrrdg_predict_test))\n",
    "print(\"Train accuracy: \", accuracy_score(y_train, ovrrdg_predict_train))\n",
    "print(classification_report(y_train, ovrrdg_predict_train))"
   ]
  },
  {
   "cell_type": "code",
   "execution_count": 51,
   "id": "0c9cfc18-1559-43b1-929f-58cf1a4bed45",
   "metadata": {},
   "outputs": [
    {
     "name": "stdout",
     "output_type": "stream",
     "text": [
      "Test accuracy:  0.5717703349282297\n",
      "              precision    recall  f1-score   support\n",
      "\n",
      "           0       0.50      0.40      0.44       262\n",
      "           1       0.68      0.85      0.75       267\n",
      "           2       0.50      0.48      0.49       307\n",
      "\n",
      "    accuracy                           0.57       836\n",
      "   macro avg       0.56      0.58      0.56       836\n",
      "weighted avg       0.56      0.57      0.56       836\n",
      "\n",
      "Train accuracy:  0.5528284944627357\n",
      "              precision    recall  f1-score   support\n",
      "\n",
      "           0       0.49      0.38      0.43      1045\n",
      "           1       0.65      0.80      0.72      1075\n",
      "           2       0.49      0.48      0.49      1221\n",
      "\n",
      "    accuracy                           0.55      3341\n",
      "   macro avg       0.54      0.55      0.54      3341\n",
      "weighted avg       0.54      0.55      0.54      3341\n",
      "\n"
     ]
    }
   ],
   "source": [
    "ovordg = OneVsOneClassifier(estimator=RidgeClassifier()).fit(X_train, y_train.values.ravel())\n",
    "ovordg_predict_test = ovordg.predict(X_test)\n",
    "ovordg_predict_train= ovordg.predict(X_train)\n",
    "print(\"Test accuracy: \", accuracy_score(y_test.values.ravel(), ovordg_predict_test))\n",
    "print(classification_report(y_test.values.ravel(), ovordg_predict_test))\n",
    "print(\"Train accuracy: \", accuracy_score(y_train.values.ravel(), ovordg_predict_train))\n",
    "print(classification_report(y_train.values.ravel(), ovordg_predict_train))"
   ]
  },
  {
   "cell_type": "code",
   "execution_count": 52,
   "id": "8bd185df-9486-4b01-a9d7-c0554f3a4c82",
   "metadata": {},
   "outputs": [
    {
     "name": "stdout",
     "output_type": "stream",
     "text": [
      "Test accuracy:  0.5729665071770335\n",
      "              precision    recall  f1-score   support\n",
      "\n",
      "           0       0.51      0.34      0.40       262\n",
      "           1       0.65      0.90      0.76       267\n",
      "           2       0.51      0.50      0.50       307\n",
      "\n",
      "    accuracy                           0.57       836\n",
      "   macro avg       0.56      0.58      0.55       836\n",
      "weighted avg       0.56      0.57      0.55       836\n",
      "\n",
      "Train accuracy:  0.5776713558814726\n",
      "              precision    recall  f1-score   support\n",
      "\n",
      "           0       0.55      0.36      0.43      1045\n",
      "           1       0.64      0.86      0.73      1075\n",
      "           2       0.52      0.52      0.52      1221\n",
      "\n",
      "    accuracy                           0.58      3341\n",
      "   macro avg       0.57      0.58      0.56      3341\n",
      "weighted avg       0.57      0.58      0.56      3341\n",
      "\n"
     ]
    }
   ],
   "source": [
    "ovr = OneVsRestClassifier(estimator=SVC()).fit(X_train, y_train)\n",
    "ovr_predict_test = ovr.predict(X_test)\n",
    "ovr_predict_train= ovr.predict(X_train)\n",
    "print(\"Test accuracy: \", accuracy_score(y_test, ovr_predict_test))\n",
    "print(classification_report(y_test, ovr_predict_test))\n",
    "print(\"Train accuracy: \", accuracy_score(y_train, ovr_predict_train))\n",
    "print(classification_report(y_train, ovr_predict_train))"
   ]
  },
  {
   "cell_type": "code",
   "execution_count": 53,
   "id": "cfc10155-334f-4865-9f65-13b0786783a7",
   "metadata": {},
   "outputs": [
    {
     "name": "stdout",
     "output_type": "stream",
     "text": [
      "Test accuracy:  0.5765550239234449\n",
      "              precision    recall  f1-score   support\n",
      "\n",
      "           0       0.51      0.31      0.39       262\n",
      "           1       0.71      0.83      0.76       267\n",
      "           2       0.49      0.58      0.53       307\n",
      "\n",
      "    accuracy                           0.58       836\n",
      "   macro avg       0.57      0.57      0.56       836\n",
      "weighted avg       0.57      0.58      0.56       836\n",
      "\n",
      "Train accuracy:  0.5782699790481892\n",
      "              precision    recall  f1-score   support\n",
      "\n",
      "           0       0.55      0.31      0.40      1045\n",
      "           1       0.69      0.79      0.73      1075\n",
      "           2       0.50      0.62      0.55      1221\n",
      "\n",
      "    accuracy                           0.58      3341\n",
      "   macro avg       0.58      0.57      0.56      3341\n",
      "weighted avg       0.58      0.58      0.56      3341\n",
      "\n"
     ]
    }
   ],
   "source": [
    "ovo = OneVsOneClassifier(estimator=SVC()).fit(X_train, y_train.values.ravel())\n",
    "ovo_predict_test = ovo.predict(X_test)\n",
    "ovo_predict_train= ovo.predict(X_train)\n",
    "print(\"Test accuracy: \", accuracy_score(y_test.values.ravel(), ovo_predict_test))\n",
    "print(classification_report(y_test.values.ravel(), ovo_predict_test))\n",
    "print(\"Train accuracy: \", accuracy_score(y_train.values.ravel(), ovo_predict_train))\n",
    "print(classification_report(y_train.values.ravel(), ovo_predict_train))"
   ]
  },
  {
   "cell_type": "code",
   "execution_count": 54,
   "id": "9601d031",
   "metadata": {},
   "outputs": [
    {
     "name": "stdout",
     "output_type": "stream",
     "text": [
      "Test accuracy:  0.5669856459330144\n",
      "              precision    recall  f1-score   support\n",
      "\n",
      "           0       0.49      0.29      0.36       262\n",
      "           1       0.71      0.83      0.76       267\n",
      "           2       0.48      0.58      0.53       307\n",
      "\n",
      "    accuracy                           0.57       836\n",
      "   macro avg       0.56      0.56      0.55       836\n",
      "weighted avg       0.56      0.57      0.55       836\n",
      "\n",
      "Train accuracy:  0.5785692906315475\n",
      "              precision    recall  f1-score   support\n",
      "\n",
      "           0       0.56      0.30      0.39      1045\n",
      "           1       0.69      0.79      0.73      1075\n",
      "           2       0.50      0.64      0.56      1221\n",
      "\n",
      "    accuracy                           0.58      3341\n",
      "   macro avg       0.58      0.57      0.56      3341\n",
      "weighted avg       0.58      0.58      0.56      3341\n",
      "\n"
     ]
    }
   ],
   "source": [
    "rbf = SVC(kernel='rbf').fit(X_train, y_train.values.ravel())\n",
    "rbf_predict_test = rbf.predict(X_test)\n",
    "rbf_predict_train= rbf.predict(X_train)\n",
    "print(\"Test accuracy: \", accuracy_score(y_test.values.ravel(), rbf_predict_test))\n",
    "print(classification_report(y_test.values.ravel(), rbf_predict_test))\n",
    "print(\"Train accuracy: \", accuracy_score(y_train.values.ravel(), rbf_predict_train))\n",
    "print(classification_report(y_train.values.ravel(), rbf_predict_train))"
   ]
  },
  {
   "cell_type": "code",
   "execution_count": 55,
   "id": "139a5d6d",
   "metadata": {},
   "outputs": [
    {
     "name": "stdout",
     "output_type": "stream",
     "text": [
      "Test accuracy:  0.5299043062200957\n",
      "              precision    recall  f1-score   support\n",
      "\n",
      "           0       0.65      0.05      0.09       262\n",
      "           1       0.79      0.58      0.67       267\n",
      "           2       0.44      0.90      0.59       307\n",
      "\n",
      "    accuracy                           0.53       836\n",
      "   macro avg       0.63      0.51      0.45       836\n",
      "weighted avg       0.62      0.53      0.46       836\n",
      "\n",
      "Train accuracy:  0.5163124812930261\n",
      "              precision    recall  f1-score   support\n",
      "\n",
      "           0       0.61      0.03      0.06      1045\n",
      "           1       0.79      0.56      0.66      1075\n",
      "           2       0.43      0.89      0.58      1221\n",
      "\n",
      "    accuracy                           0.52      3341\n",
      "   macro avg       0.61      0.49      0.43      3341\n",
      "weighted avg       0.60      0.52      0.44      3341\n",
      "\n"
     ]
    }
   ],
   "source": [
    "poly = SVC(kernel='poly').fit(X_train, y_train.values.ravel())\n",
    "poly_predict_test = poly.predict(X_test)\n",
    "poly_predict_train= poly.predict(X_train)\n",
    "print(\"Test accuracy: \", accuracy_score(y_test.values.ravel(), poly_predict_test))\n",
    "print(classification_report(y_test.values.ravel(), poly_predict_test))\n",
    "print(\"Train accuracy: \", accuracy_score(y_train.values.ravel(), poly_predict_train))\n",
    "print(classification_report(y_train.values.ravel(), poly_predict_train))"
   ]
  },
  {
   "cell_type": "code",
   "execution_count": 56,
   "id": "23d2b036",
   "metadata": {},
   "outputs": [
    {
     "name": "stdout",
     "output_type": "stream",
     "text": [
      "Test accuracy:  0.4880382775119617\n",
      "              precision    recall  f1-score   support\n",
      "\n",
      "           0       0.51      0.29      0.37       262\n",
      "           1       0.54      0.67      0.60       267\n",
      "           2       0.43      0.50      0.46       307\n",
      "\n",
      "    accuracy                           0.49       836\n",
      "   macro avg       0.49      0.49      0.48       836\n",
      "weighted avg       0.49      0.49      0.48       836\n",
      "\n",
      "Train accuracy:  0.4645315773720443\n",
      "              precision    recall  f1-score   support\n",
      "\n",
      "           0       0.48      0.25      0.33      1045\n",
      "           1       0.51      0.65      0.57      1075\n",
      "           2       0.42      0.49      0.45      1221\n",
      "\n",
      "    accuracy                           0.46      3341\n",
      "   macro avg       0.47      0.46      0.45      3341\n",
      "weighted avg       0.47      0.46      0.45      3341\n",
      "\n"
     ]
    }
   ],
   "source": [
    "sig = SVC(kernel='sigmoid').fit(X_train, y_train.values.ravel())\n",
    "sig_predict_test = sig.predict(X_test)\n",
    "sig_predict_train= sig.predict(X_train)\n",
    "print(\"Test accuracy: \", accuracy_score(y_test.values.ravel(), sig_predict_test))\n",
    "print(classification_report(y_test.values.ravel(), sig_predict_test))\n",
    "print(\"Train accuracy: \", accuracy_score(y_train.values.ravel(), sig_predict_train))\n",
    "print(classification_report(y_train.values.ravel(), sig_predict_train))"
   ]
  },
  {
   "cell_type": "code",
   "execution_count": 57,
   "id": "ac5d6869",
   "metadata": {},
   "outputs": [
    {
     "name": "stdout",
     "output_type": "stream",
     "text": [
      "Test accuracy:  0.5849282296650717\n",
      "              precision    recall  f1-score   support\n",
      "\n",
      "           0       0.53      0.27      0.36       262\n",
      "           1       0.68      0.88      0.77       267\n",
      "           2       0.51      0.60      0.55       307\n",
      "\n",
      "    accuracy                           0.58       836\n",
      "   macro avg       0.57      0.58      0.56       836\n",
      "weighted avg       0.57      0.58      0.56       836\n",
      "\n",
      "Train accuracy:  0.5546243639628854\n",
      "              precision    recall  f1-score   support\n",
      "\n",
      "           0       0.51      0.28      0.36      1045\n",
      "           1       0.65      0.82      0.73      1075\n",
      "           2       0.48      0.56      0.52      1221\n",
      "\n",
      "    accuracy                           0.55      3341\n",
      "   macro avg       0.55      0.55      0.53      3341\n",
      "weighted avg       0.54      0.55      0.53      3341\n",
      "\n"
     ]
    }
   ],
   "source": [
    "lin = SVC(kernel='linear').fit(X_train, y_train.values.ravel())\n",
    "lin_predict_test = lin.predict(X_test)\n",
    "lin_predict_train= lin.predict(X_train)\n",
    "print(\"Test accuracy: \", accuracy_score(y_test.values.ravel(), lin_predict_test))\n",
    "print(classification_report(y_test.values.ravel(), lin_predict_test))\n",
    "print(\"Train accuracy: \", accuracy_score(y_train.values.ravel(), lin_predict_train))\n",
    "print(classification_report(y_train.values.ravel(), lin_predict_train))"
   ]
  },
  {
   "cell_type": "code",
   "execution_count": 66,
   "id": "b8556f38",
   "metadata": {},
   "outputs": [
    {
     "name": "stdout",
     "output_type": "stream",
     "text": [
      "Fitting 5 folds for each of 1 candidates, totalling 5 fits\n",
      "[CV 1/5] END estimator__C=1, estimator__decision_function_shape=ovo, estimator__degree=1, estimator__gamma=100, estimator__kernel=poly, estimator__probability=True, estimator__shrinking=True;, score=0.552 total time=  14.9s\n",
      "[CV 2/5] END estimator__C=1, estimator__decision_function_shape=ovo, estimator__degree=1, estimator__gamma=100, estimator__kernel=poly, estimator__probability=True, estimator__shrinking=True;, score=0.554 total time=  11.4s\n",
      "[CV 3/5] END estimator__C=1, estimator__decision_function_shape=ovo, estimator__degree=1, estimator__gamma=100, estimator__kernel=poly, estimator__probability=True, estimator__shrinking=True;, score=0.549 total time=  11.2s\n",
      "[CV 4/5] END estimator__C=1, estimator__decision_function_shape=ovo, estimator__degree=1, estimator__gamma=100, estimator__kernel=poly, estimator__probability=True, estimator__shrinking=True;, score=0.548 total time=  11.2s\n",
      "[CV 5/5] END estimator__C=1, estimator__decision_function_shape=ovo, estimator__degree=1, estimator__gamma=100, estimator__kernel=poly, estimator__probability=True, estimator__shrinking=True;, score=0.564 total time=  15.0s\n"
     ]
    },
    {
     "data": {
      "text/plain": [
       "GridSearchCV(cv=5, estimator=OneVsOneClassifier(estimator=SVC()),\n",
       "             param_grid={'estimator__C': [1],\n",
       "                         'estimator__decision_function_shape': ['ovo'],\n",
       "                         'estimator__degree': [1], 'estimator__gamma': [100],\n",
       "                         'estimator__kernel': ['poly'],\n",
       "                         'estimator__probability': [True],\n",
       "                         'estimator__shrinking': [True]},\n",
       "             verbose=3)"
      ]
     },
     "execution_count": 66,
     "metadata": {},
     "output_type": "execute_result"
    }
   ],
   "source": [
    "rbf_svc_param_grid = {\n",
    "            'C': [75],\n",
    "            'gamma': [0.01],\n",
    "            'kernel': ['rbf'],\n",
    "            'shrinking': [True], #  default\n",
    "            'probability': [True], # not default\n",
    "            'decision_function_shape': ['ovo'], # not default\n",
    "            }\n",
    "\n",
    "poly_svc_param_grid = {\n",
    "            'C': [1],\n",
    "            'degree': [1], # 3 default\n",
    "            'gamma': [100],\n",
    "            'kernel': ['poly'],\n",
    "            'shrinking': [True], #  default\n",
    "            'probability': [True], # not default\n",
    "            'decision_function_shape': ['ovo'], # not default\n",
    "            }\n",
    "\n",
    "ln_svc_param_grid = {\n",
    "            'C': [100],\n",
    "            'kernel': ['linear'],\n",
    "            'shrinking': [True], #  default\n",
    "            'probability': [True], # not default\n",
    "            'decision_function_shape': ['ovo'],\n",
    "            }\n",
    "\n",
    "lr_param_grid = {\n",
    "            'penalty': ['l1'], #default=’l2’\n",
    "            'C': [0.1], #default=1.0\n",
    "            'fit_intercept': [True], #default=True\n",
    "            'solver': ['saga'],# default=’lbfgs’\n",
    "            'multi_class': ['auto'], #default=’auto’\n",
    "            'l1_ratio': [1]\n",
    "             }\n",
    " \n",
    "rfs_param_grid = {\n",
    "            'n_estimators': [100], # default 100\n",
    "            'criterion': ['gini'], # default gini\n",
    "            'max_depth': [8], # default none\n",
    "            'min_samples_split': [2], # default 2\n",
    "            'min_samples_leaf': [3], # default 1\n",
    "            'max_features': ['auto'], # default auto\n",
    "            'max_leaf_nodes': [None], # default none\n",
    "            'bootstrap': [True], # default true\n",
    "            'oob_score': [True], # default false\n",
    "            #'n_jobs': [5, 6, 7, 8], # default none\n",
    "            #'max_samples': [6, 7, 8, 9], # default none, bootstrap=true\n",
    "            }\n",
    "\n",
    "mlp_param_grid = {\n",
    "            'hidden_layer_sizes': [(100,)],\n",
    "            'max_iter': [500], # default 100\n",
    "            'random_state': [1], # default gini\n",
    "            'activation': ['relu'], # default relu\n",
    "            'solver': ['adam'], # default adam\n",
    "            'alpha': [0.0001], # default 0.0001\n",
    "            'batch_size': ['auto'], # default auto\n",
    "            'learning_rate': ['constant'], # default constant no effects\n",
    "            'learning_rate_init': [0.001], # default 0.001\n",
    "            'shuffle': [False], # default True\n",
    "            'tol': [0.0001], # default 0.0001\n",
    "            'warm_start': [False], # default False\n",
    "            'early_stopping': [False], # default False\n",
    "            'beta_1': [ 0.9], # default 0.9\n",
    "            'beta_2': [0.999], # default 0.999\n",
    "            'n_iter_no_change': [9], #default 10\n",
    "            }\n",
    "\n",
    "ovr_param_grid = {\n",
    "            'estimator__C': [1],\n",
    "            'estimator__degree': [1], # 3 default\n",
    "            'estimator__gamma': [100],\n",
    "            'estimator__kernel': ['poly'],\n",
    "            'estimator__shrinking': [True], #  default\n",
    "            'estimator__probability': [True], # not default\n",
    "            'estimator__decision_function_shape': ['ovo'], # not default\n",
    "            }\n",
    "\n",
    "sdg_param_grid = {\n",
    "            }\n",
    "\n",
    "rgd_param_grid = {\n",
    "    \n",
    "            }\n",
    "\n",
    "\n",
    "#grid = GridSearchCV(MLPClassifier(), mlp_param_grid, cv=5, refit = True, verbose = 3)\n",
    "#grid = GridSearchCV(RandomForestClassifier(), rfs_param_grid, cv=5, refit = True, verbose = 3)\n",
    "#grid = GridSearchCV(SVC(), poly_svc_param_grid, cv=5, refit = True, verbose = 3)\n",
    "#grid = GridSearchCV(OneVsRestClassifier(estimator=SVC()), ovr_param_grid, cv=5, refit = True, verbose = 3)\n",
    "grid = GridSearchCV(OneVsOneClassifier(estimator=SVC()), ovr_param_grid, cv=5, refit = True, verbose = 3)\n",
    "#grid = GridSearchCV(LogisticRegression(), lr_param_grid, cv=5, refit = True, verbose = 1)\n",
    "\n",
    "\n",
    " \n",
    "# fitting the model for grid search\n",
    "grid.fit(X_train, y_train.values.ravel())"
   ]
  },
  {
   "cell_type": "code",
   "execution_count": 67,
   "id": "0eba5e20",
   "metadata": {},
   "outputs": [
    {
     "name": "stdout",
     "output_type": "stream",
     "text": [
      "OneVsOneClassifier(estimator=SVC(C=1, decision_function_shape='ovo', degree=1,\n",
      "                                 gamma=100, kernel='poly', probability=True))\n"
     ]
    }
   ],
   "source": [
    "bestimator = grid.best_estimator_\n",
    "print(bestimator)"
   ]
  },
  {
   "cell_type": "code",
   "execution_count": 68,
   "id": "a0b0af86-0a75-41e2-bcb8-3cff236b69a9",
   "metadata": {},
   "outputs": [],
   "source": [
    "# RANDOMFOREST & TREE ONLY\n",
    "#sorted(zip(bestimator.feature_importances_, list(df.drop(['Sex'], axis=1))), reverse=True)"
   ]
  },
  {
   "cell_type": "code",
   "execution_count": 69,
   "id": "9c7a1b00",
   "metadata": {},
   "outputs": [
    {
     "name": "stdout",
     "output_type": "stream",
     "text": [
      "Best parameters:  {'estimator__C': 1, 'estimator__decision_function_shape': 'ovo', 'estimator__degree': 1, 'estimator__gamma': 100, 'estimator__kernel': 'poly', 'estimator__probability': True, 'estimator__shrinking': True}\n",
      "Best score:  0.5534276738003813\n",
      "Test accuracy:  0.5861244019138756\n",
      "              precision    recall  f1-score   support\n",
      "\n",
      "           0       0.52      0.27      0.36       262\n",
      "           1       0.68      0.88      0.77       267\n",
      "           2       0.52      0.60      0.56       307\n",
      "\n",
      "    accuracy                           0.59       836\n",
      "   macro avg       0.57      0.58      0.56       836\n",
      "weighted avg       0.57      0.59      0.56       836\n",
      "\n",
      "Train accuracy:  0.5570188566297516\n",
      "              precision    recall  f1-score   support\n",
      "\n",
      "           0       0.51      0.28      0.36      1045\n",
      "           1       0.65      0.83      0.73      1075\n",
      "           2       0.49      0.56      0.52      1221\n",
      "\n",
      "    accuracy                           0.56      3341\n",
      "   macro avg       0.55      0.55      0.54      3341\n",
      "weighted avg       0.55      0.56      0.54      3341\n",
      "\n"
     ]
    }
   ],
   "source": [
    "print(\"Best parameters: \", grid.best_params_)\n",
    "print(\"Best score: \", grid.best_score_)\n",
    "bestimator_predict_test = bestimator.predict(X_test)\n",
    "bestimator_predict_train= bestimator.predict(X_train)\n",
    "print(\"Test accuracy: \", accuracy_score(y_test.values.ravel(), bestimator_predict_test))\n",
    "print(classification_report(y_test.values.ravel(), bestimator_predict_test))\n",
    "print(\"Train accuracy: \", accuracy_score(y_train.values.ravel(), bestimator_predict_train))\n",
    "print(classification_report(y_train.values.ravel(), bestimator_predict_train))"
   ]
  },
  {
   "cell_type": "code",
   "execution_count": 62,
   "id": "27d1c7a4-8d72-4ae5-ae95-4068576d9f9d",
   "metadata": {},
   "outputs": [
    {
     "name": "stdout",
     "output_type": "stream",
     "text": [
      "[[ 72  45 145]\n",
      " [  6 234  27]\n",
      " [ 60  63 184]]\n"
     ]
    },
    {
     "data": {
      "image/png": "[encoded data removed]",
      "text/plain": [
       "<Figure size 432x288 with 2 Axes>"
      ]
     },
     "metadata": {
      "needs_background": "light"
     },
     "output_type": "display_data"
    }
   ],
   "source": [
    "results = confusion_matrix(y_test.values.ravel(), bestimator_predict_test)\n",
    "print(results)\n",
    "sns.heatmap(results, annot=True)\n",
    "plt.show()"
   ]
  },
  {
   "cell_type": "code",
   "execution_count": 63,
   "id": "fbb6a6d6-68b4-4b5f-8794-a4c5af4c68d7",
   "metadata": {},
   "outputs": [
    {
     "name": "stdout",
     "output_type": "stream",
     "text": [
      "Test probabilities:  [[0.50908713 0.04775605 0.44315682]\n",
      " [0.33425076 0.29481691 0.37093233]\n",
      " [0.54636852 0.02234457 0.4312869 ]\n",
      " ...\n",
      " [0.29584879 0.32259115 0.38156005]\n",
      " [0.1845185  0.53038485 0.28509665]\n",
      " [0.08106595 0.77500552 0.14392853]]\n",
      "Train probabilities:  [[0.2592705  0.41814854 0.32258097]\n",
      " [0.11166104 0.68663421 0.20170475]\n",
      " [0.1042011  0.71113209 0.18466681]\n",
      " ...\n",
      " [0.2425911  0.44901789 0.30839101]\n",
      " [0.38273833 0.08962126 0.52764041]\n",
      " [0.40315559 0.09085931 0.50598511]]\n"
     ]
    }
   ],
   "source": [
    "bestimator_predictproba_test = bestimator.predict_proba(X_test)\n",
    "bestimator_predictproba_train= bestimator.predict_proba(X_train)\n",
    "print(\"Test probabilities: \", bestimator_predictproba_test)\n",
    "print(\"Train probabilities: \", bestimator_predictproba_train)"
   ]
  },
  {
   "cell_type": "code",
   "execution_count": 64,
   "id": "2f89948d-b590-4086-a1c6-ad7674d1a563",
   "metadata": {},
   "outputs": [
    {
     "name": "stdout",
     "output_type": "stream",
     "text": [
      "0.31590239340671655 0.3152993540874519 0.3687982525058317\n"
     ]
    }
   ],
   "source": [
    "sum1 = 0.0 #female\n",
    "sum2 = 0.0 #infant\n",
    "sum3 = 0.0 #male\n",
    "divisor = 836\n",
    "\n",
    "for thing in bestimator_predictproba_test:\n",
    "    sum1 += thing[0]\n",
    "    sum2 += thing[1]\n",
    "    sum3 += thing[2]\n",
    "\n",
    "print(sum1/divisor, sum2/divisor, sum3/divisor)"
   ]
  },
  {
   "cell_type": "code",
   "execution_count": 65,
   "id": "97245dad-2b48-44ee-9769-09f98fa54a51",
   "metadata": {},
   "outputs": [
    {
     "name": "stdout",
     "output_type": "stream",
     "text": [
      "0.31312606252908953 0.31878941491751367 0.3680845225533974\n"
     ]
    }
   ],
   "source": [
    "sum1 = 0.0\n",
    "sum2 = 0.0\n",
    "sum3 = 0.0\n",
    "divisor = 3341\n",
    "\n",
    "for thing in bestimator_predictproba_train:\n",
    "    sum1 += thing[0]\n",
    "    sum2 += thing[1]\n",
    "    sum3 += thing[2]\n",
    "\n",
    "print(sum1/divisor, sum2/divisor, sum3/divisor)"
   ]
  },
  {
   "cell_type": "code",
   "execution_count": null,
   "id": "f82c14b1",
   "metadata": {},
   "outputs": [],
   "source": []
  }
 ],
 "metadata": {
  "kernelspec": {
   "display_name": "Python 3 (ipykernel)",
   "language": "python",
   "name": "python3"
  },
  "language_info": {
   "codemirror_mode": {
    "name": "ipython",
    "version": 3
   },
   "file_extension": ".py",
   "mimetype": "text/x-python",
   "name": "python",
   "nbconvert_exporter": "python",
   "pygments_lexer": "ipython3",
   "version": "3.9.7"
  }
 },
 "nbformat": 4,
 "nbformat_minor": 5
}
