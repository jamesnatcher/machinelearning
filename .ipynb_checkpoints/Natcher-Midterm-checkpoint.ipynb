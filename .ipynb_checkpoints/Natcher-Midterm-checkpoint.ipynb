{
 "cells": [
  {
   "cell_type": "code",
   "execution_count": 1,
   "id": "af3d5283",
   "metadata": {},
   "outputs": [
    {
     "name": "stdout",
     "output_type": "stream",
     "text": [
      "breast-cancer-wisconsin-dataset.txt\n"
     ]
    }
   ],
   "source": [
    "import os\n",
    "import pandas as pd\n",
    "import numpy as np\n",
    "from sklearn.impute import SimpleImputer\n",
    "import math\n",
    "from sklearn.model_selection import train_test_split\n",
    "from sklearn.tree import DecisionTreeRegressor\n",
    "from sklearn.metrics import mean_squared_error, precision_recall_fscore_support, precision_score\n",
    "from sklearn.model_selection import cross_val_score\n",
    "from sklearn.model_selection import GridSearchCV\n",
    "\n",
    "path = r\"C:\\Users\\James\\machinelearning\\Datasets\\MidtermDataset\"\n",
    "\n",
    "os.chdir(path)\n",
    "\n",
    "cleandata = []\n",
    "\n",
    "filename = os.listdir(path)\n",
    "\n",
    "print(filename[0])"
   ]
  },
  {
   "cell_type": "code",
   "execution_count": 2,
   "id": "291b95e6",
   "metadata": {},
   "outputs": [],
   "source": [
    "f = open(filename[0], 'r')\n",
    "rawdata = f.readlines()"
   ]
  },
  {
   "cell_type": "code",
   "execution_count": 3,
   "id": "8daa3620",
   "metadata": {
    "scrolled": false
   },
   "outputs": [],
   "source": [
    "def cleanData(data):\n",
    "    temp = []\n",
    "    temp2 = []\n",
    "    for lines in data:\n",
    "        temp.append(lines.rstrip(\"\\n\"))\n",
    "    for lines in temp:\n",
    "        temp2.append(lines.split(\",\"))\n",
    "    \n",
    "    for subject in temp2:\n",
    "        temp3 = []\n",
    "        for info in subject:\n",
    "            temp = 0\n",
    "            if info == '?':\n",
    "                temp = 0\n",
    "            else:\n",
    "                temp = int(info)\n",
    "            temp3.append(temp)\n",
    "        cleandata.append(temp3)\n",
    "\n",
    "def fillMissing(column, mean):\n",
    "    if column == 0:\n",
    "        output = mean\n",
    "    else:\n",
    "        output = column\n",
    "    return output\n",
    "\n",
    "def binarize(column):\n",
    "    if column == 2:\n",
    "        output = 0\n",
    "    else:\n",
    "        output = 1\n",
    "    return output"
   ]
  },
  {
   "cell_type": "code",
   "execution_count": 4,
   "id": "2eb68cc4",
   "metadata": {},
   "outputs": [
    {
     "name": "stdout",
     "output_type": "stream",
     "text": [
      "[1000025, 5, 1, 1, 1, 2, 1, 3, 1, 1, 2]\n"
     ]
    }
   ],
   "source": [
    "cleanData(rawdata)\n",
    "\n",
    "print(cleandata[0])"
   ]
  },
  {
   "cell_type": "code",
   "execution_count": 5,
   "id": "cd0837de",
   "metadata": {},
   "outputs": [
    {
     "data": {
      "text/html": [
       "<div>\n",
       "<style scoped>\n",
       "    .dataframe tbody tr th:only-of-type {\n",
       "        vertical-align: middle;\n",
       "    }\n",
       "\n",
       "    .dataframe tbody tr th {\n",
       "        vertical-align: top;\n",
       "    }\n",
       "\n",
       "    .dataframe thead th {\n",
       "        text-align: right;\n",
       "    }\n",
       "</style>\n",
       "<table border=\"1\" class=\"dataframe\">\n",
       "  <thead>\n",
       "    <tr style=\"text-align: right;\">\n",
       "      <th></th>\n",
       "      <th>Sample code number</th>\n",
       "      <th>Clump Thickness</th>\n",
       "      <th>Uniformity of Cell size</th>\n",
       "      <th>Uniformity of Cell Shape</th>\n",
       "      <th>Marginal Adhesion</th>\n",
       "      <th>Single Epithelial Cell Size</th>\n",
       "      <th>Bare Nuclei</th>\n",
       "      <th>Bland Chromatin</th>\n",
       "      <th>Normal Nucleoli</th>\n",
       "      <th>Mitoses</th>\n",
       "      <th>Class</th>\n",
       "    </tr>\n",
       "  </thead>\n",
       "  <tbody>\n",
       "    <tr>\n",
       "      <th>0</th>\n",
       "      <td>1000025</td>\n",
       "      <td>5</td>\n",
       "      <td>1</td>\n",
       "      <td>1</td>\n",
       "      <td>1</td>\n",
       "      <td>2</td>\n",
       "      <td>1</td>\n",
       "      <td>3</td>\n",
       "      <td>1</td>\n",
       "      <td>1</td>\n",
       "      <td>2</td>\n",
       "    </tr>\n",
       "    <tr>\n",
       "      <th>1</th>\n",
       "      <td>1002945</td>\n",
       "      <td>5</td>\n",
       "      <td>4</td>\n",
       "      <td>4</td>\n",
       "      <td>5</td>\n",
       "      <td>7</td>\n",
       "      <td>10</td>\n",
       "      <td>3</td>\n",
       "      <td>2</td>\n",
       "      <td>1</td>\n",
       "      <td>2</td>\n",
       "    </tr>\n",
       "    <tr>\n",
       "      <th>2</th>\n",
       "      <td>1015425</td>\n",
       "      <td>3</td>\n",
       "      <td>1</td>\n",
       "      <td>1</td>\n",
       "      <td>1</td>\n",
       "      <td>2</td>\n",
       "      <td>2</td>\n",
       "      <td>3</td>\n",
       "      <td>1</td>\n",
       "      <td>1</td>\n",
       "      <td>2</td>\n",
       "    </tr>\n",
       "    <tr>\n",
       "      <th>3</th>\n",
       "      <td>1016277</td>\n",
       "      <td>6</td>\n",
       "      <td>8</td>\n",
       "      <td>8</td>\n",
       "      <td>1</td>\n",
       "      <td>3</td>\n",
       "      <td>4</td>\n",
       "      <td>3</td>\n",
       "      <td>7</td>\n",
       "      <td>1</td>\n",
       "      <td>2</td>\n",
       "    </tr>\n",
       "    <tr>\n",
       "      <th>4</th>\n",
       "      <td>1017023</td>\n",
       "      <td>4</td>\n",
       "      <td>1</td>\n",
       "      <td>1</td>\n",
       "      <td>3</td>\n",
       "      <td>2</td>\n",
       "      <td>1</td>\n",
       "      <td>3</td>\n",
       "      <td>1</td>\n",
       "      <td>1</td>\n",
       "      <td>2</td>\n",
       "    </tr>\n",
       "  </tbody>\n",
       "</table>\n",
       "</div>"
      ],
      "text/plain": [
       "   Sample code number  Clump Thickness  Uniformity of Cell size  \\\n",
       "0             1000025                5                        1   \n",
       "1             1002945                5                        4   \n",
       "2             1015425                3                        1   \n",
       "3             1016277                6                        8   \n",
       "4             1017023                4                        1   \n",
       "\n",
       "   Uniformity of Cell Shape  Marginal Adhesion  Single Epithelial Cell Size  \\\n",
       "0                         1                  1                            2   \n",
       "1                         4                  5                            7   \n",
       "2                         1                  1                            2   \n",
       "3                         8                  1                            3   \n",
       "4                         1                  3                            2   \n",
       "\n",
       "   Bare Nuclei  Bland Chromatin  Normal Nucleoli  Mitoses  Class  \n",
       "0            1                3                1        1      2  \n",
       "1           10                3                2        1      2  \n",
       "2            2                3                1        1      2  \n",
       "3            4                3                7        1      2  \n",
       "4            1                3                1        1      2  "
      ]
     },
     "execution_count": 5,
     "metadata": {},
     "output_type": "execute_result"
    }
   ],
   "source": [
    "df = pd.DataFrame(cleandata, columns = ['Sample code number', 'Clump Thickness', 'Uniformity of Cell size',\n",
    "                                       'Uniformity of Cell Shape', 'Marginal Adhesion', 'Single Epithelial Cell Size',\n",
    "                                       'Bare Nuclei', 'Bland Chromatin', 'Normal Nucleoli', 'Mitoses', 'Class'])\n",
    "df.head()"
   ]
  },
  {
   "cell_type": "code",
   "execution_count": 6,
   "id": "b22a1ce9",
   "metadata": {},
   "outputs": [
    {
     "name": "stdout",
     "output_type": "stream",
     "text": [
      "1     402\n",
      "10    132\n",
      "2      30\n",
      "5      30\n",
      "3      28\n",
      "8      21\n",
      "4      19\n",
      "0      16\n",
      "9       9\n",
      "7       8\n",
      "6       4\n",
      "Name: Bare Nuclei, dtype: int64\n"
     ]
    }
   ],
   "source": [
    "print(df['Bare Nuclei'].value_counts())"
   ]
  },
  {
   "cell_type": "code",
   "execution_count": 7,
   "id": "821a8b6d",
   "metadata": {},
   "outputs": [
    {
     "name": "stdout",
     "output_type": "stream",
     "text": [
      "2    458\n",
      "4    241\n",
      "Name: Class, dtype: int64\n"
     ]
    }
   ],
   "source": [
    "print(df['Class'].value_counts())"
   ]
  },
  {
   "cell_type": "code",
   "execution_count": 8,
   "id": "da913165",
   "metadata": {},
   "outputs": [
    {
     "name": "stdout",
     "output_type": "stream",
     "text": [
      "3\n"
     ]
    }
   ],
   "source": [
    "missing_mean = math.floor(df['Bare Nuclei'].mean())\n",
    "print(missing_mean)"
   ]
  },
  {
   "cell_type": "code",
   "execution_count": 9,
   "id": "3f63bf5e",
   "metadata": {},
   "outputs": [],
   "source": [
    "df['Bare Nuclei'] = df['Bare Nuclei'].apply(lambda x: fillMissing(x, missing_mean))\n",
    "df['Class'] = df['Class'].apply(lambda x: binarize(x))"
   ]
  },
  {
   "cell_type": "code",
   "execution_count": 10,
   "id": "6bfeb6ae",
   "metadata": {},
   "outputs": [
    {
     "name": "stdout",
     "output_type": "stream",
     "text": [
      "1     402\n",
      "10    132\n",
      "3      44\n",
      "2      30\n",
      "5      30\n",
      "8      21\n",
      "4      19\n",
      "9       9\n",
      "7       8\n",
      "6       4\n",
      "Name: Bare Nuclei, dtype: int64\n"
     ]
    }
   ],
   "source": [
    "print(df['Bare Nuclei'].value_counts())"
   ]
  },
  {
   "cell_type": "code",
   "execution_count": 12,
   "id": "4cad60f5",
   "metadata": {},
   "outputs": [
    {
     "name": "stdout",
     "output_type": "stream",
     "text": [
      "0    458\n",
      "1    241\n",
      "Name: Class, dtype: int64\n"
     ]
    }
   ],
   "source": [
    "print(df['Class'].value_counts())"
   ]
  },
  {
   "cell_type": "code",
   "execution_count": 13,
   "id": "210578e4",
   "metadata": {},
   "outputs": [],
   "source": [
    "df_pruned = df.drop(['Clump Thickness', 'Marginal Adhesion', 'Single Epithelial Cell Size',\n",
    "                    'Bland Chromatin', 'Mitoses'], axis=1)"
   ]
  },
  {
   "cell_type": "code",
   "execution_count": 14,
   "id": "6da5b731",
   "metadata": {},
   "outputs": [
    {
     "name": "stdout",
     "output_type": "stream",
     "text": [
      "<class 'pandas.core.frame.DataFrame'>\n",
      "RangeIndex: 699 entries, 0 to 698\n",
      "Data columns (total 11 columns):\n",
      " #   Column                       Non-Null Count  Dtype\n",
      "---  ------                       --------------  -----\n",
      " 0   Sample code number           699 non-null    int64\n",
      " 1   Clump Thickness              699 non-null    int64\n",
      " 2   Uniformity of Cell size      699 non-null    int64\n",
      " 3   Uniformity of Cell Shape     699 non-null    int64\n",
      " 4   Marginal Adhesion            699 non-null    int64\n",
      " 5   Single Epithelial Cell Size  699 non-null    int64\n",
      " 6   Bare Nuclei                  699 non-null    int64\n",
      " 7   Bland Chromatin              699 non-null    int64\n",
      " 8   Normal Nucleoli              699 non-null    int64\n",
      " 9   Mitoses                      699 non-null    int64\n",
      " 10  Class                        699 non-null    int64\n",
      "dtypes: int64(11)\n",
      "memory usage: 60.2 KB\n"
     ]
    }
   ],
   "source": [
    "df.info()"
   ]
  },
  {
   "cell_type": "code",
   "execution_count": 15,
   "id": "4eadbdae",
   "metadata": {},
   "outputs": [
    {
     "name": "stdout",
     "output_type": "stream",
     "text": [
      "<class 'pandas.core.frame.DataFrame'>\n",
      "RangeIndex: 699 entries, 0 to 698\n",
      "Data columns (total 6 columns):\n",
      " #   Column                    Non-Null Count  Dtype\n",
      "---  ------                    --------------  -----\n",
      " 0   Sample code number        699 non-null    int64\n",
      " 1   Uniformity of Cell size   699 non-null    int64\n",
      " 2   Uniformity of Cell Shape  699 non-null    int64\n",
      " 3   Bare Nuclei               699 non-null    int64\n",
      " 4   Normal Nucleoli           699 non-null    int64\n",
      " 5   Class                     699 non-null    int64\n",
      "dtypes: int64(6)\n",
      "memory usage: 32.9 KB\n"
     ]
    }
   ],
   "source": [
    "df_pruned.info()"
   ]
  },
  {
   "cell_type": "code",
   "execution_count": 17,
   "id": "5e5b9076",
   "metadata": {},
   "outputs": [],
   "source": [
    "X = df.drop(['Class', 'Sample code number'], axis=1)\n",
    "X_pruned = df_pruned.drop(['Class', 'Sample code number'], axis=1)\n",
    "\n",
    "y = df['Class'].copy()\n",
    "y_pruned = df_pruned['Class'].copy()"
   ]
  },
  {
   "cell_type": "code",
   "execution_count": 18,
   "id": "11ed87cf",
   "metadata": {},
   "outputs": [
    {
     "data": {
      "text/html": [
       "<div>\n",
       "<style scoped>\n",
       "    .dataframe tbody tr th:only-of-type {\n",
       "        vertical-align: middle;\n",
       "    }\n",
       "\n",
       "    .dataframe tbody tr th {\n",
       "        vertical-align: top;\n",
       "    }\n",
       "\n",
       "    .dataframe thead th {\n",
       "        text-align: right;\n",
       "    }\n",
       "</style>\n",
       "<table border=\"1\" class=\"dataframe\">\n",
       "  <thead>\n",
       "    <tr style=\"text-align: right;\">\n",
       "      <th></th>\n",
       "      <th>Clump Thickness</th>\n",
       "      <th>Uniformity of Cell size</th>\n",
       "      <th>Uniformity of Cell Shape</th>\n",
       "      <th>Marginal Adhesion</th>\n",
       "      <th>Single Epithelial Cell Size</th>\n",
       "      <th>Bare Nuclei</th>\n",
       "      <th>Bland Chromatin</th>\n",
       "      <th>Normal Nucleoli</th>\n",
       "      <th>Mitoses</th>\n",
       "    </tr>\n",
       "  </thead>\n",
       "  <tbody>\n",
       "    <tr>\n",
       "      <th>0</th>\n",
       "      <td>5</td>\n",
       "      <td>1</td>\n",
       "      <td>1</td>\n",
       "      <td>1</td>\n",
       "      <td>2</td>\n",
       "      <td>1</td>\n",
       "      <td>3</td>\n",
       "      <td>1</td>\n",
       "      <td>1</td>\n",
       "    </tr>\n",
       "    <tr>\n",
       "      <th>1</th>\n",
       "      <td>5</td>\n",
       "      <td>4</td>\n",
       "      <td>4</td>\n",
       "      <td>5</td>\n",
       "      <td>7</td>\n",
       "      <td>10</td>\n",
       "      <td>3</td>\n",
       "      <td>2</td>\n",
       "      <td>1</td>\n",
       "    </tr>\n",
       "    <tr>\n",
       "      <th>2</th>\n",
       "      <td>3</td>\n",
       "      <td>1</td>\n",
       "      <td>1</td>\n",
       "      <td>1</td>\n",
       "      <td>2</td>\n",
       "      <td>2</td>\n",
       "      <td>3</td>\n",
       "      <td>1</td>\n",
       "      <td>1</td>\n",
       "    </tr>\n",
       "    <tr>\n",
       "      <th>3</th>\n",
       "      <td>6</td>\n",
       "      <td>8</td>\n",
       "      <td>8</td>\n",
       "      <td>1</td>\n",
       "      <td>3</td>\n",
       "      <td>4</td>\n",
       "      <td>3</td>\n",
       "      <td>7</td>\n",
       "      <td>1</td>\n",
       "    </tr>\n",
       "    <tr>\n",
       "      <th>4</th>\n",
       "      <td>4</td>\n",
       "      <td>1</td>\n",
       "      <td>1</td>\n",
       "      <td>3</td>\n",
       "      <td>2</td>\n",
       "      <td>1</td>\n",
       "      <td>3</td>\n",
       "      <td>1</td>\n",
       "      <td>1</td>\n",
       "    </tr>\n",
       "  </tbody>\n",
       "</table>\n",
       "</div>"
      ],
      "text/plain": [
       "   Clump Thickness  Uniformity of Cell size  Uniformity of Cell Shape  \\\n",
       "0                5                        1                         1   \n",
       "1                5                        4                         4   \n",
       "2                3                        1                         1   \n",
       "3                6                        8                         8   \n",
       "4                4                        1                         1   \n",
       "\n",
       "   Marginal Adhesion  Single Epithelial Cell Size  Bare Nuclei  \\\n",
       "0                  1                            2            1   \n",
       "1                  5                            7           10   \n",
       "2                  1                            2            2   \n",
       "3                  1                            3            4   \n",
       "4                  3                            2            1   \n",
       "\n",
       "   Bland Chromatin  Normal Nucleoli  Mitoses  \n",
       "0                3                1        1  \n",
       "1                3                2        1  \n",
       "2                3                1        1  \n",
       "3                3                7        1  \n",
       "4                3                1        1  "
      ]
     },
     "execution_count": 18,
     "metadata": {},
     "output_type": "execute_result"
    }
   ],
   "source": [
    "X.head()"
   ]
  },
  {
   "cell_type": "code",
   "execution_count": 19,
   "id": "72411362",
   "metadata": {},
   "outputs": [
    {
     "data": {
      "text/html": [
       "<div>\n",
       "<style scoped>\n",
       "    .dataframe tbody tr th:only-of-type {\n",
       "        vertical-align: middle;\n",
       "    }\n",
       "\n",
       "    .dataframe tbody tr th {\n",
       "        vertical-align: top;\n",
       "    }\n",
       "\n",
       "    .dataframe thead th {\n",
       "        text-align: right;\n",
       "    }\n",
       "</style>\n",
       "<table border=\"1\" class=\"dataframe\">\n",
       "  <thead>\n",
       "    <tr style=\"text-align: right;\">\n",
       "      <th></th>\n",
       "      <th>Uniformity of Cell size</th>\n",
       "      <th>Uniformity of Cell Shape</th>\n",
       "      <th>Bare Nuclei</th>\n",
       "      <th>Normal Nucleoli</th>\n",
       "    </tr>\n",
       "  </thead>\n",
       "  <tbody>\n",
       "    <tr>\n",
       "      <th>0</th>\n",
       "      <td>1</td>\n",
       "      <td>1</td>\n",
       "      <td>1</td>\n",
       "      <td>1</td>\n",
       "    </tr>\n",
       "    <tr>\n",
       "      <th>1</th>\n",
       "      <td>4</td>\n",
       "      <td>4</td>\n",
       "      <td>10</td>\n",
       "      <td>2</td>\n",
       "    </tr>\n",
       "    <tr>\n",
       "      <th>2</th>\n",
       "      <td>1</td>\n",
       "      <td>1</td>\n",
       "      <td>2</td>\n",
       "      <td>1</td>\n",
       "    </tr>\n",
       "    <tr>\n",
       "      <th>3</th>\n",
       "      <td>8</td>\n",
       "      <td>8</td>\n",
       "      <td>4</td>\n",
       "      <td>7</td>\n",
       "    </tr>\n",
       "    <tr>\n",
       "      <th>4</th>\n",
       "      <td>1</td>\n",
       "      <td>1</td>\n",
       "      <td>1</td>\n",
       "      <td>1</td>\n",
       "    </tr>\n",
       "  </tbody>\n",
       "</table>\n",
       "</div>"
      ],
      "text/plain": [
       "   Uniformity of Cell size  Uniformity of Cell Shape  Bare Nuclei  \\\n",
       "0                        1                         1            1   \n",
       "1                        4                         4           10   \n",
       "2                        1                         1            2   \n",
       "3                        8                         8            4   \n",
       "4                        1                         1            1   \n",
       "\n",
       "   Normal Nucleoli  \n",
       "0                1  \n",
       "1                2  \n",
       "2                1  \n",
       "3                7  \n",
       "4                1  "
      ]
     },
     "execution_count": 19,
     "metadata": {},
     "output_type": "execute_result"
    }
   ],
   "source": [
    "X_pruned.head()"
   ]
  },
  {
   "cell_type": "code",
   "execution_count": 20,
   "id": "8c004eba",
   "metadata": {},
   "outputs": [],
   "source": [
    "X_train, X_test, y_train, y_test = train_test_split(X, y, test_size=0.3, random_state=42)\n",
    "\n",
    "X_train_pruned, X_test_pruned, y_train_pruned, y_test_pruned = train_test_split(X_pruned, y_pruned, test_size=0.3, random_state=42)"
   ]
  },
  {
   "cell_type": "code",
   "execution_count": 21,
   "id": "fce437d2",
   "metadata": {},
   "outputs": [
    {
     "data": {
      "text/plain": [
       "DecisionTreeRegressor()"
      ]
     },
     "execution_count": 21,
     "metadata": {},
     "output_type": "execute_result"
    }
   ],
   "source": [
    "# Non-pruned\n",
    "tree_reg = DecisionTreeRegressor()\n",
    "tree_reg.fit(X_train, y_train)\n",
    "\n",
    "# Pruned\n",
    "tree_reg_pruned = DecisionTreeRegressor()\n",
    "tree_reg_pruned.fit(X_train_pruned, y_train_pruned)"
   ]
  },
  {
   "cell_type": "code",
   "execution_count": 22,
   "id": "0153f877",
   "metadata": {},
   "outputs": [],
   "source": [
    "# Test set predictions\n",
    "initial_predictions_test = tree_reg.predict(X_test)"
   ]
  },
  {
   "cell_type": "code",
   "execution_count": 23,
   "id": "aea43fe0",
   "metadata": {},
   "outputs": [],
   "source": [
    "# Test set predictions: pruned\n",
    "initial_predictions_test_pruned = tree_reg_pruned.predict(X_test_pruned)"
   ]
  },
  {
   "cell_type": "code",
   "execution_count": 24,
   "id": "298d1ded",
   "metadata": {},
   "outputs": [
    {
     "name": "stdout",
     "output_type": "stream",
     "text": [
      "Test rmse:\n",
      "0.20701966780270625\n"
     ]
    }
   ],
   "source": [
    "# Non-pruned test rmse\n",
    "tree_mse = mean_squared_error(y_test, initial_predictions_test)\n",
    "tree_rmse = np.sqrt(tree_mse)\n",
    "print(\"Test rmse:\")\n",
    "print(tree_rmse)"
   ]
  },
  {
   "cell_type": "code",
   "execution_count": 25,
   "id": "d48374ef",
   "metadata": {},
   "outputs": [
    {
     "name": "stdout",
     "output_type": "stream",
     "text": [
      "Test rmse:\n",
      "0.19551857514700036\n"
     ]
    }
   ],
   "source": [
    "# Pruned test rmse\n",
    "tree_mse_pruned = mean_squared_error(y_test_pruned, initial_predictions_test_pruned)\n",
    "tree_rmse_pruned = np.sqrt(tree_mse_pruned)\n",
    "print(\"Test rmse:\")\n",
    "print(tree_rmse_pruned)"
   ]
  },
  {
   "cell_type": "code",
   "execution_count": 26,
   "id": "615c32c1",
   "metadata": {},
   "outputs": [],
   "source": [
    "# Train set predictions\n",
    "initial_predictions_train = tree_reg.predict(X_train)"
   ]
  },
  {
   "cell_type": "code",
   "execution_count": 27,
   "id": "1ac2560d",
   "metadata": {},
   "outputs": [],
   "source": [
    "# Train set predictions: pruned\n",
    "initial_predictions_train_pruned = tree_reg_pruned.predict(X_train_pruned)"
   ]
  },
  {
   "cell_type": "code",
   "execution_count": 28,
   "id": "9b5ccc80",
   "metadata": {},
   "outputs": [
    {
     "name": "stdout",
     "output_type": "stream",
     "text": [
      "Train rmse:\n",
      "0.0\n"
     ]
    }
   ],
   "source": [
    "# Non-pruned train rmse\n",
    "tree_mse_train = mean_squared_error(y_train, initial_predictions_train)\n",
    "tree_rmse_train = np.sqrt(tree_mse_train)\n",
    "print(\"Train rmse:\")\n",
    "print(tree_rmse_train)"
   ]
  },
  {
   "cell_type": "code",
   "execution_count": 29,
   "id": "00dee608",
   "metadata": {},
   "outputs": [
    {
     "name": "stdout",
     "output_type": "stream",
     "text": [
      "Train rmse:\n",
      "0.061230285977831776\n"
     ]
    }
   ],
   "source": [
    "# Pruned train rmse\n",
    "tree_mse_train_pruned = mean_squared_error(y_train_pruned, initial_predictions_train_pruned)\n",
    "tree_rmse_train_pruned = np.sqrt(tree_mse_train_pruned)\n",
    "print(\"Train rmse:\")\n",
    "print(tree_rmse_train_pruned)"
   ]
  },
  {
   "cell_type": "code",
   "execution_count": 30,
   "id": "6036ae28",
   "metadata": {},
   "outputs": [
    {
     "name": "stdout",
     "output_type": "stream",
     "text": [
      "INITIAL ACCURACY SCORES\n"
     ]
    }
   ],
   "source": [
    "print(\"INITIAL ACCURACY SCORES\")"
   ]
  },
  {
   "cell_type": "code",
   "execution_count": 31,
   "id": "daa9ca4c",
   "metadata": {},
   "outputs": [
    {
     "name": "stdout",
     "output_type": "stream",
     "text": [
      "Test accuracy score:\n",
      "0.9571428571428572\n"
     ]
    }
   ],
   "source": [
    "print(\"Test accuracy score:\")\n",
    "print(np.mean(initial_predictions_test == y_test))"
   ]
  },
  {
   "cell_type": "code",
   "execution_count": 32,
   "id": "5c9e1409",
   "metadata": {},
   "outputs": [
    {
     "name": "stdout",
     "output_type": "stream",
     "text": [
      "Train accuracy score:\n",
      "1.0\n"
     ]
    }
   ],
   "source": [
    "print(\"Train accuracy score:\")\n",
    "print(np.mean(initial_predictions_train == y_train))"
   ]
  },
  {
   "cell_type": "code",
   "execution_count": 33,
   "id": "5262f344",
   "metadata": {},
   "outputs": [
    {
     "name": "stdout",
     "output_type": "stream",
     "text": [
      "Pruned test accuracy score:\n",
      "0.9571428571428572\n"
     ]
    }
   ],
   "source": [
    "print(\"Pruned test accuracy score:\")\n",
    "print(np.mean(initial_predictions_test_pruned == y_test_pruned))"
   ]
  },
  {
   "cell_type": "code",
   "execution_count": 34,
   "id": "3445b049",
   "metadata": {},
   "outputs": [
    {
     "name": "stdout",
     "output_type": "stream",
     "text": [
      "Pruned train accuracy score:\n",
      "0.9795501022494888\n"
     ]
    }
   ],
   "source": [
    "print(\"Pruned train accuracy score:\")\n",
    "print(np.mean(initial_predictions_train_pruned == y_train_pruned))"
   ]
  },
  {
   "cell_type": "code",
   "execution_count": 35,
   "id": "6f237ddd",
   "metadata": {},
   "outputs": [],
   "source": [
    "scores = cross_val_score(tree_reg, X_train, y_train, scoring=\"neg_mean_squared_error\", cv=15)\n",
    "tree_rmse_scores = np.sqrt(-scores)\n",
    "\n",
    "def display_scores(scores):\n",
    "    print(\"Scores:\", scores)\n",
    "    print(\"Mean:\", scores.mean())\n",
    "    print(\"Standard deviation:\", scores.std())"
   ]
  },
  {
   "cell_type": "code",
   "execution_count": 36,
   "id": "7b08b40a",
   "metadata": {},
   "outputs": [
    {
     "name": "stdout",
     "output_type": "stream",
     "text": [
      "Scores: [0.17407766 0.24618298 0.24618298 0.34815531 0.17407766 0.17407766\n",
      " 0.30151134 0.         0.34815531 0.30618622 0.1767767  0.25\n",
      " 0.35355339 0.30618622 0.25      ]\n",
      "Mean: 0.24367489478471235\n",
      "Standard deviation: 0.09075341324322601\n"
     ]
    }
   ],
   "source": [
    "display_scores(tree_rmse_scores)"
   ]
  },
  {
   "cell_type": "code",
   "execution_count": 37,
   "id": "0e1876ce",
   "metadata": {},
   "outputs": [],
   "source": [
    "scores_pruned = cross_val_score(tree_reg_pruned, X_train_pruned, y_train_pruned, scoring=\"neg_mean_squared_error\", cv=15)\n",
    "tree_rmse_scores_pruned = np.sqrt(-scores_pruned)"
   ]
  },
  {
   "cell_type": "code",
   "execution_count": 38,
   "id": "c747b79e",
   "metadata": {},
   "outputs": [
    {
     "name": "stdout",
     "output_type": "stream",
     "text": [
      "Scores: [0.24618298 0.24618298 0.17407766 0.24618298 0.30151134 0.17407766\n",
      " 0.30772873 0.17407766 0.1        0.35355339 0.26516504 0.1767767\n",
      " 0.43445368 0.03535534 0.25      ]\n",
      "Mean: 0.23235507557252985\n",
      "Standard deviation: 0.09576450844601125\n"
     ]
    }
   ],
   "source": [
    "display_scores(tree_rmse_scores_pruned)"
   ]
  },
  {
   "cell_type": "code",
   "execution_count": 72,
   "id": "3783e8e5",
   "metadata": {},
   "outputs": [
    {
     "data": {
      "text/plain": [
       "GridSearchCV(cv=5, estimator=DecisionTreeRegressor(),\n",
       "             param_grid=[{'ccp_alpha': [0], 'criterion': ['absolute_error'],\n",
       "                          'max_depth': [6], 'max_features': [None],\n",
       "                          'max_leaf_nodes': [None],\n",
       "                          'min_impurity_decrease': [0], 'min_samples_leaf': [6],\n",
       "                          'min_samples_split': [2],\n",
       "                          'min_weight_fraction_leaf': [0],\n",
       "                          'random_state': [None], 'splitter': ['best']}],\n",
       "             return_train_score=True)"
      ]
     },
     "execution_count": 72,
     "metadata": {},
     "output_type": "execute_result"
    }
   ],
   "source": [
    "param_grid = [\n",
    "    {\n",
    "    'criterion': ['absolute_error'],\n",
    "    'splitter': ['best'],\n",
    "    'max_depth': [6],\n",
    "    'min_samples_split': [2],\n",
    "    'min_samples_leaf': [6],\n",
    "    'min_weight_fraction_leaf': [0],\n",
    "    'max_features': [None],\n",
    "    'random_state':[None],\n",
    "    'max_leaf_nodes': [None],\n",
    "    'min_impurity_decrease': [0],\n",
    "    'ccp_alpha': [0]\n",
    "    },\n",
    "\n",
    "]\n",
    "\n",
    "#Non-pruned\n",
    "grid_search = GridSearchCV(tree_reg, param_grid, cv=5,\n",
    "    return_train_score=True)\n",
    "\n",
    "#Pruned\n",
    "grid_search_pruned = GridSearchCV(tree_reg_pruned, param_grid, cv=5,\n",
    "    return_train_score=True)\n",
    "\n",
    "grid_search.fit(X_train, y_train)\n",
    "grid_search_pruned.fit(X_train_pruned, y_train_pruned)"
   ]
  },
  {
   "cell_type": "code",
   "execution_count": 73,
   "id": "ac71a349",
   "metadata": {},
   "outputs": [],
   "source": [
    "#grid_search.best_params_"
   ]
  },
  {
   "cell_type": "code",
   "execution_count": 74,
   "id": "21322ef9",
   "metadata": {},
   "outputs": [
    {
     "data": {
      "text/plain": [
       "0.6956361436574843"
      ]
     },
     "execution_count": 74,
     "metadata": {},
     "output_type": "execute_result"
    }
   ],
   "source": [
    "grid_search.best_score_"
   ]
  },
  {
   "cell_type": "code",
   "execution_count": 75,
   "id": "3e3c4ace",
   "metadata": {},
   "outputs": [
    {
     "data": {
      "text/plain": [
       "0.7019159492014028"
      ]
     },
     "execution_count": 75,
     "metadata": {},
     "output_type": "execute_result"
    }
   ],
   "source": [
    "grid_search_pruned.best_score_"
   ]
  },
  {
   "cell_type": "code",
   "execution_count": 76,
   "id": "0342ab82",
   "metadata": {},
   "outputs": [
    {
     "name": "stdout",
     "output_type": "stream",
     "text": [
      "GridSearch prediction on testing set:\n",
      "0.9476190476190476\n"
     ]
    }
   ],
   "source": [
    "grid_predicted_test = grid_search.predict(X_test)\n",
    "print(\"GridSearch prediction on testing set:\")\n",
    "print(np.mean(grid_predicted_test == y_test))"
   ]
  },
  {
   "cell_type": "code",
   "execution_count": 77,
   "id": "eed083b6",
   "metadata": {},
   "outputs": [
    {
     "name": "stdout",
     "output_type": "stream",
     "text": [
      "GridSearch prediction on pruned testing set:\n",
      "0.9523809523809523\n"
     ]
    }
   ],
   "source": [
    "grid_predicted_test_pruned = grid_search_pruned.predict(X_test_pruned)\n",
    "print(\"GridSearch prediction on pruned testing set:\")\n",
    "print(np.mean(grid_predicted_test_pruned == y_test_pruned))"
   ]
  },
  {
   "cell_type": "code",
   "execution_count": 78,
   "id": "22334fa8",
   "metadata": {},
   "outputs": [
    {
     "name": "stdout",
     "output_type": "stream",
     "text": [
      "GridSearch prediction on training set:\n",
      "0.9611451942740287\n"
     ]
    }
   ],
   "source": [
    "grid_predicted_train = grid_search.predict(X_train)\n",
    "print(\"GridSearch prediction on training set:\")\n",
    "print(np.mean(grid_predicted_train == y_train))"
   ]
  },
  {
   "cell_type": "code",
   "execution_count": 79,
   "id": "6ac62555",
   "metadata": {},
   "outputs": [
    {
     "name": "stdout",
     "output_type": "stream",
     "text": [
      "GridSearch prediction on pruned training set:\n",
      "0.9591002044989775\n"
     ]
    }
   ],
   "source": [
    "grid_predicted_train_pruned = grid_search_pruned.predict(X_train_pruned)\n",
    "print(\"GridSearch prediction on pruned training set:\")\n",
    "print(np.mean(grid_predicted_train_pruned == y_train_pruned))"
   ]
  },
  {
   "cell_type": "code",
   "execution_count": 80,
   "id": "d58cf2ab",
   "metadata": {},
   "outputs": [],
   "source": [
    "best_tree = grid_search.best_estimator_\n",
    "best_tree_pruned = grid_search_pruned.best_estimator_"
   ]
  },
  {
   "cell_type": "code",
   "execution_count": 81,
   "id": "b1db52c8",
   "metadata": {},
   "outputs": [],
   "source": [
    "best_feats = best_tree.feature_importances_\n",
    "best_feats_pruned = best_tree_pruned.feature_importances_\n",
    "\n",
    "columns = X_train.columns\n",
    "columns_pruned = X_train_pruned.columns"
   ]
  },
  {
   "cell_type": "code",
   "execution_count": 82,
   "id": "a17cd821",
   "metadata": {},
   "outputs": [
    {
     "name": "stdout",
     "output_type": "stream",
     "text": [
      "Best tree on train set RMSE: 0.19711622390349146\n"
     ]
    }
   ],
   "source": [
    "final_predictors_train = best_tree.predict(X_train)\n",
    "final_tree_mse_train = mean_squared_error(y_train, final_predictors_train)\n",
    "final_tree_rmse_train = np.sqrt(final_tree_mse_train)\n",
    "print('Best tree on train set RMSE:', final_tree_rmse_train) "
   ]
  },
  {
   "cell_type": "code",
   "execution_count": 83,
   "id": "1528bf82",
   "metadata": {},
   "outputs": [
    {
     "name": "stdout",
     "output_type": "stream",
     "text": [
      "Best tree on pruned train set RMSE: 0.20223697856975242\n"
     ]
    }
   ],
   "source": [
    "final_predictors_train_pruned = best_tree_pruned.predict(X_train_pruned)\n",
    "final_tree_mse_train_pruned = mean_squared_error(y_train_pruned, final_predictors_train_pruned)\n",
    "final_tree_rmse_train_pruned = np.sqrt(final_tree_mse_train_pruned)\n",
    "print('Best tree on pruned train set RMSE:', final_tree_rmse_train_pruned) "
   ]
  },
  {
   "cell_type": "code",
   "execution_count": 84,
   "id": "644677f3",
   "metadata": {},
   "outputs": [
    {
     "name": "stdout",
     "output_type": "stream",
     "text": [
      "BEST NON-PRUNED PRECISION SCORES OF TRAIN SET:\n",
      "Micro-averaged precision score: 0.96\n",
      "Macro-averaged precision score: 0.96\n",
      "Per-class precision score: [0.96825397 0.94827586]\n"
     ]
    }
   ],
   "source": [
    "print(\"BEST NON-PRUNED PRECISION SCORES OF TRAIN SET:\")\n",
    "micro_precision_train = precision_score(final_predictors_train, y_train, average='micro')\n",
    "print('Micro-averaged precision score: {0:0.2f}'.format(\n",
    "      micro_precision_train))\n",
    "\n",
    "macro_precision_train = precision_score(final_predictors_train, y_train, average='macro')\n",
    "print('Macro-averaged precision score: {0:0.2f}'.format(\n",
    "      macro_precision_train))\n",
    "\n",
    "per_class_precision_train = precision_score(final_predictors_train, y_train, average=None)\n",
    "print('Per-class precision score:', per_class_precision_train)"
   ]
  },
  {
   "cell_type": "code",
   "execution_count": 85,
   "id": "8301d313",
   "metadata": {},
   "outputs": [
    {
     "name": "stdout",
     "output_type": "stream",
     "text": [
      "BEST PRUNED PRECISION SCORES OF TRAIN SET:\n",
      "Micro-averaged precision score: 0.96\n",
      "Macro-averaged precision score: 0.96\n",
      "Per-class precision score: [0.95555556 0.96551724]\n"
     ]
    }
   ],
   "source": [
    "print(\"BEST PRUNED PRECISION SCORES OF TRAIN SET:\")\n",
    "micro_precision_train_pruned = precision_score(final_predictors_train_pruned, y_train_pruned, average='micro')\n",
    "print('Micro-averaged precision score: {0:0.2f}'.format(\n",
    "      micro_precision_train_pruned))\n",
    "\n",
    "macro_precision_train_pruned = precision_score(final_predictors_train_pruned, y_train_pruned, average='macro')\n",
    "print('Macro-averaged precision score: {0:0.2f}'.format(\n",
    "      macro_precision_train_pruned))\n",
    "\n",
    "per_class_precision_train_pruned = precision_score(final_predictors_train_pruned, y_train_pruned, average=None)\n",
    "print('Per-class precision score:', per_class_precision_train_pruned)"
   ]
  },
  {
   "cell_type": "code",
   "execution_count": 86,
   "id": "e7c0cd6d",
   "metadata": {},
   "outputs": [
    {
     "name": "stdout",
     "output_type": "stream",
     "text": [
      "Best tree on test set RMSE: 0.22886885410853172\n"
     ]
    }
   ],
   "source": [
    "final_predictors_test = best_tree.predict(X_test)\n",
    "final_tree_mse_test = mean_squared_error(y_test, final_predictors_test )\n",
    "final_tree_rmse_test = np.sqrt(final_tree_mse_test )\n",
    "\n",
    "print('Best tree on test set RMSE:', final_tree_rmse_test) "
   ]
  },
  {
   "cell_type": "code",
   "execution_count": 87,
   "id": "af61918a",
   "metadata": {},
   "outputs": [
    {
     "name": "stdout",
     "output_type": "stream",
     "text": [
      "Best tree on pruned test set RMSE: 0.21821789023599236\n"
     ]
    }
   ],
   "source": [
    "final_predictors_test_pruned = best_tree_pruned.predict(X_test_pruned)\n",
    "final_tree_mse_test_pruned = mean_squared_error(y_test_pruned, final_predictors_test_pruned)\n",
    "final_tree_rmse_test_pruned = np.sqrt(final_tree_mse_test_pruned)\n",
    "\n",
    "print('Best tree on pruned test set RMSE:', final_tree_rmse_test_pruned) "
   ]
  },
  {
   "cell_type": "code",
   "execution_count": 88,
   "id": "2b266eb4",
   "metadata": {},
   "outputs": [
    {
     "name": "stdout",
     "output_type": "stream",
     "text": [
      "BEST NON-PRUNED PRECISION SCORES OF TRAIN SET:\n",
      "Micro-averaged precision score: 0.95\n",
      "Macro-averaged precision score: 0.95\n",
      "Per-class precision score: [0.95104895 0.94029851]\n"
     ]
    }
   ],
   "source": [
    "print(\"BEST NON-PRUNED PRECISION SCORES OF TRAIN SET:\")\n",
    "micro_precision_test = precision_score(final_predictors_test, y_test, average='micro')\n",
    "print('Micro-averaged precision score: {0:0.2f}'.format(\n",
    "      micro_precision_test))\n",
    "\n",
    "macro_precision_test = precision_score(final_predictors_test, y_test, average='macro')\n",
    "print('Macro-averaged precision score: {0:0.2f}'.format(\n",
    "      macro_precision_test))\n",
    "\n",
    "per_class_precision_test = precision_score(final_predictors_test, y_test, average=None)\n",
    "print('Per-class precision score:', per_class_precision_test)"
   ]
  },
  {
   "cell_type": "code",
   "execution_count": 89,
   "id": "1153cfda",
   "metadata": {},
   "outputs": [
    {
     "name": "stdout",
     "output_type": "stream",
     "text": [
      "BEST PRUNED PRECISION SCORES OF TRAIN SET:\n",
      "Micro-averaged precision score: 0.95\n",
      "Macro-averaged precision score: 0.96\n",
      "Per-class precision score: [0.94405594 0.97014925]\n"
     ]
    }
   ],
   "source": [
    "print(\"BEST PRUNED PRECISION SCORES OF TRAIN SET:\")\n",
    "micro_precision_test_pruned = precision_score(final_predictors_test_pruned, y_test_pruned, average='micro')\n",
    "print('Micro-averaged precision score: {0:0.2f}'.format(\n",
    "      micro_precision_test_pruned))\n",
    "\n",
    "macro_precision_test_pruned = precision_score(final_predictors_test_pruned, y_test_pruned, average='macro')\n",
    "print('Macro-averaged precision score: {0:0.2f}'.format(\n",
    "      macro_precision_test_pruned))\n",
    "\n",
    "per_class_precision_test_pruned = precision_score(final_predictors_test_pruned, y_test_pruned, average=None)\n",
    "print('Per-class precision score:', per_class_precision_test_pruned)"
   ]
  },
  {
   "cell_type": "code",
   "execution_count": 90,
   "id": "75723a07",
   "metadata": {},
   "outputs": [
    {
     "data": {
      "text/plain": [
       "Clump Thickness                0.006452\n",
       "Uniformity of Cell size        0.006452\n",
       "Uniformity of Cell Shape       0.896774\n",
       "Marginal Adhesion              0.000000\n",
       "Single Epithelial Cell Size    0.000000\n",
       "Bare Nuclei                    0.077419\n",
       "Bland Chromatin                0.000000\n",
       "Normal Nucleoli                0.012903\n",
       "Mitoses                        0.000000\n",
       "dtype: float64"
      ]
     },
     "execution_count": 90,
     "metadata": {},
     "output_type": "execute_result"
    }
   ],
   "source": [
    "importances_table = pd.Series(best_feats, columns)\n",
    "importances_table"
   ]
  },
  {
   "cell_type": "code",
   "execution_count": 91,
   "id": "86c5a866",
   "metadata": {},
   "outputs": [
    {
     "data": {
      "text/plain": [
       "Uniformity of Cell size     0.006494\n",
       "Uniformity of Cell Shape    0.902597\n",
       "Bare Nuclei                 0.077922\n",
       "Normal Nucleoli             0.012987\n",
       "dtype: float64"
      ]
     },
     "execution_count": 91,
     "metadata": {},
     "output_type": "execute_result"
    }
   ],
   "source": [
    "importances_table_pruned = pd.Series(best_feats_pruned, columns_pruned)\n",
    "importances_table_pruned"
   ]
  },
  {
   "cell_type": "code",
   "execution_count": 92,
   "id": "98cc10c7",
   "metadata": {},
   "outputs": [
    {
     "data": {
      "text/plain": [
       "0"
      ]
     },
     "execution_count": 92,
     "metadata": {},
     "output_type": "execute_result"
    }
   ],
   "source": [
    "from sklearn.tree import export_graphviz\n",
    "from subprocess import check_call\n",
    "\n",
    "export_graphviz(\n",
    "    best_tree,\n",
    "    out_file=\"cancer.dot\",\n",
    "    feature_names=X_train.columns,\n",
    "    rounded=True,\n",
    "    filled=True\n",
    ")\n",
    "\n",
    "check_call(['dot','-Tpng','cancer.dot','-o','cancer.png'])"
   ]
  },
  {
   "cell_type": "code",
   "execution_count": 93,
   "id": "d4bf0020",
   "metadata": {},
   "outputs": [
    {
     "data": {
      "text/plain": [
       "0"
      ]
     },
     "execution_count": 93,
     "metadata": {},
     "output_type": "execute_result"
    }
   ],
   "source": [
    "export_graphviz(\n",
    "    best_tree_pruned,\n",
    "    out_file=\"pruned-cancer.dot\",\n",
    "    feature_names=X_train_pruned.columns,\n",
    "    rounded=True,\n",
    "    filled=True\n",
    ")\n",
    "\n",
    "check_call(['dot','-Tpng','pruned-cancer.dot','-o','pruned-cancer.png'])"
   ]
  },
  {
   "cell_type": "code",
   "execution_count": null,
   "id": "c902b16d",
   "metadata": {},
   "outputs": [],
   "source": []
  }
 ],
 "metadata": {
  "kernelspec": {
   "display_name": "Python 3 (ipykernel)",
   "language": "python",
   "name": "python3"
  },
  "language_info": {
   "codemirror_mode": {
    "name": "ipython",
    "version": 3
   },
   "file_extension": ".py",
   "mimetype": "text/x-python",
   "name": "python",
   "nbconvert_exporter": "python",
   "pygments_lexer": "ipython3",
   "version": "3.9.7"
  }
 },
 "nbformat": 4,
 "nbformat_minor": 5
}
